{
  "cells": [
    {
      "cell_type": "markdown",
      "metadata": {
        "id": "view-in-github",
        "colab_type": "text"
      },
      "source": [
        "<a href=\"https://colab.research.google.com/github/kevinball02/HUFS-ML-Project/blob/master/stacking_kyh.ipynb\" target=\"_parent\"><img src=\"https://colab.research.google.com/assets/colab-badge.svg\" alt=\"Open In Colab\"/></a>"
      ]
    },
    {
      "cell_type": "markdown",
      "metadata": {
        "papermill": {
          "duration": 0.012909,
          "end_time": "2023-03-05T11:08:03.108584",
          "exception": false,
          "start_time": "2023-03-05T11:08:03.095675",
          "status": "completed"
        },
        "tags": [],
        "id": "QhYd5yFWe9XF"
      },
      "source": [
        "# 대회 데이터가 일부 변경되었습니다.\n",
        "# 아래 경로의 Competition Site에 오시면 비슷한 데이터로 실습하실 수 있습니다.<br>\n",
        "https://www.kaggle.com/competitions/original-instant-gratification"
      ]
    },
    {
      "cell_type": "code",
      "execution_count": null,
      "metadata": {
        "ExecuteTime": {
          "end_time": "2020-05-05T06:10:24.868807Z",
          "start_time": "2020-05-05T06:10:24.833807Z"
        },
        "execution": {
          "iopub.execute_input": "2023-03-02T14:02:16.408462Z",
          "iopub.status.busy": "2023-03-02T14:02:16.408009Z",
          "iopub.status.idle": "2023-03-02T14:02:17.753995Z",
          "shell.execute_reply": "2023-03-02T14:02:17.752767Z",
          "shell.execute_reply.started": "2023-03-02T14:02:16.408372Z"
        },
        "papermill": {
          "duration": 1.297985,
          "end_time": "2023-03-05T11:08:04.418533",
          "exception": false,
          "start_time": "2023-03-05T11:08:03.120548",
          "status": "completed"
        },
        "tags": [],
        "id": "8Fd7rvBde9XI"
      },
      "outputs": [],
      "source": [
        "## 새 주석: 라이브러리 호출\n",
        "import warnings\n",
        "warnings.filterwarnings('ignore')\n",
        "\n",
        "import os\n",
        "import numpy as np\n",
        "import pandas as pd\n",
        "import matplotlib.pyplot as plt\n",
        "import seaborn as sns\n",
        "from tqdm import tqdm_notebook\n",
        "\n",
        "from sklearn.metrics import roc_auc_score\n",
        "from sklearn.preprocessing import StandardScaler\n",
        "\n",
        "from sklearn.model_selection import StratifiedKFold\n",
        "\n",
        "from sklearn.decomposition import KernelPCA\n",
        "from sklearn.mixture import GaussianMixture as GMM\n",
        "from sklearn import svm, neighbors, linear_model, neural_network\n",
        "from sklearn.discriminant_analysis import QuadraticDiscriminantAnalysis\n",
        "import lightgbm as lgbm"
      ]
    },
    {
      "cell_type": "code",
      "execution_count": null,
      "metadata": {
        "ExecuteTime": {
          "end_time": "2020-05-05T04:59:52.668761Z",
          "start_time": "2020-05-05T04:59:52.660761Z"
        },
        "execution": {
          "iopub.execute_input": "2023-03-02T14:02:18.237035Z",
          "iopub.status.busy": "2023-03-02T14:02:18.236653Z",
          "iopub.status.idle": "2023-03-02T14:02:18.247655Z",
          "shell.execute_reply": "2023-03-02T14:02:18.246686Z",
          "shell.execute_reply.started": "2023-03-02T14:02:18.236986Z"
        },
        "papermill": {
          "duration": 0.027443,
          "end_time": "2023-03-05T11:08:04.458152",
          "exception": false,
          "start_time": "2023-03-05T11:08:04.430709",
          "status": "completed"
        },
        "tags": [],
        "id": "KMA1GeLve9XJ"
      },
      "outputs": [],
      "source": [
        "## 새 주석: 히스토그램 모델 정의 + fit, predict\n",
        "class hist_model(object):\n",
        "\n",
        "    def __init__(self, bins=50):\n",
        "        self.bins = bins\n",
        "\n",
        "    def fit(self, X): ## 새 주석: 데이터 X의 막대그래프 정보(너비, 높이) 저장.\n",
        "\n",
        "        bin_hight, bin_edge = [], []\n",
        "\n",
        "        for var in X.T:\n",
        "            # get bins hight and interval\n",
        "            bh, bedge = np.histogram(var, bins=self.bins)\n",
        "            bin_hight.append(bh)\n",
        "            bin_edge.append(bedge)\n",
        "\n",
        "        self.bin_hight = np.array(bin_hight)\n",
        "        self.bin_edge = np.array(bin_edge)\n",
        "\n",
        "    def predict(self, X):\n",
        "\n",
        "        scores = []\n",
        "        for obs in X:\n",
        "            obs_score = []\n",
        "            for i, var in enumerate(obs):\n",
        "                # find wich bin obs is in\n",
        "                bin_num = (var > self.bin_edge[i]).argmin()-1\n",
        "                obs_score.append(self.bin_hight[i, bin_num]) # find bin hitght\n",
        "\n",
        "            scores.append(np.mean(obs_score))\n",
        "\n",
        "        return np.array(scores)"
      ]
    },
    {
      "cell_type": "code",
      "execution_count": null,
      "metadata": {
        "ExecuteTime": {
          "end_time": "2020-05-05T04:59:52.685765Z",
          "start_time": "2020-05-05T04:59:52.670761Z"
        },
        "execution": {
          "iopub.execute_input": "2023-03-02T14:18:25.312779Z",
          "iopub.status.busy": "2023-03-02T14:18:25.312391Z",
          "iopub.status.idle": "2023-03-02T14:18:25.339292Z",
          "shell.execute_reply": "2023-03-02T14:18:25.337773Z",
          "shell.execute_reply.started": "2023-03-02T14:18:25.312737Z"
        },
        "papermill": {
          "duration": 0.038534,
          "end_time": "2023-03-05T11:08:04.508512",
          "exception": false,
          "start_time": "2023-03-05T11:08:04.469978",
          "status": "completed"
        },
        "tags": [],
        "id": "T7buQ49Se9XK"
      },
      "outputs": [],
      "source": [
        "## 새 주석: oof 앙상블, 각 fold에 대한 예측값을 종합한다.\n",
        "def run_model(clf_list, train, test, random_state, gmm_init_params='kmeans'):\n",
        "\n",
        "    MODEL_COUNT = len(clf_list)\n",
        "\n",
        "    oof_train = np.zeros((len(train), MODEL_COUNT))\n",
        "    oof_test = np.zeros((len(test), MODEL_COUNT))\n",
        "    train_columns = [c for c in train.columns if c not in ['id', 'target', 'wheezy-copper-turtle-magic']]\n",
        "    ## 새 주석: train의 3개 칼럼은 배제. 특히 magic값 때문에 모델을 다르게 만듦.\n",
        "\n",
        "    for magic in tqdm_notebook(range(512)): ## 새 주석: 여기가 magic 값에 따라 다르게 설정한 부분.\n",
        "        x_train = train[train['wheezy-copper-turtle-magic'] == magic]\n",
        "        x_test = test[test['wheezy-copper-turtle-magic'] == magic]\n",
        "        print(\"Magic: \", magic, x_train.shape, x_test.shape)\n",
        "\n",
        "        train_idx_origin = x_train.index\n",
        "        test_idx_origin = x_test.index\n",
        "\n",
        "        train_std = x_train[train_columns].std()\n",
        "        cols = list(train_std.index.values[np.where(train_std >2)])\n",
        "\n",
        "        x_train = x_train.reset_index(drop=True)\n",
        "        y_train = x_train.target\n",
        "\n",
        "        x_train = x_train[cols].values\n",
        "        x_test = x_test[cols].values\n",
        "\n",
        "        all_data = np.vstack([x_train, x_test])\n",
        "        # print(\"all_data: \", all_data.shape)\n",
        "        # Kernel PCA\n",
        "        all_data = KernelPCA(n_components=len(cols), kernel='cosine', random_state=random_state).fit_transform(all_data)\n",
        "\n",
        "        # GMM\n",
        "        gmm = GMM(n_components=5, random_state=random_state, max_iter=1000, init_params=gmm_init_params).fit(all_data)\n",
        "        gmm_pred = gmm.predict_proba(all_data)\n",
        "        gmm_score = gmm.score_samples(all_data).reshape(-1, 1)\n",
        "        gmm_label = gmm.predict(all_data)\n",
        "\n",
        "        # hist feature\n",
        "        hist = hist_model()\n",
        "        hist.fit(all_data)\n",
        "        hist_pred = hist.predict(all_data).reshape(-1, 1)\n",
        "\n",
        "        all_data = np.hstack([all_data, gmm_pred, gmm_pred, gmm_pred, gmm_pred, gmm_pred])\n",
        "\n",
        "        # Add Some Features\n",
        "        all_data = np.hstack([all_data, hist_pred, gmm_score, gmm_score, gmm_score])\n",
        "\n",
        "        # STANDARD SCALER\n",
        "        all_data = StandardScaler().fit_transform(all_data)\n",
        "\n",
        "        # new train/test\n",
        "        x_train = all_data[:x_train.shape[0]]\n",
        "        x_test = all_data[x_train.shape[0]:]\n",
        "        # print(\"data size: \", x_train.shape, x_test.shape)\n",
        "        fold = StratifiedKFold(n_splits=5, random_state=random_state) ## 새 주석: Kfold 검증\n",
        "        for trn_idx, val_idx in fold.split(x_train, gmm_label[:x_train.shape[0]]):\n",
        "            for model_index, clf in enumerate(clf_list):\n",
        "                clf.fit(x_train[trn_idx], y_train[trn_idx])\n",
        "                oof_train[train_idx_origin[val_idx], model_index] = clf.predict_proba(x_train[val_idx])[:,1]\n",
        "\n",
        "                # 2023/03/02 데이터의 형식이 변경되어, x_test 예측 시 오류 발생하는 것 수정\n",
        "                if x_test.shape[0] == 0:\n",
        "                    continue\n",
        "\n",
        "                #print(oof_test[test_idx_origin, model_index].shape)\n",
        "                #print(x_test.shape)\n",
        "                #print(clf.predict_proba(x_test)[:,1])\n",
        "                oof_test[test_idx_origin, model_index] += clf.predict_proba(x_test)[:,1] / fold.n_splits ## 새 주석: 예측값 종합하는 부분\n",
        "\n",
        "    for i, clf in enumerate(clf_list):\n",
        "        print(clf)\n",
        "        print(roc_auc_score(train['target'], oof_train[:, i]))\n",
        "        print()\n",
        "\n",
        "    oof_train_df = pd.DataFrame(oof_train)\n",
        "    oof_test_df = pd.DataFrame(oof_test)\n",
        "\n",
        "    return oof_train_df, oof_test_df"
      ]
    },
    {
      "cell_type": "code",
      "execution_count": null,
      "metadata": {
        "execution": {
          "iopub.execute_input": "2023-03-02T14:02:24.421249Z",
          "iopub.status.busy": "2023-03-02T14:02:24.420564Z",
          "iopub.status.idle": "2023-03-02T14:02:24.431777Z",
          "shell.execute_reply": "2023-03-02T14:02:24.430691Z",
          "shell.execute_reply.started": "2023-03-02T14:02:24.421180Z"
        },
        "papermill": {
          "duration": 0.0268,
          "end_time": "2023-03-05T11:08:04.547229",
          "exception": false,
          "start_time": "2023-03-05T11:08:04.520429",
          "status": "completed"
        },
        "tags": [],
        "id": "wdcgjnNle9XK",
        "outputId": "4a161238-0743-47db-f59b-f28eea95306f"
      },
      "outputs": [
        {
          "data": {
            "text/plain": [
              "['sample_submission.csv', 'train.csv', 'test.csv']"
            ]
          },
          "execution_count": 4,
          "metadata": {},
          "output_type": "execute_result"
        }
      ],
      "source": [
        "## 새 주석: 해당 디렉토리에 있는 파일 리스트\n",
        "os.listdir('../input/instant-gratification/')"
      ]
    },
    {
      "cell_type": "code",
      "execution_count": null,
      "metadata": {
        "ExecuteTime": {
          "end_time": "2020-05-05T05:00:04.911577Z",
          "start_time": "2020-05-05T04:59:52.687768Z"
        },
        "execution": {
          "iopub.execute_input": "2023-03-02T14:02:27.242099Z",
          "iopub.status.busy": "2023-03-02T14:02:27.241734Z",
          "iopub.status.idle": "2023-03-02T14:02:56.003016Z",
          "shell.execute_reply": "2023-03-02T14:02:56.002011Z",
          "shell.execute_reply.started": "2023-03-02T14:02:27.242051Z"
        },
        "papermill": {
          "duration": 33.090538,
          "end_time": "2023-03-05T11:08:37.650784",
          "exception": false,
          "start_time": "2023-03-05T11:08:04.560246",
          "status": "completed"
        },
        "tags": [],
        "id": "P82Fwf-4e9XL"
      },
      "outputs": [],
      "source": [
        "## 새 주석: train, test csv 파일 가져오기\n",
        "train = pd.read_csv('../input/instant-gratification/train.csv')\n",
        "test = pd.read_csv('../input/instant-gratification/test.csv')"
      ]
    },
    {
      "cell_type": "code",
      "execution_count": null,
      "metadata": {
        "ExecuteTime": {
          "end_time": "2020-05-05T05:00:04.91757Z",
          "start_time": "2020-05-05T05:00:04.912577Z"
        },
        "execution": {
          "iopub.execute_input": "2023-03-02T14:03:16.851455Z",
          "iopub.status.busy": "2023-03-02T14:03:16.850832Z",
          "iopub.status.idle": "2023-03-02T14:03:16.858351Z",
          "shell.execute_reply": "2023-03-02T14:03:16.857542Z",
          "shell.execute_reply.started": "2023-03-02T14:03:16.851368Z"
        },
        "papermill": {
          "duration": 0.025767,
          "end_time": "2023-03-05T11:08:37.688986",
          "exception": false,
          "start_time": "2023-03-05T11:08:37.663219",
          "status": "completed"
        },
        "tags": [],
        "id": "1MNAagnue9XL"
      },
      "outputs": [],
      "source": [
        "## 새 주석: classifier에 쓸 파라미터 세팅\n",
        "svnu_params = {'probability':True, 'kernel':'poly','degree':4,'gamma':'auto','nu':0.4,'coef0':0.08, 'random_state':4}\n",
        "svnu2_params = {'probability':True, 'kernel':'poly','degree':2,'gamma':'auto','nu':0.4,'coef0':0.08, 'random_state':4}\n",
        "qda_params = {'reg_param':0.111}\n",
        "svc_params = {'probability':True,'kernel':'poly','degree':4,'gamma':'auto', 'random_state':4}\n",
        "neighbor_params = {'n_neighbors':16}\n",
        "lr_params = {'solver':'liblinear','penalty':'l1','C':0.05,'random_state':42}"
      ]
    },
    {
      "cell_type": "code",
      "execution_count": null,
      "metadata": {
        "ExecuteTime": {
          "end_time": "2020-05-05T06:01:34.322011Z",
          "start_time": "2020-05-05T05:00:04.91857Z"
        },
        "execution": {
          "iopub.execute_input": "2023-03-02T14:18:48.678976Z",
          "iopub.status.busy": "2023-03-02T14:18:48.678258Z",
          "iopub.status.idle": "2023-03-02T15:48:01.520678Z",
          "shell.execute_reply": "2023-03-02T15:48:01.519259Z",
          "shell.execute_reply.started": "2023-03-02T14:18:48.678918Z"
        },
        "papermill": {
          "duration": 4876.359758,
          "end_time": "2023-03-05T12:29:54.061062",
          "exception": false,
          "start_time": "2023-03-05T11:08:37.701304",
          "status": "completed"
        },
        "scrolled": true,
        "tags": [],
        "id": "e3dHb9Mpe9XL"
      },
      "outputs": [],
      "source": [
        "## 새 주석: classifier 모델 호출 및 시드에 따라 run_model로 처리한 dataframe 가져오기\n",
        "nusvc_model = svm.NuSVC(**svnu_params)\n",
        "nusvc2_model = svm.NuSVC(**svnu2_params)\n",
        "qda_model = QuadraticDiscriminantAnalysis(**qda_params)\n",
        "svc_model = svm.SVC(**svc_params)\n",
        "knn_model = neighbors.KNeighborsClassifier(**neighbor_params)\n",
        "lr_model = linear_model.LogisticRegression(**lr_params)\n",
        "\n",
        "model_list = [nusvc_model, nusvc2_model, qda_model, svc_model, knn_model, lr_model]\n",
        "oof_train_kmeans_seed1, oof_test_kmeans_seed1 = run_model(model_list, train, test, 1)\n",
        "oof_train_kmeans_seed2, oof_test_kmeans_seed2 = run_model(model_list, train, test, 2)\n",
        "oof_train_random_seed1, oof_test_random_seed1 = run_model(model_list, train, test, 1, 'random')\n",
        "oof_train_random_seed2, oof_test_random_seed2 = run_model(model_list, train, test, 2, 'random')\n",
        "## 새 주석: 이 블럭의 실행 결과가 너무 길어서 삭제함."
      ]
    },
    {
      "cell_type": "code",
      "execution_count": null,
      "metadata": {
        "ExecuteTime": {
          "end_time": "2020-05-05T06:02:48.949794Z",
          "start_time": "2020-05-05T06:02:48.788463Z"
        },
        "execution": {
          "iopub.execute_input": "2023-03-02T15:48:01.523195Z",
          "iopub.status.busy": "2023-03-02T15:48:01.522825Z",
          "iopub.status.idle": "2023-03-02T15:48:01.724269Z",
          "shell.execute_reply": "2023-03-02T15:48:01.723050Z",
          "shell.execute_reply.started": "2023-03-02T15:48:01.523131Z"
        },
        "papermill": {
          "duration": 0.781566,
          "end_time": "2023-03-05T12:29:55.475940",
          "exception": false,
          "start_time": "2023-03-05T12:29:54.694374",
          "status": "completed"
        },
        "tags": [],
        "id": "o6ICUXKLe9XM",
        "outputId": "78aedfe9-4b07-4aa8-f868-2f1ded4efd32"
      },
      "outputs": [
        {
          "name": "stdout",
          "output_type": "stream",
          "text": [
            "Ensemble 0.9658510356167946\n"
          ]
        }
      ],
      "source": [
        "## 새 주석: (kmeans, random) 및 seed에 따른 oof 앙상블에서 얻은 예측값을 종합.\n",
        "train_second = (oof_train_kmeans_seed1 + oof_train_kmeans_seed2 + oof_train_random_seed1 + oof_train_random_seed2)/4\n",
        "test_second = (oof_test_kmeans_seed1 + oof_test_kmeans_seed2 + oof_test_random_seed1 + oof_test_random_seed2)/4\n",
        "print('Ensemble', roc_auc_score(train['target'], train_second.mean(1)))"
      ]
    },
    {
      "cell_type": "code",
      "execution_count": null,
      "metadata": {
        "ExecuteTime": {
          "end_time": "2020-05-05T06:02:58.551959Z",
          "start_time": "2020-05-05T06:02:58.544972Z"
        },
        "execution": {
          "iopub.execute_input": "2023-03-02T15:48:01.726942Z",
          "iopub.status.busy": "2023-03-02T15:48:01.726609Z",
          "iopub.status.idle": "2023-03-02T15:48:01.734543Z",
          "shell.execute_reply": "2023-03-02T15:48:01.733363Z",
          "shell.execute_reply.started": "2023-03-02T15:48:01.726892Z"
        },
        "papermill": {
          "duration": 0.617258,
          "end_time": "2023-03-05T12:29:56.699062",
          "exception": false,
          "start_time": "2023-03-05T12:29:56.081804",
          "status": "completed"
        },
        "tags": [],
        "id": "2SWoFmkTe9XM"
      },
      "outputs": [],
      "source": [
        "## 새 주석: 모델 앙상블에서 사용할 lgbm 및 mlp 모델의 파라미터 세팅 # 세 번째 dataframe 형성을 위한 밑작업.\n",
        "lgbm_meta_param = {\n",
        "        #'bagging_freq': 5,\n",
        "        #'bagging_fraction': 0.8,\n",
        "        'min_child_weight':6.790,\n",
        "        \"subsample_for_bin\":50000,\n",
        "        'bagging_seed': 0,\n",
        "        'boost_from_average':'true',\n",
        "        'boost': 'gbdt',\n",
        "        'feature_fraction': 0.450,\n",
        "        'bagging_fraction': 0.343,\n",
        "        'learning_rate': 0.025,\n",
        "        'max_depth': 10,\n",
        "        'metric':'auc',\n",
        "        'min_data_in_leaf': 78,\n",
        "        'min_sum_hessian_in_leaf': 8,\n",
        "        'num_leaves': 18,\n",
        "        'num_threads': 8,\n",
        "        'tree_learner': 'serial',\n",
        "        'objective': 'binary',\n",
        "        'verbosity': 1,\n",
        "        'lambda_l1': 7.961,\n",
        "        'lambda_l2': 7.781\n",
        "        #'reg_lambda': 0.3,\n",
        "    }\n",
        "\n",
        "mlp16_params = {'activation':'relu','solver':'lbfgs','tol':1e-06, 'hidden_layer_sizes':(16, ), 'random_state':42}"
      ]
    },
    {
      "cell_type": "code",
      "execution_count": null,
      "metadata": {
        "ExecuteTime": {
          "end_time": "2020-05-05T06:35:55.561448Z",
          "start_time": "2020-05-05T06:22:52.559024Z"
        },
        "execution": {
          "iopub.execute_input": "2023-03-02T15:48:01.736321Z",
          "iopub.status.busy": "2023-03-02T15:48:01.735821Z",
          "iopub.status.idle": "2023-03-02T16:08:27.441058Z",
          "shell.execute_reply": "2023-03-02T16:08:27.439080Z",
          "shell.execute_reply.started": "2023-03-02T15:48:01.736254Z"
        },
        "papermill": {
          "duration": 1203.704958,
          "end_time": "2023-03-05T12:50:01.085970",
          "exception": false,
          "start_time": "2023-03-05T12:29:57.381012",
          "status": "completed"
        },
        "scrolled": true,
        "tags": [],
        "id": "qzY_hmb0e9XM",
        "outputId": "4e28ab3e-a7ce-4287-cfd6-861224b3e7b5"
      },
      "outputs": [
        {
          "name": "stdout",
          "output_type": "stream",
          "text": [
            "SEED Ensemble: 0\n",
            "1 FOLD Start\n",
            "MLP META SCORE:  0.9679149157241265\n",
            "LGBM META SCORE:  0.967647530635912\n",
            "2 FOLD Start\n",
            "MLP META SCORE:  0.9680669908384355\n",
            "LGBM META SCORE:  0.9674288751838224\n",
            "3 FOLD Start\n",
            "MLP META SCORE:  0.968603479583272\n",
            "LGBM META SCORE:  0.9683328443489624\n",
            "4 FOLD Start\n",
            "MLP META SCORE:  0.9686502145269664\n",
            "LGBM META SCORE:  0.9682168798889179\n",
            "5 FOLD Start\n",
            "MLP META SCORE:  0.9686257557500182\n",
            "LGBM META SCORE:  0.968488858766663\n",
            "SEED Ensemble: 1\n",
            "1 FOLD Start\n",
            "MLP META SCORE:  0.9694567291526788\n",
            "LGBM META SCORE:  0.9689072412786429\n",
            "2 FOLD Start\n",
            "MLP META SCORE:  0.9684907321825804\n",
            "LGBM META SCORE:  0.967816212999968\n",
            "3 FOLD Start\n",
            "MLP META SCORE:  0.9676346435556265\n",
            "LGBM META SCORE:  0.9671898995884282\n",
            "4 FOLD Start\n",
            "MLP META SCORE:  0.9694087333144282\n",
            "LGBM META SCORE:  0.9689640788253138\n",
            "5 FOLD Start\n",
            "MLP META SCORE:  0.9686281947259526\n",
            "LGBM META SCORE:  0.9679262404257606\n",
            "SEED Ensemble: 2\n",
            "1 FOLD Start\n",
            "MLP META SCORE:  0.967660503571859\n",
            "LGBM META SCORE:  0.9673343320936969\n",
            "2 FOLD Start\n",
            "MLP META SCORE:  0.9683384955432137\n",
            "LGBM META SCORE:  0.9679036155183949\n",
            "3 FOLD Start\n",
            "MLP META SCORE:  0.9698219693222938\n",
            "LGBM META SCORE:  0.96921041362583\n",
            "4 FOLD Start\n",
            "MLP META SCORE:  0.967701356642023\n",
            "LGBM META SCORE:  0.9669523510987241\n",
            "5 FOLD Start\n",
            "MLP META SCORE:  0.969060584703559\n",
            "LGBM META SCORE:  0.9686589023934229\n",
            "SEED Ensemble: 3\n",
            "1 FOLD Start\n",
            "MLP META SCORE:  0.9678520068072538\n",
            "LGBM META SCORE:  0.9671877204553287\n",
            "2 FOLD Start\n",
            "MLP META SCORE:  0.9696442830276522\n",
            "LGBM META SCORE:  0.9690617931105047\n",
            "3 FOLD Start\n",
            "MLP META SCORE:  0.9693649072504638\n",
            "LGBM META SCORE:  0.9691491679804984\n",
            "4 FOLD Start\n",
            "MLP META SCORE:  0.9677892670215846\n",
            "LGBM META SCORE:  0.9673894306444366\n",
            "5 FOLD Start\n",
            "MLP META SCORE:  0.9684472128160119\n",
            "LGBM META SCORE:  0.9679731012154699\n"
          ]
        }
      ],
      "source": [
        "## 새 주석: 모델 앙상블 (lgbm, mlp 각각 도출)\n",
        "SEED_NUMBER = 4\n",
        "NFOLD = 5\n",
        "\n",
        "y_train = train['target']\n",
        "oof_lgbm_meta_train = np.zeros((len(train), SEED_NUMBER))\n",
        "oof_lgbm_meta_test = np.zeros((len(test), SEED_NUMBER))\n",
        "oof_mlp_meta_train = np.zeros((len(train), SEED_NUMBER))\n",
        "oof_mlp_meta_test = np.zeros((len(test), SEED_NUMBER))\n",
        "\n",
        "for seed in range(SEED_NUMBER):\n",
        "    print(\"SEED Ensemble:\", seed)\n",
        "    mlp16_params['random_state'] = seed\n",
        "    lgbm_meta_param['seed'] = seed\n",
        "    folds = StratifiedKFold(n_splits=NFOLD, shuffle=True, random_state=seed)\n",
        "    for fold_index, (trn_index, val_index) in enumerate(folds.split(train_second, y_train), 1):\n",
        "        print(f\"{fold_index} FOLD Start\")\n",
        "        ## 새 주석: mlp 앙상블\n",
        "        trn_x, trn_y = train_second.iloc[trn_index], y_train.iloc[trn_index]\n",
        "        val_x, val_y = train_second.iloc[val_index], y_train.iloc[val_index]\n",
        "\n",
        "        mlp_meta_model = neural_network.MLPClassifier(**mlp16_params)\n",
        "        mlp_meta_model.fit(trn_x, trn_y)\n",
        "\n",
        "        oof_mlp_meta_train[val_index, seed] = mlp_meta_model.predict_proba(val_x)[:,1]\n",
        "        oof_mlp_meta_test[:, seed] += mlp_meta_model.predict_proba(test_second)[:,1]/NFOLD\n",
        "        print(\"MLP META SCORE: \", roc_auc_score(val_y, oof_mlp_meta_train[val_index, seed]))\n",
        "\n",
        "        # lgbm meta model\n",
        "        dtrain = lgbm.Dataset(trn_x, label=trn_y, silent=True)\n",
        "        dcross = lgbm.Dataset(val_x, label=val_y, silent=True)\n",
        "\n",
        "        lgbm_meta_model = lgbm.train(lgbm_meta_param, train_set=dtrain, valid_sets=[dtrain, dcross],\n",
        "                                     verbose_eval=False, early_stopping_rounds=100)\n",
        "\n",
        "        oof_lgbm_meta_train[val_index, seed] = lgbm_meta_model.predict(val_x)\n",
        "        oof_lgbm_meta_test[:, seed] += lgbm_meta_model.predict(test_second)/NFOLD\n",
        "        print(\"LGBM META SCORE: \", roc_auc_score(val_y, oof_lgbm_meta_train[val_index, seed]))"
      ]
    },
    {
      "cell_type": "code",
      "execution_count": null,
      "metadata": {
        "ExecuteTime": {
          "end_time": "2020-05-05T06:42:38.943192Z",
          "start_time": "2020-05-05T06:42:38.876609Z"
        },
        "execution": {
          "iopub.execute_input": "2023-03-02T16:08:27.450840Z",
          "iopub.status.busy": "2023-03-02T16:08:27.446489Z",
          "iopub.status.idle": "2023-03-02T16:08:27.549123Z",
          "shell.execute_reply": "2023-03-02T16:08:27.546951Z",
          "shell.execute_reply.started": "2023-03-02T16:08:27.450713Z"
        },
        "papermill": {
          "duration": 0.636982,
          "end_time": "2023-03-05T12:50:02.426012",
          "exception": false,
          "start_time": "2023-03-05T12:50:01.789030",
          "status": "completed"
        },
        "tags": [],
        "id": "1agrYN38e9XN"
      },
      "outputs": [],
      "source": [
        "## 새 주석: 위의 seed에 따른 Kfold에서 얻은 예측값의 평균을 (lgbm, mlp) & (train, test)에 따라 계산.\n",
        "oof_lgbm_meta_train_df = pd.DataFrame(oof_lgbm_meta_train).mean(axis=1).to_frame().rename(columns={0:'lgbm'})\n",
        "oof_lgbm_meta_test_df = pd.DataFrame(oof_lgbm_meta_test).mean(axis=1).to_frame().rename(columns={0:'lgbm'})\n",
        "oof_mlp_meta_train_df = pd.DataFrame(oof_mlp_meta_train).mean(axis=1).to_frame().rename(columns={0:'mlp'})\n",
        "oof_mlp_meta_test_df = pd.DataFrame(oof_mlp_meta_test).mean(axis=1).to_frame().rename(columns={0:'mlp'})"
      ]
    },
    {
      "cell_type": "code",
      "execution_count": null,
      "metadata": {
        "ExecuteTime": {
          "end_time": "2020-05-05T06:43:50.536907Z",
          "start_time": "2020-05-05T06:43:50.384872Z"
        },
        "execution": {
          "iopub.execute_input": "2023-03-02T16:08:27.555725Z",
          "iopub.status.busy": "2023-03-02T16:08:27.552586Z",
          "iopub.status.idle": "2023-03-02T16:08:27.696060Z",
          "shell.execute_reply": "2023-03-02T16:08:27.694997Z",
          "shell.execute_reply.started": "2023-03-02T16:08:27.555620Z"
        },
        "papermill": {
          "duration": 0.741595,
          "end_time": "2023-03-05T12:50:03.780858",
          "exception": false,
          "start_time": "2023-03-05T12:50:03.039263",
          "status": "completed"
        },
        "tags": [],
        "id": "qrwgex6Qe9XN",
        "outputId": "a7d0befa-bb6f-423b-ed75-3266b62816c7"
      },
      "outputs": [
        {
          "name": "stdout",
          "output_type": "stream",
          "text": [
            "Ensemble 0.9671407107739252\n"
          ]
        }
      ],
      "source": [
        "## 새 주석: oof, lgbm, mlp 앙상블로 세 번째(최종) 예측값을 산출한다.\n",
        "oof_train_third = pd.concat([train_second, oof_lgbm_meta_train_df, oof_mlp_meta_train_df], axis=1)\n",
        "oof_test_third = pd.concat([test_second, oof_lgbm_meta_test_df, oof_mlp_meta_test_df], axis=1)\n",
        "\n",
        "print('Ensemble', roc_auc_score(train['target'], oof_train_third.mean(1)))"
      ]
    },
    {
      "cell_type": "code",
      "execution_count": null,
      "metadata": {
        "ExecuteTime": {
          "end_time": "2020-05-05T06:43:50.536907Z",
          "start_time": "2020-05-05T06:43:50.384872Z"
        },
        "execution": {
          "iopub.execute_input": "2023-03-02T16:08:27.698301Z",
          "iopub.status.busy": "2023-03-02T16:08:27.697670Z",
          "iopub.status.idle": "2023-03-02T16:08:27.831473Z",
          "shell.execute_reply": "2023-03-02T16:08:27.830393Z",
          "shell.execute_reply.started": "2023-03-02T16:08:27.698035Z"
        },
        "papermill": {
          "duration": 0.779836,
          "end_time": "2023-03-05T12:50:05.167126",
          "exception": false,
          "start_time": "2023-03-05T12:50:04.387290",
          "status": "completed"
        },
        "tags": [],
        "id": "d2jkCPYze9XN",
        "outputId": "2bc69fcd-f99a-4930-a798-29e6a70ffcd6"
      },
      "outputs": [
        {
          "name": "stdout",
          "output_type": "stream",
          "text": [
            "Ensemble 0.9671407107739252\n"
          ]
        }
      ],
      "source": [
        "oof_train_third = pd.concat([train_second, oof_lgbm_meta_train_df, oof_mlp_meta_train_df], axis=1)\n",
        "oof_test_third = pd.concat([test_second, oof_lgbm_meta_test_df, oof_mlp_meta_test_df], axis=1)\n",
        "\n",
        "print('Ensemble', roc_auc_score(train['target'], oof_train_third.mean(1)))"
      ]
    },
    {
      "cell_type": "code",
      "execution_count": null,
      "metadata": {
        "ExecuteTime": {
          "end_time": "2020-05-05T06:45:04.913314Z",
          "start_time": "2020-05-05T06:45:04.34786Z"
        },
        "execution": {
          "iopub.execute_input": "2023-03-02T16:08:27.833173Z",
          "iopub.status.busy": "2023-03-02T16:08:27.832840Z",
          "iopub.status.idle": "2023-03-02T16:08:28.835082Z",
          "shell.execute_reply": "2023-03-02T16:08:28.834187Z",
          "shell.execute_reply.started": "2023-03-02T16:08:27.833112Z"
        },
        "papermill": {
          "duration": 1.489138,
          "end_time": "2023-03-05T12:50:07.260532",
          "exception": false,
          "start_time": "2023-03-05T12:50:05.771394",
          "status": "completed"
        },
        "tags": [],
        "id": "jF4Ffj1he9XN"
      },
      "outputs": [],
      "source": [
        "## 새 주석: 결국 이것(label postprocessing)을 하기 위한 과정\n",
        "submission = pd.read_csv('../input/instant-gratification/sample_submission.csv')\n",
        "submission[\"target\"] = oof_test_third.mean(1)\n",
        "submission.to_csv(\"submission.csv\", index=False)"
      ]
    }
  ],
  "metadata": {
    "kernelspec": {
      "display_name": "Python 3",
      "language": "python",
      "name": "python3"
    },
    "language_info": {
      "codemirror_mode": {
        "name": "ipython",
        "version": 3
      },
      "file_extension": ".py",
      "mimetype": "text/x-python",
      "name": "python",
      "nbconvert_exporter": "python",
      "pygments_lexer": "ipython3",
      "version": "3.7.6"
    },
    "papermill": {
      "duration": 6129.785204,
      "end_time": "2023-03-05T12:50:08.678965",
      "environment_variables": {},
      "exception": null,
      "input_path": "__notebook__.ipynb",
      "output_path": "__notebook__.ipynb",
      "parameters": {},
      "start_time": "2023-03-05T11:07:58.893761",
      "version": "1.2.1"
    },
    "colab": {
      "provenance": [],
      "include_colab_link": true
    }
  },
  "nbformat": 4,
  "nbformat_minor": 0
}