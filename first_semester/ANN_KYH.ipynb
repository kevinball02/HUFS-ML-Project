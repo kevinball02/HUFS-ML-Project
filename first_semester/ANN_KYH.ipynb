{
  "nbformat": 4,
  "nbformat_minor": 0,
  "metadata": {
    "colab": {
      "provenance": [],
      "gpuType": "T4",
      "authorship_tag": "ABX9TyN6FjCx65eLSp7oSehocaUP",
      "include_colab_link": true
    },
    "kernelspec": {
      "name": "python3",
      "display_name": "Python 3"
    },
    "language_info": {
      "name": "python"
    },
    "gpuClass": "standard"
  },
  "cells": [
    {
      "cell_type": "markdown",
      "metadata": {
        "id": "view-in-github",
        "colab_type": "text"
      },
      "source": [
        "<a href=\"https://colab.research.google.com/github/kevinball02/HUFS-ML-Project/blob/master/ANN_KYH.ipynb\" target=\"_parent\"><img src=\"https://colab.research.google.com/assets/colab-badge.svg\" alt=\"Open In Colab\"/></a>"
      ]
    },
    {
      "cell_type": "markdown",
      "source": [
        "# Process"
      ],
      "metadata": {
        "id": "14xfHrGJVMmT"
      }
    },
    {
      "cell_type": "markdown",
      "source": [
        "## 0. Basic Settings"
      ],
      "metadata": {
        "id": "hHelSUyJxDFH"
      }
    },
    {
      "cell_type": "markdown",
      "source": [
        "지난번 과제에선, kaggle의 데이터셋을 github에 업로드 한 후, 이를 가져왔었다.  \n",
        "이번에는, colab 환경에서 kaggle Dataset을 직접 다운로드 해서 사용해보겠다."
      ],
      "metadata": {
        "id": "-fLqXdDxMAcH"
      }
    },
    {
      "cell_type": "markdown",
      "source": [
        "```\n",
        "! kaggle datasets download -d iammustafatz/diabetes-prediction-dataset\n",
        "```"
      ],
      "metadata": {
        "id": "Tttb3BXGmUcs"
      }
    },
    {
      "cell_type": "markdown",
      "source": [
        "위의 커맨드는 사전 설정을 해야 수행할 수 있다.  \n",
        "'kaggle.json' (API Token)을 github에서 가져와 /root/.kaggle 경로로 옮기자."
      ],
      "metadata": {
        "id": "SiQ6WJiKP0Ew"
      }
    },
    {
      "cell_type": "code",
      "source": [
        "!git clone 'https://github.com/kevinball02/HUFS-ML-Project.git'"
      ],
      "metadata": {
        "colab": {
          "base_uri": "https://localhost:8080/"
        },
        "id": "t8AJwRY2nqHc",
        "outputId": "1bedd863-f492-470f-8954-7c613b71032e"
      },
      "execution_count": null,
      "outputs": [
        {
          "output_type": "stream",
          "name": "stdout",
          "text": [
            "Cloning into 'HUFS-ML-Project'...\n",
            "remote: Enumerating objects: 60, done.\u001b[K\n",
            "remote: Counting objects: 100% (60/60), done.\u001b[K\n",
            "remote: Compressing objects: 100% (53/53), done.\u001b[K\n",
            "remote: Total 60 (delta 12), reused 7 (delta 0), pack-reused 0\u001b[K\n",
            "Unpacking objects: 100% (60/60), 6.16 MiB | 5.51 MiB/s, done.\n"
          ]
        }
      ]
    },
    {
      "cell_type": "code",
      "source": [
        "!mkdir -p ~/.kaggle\n",
        "!mkdir -p ./result\n",
        "!mv HUFS-ML-Project/kaggle.json ~/.kaggle/\n",
        "!chmod 600 ~/.kaggle/kaggle.json"
      ],
      "metadata": {
        "id": "P3XOLQ16pNHw"
      },
      "execution_count": null,
      "outputs": []
    },
    {
      "cell_type": "code",
      "source": [
        "! kaggle datasets download -d iammustafatz/diabetes-prediction-dataset\n",
        "! unzip diabetes-prediction-dataset.zip"
      ],
      "metadata": {
        "colab": {
          "base_uri": "https://localhost:8080/"
        },
        "id": "nnPdtYrYAd4R",
        "outputId": "dc8db0b5-b1e2-4884-e494-d9f4e3e26c83"
      },
      "execution_count": null,
      "outputs": [
        {
          "output_type": "stream",
          "name": "stdout",
          "text": [
            "Downloading diabetes-prediction-dataset.zip to /content\n",
            "\r  0% 0.00/734k [00:00<?, ?B/s]\n",
            "\r100% 734k/734k [00:00<00:00, 78.8MB/s]\n",
            "Archive:  diabetes-prediction-dataset.zip\n",
            "  inflating: diabetes_prediction_dataset.csv  \n"
          ]
        }
      ]
    },
    {
      "cell_type": "code",
      "source": [
        "#!pip install autoviz --upgrade\n",
        "# 시각화를 자동으로 해주는 모듈. 하지만 여기선 쓰지 않았다."
      ],
      "metadata": {
        "id": "qjLUBpPx7mzB"
      },
      "execution_count": null,
      "outputs": []
    },
    {
      "cell_type": "code",
      "source": [
        "import pandas as pd\n",
        "import numpy as np\n",
        "import warnings\n",
        "warnings.filterwarnings('ignore')\n",
        "\n",
        "import matplotlib.pyplot as plt\n",
        "%matplotlib inline\n",
        "from matplotlib_inline.backend_inline import set_matplotlib_formats\n",
        "import seaborn as sns\n",
        "\n",
        "set_matplotlib_formats('svg')\n",
        "plt.rcParams['axes.edgecolor'] = 'black'\n",
        "sns.set_style(\"whitegrid\")\n",
        "\n",
        "from sklearn import preprocessing\n",
        "from sklearn.impute import KNNImputer\n",
        "from sklearn.model_selection import train_test_split, KFold, cross_val_score\n",
        "from sklearn.linear_model import LogisticRegression\n",
        "from sklearn.metrics import confusion_matrix, precision_recall_curve, roc_curve, roc_auc_score\n",
        "\n",
        "from tensorflow.keras.models import Sequential  \n",
        "from tensorflow.keras.layers import Dense, BatchNormalization, Dropout\n",
        "from tensorflow.keras.callbacks import EarlyStopping\n",
        "\n",
        "from keras.wrappers.scikit_learn import KerasClassifier\n",
        "from keras.regularizers import l1"
      ],
      "metadata": {
        "id": "IewUys197mzB"
      },
      "execution_count": null,
      "outputs": []
    },
    {
      "cell_type": "code",
      "source": [
        "#AutoViz\n",
        " #from autoviz.AutoViz_Class import AutoViz_Class\n",
        "#() import AutoViz\n",
        " #%matplotlib inline\n",
        "#from sklearn.preprocessing import LabelEncoder, StandardScaler\n",
        "#from sklearn.model_selection import train_test_split\n",
        "\n",
        "#import tensorflow as tf\n",
        "#from tensorflow.keras import Sequential\n",
        "#from tensorflow.keras.layers import Dense\n",
        "#from tensorflow.keras.layers import Dropout"
      ],
      "metadata": {
        "id": "_eO2l47bUpKj"
      },
      "execution_count": null,
      "outputs": []
    },
    {
      "cell_type": "code",
      "source": [
        "\n",
        "raw_data = pd.read_csv('diabetes_prediction_dataset.csv')\n",
        "raw_data.head()"
      ],
      "metadata": {
        "colab": {
          "base_uri": "https://localhost:8080/",
          "height": 206
        },
        "id": "PvERAAJjs2dP",
        "outputId": "0d7b8fdf-22a4-42b9-f964-6cd2903b191a"
      },
      "execution_count": null,
      "outputs": [
        {
          "output_type": "execute_result",
          "data": {
            "text/plain": [
              "   gender   age  hypertension  heart_disease smoking_history    bmi  \\\n",
              "0  Female  80.0             0              1           never  25.19   \n",
              "1  Female  54.0             0              0         No Info  27.32   \n",
              "2    Male  28.0             0              0           never  27.32   \n",
              "3  Female  36.0             0              0         current  23.45   \n",
              "4    Male  76.0             1              1         current  20.14   \n",
              "\n",
              "   HbA1c_level  blood_glucose_level  diabetes  \n",
              "0          6.6                  140         0  \n",
              "1          6.6                   80         0  \n",
              "2          5.7                  158         0  \n",
              "3          5.0                  155         0  \n",
              "4          4.8                  155         0  "
            ],
            "text/html": [
              "\n",
              "  <div id=\"df-2e2e588c-dffb-4f61-b3fc-a05079b85382\">\n",
              "    <div class=\"colab-df-container\">\n",
              "      <div>\n",
              "<style scoped>\n",
              "    .dataframe tbody tr th:only-of-type {\n",
              "        vertical-align: middle;\n",
              "    }\n",
              "\n",
              "    .dataframe tbody tr th {\n",
              "        vertical-align: top;\n",
              "    }\n",
              "\n",
              "    .dataframe thead th {\n",
              "        text-align: right;\n",
              "    }\n",
              "</style>\n",
              "<table border=\"1\" class=\"dataframe\">\n",
              "  <thead>\n",
              "    <tr style=\"text-align: right;\">\n",
              "      <th></th>\n",
              "      <th>gender</th>\n",
              "      <th>age</th>\n",
              "      <th>hypertension</th>\n",
              "      <th>heart_disease</th>\n",
              "      <th>smoking_history</th>\n",
              "      <th>bmi</th>\n",
              "      <th>HbA1c_level</th>\n",
              "      <th>blood_glucose_level</th>\n",
              "      <th>diabetes</th>\n",
              "    </tr>\n",
              "  </thead>\n",
              "  <tbody>\n",
              "    <tr>\n",
              "      <th>0</th>\n",
              "      <td>Female</td>\n",
              "      <td>80.0</td>\n",
              "      <td>0</td>\n",
              "      <td>1</td>\n",
              "      <td>never</td>\n",
              "      <td>25.19</td>\n",
              "      <td>6.6</td>\n",
              "      <td>140</td>\n",
              "      <td>0</td>\n",
              "    </tr>\n",
              "    <tr>\n",
              "      <th>1</th>\n",
              "      <td>Female</td>\n",
              "      <td>54.0</td>\n",
              "      <td>0</td>\n",
              "      <td>0</td>\n",
              "      <td>No Info</td>\n",
              "      <td>27.32</td>\n",
              "      <td>6.6</td>\n",
              "      <td>80</td>\n",
              "      <td>0</td>\n",
              "    </tr>\n",
              "    <tr>\n",
              "      <th>2</th>\n",
              "      <td>Male</td>\n",
              "      <td>28.0</td>\n",
              "      <td>0</td>\n",
              "      <td>0</td>\n",
              "      <td>never</td>\n",
              "      <td>27.32</td>\n",
              "      <td>5.7</td>\n",
              "      <td>158</td>\n",
              "      <td>0</td>\n",
              "    </tr>\n",
              "    <tr>\n",
              "      <th>3</th>\n",
              "      <td>Female</td>\n",
              "      <td>36.0</td>\n",
              "      <td>0</td>\n",
              "      <td>0</td>\n",
              "      <td>current</td>\n",
              "      <td>23.45</td>\n",
              "      <td>5.0</td>\n",
              "      <td>155</td>\n",
              "      <td>0</td>\n",
              "    </tr>\n",
              "    <tr>\n",
              "      <th>4</th>\n",
              "      <td>Male</td>\n",
              "      <td>76.0</td>\n",
              "      <td>1</td>\n",
              "      <td>1</td>\n",
              "      <td>current</td>\n",
              "      <td>20.14</td>\n",
              "      <td>4.8</td>\n",
              "      <td>155</td>\n",
              "      <td>0</td>\n",
              "    </tr>\n",
              "  </tbody>\n",
              "</table>\n",
              "</div>\n",
              "      <button class=\"colab-df-convert\" onclick=\"convertToInteractive('df-2e2e588c-dffb-4f61-b3fc-a05079b85382')\"\n",
              "              title=\"Convert this dataframe to an interactive table.\"\n",
              "              style=\"display:none;\">\n",
              "        \n",
              "  <svg xmlns=\"http://www.w3.org/2000/svg\" height=\"24px\"viewBox=\"0 0 24 24\"\n",
              "       width=\"24px\">\n",
              "    <path d=\"M0 0h24v24H0V0z\" fill=\"none\"/>\n",
              "    <path d=\"M18.56 5.44l.94 2.06.94-2.06 2.06-.94-2.06-.94-.94-2.06-.94 2.06-2.06.94zm-11 1L8.5 8.5l.94-2.06 2.06-.94-2.06-.94L8.5 2.5l-.94 2.06-2.06.94zm10 10l.94 2.06.94-2.06 2.06-.94-2.06-.94-.94-2.06-.94 2.06-2.06.94z\"/><path d=\"M17.41 7.96l-1.37-1.37c-.4-.4-.92-.59-1.43-.59-.52 0-1.04.2-1.43.59L10.3 9.45l-7.72 7.72c-.78.78-.78 2.05 0 2.83L4 21.41c.39.39.9.59 1.41.59.51 0 1.02-.2 1.41-.59l7.78-7.78 2.81-2.81c.8-.78.8-2.07 0-2.86zM5.41 20L4 18.59l7.72-7.72 1.47 1.35L5.41 20z\"/>\n",
              "  </svg>\n",
              "      </button>\n",
              "      \n",
              "  <style>\n",
              "    .colab-df-container {\n",
              "      display:flex;\n",
              "      flex-wrap:wrap;\n",
              "      gap: 12px;\n",
              "    }\n",
              "\n",
              "    .colab-df-convert {\n",
              "      background-color: #E8F0FE;\n",
              "      border: none;\n",
              "      border-radius: 50%;\n",
              "      cursor: pointer;\n",
              "      display: none;\n",
              "      fill: #1967D2;\n",
              "      height: 32px;\n",
              "      padding: 0 0 0 0;\n",
              "      width: 32px;\n",
              "    }\n",
              "\n",
              "    .colab-df-convert:hover {\n",
              "      background-color: #E2EBFA;\n",
              "      box-shadow: 0px 1px 2px rgba(60, 64, 67, 0.3), 0px 1px 3px 1px rgba(60, 64, 67, 0.15);\n",
              "      fill: #174EA6;\n",
              "    }\n",
              "\n",
              "    [theme=dark] .colab-df-convert {\n",
              "      background-color: #3B4455;\n",
              "      fill: #D2E3FC;\n",
              "    }\n",
              "\n",
              "    [theme=dark] .colab-df-convert:hover {\n",
              "      background-color: #434B5C;\n",
              "      box-shadow: 0px 1px 3px 1px rgba(0, 0, 0, 0.15);\n",
              "      filter: drop-shadow(0px 1px 2px rgba(0, 0, 0, 0.3));\n",
              "      fill: #FFFFFF;\n",
              "    }\n",
              "  </style>\n",
              "\n",
              "      <script>\n",
              "        const buttonEl =\n",
              "          document.querySelector('#df-2e2e588c-dffb-4f61-b3fc-a05079b85382 button.colab-df-convert');\n",
              "        buttonEl.style.display =\n",
              "          google.colab.kernel.accessAllowed ? 'block' : 'none';\n",
              "\n",
              "        async function convertToInteractive(key) {\n",
              "          const element = document.querySelector('#df-2e2e588c-dffb-4f61-b3fc-a05079b85382');\n",
              "          const dataTable =\n",
              "            await google.colab.kernel.invokeFunction('convertToInteractive',\n",
              "                                                     [key], {});\n",
              "          if (!dataTable) return;\n",
              "\n",
              "          const docLinkHtml = 'Like what you see? Visit the ' +\n",
              "            '<a target=\"_blank\" href=https://colab.research.google.com/notebooks/data_table.ipynb>data table notebook</a>'\n",
              "            + ' to learn more about interactive tables.';\n",
              "          element.innerHTML = '';\n",
              "          dataTable['output_type'] = 'display_data';\n",
              "          await google.colab.output.renderOutput(dataTable, element);\n",
              "          const docLink = document.createElement('div');\n",
              "          docLink.innerHTML = docLinkHtml;\n",
              "          element.appendChild(docLink);\n",
              "        }\n",
              "      </script>\n",
              "    </div>\n",
              "  </div>\n",
              "  "
            ]
          },
          "metadata": {},
          "execution_count": 7
        }
      ]
    },
    {
      "cell_type": "markdown",
      "source": [
        "## 1. EDA & Preprocessing"
      ],
      "metadata": {
        "id": "XYojpRA34LK7"
      }
    },
    {
      "cell_type": "code",
      "source": [
        "raw_data.info()"
      ],
      "metadata": {
        "colab": {
          "base_uri": "https://localhost:8080/"
        },
        "id": "Wx6h009_tNNT",
        "outputId": "e6885d39-0f1f-4248-d5b3-074b4f964579"
      },
      "execution_count": null,
      "outputs": [
        {
          "output_type": "stream",
          "name": "stdout",
          "text": [
            "<class 'pandas.core.frame.DataFrame'>\n",
            "RangeIndex: 100000 entries, 0 to 99999\n",
            "Data columns (total 9 columns):\n",
            " #   Column               Non-Null Count   Dtype  \n",
            "---  ------               --------------   -----  \n",
            " 0   gender               100000 non-null  object \n",
            " 1   age                  100000 non-null  float64\n",
            " 2   hypertension         100000 non-null  int64  \n",
            " 3   heart_disease        100000 non-null  int64  \n",
            " 4   smoking_history      100000 non-null  object \n",
            " 5   bmi                  100000 non-null  float64\n",
            " 6   HbA1c_level          100000 non-null  float64\n",
            " 7   blood_glucose_level  100000 non-null  int64  \n",
            " 8   diabetes             100000 non-null  int64  \n",
            "dtypes: float64(3), int64(4), object(2)\n",
            "memory usage: 6.9+ MB\n"
          ]
        }
      ]
    },
    {
      "cell_type": "code",
      "source": [
        "data = raw_data.drop_duplicates() # 중복 제거\n",
        "data.info()"
      ],
      "metadata": {
        "colab": {
          "base_uri": "https://localhost:8080/"
        },
        "id": "3V8BBYpV8cSh",
        "outputId": "2daec769-5bf2-4166-c872-f8e5360ae033"
      },
      "execution_count": null,
      "outputs": [
        {
          "output_type": "stream",
          "name": "stdout",
          "text": [
            "<class 'pandas.core.frame.DataFrame'>\n",
            "Int64Index: 96146 entries, 0 to 99999\n",
            "Data columns (total 9 columns):\n",
            " #   Column               Non-Null Count  Dtype  \n",
            "---  ------               --------------  -----  \n",
            " 0   gender               96146 non-null  object \n",
            " 1   age                  96146 non-null  float64\n",
            " 2   hypertension         96146 non-null  int64  \n",
            " 3   heart_disease        96146 non-null  int64  \n",
            " 4   smoking_history      96146 non-null  object \n",
            " 5   bmi                  96146 non-null  float64\n",
            " 6   HbA1c_level          96146 non-null  float64\n",
            " 7   blood_glucose_level  96146 non-null  int64  \n",
            " 8   diabetes             96146 non-null  int64  \n",
            "dtypes: float64(3), int64(4), object(2)\n",
            "memory usage: 7.3+ MB\n"
          ]
        }
      ]
    },
    {
      "cell_type": "code",
      "source": [
        "data.describe()"
      ],
      "metadata": {
        "colab": {
          "base_uri": "https://localhost:8080/",
          "height": 300
        },
        "id": "HCQYRMpKLDC-",
        "outputId": "bd9ce2f1-edfd-45e5-946a-a244ddead034"
      },
      "execution_count": null,
      "outputs": [
        {
          "output_type": "execute_result",
          "data": {
            "text/plain": [
              "                age  hypertension  heart_disease           bmi   HbA1c_level  \\\n",
              "count  96146.000000  96146.000000   96146.000000  96146.000000  96146.000000   \n",
              "mean      41.794326      0.077601       0.040803     27.321461      5.532609   \n",
              "std       22.462948      0.267544       0.197833      6.767716      1.073232   \n",
              "min        0.080000      0.000000       0.000000     10.010000      3.500000   \n",
              "25%       24.000000      0.000000       0.000000     23.400000      4.800000   \n",
              "50%       43.000000      0.000000       0.000000     27.320000      5.800000   \n",
              "75%       59.000000      0.000000       0.000000     29.860000      6.200000   \n",
              "max       80.000000      1.000000       1.000000     95.690000      9.000000   \n",
              "\n",
              "       blood_glucose_level      diabetes  \n",
              "count         96146.000000  96146.000000  \n",
              "mean            138.218231      0.088220  \n",
              "std              40.909771      0.283616  \n",
              "min              80.000000      0.000000  \n",
              "25%             100.000000      0.000000  \n",
              "50%             140.000000      0.000000  \n",
              "75%             159.000000      0.000000  \n",
              "max             300.000000      1.000000  "
            ],
            "text/html": [
              "\n",
              "  <div id=\"df-e9307572-7e57-4f9f-b81f-e164a93aad80\">\n",
              "    <div class=\"colab-df-container\">\n",
              "      <div>\n",
              "<style scoped>\n",
              "    .dataframe tbody tr th:only-of-type {\n",
              "        vertical-align: middle;\n",
              "    }\n",
              "\n",
              "    .dataframe tbody tr th {\n",
              "        vertical-align: top;\n",
              "    }\n",
              "\n",
              "    .dataframe thead th {\n",
              "        text-align: right;\n",
              "    }\n",
              "</style>\n",
              "<table border=\"1\" class=\"dataframe\">\n",
              "  <thead>\n",
              "    <tr style=\"text-align: right;\">\n",
              "      <th></th>\n",
              "      <th>age</th>\n",
              "      <th>hypertension</th>\n",
              "      <th>heart_disease</th>\n",
              "      <th>bmi</th>\n",
              "      <th>HbA1c_level</th>\n",
              "      <th>blood_glucose_level</th>\n",
              "      <th>diabetes</th>\n",
              "    </tr>\n",
              "  </thead>\n",
              "  <tbody>\n",
              "    <tr>\n",
              "      <th>count</th>\n",
              "      <td>96146.000000</td>\n",
              "      <td>96146.000000</td>\n",
              "      <td>96146.000000</td>\n",
              "      <td>96146.000000</td>\n",
              "      <td>96146.000000</td>\n",
              "      <td>96146.000000</td>\n",
              "      <td>96146.000000</td>\n",
              "    </tr>\n",
              "    <tr>\n",
              "      <th>mean</th>\n",
              "      <td>41.794326</td>\n",
              "      <td>0.077601</td>\n",
              "      <td>0.040803</td>\n",
              "      <td>27.321461</td>\n",
              "      <td>5.532609</td>\n",
              "      <td>138.218231</td>\n",
              "      <td>0.088220</td>\n",
              "    </tr>\n",
              "    <tr>\n",
              "      <th>std</th>\n",
              "      <td>22.462948</td>\n",
              "      <td>0.267544</td>\n",
              "      <td>0.197833</td>\n",
              "      <td>6.767716</td>\n",
              "      <td>1.073232</td>\n",
              "      <td>40.909771</td>\n",
              "      <td>0.283616</td>\n",
              "    </tr>\n",
              "    <tr>\n",
              "      <th>min</th>\n",
              "      <td>0.080000</td>\n",
              "      <td>0.000000</td>\n",
              "      <td>0.000000</td>\n",
              "      <td>10.010000</td>\n",
              "      <td>3.500000</td>\n",
              "      <td>80.000000</td>\n",
              "      <td>0.000000</td>\n",
              "    </tr>\n",
              "    <tr>\n",
              "      <th>25%</th>\n",
              "      <td>24.000000</td>\n",
              "      <td>0.000000</td>\n",
              "      <td>0.000000</td>\n",
              "      <td>23.400000</td>\n",
              "      <td>4.800000</td>\n",
              "      <td>100.000000</td>\n",
              "      <td>0.000000</td>\n",
              "    </tr>\n",
              "    <tr>\n",
              "      <th>50%</th>\n",
              "      <td>43.000000</td>\n",
              "      <td>0.000000</td>\n",
              "      <td>0.000000</td>\n",
              "      <td>27.320000</td>\n",
              "      <td>5.800000</td>\n",
              "      <td>140.000000</td>\n",
              "      <td>0.000000</td>\n",
              "    </tr>\n",
              "    <tr>\n",
              "      <th>75%</th>\n",
              "      <td>59.000000</td>\n",
              "      <td>0.000000</td>\n",
              "      <td>0.000000</td>\n",
              "      <td>29.860000</td>\n",
              "      <td>6.200000</td>\n",
              "      <td>159.000000</td>\n",
              "      <td>0.000000</td>\n",
              "    </tr>\n",
              "    <tr>\n",
              "      <th>max</th>\n",
              "      <td>80.000000</td>\n",
              "      <td>1.000000</td>\n",
              "      <td>1.000000</td>\n",
              "      <td>95.690000</td>\n",
              "      <td>9.000000</td>\n",
              "      <td>300.000000</td>\n",
              "      <td>1.000000</td>\n",
              "    </tr>\n",
              "  </tbody>\n",
              "</table>\n",
              "</div>\n",
              "      <button class=\"colab-df-convert\" onclick=\"convertToInteractive('df-e9307572-7e57-4f9f-b81f-e164a93aad80')\"\n",
              "              title=\"Convert this dataframe to an interactive table.\"\n",
              "              style=\"display:none;\">\n",
              "        \n",
              "  <svg xmlns=\"http://www.w3.org/2000/svg\" height=\"24px\"viewBox=\"0 0 24 24\"\n",
              "       width=\"24px\">\n",
              "    <path d=\"M0 0h24v24H0V0z\" fill=\"none\"/>\n",
              "    <path d=\"M18.56 5.44l.94 2.06.94-2.06 2.06-.94-2.06-.94-.94-2.06-.94 2.06-2.06.94zm-11 1L8.5 8.5l.94-2.06 2.06-.94-2.06-.94L8.5 2.5l-.94 2.06-2.06.94zm10 10l.94 2.06.94-2.06 2.06-.94-2.06-.94-.94-2.06-.94 2.06-2.06.94z\"/><path d=\"M17.41 7.96l-1.37-1.37c-.4-.4-.92-.59-1.43-.59-.52 0-1.04.2-1.43.59L10.3 9.45l-7.72 7.72c-.78.78-.78 2.05 0 2.83L4 21.41c.39.39.9.59 1.41.59.51 0 1.02-.2 1.41-.59l7.78-7.78 2.81-2.81c.8-.78.8-2.07 0-2.86zM5.41 20L4 18.59l7.72-7.72 1.47 1.35L5.41 20z\"/>\n",
              "  </svg>\n",
              "      </button>\n",
              "      \n",
              "  <style>\n",
              "    .colab-df-container {\n",
              "      display:flex;\n",
              "      flex-wrap:wrap;\n",
              "      gap: 12px;\n",
              "    }\n",
              "\n",
              "    .colab-df-convert {\n",
              "      background-color: #E8F0FE;\n",
              "      border: none;\n",
              "      border-radius: 50%;\n",
              "      cursor: pointer;\n",
              "      display: none;\n",
              "      fill: #1967D2;\n",
              "      height: 32px;\n",
              "      padding: 0 0 0 0;\n",
              "      width: 32px;\n",
              "    }\n",
              "\n",
              "    .colab-df-convert:hover {\n",
              "      background-color: #E2EBFA;\n",
              "      box-shadow: 0px 1px 2px rgba(60, 64, 67, 0.3), 0px 1px 3px 1px rgba(60, 64, 67, 0.15);\n",
              "      fill: #174EA6;\n",
              "    }\n",
              "\n",
              "    [theme=dark] .colab-df-convert {\n",
              "      background-color: #3B4455;\n",
              "      fill: #D2E3FC;\n",
              "    }\n",
              "\n",
              "    [theme=dark] .colab-df-convert:hover {\n",
              "      background-color: #434B5C;\n",
              "      box-shadow: 0px 1px 3px 1px rgba(0, 0, 0, 0.15);\n",
              "      filter: drop-shadow(0px 1px 2px rgba(0, 0, 0, 0.3));\n",
              "      fill: #FFFFFF;\n",
              "    }\n",
              "  </style>\n",
              "\n",
              "      <script>\n",
              "        const buttonEl =\n",
              "          document.querySelector('#df-e9307572-7e57-4f9f-b81f-e164a93aad80 button.colab-df-convert');\n",
              "        buttonEl.style.display =\n",
              "          google.colab.kernel.accessAllowed ? 'block' : 'none';\n",
              "\n",
              "        async function convertToInteractive(key) {\n",
              "          const element = document.querySelector('#df-e9307572-7e57-4f9f-b81f-e164a93aad80');\n",
              "          const dataTable =\n",
              "            await google.colab.kernel.invokeFunction('convertToInteractive',\n",
              "                                                     [key], {});\n",
              "          if (!dataTable) return;\n",
              "\n",
              "          const docLinkHtml = 'Like what you see? Visit the ' +\n",
              "            '<a target=\"_blank\" href=https://colab.research.google.com/notebooks/data_table.ipynb>data table notebook</a>'\n",
              "            + ' to learn more about interactive tables.';\n",
              "          element.innerHTML = '';\n",
              "          dataTable['output_type'] = 'display_data';\n",
              "          await google.colab.output.renderOutput(dataTable, element);\n",
              "          const docLink = document.createElement('div');\n",
              "          docLink.innerHTML = docLinkHtml;\n",
              "          element.appendChild(docLink);\n",
              "        }\n",
              "      </script>\n",
              "    </div>\n",
              "  </div>\n",
              "  "
            ]
          },
          "metadata": {},
          "execution_count": 10
        }
      ]
    },
    {
      "cell_type": "code",
      "source": [
        "exclusion = data.columns.difference(['age','bmi','HbA1c_level']) # 세 칼럼(float64)을 배재함.\n",
        "for c in data[exclusion]:\n",
        "  print(data[c].value_counts()); print('-'*30+'\\n')"
      ],
      "metadata": {
        "colab": {
          "base_uri": "https://localhost:8080/"
        },
        "id": "zAI0AFkmOWSm",
        "outputId": "bde492a7-0291-4ca0-c02b-e93b502080b8"
      },
      "execution_count": null,
      "outputs": [
        {
          "output_type": "stream",
          "name": "stdout",
          "text": [
            "159    7478\n",
            "130    7471\n",
            "126    7421\n",
            "140    7416\n",
            "160    7397\n",
            "145    7371\n",
            "200    7290\n",
            "155    7285\n",
            "90     6822\n",
            "80     6786\n",
            "100    6774\n",
            "158    6739\n",
            "85     6632\n",
            "280     724\n",
            "300     673\n",
            "260     634\n",
            "240     633\n",
            "220     600\n",
            "Name: blood_glucose_level, dtype: int64\n",
            "------------------------------\n",
            "\n",
            "0    87664\n",
            "1     8482\n",
            "Name: diabetes, dtype: int64\n",
            "------------------------------\n",
            "\n",
            "Female    56161\n",
            "Male      39967\n",
            "Other        18\n",
            "Name: gender, dtype: int64\n",
            "------------------------------\n",
            "\n",
            "0    92223\n",
            "1     3923\n",
            "Name: heart_disease, dtype: int64\n",
            "------------------------------\n",
            "\n",
            "0    88685\n",
            "1     7461\n",
            "Name: hypertension, dtype: int64\n",
            "------------------------------\n",
            "\n",
            "never          34398\n",
            "No Info        32887\n",
            "former          9299\n",
            "current         9197\n",
            "not current     6367\n",
            "ever            3998\n",
            "Name: smoking_history, dtype: int64\n",
            "------------------------------\n",
            "\n"
          ]
        }
      ]
    },
    {
      "cell_type": "code",
      "source": [
        "numeric_cols = [x for x in data.dtypes.index if data.dtypes[x] != 'object']\n",
        "\n",
        "plt.figure(figsize = (12,7))\n",
        "sns.heatmap(data[numeric_cols].corr(), annot = True, fmt=\".4f\", cmap = 'coolwarm')\n",
        "plt.title(\"Correlation Heatmap\", fontsize = '14', fontweight= 'bold')\n",
        "plt.show()"
      ],
      "metadata": {
        "colab": {
          "base_uri": "https://localhost:8080/",
          "height": 721
        },
        "id": "eRn7dCRrXXAY",
        "outputId": "21d2e8c8-9579-42d0-921c-e50253e7bfb2"
      },
      "execution_count": null,
      "outputs": [
        {
          "output_type": "display_data",
          "data": {
            "text/plain": [
              "<Figure size 1200x700 with 2 Axes>"
            ],
            "image/svg+xml": "<?xml version=\"1.0\" encoding=\"utf-8\" standalone=\"no\"?>\n<!DOCTYPE svg PUBLIC \"-//W3C//DTD SVG 1.1//EN\"\n  \"http://www.w3.org/Graphics/SVG/1.1/DTD/svg11.dtd\">\n<svg xmlns:xlink=\"http://www.w3.org/1999/xlink\" width=\"732.804625pt\" height=\"526.055312pt\" viewBox=\"0 0 732.804625 526.055312\" xmlns=\"http://www.w3.org/2000/svg\" version=\"1.1\">\n <metadata>\n  <rdf:RDF xmlns:dc=\"http://purl.org/dc/elements/1.1/\" xmlns:cc=\"http://creativecommons.org/ns#\" xmlns:rdf=\"http://www.w3.org/1999/02/22-rdf-syntax-ns#\">\n   <cc:Work>\n    <dc:type rdf:resource=\"http://purl.org/dc/dcmitype/StillImage\"/>\n    <dc:date>2023-05-21T04:08:19.851838</dc:date>\n    <dc:format>image/svg+xml</dc:format>\n    <dc:creator>\n     <cc:Agent>\n      <dc:title>Matplotlib v3.7.1, https://matplotlib.org/</dc:title>\n     </cc:Agent>\n    </dc:creator>\n   </cc:Work>\n  </rdf:RDF>\n </metadata>\n <defs>\n  <style type=\"text/css\">*{stroke-linejoin: round; stroke-linecap: butt}</style>\n </defs>\n <g id=\"figure_1\">\n  <g id=\"patch_1\">\n   <path d=\"M 0 526.055312 \nL 732.804625 526.055312 \nL 732.804625 0 \nL 0 0 \nz\n\" style=\"fill: #ffffff\"/>\n  </g>\n  <g id=\"axes_1\">\n   <g id=\"patch_2\">\n    <path d=\"M 114.1375 411.917812 \nL 649.8175 411.917812 \nL 649.8175 23.837812 \nL 114.1375 23.837812 \nz\n\" style=\"fill: #ffffff\"/>\n   </g>\n   <g id=\"matplotlib.axis_1\">\n    <g id=\"xtick_1\">\n     <g id=\"line2d_1\">\n      <path d=\"M 152.400357 411.917812 \nL 152.400357 23.837812 \n\" clip-path=\"url(#p88c8ed0943)\" style=\"fill: none; stroke: #cccccc; stroke-width: 0.8; stroke-linecap: round\"/>\n     </g>\n     <g id=\"text_1\">\n      <!-- age -->\n      <g style=\"fill: #262626\" transform=\"translate(155.159732 437.5475) rotate(-90) scale(0.1 -0.1)\">\n       <defs>\n        <path id=\"DejaVuSans-61\" d=\"M 2194 1759 \nQ 1497 1759 1228 1600 \nQ 959 1441 959 1056 \nQ 959 750 1161 570 \nQ 1363 391 1709 391 \nQ 2188 391 2477 730 \nQ 2766 1069 2766 1631 \nL 2766 1759 \nL 2194 1759 \nz\nM 3341 1997 \nL 3341 0 \nL 2766 0 \nL 2766 531 \nQ 2569 213 2275 61 \nQ 1981 -91 1556 -91 \nQ 1019 -91 701 211 \nQ 384 513 384 1019 \nQ 384 1609 779 1909 \nQ 1175 2209 1959 2209 \nL 2766 2209 \nL 2766 2266 \nQ 2766 2663 2505 2880 \nQ 2244 3097 1772 3097 \nQ 1472 3097 1187 3025 \nQ 903 2953 641 2809 \nL 641 3341 \nQ 956 3463 1253 3523 \nQ 1550 3584 1831 3584 \nQ 2591 3584 2966 3190 \nQ 3341 2797 3341 1997 \nz\n\" transform=\"scale(0.015625)\"/>\n        <path id=\"DejaVuSans-67\" d=\"M 2906 1791 \nQ 2906 2416 2648 2759 \nQ 2391 3103 1925 3103 \nQ 1463 3103 1205 2759 \nQ 947 2416 947 1791 \nQ 947 1169 1205 825 \nQ 1463 481 1925 481 \nQ 2391 481 2648 825 \nQ 2906 1169 2906 1791 \nz\nM 3481 434 \nQ 3481 -459 3084 -895 \nQ 2688 -1331 1869 -1331 \nQ 1566 -1331 1297 -1286 \nQ 1028 -1241 775 -1147 \nL 775 -588 \nQ 1028 -725 1275 -790 \nQ 1522 -856 1778 -856 \nQ 2344 -856 2625 -561 \nQ 2906 -266 2906 331 \nL 2906 616 \nQ 2728 306 2450 153 \nQ 2172 0 1784 0 \nQ 1141 0 747 490 \nQ 353 981 353 1791 \nQ 353 2603 747 3093 \nQ 1141 3584 1784 3584 \nQ 2172 3584 2450 3431 \nQ 2728 3278 2906 2969 \nL 2906 3500 \nL 3481 3500 \nL 3481 434 \nz\n\" transform=\"scale(0.015625)\"/>\n        <path id=\"DejaVuSans-65\" d=\"M 3597 1894 \nL 3597 1613 \nL 953 1613 \nQ 991 1019 1311 708 \nQ 1631 397 2203 397 \nQ 2534 397 2845 478 \nQ 3156 559 3463 722 \nL 3463 178 \nQ 3153 47 2828 -22 \nQ 2503 -91 2169 -91 \nQ 1331 -91 842 396 \nQ 353 884 353 1716 \nQ 353 2575 817 3079 \nQ 1281 3584 2069 3584 \nQ 2775 3584 3186 3129 \nQ 3597 2675 3597 1894 \nz\nM 3022 2063 \nQ 3016 2534 2758 2815 \nQ 2500 3097 2075 3097 \nQ 1594 3097 1305 2825 \nQ 1016 2553 972 2059 \nL 3022 2063 \nz\n\" transform=\"scale(0.015625)\"/>\n       </defs>\n       <use xlink:href=\"#DejaVuSans-61\"/>\n       <use xlink:href=\"#DejaVuSans-67\" x=\"61.279297\"/>\n       <use xlink:href=\"#DejaVuSans-65\" x=\"124.755859\"/>\n      </g>\n     </g>\n    </g>\n    <g id=\"xtick_2\">\n     <g id=\"line2d_2\">\n      <path d=\"M 228.926071 411.917812 \nL 228.926071 23.837812 \n\" clip-path=\"url(#p88c8ed0943)\" style=\"fill: none; stroke: #cccccc; stroke-width: 0.8; stroke-linecap: round\"/>\n     </g>\n     <g id=\"text_2\">\n      <!-- hypertension -->\n      <g style=\"fill: #262626\" transform=\"translate(231.685446 484.64125) rotate(-90) scale(0.1 -0.1)\">\n       <defs>\n        <path id=\"DejaVuSans-68\" d=\"M 3513 2113 \nL 3513 0 \nL 2938 0 \nL 2938 2094 \nQ 2938 2591 2744 2837 \nQ 2550 3084 2163 3084 \nQ 1697 3084 1428 2787 \nQ 1159 2491 1159 1978 \nL 1159 0 \nL 581 0 \nL 581 4863 \nL 1159 4863 \nL 1159 2956 \nQ 1366 3272 1645 3428 \nQ 1925 3584 2291 3584 \nQ 2894 3584 3203 3211 \nQ 3513 2838 3513 2113 \nz\n\" transform=\"scale(0.015625)\"/>\n        <path id=\"DejaVuSans-79\" d=\"M 2059 -325 \nQ 1816 -950 1584 -1140 \nQ 1353 -1331 966 -1331 \nL 506 -1331 \nL 506 -850 \nL 844 -850 \nQ 1081 -850 1212 -737 \nQ 1344 -625 1503 -206 \nL 1606 56 \nL 191 3500 \nL 800 3500 \nL 1894 763 \nL 2988 3500 \nL 3597 3500 \nL 2059 -325 \nz\n\" transform=\"scale(0.015625)\"/>\n        <path id=\"DejaVuSans-70\" d=\"M 1159 525 \nL 1159 -1331 \nL 581 -1331 \nL 581 3500 \nL 1159 3500 \nL 1159 2969 \nQ 1341 3281 1617 3432 \nQ 1894 3584 2278 3584 \nQ 2916 3584 3314 3078 \nQ 3713 2572 3713 1747 \nQ 3713 922 3314 415 \nQ 2916 -91 2278 -91 \nQ 1894 -91 1617 61 \nQ 1341 213 1159 525 \nz\nM 3116 1747 \nQ 3116 2381 2855 2742 \nQ 2594 3103 2138 3103 \nQ 1681 3103 1420 2742 \nQ 1159 2381 1159 1747 \nQ 1159 1113 1420 752 \nQ 1681 391 2138 391 \nQ 2594 391 2855 752 \nQ 3116 1113 3116 1747 \nz\n\" transform=\"scale(0.015625)\"/>\n        <path id=\"DejaVuSans-72\" d=\"M 2631 2963 \nQ 2534 3019 2420 3045 \nQ 2306 3072 2169 3072 \nQ 1681 3072 1420 2755 \nQ 1159 2438 1159 1844 \nL 1159 0 \nL 581 0 \nL 581 3500 \nL 1159 3500 \nL 1159 2956 \nQ 1341 3275 1631 3429 \nQ 1922 3584 2338 3584 \nQ 2397 3584 2469 3576 \nQ 2541 3569 2628 3553 \nL 2631 2963 \nz\n\" transform=\"scale(0.015625)\"/>\n        <path id=\"DejaVuSans-74\" d=\"M 1172 4494 \nL 1172 3500 \nL 2356 3500 \nL 2356 3053 \nL 1172 3053 \nL 1172 1153 \nQ 1172 725 1289 603 \nQ 1406 481 1766 481 \nL 2356 481 \nL 2356 0 \nL 1766 0 \nQ 1100 0 847 248 \nQ 594 497 594 1153 \nL 594 3053 \nL 172 3053 \nL 172 3500 \nL 594 3500 \nL 594 4494 \nL 1172 4494 \nz\n\" transform=\"scale(0.015625)\"/>\n        <path id=\"DejaVuSans-6e\" d=\"M 3513 2113 \nL 3513 0 \nL 2938 0 \nL 2938 2094 \nQ 2938 2591 2744 2837 \nQ 2550 3084 2163 3084 \nQ 1697 3084 1428 2787 \nQ 1159 2491 1159 1978 \nL 1159 0 \nL 581 0 \nL 581 3500 \nL 1159 3500 \nL 1159 2956 \nQ 1366 3272 1645 3428 \nQ 1925 3584 2291 3584 \nQ 2894 3584 3203 3211 \nQ 3513 2838 3513 2113 \nz\n\" transform=\"scale(0.015625)\"/>\n        <path id=\"DejaVuSans-73\" d=\"M 2834 3397 \nL 2834 2853 \nQ 2591 2978 2328 3040 \nQ 2066 3103 1784 3103 \nQ 1356 3103 1142 2972 \nQ 928 2841 928 2578 \nQ 928 2378 1081 2264 \nQ 1234 2150 1697 2047 \nL 1894 2003 \nQ 2506 1872 2764 1633 \nQ 3022 1394 3022 966 \nQ 3022 478 2636 193 \nQ 2250 -91 1575 -91 \nQ 1294 -91 989 -36 \nQ 684 19 347 128 \nL 347 722 \nQ 666 556 975 473 \nQ 1284 391 1588 391 \nQ 1994 391 2212 530 \nQ 2431 669 2431 922 \nQ 2431 1156 2273 1281 \nQ 2116 1406 1581 1522 \nL 1381 1569 \nQ 847 1681 609 1914 \nQ 372 2147 372 2553 \nQ 372 3047 722 3315 \nQ 1072 3584 1716 3584 \nQ 2034 3584 2315 3537 \nQ 2597 3491 2834 3397 \nz\n\" transform=\"scale(0.015625)\"/>\n        <path id=\"DejaVuSans-69\" d=\"M 603 3500 \nL 1178 3500 \nL 1178 0 \nL 603 0 \nL 603 3500 \nz\nM 603 4863 \nL 1178 4863 \nL 1178 4134 \nL 603 4134 \nL 603 4863 \nz\n\" transform=\"scale(0.015625)\"/>\n        <path id=\"DejaVuSans-6f\" d=\"M 1959 3097 \nQ 1497 3097 1228 2736 \nQ 959 2375 959 1747 \nQ 959 1119 1226 758 \nQ 1494 397 1959 397 \nQ 2419 397 2687 759 \nQ 2956 1122 2956 1747 \nQ 2956 2369 2687 2733 \nQ 2419 3097 1959 3097 \nz\nM 1959 3584 \nQ 2709 3584 3137 3096 \nQ 3566 2609 3566 1747 \nQ 3566 888 3137 398 \nQ 2709 -91 1959 -91 \nQ 1206 -91 779 398 \nQ 353 888 353 1747 \nQ 353 2609 779 3096 \nQ 1206 3584 1959 3584 \nz\n\" transform=\"scale(0.015625)\"/>\n       </defs>\n       <use xlink:href=\"#DejaVuSans-68\"/>\n       <use xlink:href=\"#DejaVuSans-79\" x=\"63.378906\"/>\n       <use xlink:href=\"#DejaVuSans-70\" x=\"122.558594\"/>\n       <use xlink:href=\"#DejaVuSans-65\" x=\"186.035156\"/>\n       <use xlink:href=\"#DejaVuSans-72\" x=\"247.558594\"/>\n       <use xlink:href=\"#DejaVuSans-74\" x=\"288.671875\"/>\n       <use xlink:href=\"#DejaVuSans-65\" x=\"327.880859\"/>\n       <use xlink:href=\"#DejaVuSans-6e\" x=\"389.404297\"/>\n       <use xlink:href=\"#DejaVuSans-73\" x=\"452.783203\"/>\n       <use xlink:href=\"#DejaVuSans-69\" x=\"504.882812\"/>\n       <use xlink:href=\"#DejaVuSans-6f\" x=\"532.666016\"/>\n       <use xlink:href=\"#DejaVuSans-6e\" x=\"593.847656\"/>\n      </g>\n     </g>\n    </g>\n    <g id=\"xtick_3\">\n     <g id=\"line2d_3\">\n      <path d=\"M 305.451786 411.917812 \nL 305.451786 23.837812 \n\" clip-path=\"url(#p88c8ed0943)\" style=\"fill: none; stroke: #cccccc; stroke-width: 0.8; stroke-linecap: round\"/>\n     </g>\n     <g id=\"text_3\">\n      <!-- heart_disease -->\n      <g style=\"fill: #262626\" transform=\"translate(308.072098 488.5475) rotate(-90) scale(0.1 -0.1)\">\n       <defs>\n        <path id=\"DejaVuSans-5f\" d=\"M 3263 -1063 \nL 3263 -1509 \nL -63 -1509 \nL -63 -1063 \nL 3263 -1063 \nz\n\" transform=\"scale(0.015625)\"/>\n        <path id=\"DejaVuSans-64\" d=\"M 2906 2969 \nL 2906 4863 \nL 3481 4863 \nL 3481 0 \nL 2906 0 \nL 2906 525 \nQ 2725 213 2448 61 \nQ 2172 -91 1784 -91 \nQ 1150 -91 751 415 \nQ 353 922 353 1747 \nQ 353 2572 751 3078 \nQ 1150 3584 1784 3584 \nQ 2172 3584 2448 3432 \nQ 2725 3281 2906 2969 \nz\nM 947 1747 \nQ 947 1113 1208 752 \nQ 1469 391 1925 391 \nQ 2381 391 2643 752 \nQ 2906 1113 2906 1747 \nQ 2906 2381 2643 2742 \nQ 2381 3103 1925 3103 \nQ 1469 3103 1208 2742 \nQ 947 2381 947 1747 \nz\n\" transform=\"scale(0.015625)\"/>\n       </defs>\n       <use xlink:href=\"#DejaVuSans-68\"/>\n       <use xlink:href=\"#DejaVuSans-65\" x=\"63.378906\"/>\n       <use xlink:href=\"#DejaVuSans-61\" x=\"124.902344\"/>\n       <use xlink:href=\"#DejaVuSans-72\" x=\"186.181641\"/>\n       <use xlink:href=\"#DejaVuSans-74\" x=\"227.294922\"/>\n       <use xlink:href=\"#DejaVuSans-5f\" x=\"266.503906\"/>\n       <use xlink:href=\"#DejaVuSans-64\" x=\"316.503906\"/>\n       <use xlink:href=\"#DejaVuSans-69\" x=\"379.980469\"/>\n       <use xlink:href=\"#DejaVuSans-73\" x=\"407.763672\"/>\n       <use xlink:href=\"#DejaVuSans-65\" x=\"459.863281\"/>\n       <use xlink:href=\"#DejaVuSans-61\" x=\"521.386719\"/>\n       <use xlink:href=\"#DejaVuSans-73\" x=\"582.666016\"/>\n       <use xlink:href=\"#DejaVuSans-65\" x=\"634.765625\"/>\n      </g>\n     </g>\n    </g>\n    <g id=\"xtick_4\">\n     <g id=\"line2d_4\">\n      <path d=\"M 381.9775 411.917812 \nL 381.9775 23.837812 \n\" clip-path=\"url(#p88c8ed0943)\" style=\"fill: none; stroke: #cccccc; stroke-width: 0.8; stroke-linecap: round\"/>\n     </g>\n     <g id=\"text_4\">\n      <!-- bmi -->\n      <g style=\"fill: #262626\" transform=\"translate(384.736875 437.785) rotate(-90) scale(0.1 -0.1)\">\n       <defs>\n        <path id=\"DejaVuSans-62\" d=\"M 3116 1747 \nQ 3116 2381 2855 2742 \nQ 2594 3103 2138 3103 \nQ 1681 3103 1420 2742 \nQ 1159 2381 1159 1747 \nQ 1159 1113 1420 752 \nQ 1681 391 2138 391 \nQ 2594 391 2855 752 \nQ 3116 1113 3116 1747 \nz\nM 1159 2969 \nQ 1341 3281 1617 3432 \nQ 1894 3584 2278 3584 \nQ 2916 3584 3314 3078 \nQ 3713 2572 3713 1747 \nQ 3713 922 3314 415 \nQ 2916 -91 2278 -91 \nQ 1894 -91 1617 61 \nQ 1341 213 1159 525 \nL 1159 0 \nL 581 0 \nL 581 4863 \nL 1159 4863 \nL 1159 2969 \nz\n\" transform=\"scale(0.015625)\"/>\n        <path id=\"DejaVuSans-6d\" d=\"M 3328 2828 \nQ 3544 3216 3844 3400 \nQ 4144 3584 4550 3584 \nQ 5097 3584 5394 3201 \nQ 5691 2819 5691 2113 \nL 5691 0 \nL 5113 0 \nL 5113 2094 \nQ 5113 2597 4934 2840 \nQ 4756 3084 4391 3084 \nQ 3944 3084 3684 2787 \nQ 3425 2491 3425 1978 \nL 3425 0 \nL 2847 0 \nL 2847 2094 \nQ 2847 2600 2669 2842 \nQ 2491 3084 2119 3084 \nQ 1678 3084 1418 2786 \nQ 1159 2488 1159 1978 \nL 1159 0 \nL 581 0 \nL 581 3500 \nL 1159 3500 \nL 1159 2956 \nQ 1356 3278 1631 3431 \nQ 1906 3584 2284 3584 \nQ 2666 3584 2933 3390 \nQ 3200 3197 3328 2828 \nz\n\" transform=\"scale(0.015625)\"/>\n       </defs>\n       <use xlink:href=\"#DejaVuSans-62\"/>\n       <use xlink:href=\"#DejaVuSans-6d\" x=\"63.476562\"/>\n       <use xlink:href=\"#DejaVuSans-69\" x=\"160.888672\"/>\n      </g>\n     </g>\n    </g>\n    <g id=\"xtick_5\">\n     <g id=\"line2d_5\">\n      <path d=\"M 458.503214 411.917812 \nL 458.503214 23.837812 \n\" clip-path=\"url(#p88c8ed0943)\" style=\"fill: none; stroke: #cccccc; stroke-width: 0.8; stroke-linecap: round\"/>\n     </g>\n     <g id=\"text_5\">\n      <!-- HbA1c_level -->\n      <g style=\"fill: #262626\" transform=\"translate(461.123527 480.269375) rotate(-90) scale(0.1 -0.1)\">\n       <defs>\n        <path id=\"DejaVuSans-48\" d=\"M 628 4666 \nL 1259 4666 \nL 1259 2753 \nL 3553 2753 \nL 3553 4666 \nL 4184 4666 \nL 4184 0 \nL 3553 0 \nL 3553 2222 \nL 1259 2222 \nL 1259 0 \nL 628 0 \nL 628 4666 \nz\n\" transform=\"scale(0.015625)\"/>\n        <path id=\"DejaVuSans-41\" d=\"M 2188 4044 \nL 1331 1722 \nL 3047 1722 \nL 2188 4044 \nz\nM 1831 4666 \nL 2547 4666 \nL 4325 0 \nL 3669 0 \nL 3244 1197 \nL 1141 1197 \nL 716 0 \nL 50 0 \nL 1831 4666 \nz\n\" transform=\"scale(0.015625)\"/>\n        <path id=\"DejaVuSans-31\" d=\"M 794 531 \nL 1825 531 \nL 1825 4091 \nL 703 3866 \nL 703 4441 \nL 1819 4666 \nL 2450 4666 \nL 2450 531 \nL 3481 531 \nL 3481 0 \nL 794 0 \nL 794 531 \nz\n\" transform=\"scale(0.015625)\"/>\n        <path id=\"DejaVuSans-63\" d=\"M 3122 3366 \nL 3122 2828 \nQ 2878 2963 2633 3030 \nQ 2388 3097 2138 3097 \nQ 1578 3097 1268 2742 \nQ 959 2388 959 1747 \nQ 959 1106 1268 751 \nQ 1578 397 2138 397 \nQ 2388 397 2633 464 \nQ 2878 531 3122 666 \nL 3122 134 \nQ 2881 22 2623 -34 \nQ 2366 -91 2075 -91 \nQ 1284 -91 818 406 \nQ 353 903 353 1747 \nQ 353 2603 823 3093 \nQ 1294 3584 2113 3584 \nQ 2378 3584 2631 3529 \nQ 2884 3475 3122 3366 \nz\n\" transform=\"scale(0.015625)\"/>\n        <path id=\"DejaVuSans-6c\" d=\"M 603 4863 \nL 1178 4863 \nL 1178 0 \nL 603 0 \nL 603 4863 \nz\n\" transform=\"scale(0.015625)\"/>\n        <path id=\"DejaVuSans-76\" d=\"M 191 3500 \nL 800 3500 \nL 1894 563 \nL 2988 3500 \nL 3597 3500 \nL 2284 0 \nL 1503 0 \nL 191 3500 \nz\n\" transform=\"scale(0.015625)\"/>\n       </defs>\n       <use xlink:href=\"#DejaVuSans-48\"/>\n       <use xlink:href=\"#DejaVuSans-62\" x=\"75.195312\"/>\n       <use xlink:href=\"#DejaVuSans-41\" x=\"138.671875\"/>\n       <use xlink:href=\"#DejaVuSans-31\" x=\"207.080078\"/>\n       <use xlink:href=\"#DejaVuSans-63\" x=\"270.703125\"/>\n       <use xlink:href=\"#DejaVuSans-5f\" x=\"325.683594\"/>\n       <use xlink:href=\"#DejaVuSans-6c\" x=\"375.683594\"/>\n       <use xlink:href=\"#DejaVuSans-65\" x=\"403.466797\"/>\n       <use xlink:href=\"#DejaVuSans-76\" x=\"464.990234\"/>\n       <use xlink:href=\"#DejaVuSans-65\" x=\"524.169922\"/>\n       <use xlink:href=\"#DejaVuSans-6c\" x=\"585.693359\"/>\n      </g>\n     </g>\n    </g>\n    <g id=\"xtick_6\">\n     <g id=\"line2d_6\">\n      <path d=\"M 535.028929 411.917812 \nL 535.028929 23.837812 \n\" clip-path=\"url(#p88c8ed0943)\" style=\"fill: none; stroke: #cccccc; stroke-width: 0.8; stroke-linecap: round\"/>\n     </g>\n     <g id=\"text_6\">\n      <!-- blood_glucose_level -->\n      <g style=\"fill: #262626\" transform=\"translate(537.649241 518.855312) rotate(-90) scale(0.1 -0.1)\">\n       <defs>\n        <path id=\"DejaVuSans-75\" d=\"M 544 1381 \nL 544 3500 \nL 1119 3500 \nL 1119 1403 \nQ 1119 906 1312 657 \nQ 1506 409 1894 409 \nQ 2359 409 2629 706 \nQ 2900 1003 2900 1516 \nL 2900 3500 \nL 3475 3500 \nL 3475 0 \nL 2900 0 \nL 2900 538 \nQ 2691 219 2414 64 \nQ 2138 -91 1772 -91 \nQ 1169 -91 856 284 \nQ 544 659 544 1381 \nz\nM 1991 3584 \nL 1991 3584 \nz\n\" transform=\"scale(0.015625)\"/>\n       </defs>\n       <use xlink:href=\"#DejaVuSans-62\"/>\n       <use xlink:href=\"#DejaVuSans-6c\" x=\"63.476562\"/>\n       <use xlink:href=\"#DejaVuSans-6f\" x=\"91.259766\"/>\n       <use xlink:href=\"#DejaVuSans-6f\" x=\"152.441406\"/>\n       <use xlink:href=\"#DejaVuSans-64\" x=\"213.623047\"/>\n       <use xlink:href=\"#DejaVuSans-5f\" x=\"277.099609\"/>\n       <use xlink:href=\"#DejaVuSans-67\" x=\"327.099609\"/>\n       <use xlink:href=\"#DejaVuSans-6c\" x=\"390.576172\"/>\n       <use xlink:href=\"#DejaVuSans-75\" x=\"418.359375\"/>\n       <use xlink:href=\"#DejaVuSans-63\" x=\"481.738281\"/>\n       <use xlink:href=\"#DejaVuSans-6f\" x=\"536.71875\"/>\n       <use xlink:href=\"#DejaVuSans-73\" x=\"597.900391\"/>\n       <use xlink:href=\"#DejaVuSans-65\" x=\"650\"/>\n       <use xlink:href=\"#DejaVuSans-5f\" x=\"711.523438\"/>\n       <use xlink:href=\"#DejaVuSans-6c\" x=\"761.523438\"/>\n       <use xlink:href=\"#DejaVuSans-65\" x=\"789.306641\"/>\n       <use xlink:href=\"#DejaVuSans-76\" x=\"850.830078\"/>\n       <use xlink:href=\"#DejaVuSans-65\" x=\"910.009766\"/>\n       <use xlink:href=\"#DejaVuSans-6c\" x=\"971.533203\"/>\n      </g>\n     </g>\n    </g>\n    <g id=\"xtick_7\">\n     <g id=\"line2d_7\">\n      <path d=\"M 611.554643 411.917812 \nL 611.554643 23.837812 \n\" clip-path=\"url(#p88c8ed0943)\" style=\"fill: none; stroke: #cccccc; stroke-width: 0.8; stroke-linecap: round\"/>\n     </g>\n     <g id=\"text_7\">\n      <!-- diabetes -->\n      <g style=\"fill: #262626\" transform=\"translate(614.314018 461.956875) rotate(-90) scale(0.1 -0.1)\">\n       <use xlink:href=\"#DejaVuSans-64\"/>\n       <use xlink:href=\"#DejaVuSans-69\" x=\"63.476562\"/>\n       <use xlink:href=\"#DejaVuSans-61\" x=\"91.259766\"/>\n       <use xlink:href=\"#DejaVuSans-62\" x=\"152.539062\"/>\n       <use xlink:href=\"#DejaVuSans-65\" x=\"216.015625\"/>\n       <use xlink:href=\"#DejaVuSans-74\" x=\"277.539062\"/>\n       <use xlink:href=\"#DejaVuSans-65\" x=\"316.748047\"/>\n       <use xlink:href=\"#DejaVuSans-73\" x=\"378.271484\"/>\n      </g>\n     </g>\n    </g>\n   </g>\n   <g id=\"matplotlib.axis_2\">\n    <g id=\"ytick_1\">\n     <g id=\"line2d_8\">\n      <path d=\"M 114.1375 51.557812 \nL 649.8175 51.557812 \n\" clip-path=\"url(#p88c8ed0943)\" style=\"fill: none; stroke: #cccccc; stroke-width: 0.8; stroke-linecap: round\"/>\n     </g>\n     <g id=\"text_8\">\n      <!-- age -->\n      <g style=\"fill: #262626\" transform=\"translate(88.507812 54.317187) scale(0.1 -0.1)\">\n       <use xlink:href=\"#DejaVuSans-61\"/>\n       <use xlink:href=\"#DejaVuSans-67\" x=\"61.279297\"/>\n       <use xlink:href=\"#DejaVuSans-65\" x=\"124.755859\"/>\n      </g>\n     </g>\n    </g>\n    <g id=\"ytick_2\">\n     <g id=\"line2d_9\">\n      <path d=\"M 114.1375 106.997812 \nL 649.8175 106.997812 \n\" clip-path=\"url(#p88c8ed0943)\" style=\"fill: none; stroke: #cccccc; stroke-width: 0.8; stroke-linecap: round\"/>\n     </g>\n     <g id=\"text_9\">\n      <!-- hypertension -->\n      <g style=\"fill: #262626\" transform=\"translate(41.414062 109.757187) scale(0.1 -0.1)\">\n       <use xlink:href=\"#DejaVuSans-68\"/>\n       <use xlink:href=\"#DejaVuSans-79\" x=\"63.378906\"/>\n       <use xlink:href=\"#DejaVuSans-70\" x=\"122.558594\"/>\n       <use xlink:href=\"#DejaVuSans-65\" x=\"186.035156\"/>\n       <use xlink:href=\"#DejaVuSans-72\" x=\"247.558594\"/>\n       <use xlink:href=\"#DejaVuSans-74\" x=\"288.671875\"/>\n       <use xlink:href=\"#DejaVuSans-65\" x=\"327.880859\"/>\n       <use xlink:href=\"#DejaVuSans-6e\" x=\"389.404297\"/>\n       <use xlink:href=\"#DejaVuSans-73\" x=\"452.783203\"/>\n       <use xlink:href=\"#DejaVuSans-69\" x=\"504.882812\"/>\n       <use xlink:href=\"#DejaVuSans-6f\" x=\"532.666016\"/>\n       <use xlink:href=\"#DejaVuSans-6e\" x=\"593.847656\"/>\n      </g>\n     </g>\n    </g>\n    <g id=\"ytick_3\">\n     <g id=\"line2d_10\">\n      <path d=\"M 114.1375 162.437812 \nL 649.8175 162.437812 \n\" clip-path=\"url(#p88c8ed0943)\" style=\"fill: none; stroke: #cccccc; stroke-width: 0.8; stroke-linecap: round\"/>\n     </g>\n     <g id=\"text_10\">\n      <!-- heart_disease -->\n      <g style=\"fill: #262626\" transform=\"translate(37.507812 165.058125) scale(0.1 -0.1)\">\n       <use xlink:href=\"#DejaVuSans-68\"/>\n       <use xlink:href=\"#DejaVuSans-65\" x=\"63.378906\"/>\n       <use xlink:href=\"#DejaVuSans-61\" x=\"124.902344\"/>\n       <use xlink:href=\"#DejaVuSans-72\" x=\"186.181641\"/>\n       <use xlink:href=\"#DejaVuSans-74\" x=\"227.294922\"/>\n       <use xlink:href=\"#DejaVuSans-5f\" x=\"266.503906\"/>\n       <use xlink:href=\"#DejaVuSans-64\" x=\"316.503906\"/>\n       <use xlink:href=\"#DejaVuSans-69\" x=\"379.980469\"/>\n       <use xlink:href=\"#DejaVuSans-73\" x=\"407.763672\"/>\n       <use xlink:href=\"#DejaVuSans-65\" x=\"459.863281\"/>\n       <use xlink:href=\"#DejaVuSans-61\" x=\"521.386719\"/>\n       <use xlink:href=\"#DejaVuSans-73\" x=\"582.666016\"/>\n       <use xlink:href=\"#DejaVuSans-65\" x=\"634.765625\"/>\n      </g>\n     </g>\n    </g>\n    <g id=\"ytick_4\">\n     <g id=\"line2d_11\">\n      <path d=\"M 114.1375 217.877812 \nL 649.8175 217.877812 \n\" clip-path=\"url(#p88c8ed0943)\" style=\"fill: none; stroke: #cccccc; stroke-width: 0.8; stroke-linecap: round\"/>\n     </g>\n     <g id=\"text_11\">\n      <!-- bmi -->\n      <g style=\"fill: #262626\" transform=\"translate(88.270313 220.637187) scale(0.1 -0.1)\">\n       <use xlink:href=\"#DejaVuSans-62\"/>\n       <use xlink:href=\"#DejaVuSans-6d\" x=\"63.476562\"/>\n       <use xlink:href=\"#DejaVuSans-69\" x=\"160.888672\"/>\n      </g>\n     </g>\n    </g>\n    <g id=\"ytick_5\">\n     <g id=\"line2d_12\">\n      <path d=\"M 114.1375 273.317812 \nL 649.8175 273.317812 \n\" clip-path=\"url(#p88c8ed0943)\" style=\"fill: none; stroke: #cccccc; stroke-width: 0.8; stroke-linecap: round\"/>\n     </g>\n     <g id=\"text_12\">\n      <!-- HbA1c_level -->\n      <g style=\"fill: #262626\" transform=\"translate(45.785938 275.938125) scale(0.1 -0.1)\">\n       <use xlink:href=\"#DejaVuSans-48\"/>\n       <use xlink:href=\"#DejaVuSans-62\" x=\"75.195312\"/>\n       <use xlink:href=\"#DejaVuSans-41\" x=\"138.671875\"/>\n       <use xlink:href=\"#DejaVuSans-31\" x=\"207.080078\"/>\n       <use xlink:href=\"#DejaVuSans-63\" x=\"270.703125\"/>\n       <use xlink:href=\"#DejaVuSans-5f\" x=\"325.683594\"/>\n       <use xlink:href=\"#DejaVuSans-6c\" x=\"375.683594\"/>\n       <use xlink:href=\"#DejaVuSans-65\" x=\"403.466797\"/>\n       <use xlink:href=\"#DejaVuSans-76\" x=\"464.990234\"/>\n       <use xlink:href=\"#DejaVuSans-65\" x=\"524.169922\"/>\n       <use xlink:href=\"#DejaVuSans-6c\" x=\"585.693359\"/>\n      </g>\n     </g>\n    </g>\n    <g id=\"ytick_6\">\n     <g id=\"line2d_13\">\n      <path d=\"M 114.1375 328.757812 \nL 649.8175 328.757812 \n\" clip-path=\"url(#p88c8ed0943)\" style=\"fill: none; stroke: #cccccc; stroke-width: 0.8; stroke-linecap: round\"/>\n     </g>\n     <g id=\"text_13\">\n      <!-- blood_glucose_level -->\n      <g style=\"fill: #262626\" transform=\"translate(7.2 331.378125) scale(0.1 -0.1)\">\n       <use xlink:href=\"#DejaVuSans-62\"/>\n       <use xlink:href=\"#DejaVuSans-6c\" x=\"63.476562\"/>\n       <use xlink:href=\"#DejaVuSans-6f\" x=\"91.259766\"/>\n       <use xlink:href=\"#DejaVuSans-6f\" x=\"152.441406\"/>\n       <use xlink:href=\"#DejaVuSans-64\" x=\"213.623047\"/>\n       <use xlink:href=\"#DejaVuSans-5f\" x=\"277.099609\"/>\n       <use xlink:href=\"#DejaVuSans-67\" x=\"327.099609\"/>\n       <use xlink:href=\"#DejaVuSans-6c\" x=\"390.576172\"/>\n       <use xlink:href=\"#DejaVuSans-75\" x=\"418.359375\"/>\n       <use xlink:href=\"#DejaVuSans-63\" x=\"481.738281\"/>\n       <use xlink:href=\"#DejaVuSans-6f\" x=\"536.71875\"/>\n       <use xlink:href=\"#DejaVuSans-73\" x=\"597.900391\"/>\n       <use xlink:href=\"#DejaVuSans-65\" x=\"650\"/>\n       <use xlink:href=\"#DejaVuSans-5f\" x=\"711.523438\"/>\n       <use xlink:href=\"#DejaVuSans-6c\" x=\"761.523438\"/>\n       <use xlink:href=\"#DejaVuSans-65\" x=\"789.306641\"/>\n       <use xlink:href=\"#DejaVuSans-76\" x=\"850.830078\"/>\n       <use xlink:href=\"#DejaVuSans-65\" x=\"910.009766\"/>\n       <use xlink:href=\"#DejaVuSans-6c\" x=\"971.533203\"/>\n      </g>\n     </g>\n    </g>\n    <g id=\"ytick_7\">\n     <g id=\"line2d_14\">\n      <path d=\"M 114.1375 384.197812 \nL 649.8175 384.197812 \n\" clip-path=\"url(#p88c8ed0943)\" style=\"fill: none; stroke: #cccccc; stroke-width: 0.8; stroke-linecap: round\"/>\n     </g>\n     <g id=\"text_14\">\n      <!-- diabetes -->\n      <g style=\"fill: #262626\" transform=\"translate(64.098438 386.957187) scale(0.1 -0.1)\">\n       <use xlink:href=\"#DejaVuSans-64\"/>\n       <use xlink:href=\"#DejaVuSans-69\" x=\"63.476562\"/>\n       <use xlink:href=\"#DejaVuSans-61\" x=\"91.259766\"/>\n       <use xlink:href=\"#DejaVuSans-62\" x=\"152.539062\"/>\n       <use xlink:href=\"#DejaVuSans-65\" x=\"216.015625\"/>\n       <use xlink:href=\"#DejaVuSans-74\" x=\"277.539062\"/>\n       <use xlink:href=\"#DejaVuSans-65\" x=\"316.748047\"/>\n       <use xlink:href=\"#DejaVuSans-73\" x=\"378.271484\"/>\n      </g>\n     </g>\n    </g>\n   </g>\n   <g id=\"QuadMesh_1\">\n    <path d=\"M 114.1375 23.837812 \nL 190.663214 23.837812 \nL 190.663214 79.277812 \nL 114.1375 79.277812 \nL 114.1375 23.837812 \n\" clip-path=\"url(#p88c8ed0943)\" style=\"fill: #b40426\"/>\n    <path d=\"M 190.663214 23.837812 \nL 267.188929 23.837812 \nL 267.188929 79.277812 \nL 190.663214 79.277812 \nL 190.663214 23.837812 \n\" clip-path=\"url(#p88c8ed0943)\" style=\"fill: #7ea1fa\"/>\n    <path d=\"M 267.188929 23.837812 \nL 343.714643 23.837812 \nL 343.714643 79.277812 \nL 267.188929 79.277812 \nL 267.188929 23.837812 \n\" clip-path=\"url(#p88c8ed0943)\" style=\"fill: #779af7\"/>\n    <path d=\"M 343.714643 23.837812 \nL 420.240357 23.837812 \nL 420.240357 79.277812 \nL 343.714643 79.277812 \nL 343.714643 23.837812 \n\" clip-path=\"url(#p88c8ed0943)\" style=\"fill: #9fbfff\"/>\n    <path d=\"M 420.240357 23.837812 \nL 496.766071 23.837812 \nL 496.766071 79.277812 \nL 420.240357 79.277812 \nL 420.240357 23.837812 \n\" clip-path=\"url(#p88c8ed0943)\" style=\"fill: #4961d2\"/>\n    <path d=\"M 496.766071 23.837812 \nL 573.291786 23.837812 \nL 573.291786 79.277812 \nL 496.766071 79.277812 \nL 496.766071 23.837812 \n\" clip-path=\"url(#p88c8ed0943)\" style=\"fill: #4b64d5\"/>\n    <path d=\"M 573.291786 23.837812 \nL 649.8175 23.837812 \nL 649.8175 79.277812 \nL 573.291786 79.277812 \nL 573.291786 23.837812 \n\" clip-path=\"url(#p88c8ed0943)\" style=\"fill: #81a4fb\"/>\n    <path d=\"M 114.1375 79.277812 \nL 190.663214 79.277812 \nL 190.663214 134.717812 \nL 114.1375 134.717812 \nL 114.1375 79.277812 \n\" clip-path=\"url(#p88c8ed0943)\" style=\"fill: #7ea1fa\"/>\n    <path d=\"M 190.663214 79.277812 \nL 267.188929 79.277812 \nL 267.188929 134.717812 \nL 190.663214 134.717812 \nL 190.663214 79.277812 \n\" clip-path=\"url(#p88c8ed0943)\" style=\"fill: #b40426\"/>\n    <path d=\"M 267.188929 79.277812 \nL 343.714643 79.277812 \nL 343.714643 134.717812 \nL 267.188929 134.717812 \nL 267.188929 79.277812 \n\" clip-path=\"url(#p88c8ed0943)\" style=\"fill: #4c66d6\"/>\n    <path d=\"M 343.714643 79.277812 \nL 420.240357 79.277812 \nL 420.240357 134.717812 \nL 343.714643 134.717812 \nL 343.714643 79.277812 \n\" clip-path=\"url(#p88c8ed0943)\" style=\"fill: #5673e0\"/>\n    <path d=\"M 420.240357 79.277812 \nL 496.766071 79.277812 \nL 496.766071 134.717812 \nL 420.240357 134.717812 \nL 420.240357 79.277812 \n\" clip-path=\"url(#p88c8ed0943)\" style=\"fill: #4055c8\"/>\n    <path d=\"M 496.766071 79.277812 \nL 573.291786 79.277812 \nL 573.291786 134.717812 \nL 496.766071 134.717812 \nL 496.766071 79.277812 \n\" clip-path=\"url(#p88c8ed0943)\" style=\"fill: #4257c9\"/>\n    <path d=\"M 573.291786 79.277812 \nL 649.8175 79.277812 \nL 649.8175 134.717812 \nL 573.291786 134.717812 \nL 573.291786 79.277812 \n\" clip-path=\"url(#p88c8ed0943)\" style=\"fill: #6788ee\"/>\n    <path d=\"M 114.1375 134.717812 \nL 190.663214 134.717812 \nL 190.663214 190.157812 \nL 114.1375 190.157812 \nL 114.1375 134.717812 \n\" clip-path=\"url(#p88c8ed0943)\" style=\"fill: #779af7\"/>\n    <path d=\"M 190.663214 134.717812 \nL 267.188929 134.717812 \nL 267.188929 190.157812 \nL 190.663214 190.157812 \nL 190.663214 134.717812 \n\" clip-path=\"url(#p88c8ed0943)\" style=\"fill: #4c66d6\"/>\n    <path d=\"M 267.188929 134.717812 \nL 343.714643 134.717812 \nL 343.714643 190.157812 \nL 267.188929 190.157812 \nL 267.188929 134.717812 \n\" clip-path=\"url(#p88c8ed0943)\" style=\"fill: #b40426\"/>\n    <path d=\"M 343.714643 134.717812 \nL 420.240357 134.717812 \nL 420.240357 190.157812 \nL 343.714643 190.157812 \nL 343.714643 134.717812 \n\" clip-path=\"url(#p88c8ed0943)\" style=\"fill: #3b4cc0\"/>\n    <path d=\"M 420.240357 134.717812 \nL 496.766071 134.717812 \nL 496.766071 190.157812 \nL 420.240357 190.157812 \nL 420.240357 134.717812 \n\" clip-path=\"url(#p88c8ed0943)\" style=\"fill: #3c4ec2\"/>\n    <path d=\"M 496.766071 134.717812 \nL 573.291786 134.717812 \nL 573.291786 190.157812 \nL 496.766071 190.157812 \nL 496.766071 134.717812 \n\" clip-path=\"url(#p88c8ed0943)\" style=\"fill: #3d50c3\"/>\n    <path d=\"M 573.291786 134.717812 \nL 649.8175 134.717812 \nL 649.8175 190.157812 \nL 573.291786 190.157812 \nL 573.291786 134.717812 \n\" clip-path=\"url(#p88c8ed0943)\" style=\"fill: #5e7de7\"/>\n    <path d=\"M 114.1375 190.157812 \nL 190.663214 190.157812 \nL 190.663214 245.597812 \nL 114.1375 245.597812 \nL 114.1375 190.157812 \n\" clip-path=\"url(#p88c8ed0943)\" style=\"fill: #9fbfff\"/>\n    <path d=\"M 190.663214 190.157812 \nL 267.188929 190.157812 \nL 267.188929 245.597812 \nL 190.663214 245.597812 \nL 190.663214 190.157812 \n\" clip-path=\"url(#p88c8ed0943)\" style=\"fill: #5673e0\"/>\n    <path d=\"M 267.188929 190.157812 \nL 343.714643 190.157812 \nL 343.714643 245.597812 \nL 267.188929 245.597812 \nL 267.188929 190.157812 \n\" clip-path=\"url(#p88c8ed0943)\" style=\"fill: #3b4cc0\"/>\n    <path d=\"M 343.714643 190.157812 \nL 420.240357 190.157812 \nL 420.240357 245.597812 \nL 343.714643 245.597812 \nL 343.714643 190.157812 \n\" clip-path=\"url(#p88c8ed0943)\" style=\"fill: #b40426\"/>\n    <path d=\"M 420.240357 190.157812 \nL 496.766071 190.157812 \nL 496.766071 245.597812 \nL 420.240357 245.597812 \nL 420.240357 190.157812 \n\" clip-path=\"url(#p88c8ed0943)\" style=\"fill: #4257c9\"/>\n    <path d=\"M 496.766071 190.157812 \nL 573.291786 190.157812 \nL 573.291786 245.597812 \nL 496.766071 245.597812 \nL 496.766071 190.157812 \n\" clip-path=\"url(#p88c8ed0943)\" style=\"fill: #445acc\"/>\n    <path d=\"M 573.291786 190.157812 \nL 649.8175 190.157812 \nL 649.8175 245.597812 \nL 573.291786 245.597812 \nL 573.291786 190.157812 \n\" clip-path=\"url(#p88c8ed0943)\" style=\"fill: #6e90f2\"/>\n    <path d=\"M 114.1375 245.597812 \nL 190.663214 245.597812 \nL 190.663214 301.037812 \nL 114.1375 301.037812 \nL 114.1375 245.597812 \n\" clip-path=\"url(#p88c8ed0943)\" style=\"fill: #4961d2\"/>\n    <path d=\"M 190.663214 245.597812 \nL 267.188929 245.597812 \nL 267.188929 301.037812 \nL 190.663214 301.037812 \nL 190.663214 245.597812 \n\" clip-path=\"url(#p88c8ed0943)\" style=\"fill: #4055c8\"/>\n    <path d=\"M 267.188929 245.597812 \nL 343.714643 245.597812 \nL 343.714643 301.037812 \nL 267.188929 301.037812 \nL 267.188929 245.597812 \n\" clip-path=\"url(#p88c8ed0943)\" style=\"fill: #3c4ec2\"/>\n    <path d=\"M 343.714643 245.597812 \nL 420.240357 245.597812 \nL 420.240357 301.037812 \nL 343.714643 301.037812 \nL 343.714643 245.597812 \n\" clip-path=\"url(#p88c8ed0943)\" style=\"fill: #4257c9\"/>\n    <path d=\"M 420.240357 245.597812 \nL 496.766071 245.597812 \nL 496.766071 301.037812 \nL 420.240357 301.037812 \nL 420.240357 245.597812 \n\" clip-path=\"url(#p88c8ed0943)\" style=\"fill: #b40426\"/>\n    <path d=\"M 496.766071 245.597812 \nL 573.291786 245.597812 \nL 573.291786 301.037812 \nL 496.766071 301.037812 \nL 496.766071 245.597812 \n\" clip-path=\"url(#p88c8ed0943)\" style=\"fill: #5f7fe8\"/>\n    <path d=\"M 573.291786 245.597812 \nL 649.8175 245.597812 \nL 649.8175 301.037812 \nL 573.291786 301.037812 \nL 573.291786 245.597812 \n\" clip-path=\"url(#p88c8ed0943)\" style=\"fill: #b6cefa\"/>\n    <path d=\"M 114.1375 301.037812 \nL 190.663214 301.037812 \nL 190.663214 356.477812 \nL 114.1375 356.477812 \nL 114.1375 301.037812 \n\" clip-path=\"url(#p88c8ed0943)\" style=\"fill: #4b64d5\"/>\n    <path d=\"M 190.663214 301.037812 \nL 267.188929 301.037812 \nL 267.188929 356.477812 \nL 190.663214 356.477812 \nL 190.663214 301.037812 \n\" clip-path=\"url(#p88c8ed0943)\" style=\"fill: #4257c9\"/>\n    <path d=\"M 267.188929 301.037812 \nL 343.714643 301.037812 \nL 343.714643 356.477812 \nL 267.188929 356.477812 \nL 267.188929 301.037812 \n\" clip-path=\"url(#p88c8ed0943)\" style=\"fill: #3d50c3\"/>\n    <path d=\"M 343.714643 301.037812 \nL 420.240357 301.037812 \nL 420.240357 356.477812 \nL 343.714643 356.477812 \nL 343.714643 301.037812 \n\" clip-path=\"url(#p88c8ed0943)\" style=\"fill: #445acc\"/>\n    <path d=\"M 420.240357 301.037812 \nL 496.766071 301.037812 \nL 496.766071 356.477812 \nL 420.240357 356.477812 \nL 420.240357 301.037812 \n\" clip-path=\"url(#p88c8ed0943)\" style=\"fill: #5f7fe8\"/>\n    <path d=\"M 496.766071 301.037812 \nL 573.291786 301.037812 \nL 573.291786 356.477812 \nL 496.766071 356.477812 \nL 496.766071 301.037812 \n\" clip-path=\"url(#p88c8ed0943)\" style=\"fill: #b40426\"/>\n    <path d=\"M 573.291786 301.037812 \nL 649.8175 301.037812 \nL 649.8175 356.477812 \nL 573.291786 356.477812 \nL 573.291786 301.037812 \n\" clip-path=\"url(#p88c8ed0943)\" style=\"fill: #bbd1f8\"/>\n    <path d=\"M 114.1375 356.477812 \nL 190.663214 356.477812 \nL 190.663214 411.917812 \nL 114.1375 411.917812 \nL 114.1375 356.477812 \n\" clip-path=\"url(#p88c8ed0943)\" style=\"fill: #81a4fb\"/>\n    <path d=\"M 190.663214 356.477812 \nL 267.188929 356.477812 \nL 267.188929 411.917812 \nL 190.663214 411.917812 \nL 190.663214 356.477812 \n\" clip-path=\"url(#p88c8ed0943)\" style=\"fill: #6788ee\"/>\n    <path d=\"M 267.188929 356.477812 \nL 343.714643 356.477812 \nL 343.714643 411.917812 \nL 267.188929 411.917812 \nL 267.188929 356.477812 \n\" clip-path=\"url(#p88c8ed0943)\" style=\"fill: #5e7de7\"/>\n    <path d=\"M 343.714643 356.477812 \nL 420.240357 356.477812 \nL 420.240357 411.917812 \nL 343.714643 411.917812 \nL 343.714643 356.477812 \n\" clip-path=\"url(#p88c8ed0943)\" style=\"fill: #6e90f2\"/>\n    <path d=\"M 420.240357 356.477812 \nL 496.766071 356.477812 \nL 496.766071 411.917812 \nL 420.240357 411.917812 \nL 420.240357 356.477812 \n\" clip-path=\"url(#p88c8ed0943)\" style=\"fill: #b6cefa\"/>\n    <path d=\"M 496.766071 356.477812 \nL 573.291786 356.477812 \nL 573.291786 411.917812 \nL 496.766071 411.917812 \nL 496.766071 356.477812 \n\" clip-path=\"url(#p88c8ed0943)\" style=\"fill: #bbd1f8\"/>\n    <path d=\"M 573.291786 356.477812 \nL 649.8175 356.477812 \nL 649.8175 411.917812 \nL 573.291786 411.917812 \nL 573.291786 356.477812 \n\" clip-path=\"url(#p88c8ed0943)\" style=\"fill: #b40426\"/>\n   </g>\n   <g id=\"text_15\">\n    <!-- 1.0000 -->\n    <g style=\"fill: #ffffff\" transform=\"translate(134.905045 54.317187) scale(0.1 -0.1)\">\n     <defs>\n      <path id=\"DejaVuSans-2e\" d=\"M 684 794 \nL 1344 794 \nL 1344 0 \nL 684 0 \nL 684 794 \nz\n\" transform=\"scale(0.015625)\"/>\n      <path id=\"DejaVuSans-30\" d=\"M 2034 4250 \nQ 1547 4250 1301 3770 \nQ 1056 3291 1056 2328 \nQ 1056 1369 1301 889 \nQ 1547 409 2034 409 \nQ 2525 409 2770 889 \nQ 3016 1369 3016 2328 \nQ 3016 3291 2770 3770 \nQ 2525 4250 2034 4250 \nz\nM 2034 4750 \nQ 2819 4750 3233 4129 \nQ 3647 3509 3647 2328 \nQ 3647 1150 3233 529 \nQ 2819 -91 2034 -91 \nQ 1250 -91 836 529 \nQ 422 1150 422 2328 \nQ 422 3509 836 4129 \nQ 1250 4750 2034 4750 \nz\n\" transform=\"scale(0.015625)\"/>\n     </defs>\n     <use xlink:href=\"#DejaVuSans-31\"/>\n     <use xlink:href=\"#DejaVuSans-2e\" x=\"63.623047\"/>\n     <use xlink:href=\"#DejaVuSans-30\" x=\"95.410156\"/>\n     <use xlink:href=\"#DejaVuSans-30\" x=\"159.033203\"/>\n     <use xlink:href=\"#DejaVuSans-30\" x=\"222.65625\"/>\n     <use xlink:href=\"#DejaVuSans-30\" x=\"286.279297\"/>\n    </g>\n   </g>\n   <g id=\"text_16\">\n    <!-- 0.2573 -->\n    <g style=\"fill: #ffffff\" transform=\"translate(211.430759 54.317187) scale(0.1 -0.1)\">\n     <defs>\n      <path id=\"DejaVuSans-32\" d=\"M 1228 531 \nL 3431 531 \nL 3431 0 \nL 469 0 \nL 469 531 \nQ 828 903 1448 1529 \nQ 2069 2156 2228 2338 \nQ 2531 2678 2651 2914 \nQ 2772 3150 2772 3378 \nQ 2772 3750 2511 3984 \nQ 2250 4219 1831 4219 \nQ 1534 4219 1204 4116 \nQ 875 4013 500 3803 \nL 500 4441 \nQ 881 4594 1212 4672 \nQ 1544 4750 1819 4750 \nQ 2544 4750 2975 4387 \nQ 3406 4025 3406 3419 \nQ 3406 3131 3298 2873 \nQ 3191 2616 2906 2266 \nQ 2828 2175 2409 1742 \nQ 1991 1309 1228 531 \nz\n\" transform=\"scale(0.015625)\"/>\n      <path id=\"DejaVuSans-35\" d=\"M 691 4666 \nL 3169 4666 \nL 3169 4134 \nL 1269 4134 \nL 1269 2991 \nQ 1406 3038 1543 3061 \nQ 1681 3084 1819 3084 \nQ 2600 3084 3056 2656 \nQ 3513 2228 3513 1497 \nQ 3513 744 3044 326 \nQ 2575 -91 1722 -91 \nQ 1428 -91 1123 -41 \nQ 819 9 494 109 \nL 494 744 \nQ 775 591 1075 516 \nQ 1375 441 1709 441 \nQ 2250 441 2565 725 \nQ 2881 1009 2881 1497 \nQ 2881 1984 2565 2268 \nQ 2250 2553 1709 2553 \nQ 1456 2553 1204 2497 \nQ 953 2441 691 2322 \nL 691 4666 \nz\n\" transform=\"scale(0.015625)\"/>\n      <path id=\"DejaVuSans-37\" d=\"M 525 4666 \nL 3525 4666 \nL 3525 4397 \nL 1831 0 \nL 1172 0 \nL 2766 4134 \nL 525 4134 \nL 525 4666 \nz\n\" transform=\"scale(0.015625)\"/>\n      <path id=\"DejaVuSans-33\" d=\"M 2597 2516 \nQ 3050 2419 3304 2112 \nQ 3559 1806 3559 1356 \nQ 3559 666 3084 287 \nQ 2609 -91 1734 -91 \nQ 1441 -91 1130 -33 \nQ 819 25 488 141 \nL 488 750 \nQ 750 597 1062 519 \nQ 1375 441 1716 441 \nQ 2309 441 2620 675 \nQ 2931 909 2931 1356 \nQ 2931 1769 2642 2001 \nQ 2353 2234 1838 2234 \nL 1294 2234 \nL 1294 2753 \nL 1863 2753 \nQ 2328 2753 2575 2939 \nQ 2822 3125 2822 3475 \nQ 2822 3834 2567 4026 \nQ 2313 4219 1838 4219 \nQ 1578 4219 1281 4162 \nQ 984 4106 628 3988 \nL 628 4550 \nQ 988 4650 1302 4700 \nQ 1616 4750 1894 4750 \nQ 2613 4750 3031 4423 \nQ 3450 4097 3450 3541 \nQ 3450 3153 3228 2886 \nQ 3006 2619 2597 2516 \nz\n\" transform=\"scale(0.015625)\"/>\n     </defs>\n     <use xlink:href=\"#DejaVuSans-30\"/>\n     <use xlink:href=\"#DejaVuSans-2e\" x=\"63.623047\"/>\n     <use xlink:href=\"#DejaVuSans-32\" x=\"95.410156\"/>\n     <use xlink:href=\"#DejaVuSans-35\" x=\"159.033203\"/>\n     <use xlink:href=\"#DejaVuSans-37\" x=\"222.65625\"/>\n     <use xlink:href=\"#DejaVuSans-33\" x=\"286.279297\"/>\n    </g>\n   </g>\n   <g id=\"text_17\">\n    <!-- 0.2385 -->\n    <g style=\"fill: #ffffff\" transform=\"translate(287.956473 54.317187) scale(0.1 -0.1)\">\n     <defs>\n      <path id=\"DejaVuSans-38\" d=\"M 2034 2216 \nQ 1584 2216 1326 1975 \nQ 1069 1734 1069 1313 \nQ 1069 891 1326 650 \nQ 1584 409 2034 409 \nQ 2484 409 2743 651 \nQ 3003 894 3003 1313 \nQ 3003 1734 2745 1975 \nQ 2488 2216 2034 2216 \nz\nM 1403 2484 \nQ 997 2584 770 2862 \nQ 544 3141 544 3541 \nQ 544 4100 942 4425 \nQ 1341 4750 2034 4750 \nQ 2731 4750 3128 4425 \nQ 3525 4100 3525 3541 \nQ 3525 3141 3298 2862 \nQ 3072 2584 2669 2484 \nQ 3125 2378 3379 2068 \nQ 3634 1759 3634 1313 \nQ 3634 634 3220 271 \nQ 2806 -91 2034 -91 \nQ 1263 -91 848 271 \nQ 434 634 434 1313 \nQ 434 1759 690 2068 \nQ 947 2378 1403 2484 \nz\nM 1172 3481 \nQ 1172 3119 1398 2916 \nQ 1625 2713 2034 2713 \nQ 2441 2713 2670 2916 \nQ 2900 3119 2900 3481 \nQ 2900 3844 2670 4047 \nQ 2441 4250 2034 4250 \nQ 1625 4250 1398 4047 \nQ 1172 3844 1172 3481 \nz\n\" transform=\"scale(0.015625)\"/>\n     </defs>\n     <use xlink:href=\"#DejaVuSans-30\"/>\n     <use xlink:href=\"#DejaVuSans-2e\" x=\"63.623047\"/>\n     <use xlink:href=\"#DejaVuSans-32\" x=\"95.410156\"/>\n     <use xlink:href=\"#DejaVuSans-33\" x=\"159.033203\"/>\n     <use xlink:href=\"#DejaVuSans-38\" x=\"222.65625\"/>\n     <use xlink:href=\"#DejaVuSans-35\" x=\"286.279297\"/>\n    </g>\n   </g>\n   <g id=\"text_18\">\n    <!-- 0.3448 -->\n    <g style=\"fill: #262626\" transform=\"translate(364.482188 54.317187) scale(0.1 -0.1)\">\n     <defs>\n      <path id=\"DejaVuSans-34\" d=\"M 2419 4116 \nL 825 1625 \nL 2419 1625 \nL 2419 4116 \nz\nM 2253 4666 \nL 3047 4666 \nL 3047 1625 \nL 3713 1625 \nL 3713 1100 \nL 3047 1100 \nL 3047 0 \nL 2419 0 \nL 2419 1100 \nL 313 1100 \nL 313 1709 \nL 2253 4666 \nz\n\" transform=\"scale(0.015625)\"/>\n     </defs>\n     <use xlink:href=\"#DejaVuSans-30\"/>\n     <use xlink:href=\"#DejaVuSans-2e\" x=\"63.623047\"/>\n     <use xlink:href=\"#DejaVuSans-33\" x=\"95.410156\"/>\n     <use xlink:href=\"#DejaVuSans-34\" x=\"159.033203\"/>\n     <use xlink:href=\"#DejaVuSans-34\" x=\"222.65625\"/>\n     <use xlink:href=\"#DejaVuSans-38\" x=\"286.279297\"/>\n    </g>\n   </g>\n   <g id=\"text_19\">\n    <!-- 0.1067 -->\n    <g style=\"fill: #ffffff\" transform=\"translate(441.007902 54.317187) scale(0.1 -0.1)\">\n     <defs>\n      <path id=\"DejaVuSans-36\" d=\"M 2113 2584 \nQ 1688 2584 1439 2293 \nQ 1191 2003 1191 1497 \nQ 1191 994 1439 701 \nQ 1688 409 2113 409 \nQ 2538 409 2786 701 \nQ 3034 994 3034 1497 \nQ 3034 2003 2786 2293 \nQ 2538 2584 2113 2584 \nz\nM 3366 4563 \nL 3366 3988 \nQ 3128 4100 2886 4159 \nQ 2644 4219 2406 4219 \nQ 1781 4219 1451 3797 \nQ 1122 3375 1075 2522 \nQ 1259 2794 1537 2939 \nQ 1816 3084 2150 3084 \nQ 2853 3084 3261 2657 \nQ 3669 2231 3669 1497 \nQ 3669 778 3244 343 \nQ 2819 -91 2113 -91 \nQ 1303 -91 875 529 \nQ 447 1150 447 2328 \nQ 447 3434 972 4092 \nQ 1497 4750 2381 4750 \nQ 2619 4750 2861 4703 \nQ 3103 4656 3366 4563 \nz\n\" transform=\"scale(0.015625)\"/>\n     </defs>\n     <use xlink:href=\"#DejaVuSans-30\"/>\n     <use xlink:href=\"#DejaVuSans-2e\" x=\"63.623047\"/>\n     <use xlink:href=\"#DejaVuSans-31\" x=\"95.410156\"/>\n     <use xlink:href=\"#DejaVuSans-30\" x=\"159.033203\"/>\n     <use xlink:href=\"#DejaVuSans-36\" x=\"222.65625\"/>\n     <use xlink:href=\"#DejaVuSans-37\" x=\"286.279297\"/>\n    </g>\n   </g>\n   <g id=\"text_20\">\n    <!-- 0.1143 -->\n    <g style=\"fill: #ffffff\" transform=\"translate(517.533616 54.317187) scale(0.1 -0.1)\">\n     <use xlink:href=\"#DejaVuSans-30\"/>\n     <use xlink:href=\"#DejaVuSans-2e\" x=\"63.623047\"/>\n     <use xlink:href=\"#DejaVuSans-31\" x=\"95.410156\"/>\n     <use xlink:href=\"#DejaVuSans-31\" x=\"159.033203\"/>\n     <use xlink:href=\"#DejaVuSans-34\" x=\"222.65625\"/>\n     <use xlink:href=\"#DejaVuSans-33\" x=\"286.279297\"/>\n    </g>\n   </g>\n   <g id=\"text_21\">\n    <!-- 0.2649 -->\n    <g style=\"fill: #ffffff\" transform=\"translate(594.05933 54.317187) scale(0.1 -0.1)\">\n     <defs>\n      <path id=\"DejaVuSans-39\" d=\"M 703 97 \nL 703 672 \nQ 941 559 1184 500 \nQ 1428 441 1663 441 \nQ 2288 441 2617 861 \nQ 2947 1281 2994 2138 \nQ 2813 1869 2534 1725 \nQ 2256 1581 1919 1581 \nQ 1219 1581 811 2004 \nQ 403 2428 403 3163 \nQ 403 3881 828 4315 \nQ 1253 4750 1959 4750 \nQ 2769 4750 3195 4129 \nQ 3622 3509 3622 2328 \nQ 3622 1225 3098 567 \nQ 2575 -91 1691 -91 \nQ 1453 -91 1209 -44 \nQ 966 3 703 97 \nz\nM 1959 2075 \nQ 2384 2075 2632 2365 \nQ 2881 2656 2881 3163 \nQ 2881 3666 2632 3958 \nQ 2384 4250 1959 4250 \nQ 1534 4250 1286 3958 \nQ 1038 3666 1038 3163 \nQ 1038 2656 1286 2365 \nQ 1534 2075 1959 2075 \nz\n\" transform=\"scale(0.015625)\"/>\n     </defs>\n     <use xlink:href=\"#DejaVuSans-30\"/>\n     <use xlink:href=\"#DejaVuSans-2e\" x=\"63.623047\"/>\n     <use xlink:href=\"#DejaVuSans-32\" x=\"95.410156\"/>\n     <use xlink:href=\"#DejaVuSans-36\" x=\"159.033203\"/>\n     <use xlink:href=\"#DejaVuSans-34\" x=\"222.65625\"/>\n     <use xlink:href=\"#DejaVuSans-39\" x=\"286.279297\"/>\n    </g>\n   </g>\n   <g id=\"text_22\">\n    <!-- 0.2573 -->\n    <g style=\"fill: #ffffff\" transform=\"translate(134.905045 109.757187) scale(0.1 -0.1)\">\n     <use xlink:href=\"#DejaVuSans-30\"/>\n     <use xlink:href=\"#DejaVuSans-2e\" x=\"63.623047\"/>\n     <use xlink:href=\"#DejaVuSans-32\" x=\"95.410156\"/>\n     <use xlink:href=\"#DejaVuSans-35\" x=\"159.033203\"/>\n     <use xlink:href=\"#DejaVuSans-37\" x=\"222.65625\"/>\n     <use xlink:href=\"#DejaVuSans-33\" x=\"286.279297\"/>\n    </g>\n   </g>\n   <g id=\"text_23\">\n    <!-- 1.0000 -->\n    <g style=\"fill: #ffffff\" transform=\"translate(211.430759 109.757187) scale(0.1 -0.1)\">\n     <use xlink:href=\"#DejaVuSans-31\"/>\n     <use xlink:href=\"#DejaVuSans-2e\" x=\"63.623047\"/>\n     <use xlink:href=\"#DejaVuSans-30\" x=\"95.410156\"/>\n     <use xlink:href=\"#DejaVuSans-30\" x=\"159.033203\"/>\n     <use xlink:href=\"#DejaVuSans-30\" x=\"222.65625\"/>\n     <use xlink:href=\"#DejaVuSans-30\" x=\"286.279297\"/>\n    </g>\n   </g>\n   <g id=\"text_24\">\n    <!-- 0.1200 -->\n    <g style=\"fill: #ffffff\" transform=\"translate(287.956473 109.757187) scale(0.1 -0.1)\">\n     <use xlink:href=\"#DejaVuSans-30\"/>\n     <use xlink:href=\"#DejaVuSans-2e\" x=\"63.623047\"/>\n     <use xlink:href=\"#DejaVuSans-31\" x=\"95.410156\"/>\n     <use xlink:href=\"#DejaVuSans-32\" x=\"159.033203\"/>\n     <use xlink:href=\"#DejaVuSans-30\" x=\"222.65625\"/>\n     <use xlink:href=\"#DejaVuSans-30\" x=\"286.279297\"/>\n    </g>\n   </g>\n   <g id=\"text_25\">\n    <!-- 0.1481 -->\n    <g style=\"fill: #ffffff\" transform=\"translate(364.482188 109.757187) scale(0.1 -0.1)\">\n     <use xlink:href=\"#DejaVuSans-30\"/>\n     <use xlink:href=\"#DejaVuSans-2e\" x=\"63.623047\"/>\n     <use xlink:href=\"#DejaVuSans-31\" x=\"95.410156\"/>\n     <use xlink:href=\"#DejaVuSans-34\" x=\"159.033203\"/>\n     <use xlink:href=\"#DejaVuSans-38\" x=\"222.65625\"/>\n     <use xlink:href=\"#DejaVuSans-31\" x=\"286.279297\"/>\n    </g>\n   </g>\n   <g id=\"text_26\">\n    <!-- 0.0814 -->\n    <g style=\"fill: #ffffff\" transform=\"translate(441.007902 109.757187) scale(0.1 -0.1)\">\n     <use xlink:href=\"#DejaVuSans-30\"/>\n     <use xlink:href=\"#DejaVuSans-2e\" x=\"63.623047\"/>\n     <use xlink:href=\"#DejaVuSans-30\" x=\"95.410156\"/>\n     <use xlink:href=\"#DejaVuSans-38\" x=\"159.033203\"/>\n     <use xlink:href=\"#DejaVuSans-31\" x=\"222.65625\"/>\n     <use xlink:href=\"#DejaVuSans-34\" x=\"286.279297\"/>\n    </g>\n   </g>\n   <g id=\"text_27\">\n    <!-- 0.0848 -->\n    <g style=\"fill: #ffffff\" transform=\"translate(517.533616 109.757187) scale(0.1 -0.1)\">\n     <use xlink:href=\"#DejaVuSans-30\"/>\n     <use xlink:href=\"#DejaVuSans-2e\" x=\"63.623047\"/>\n     <use xlink:href=\"#DejaVuSans-30\" x=\"95.410156\"/>\n     <use xlink:href=\"#DejaVuSans-38\" x=\"159.033203\"/>\n     <use xlink:href=\"#DejaVuSans-34\" x=\"222.65625\"/>\n     <use xlink:href=\"#DejaVuSans-38\" x=\"286.279297\"/>\n    </g>\n   </g>\n   <g id=\"text_28\">\n    <!-- 0.1957 -->\n    <g style=\"fill: #ffffff\" transform=\"translate(594.05933 109.757187) scale(0.1 -0.1)\">\n     <use xlink:href=\"#DejaVuSans-30\"/>\n     <use xlink:href=\"#DejaVuSans-2e\" x=\"63.623047\"/>\n     <use xlink:href=\"#DejaVuSans-31\" x=\"95.410156\"/>\n     <use xlink:href=\"#DejaVuSans-39\" x=\"159.033203\"/>\n     <use xlink:href=\"#DejaVuSans-35\" x=\"222.65625\"/>\n     <use xlink:href=\"#DejaVuSans-37\" x=\"286.279297\"/>\n    </g>\n   </g>\n   <g id=\"text_29\">\n    <!-- 0.2385 -->\n    <g style=\"fill: #ffffff\" transform=\"translate(134.905045 165.197187) scale(0.1 -0.1)\">\n     <use xlink:href=\"#DejaVuSans-30\"/>\n     <use xlink:href=\"#DejaVuSans-2e\" x=\"63.623047\"/>\n     <use xlink:href=\"#DejaVuSans-32\" x=\"95.410156\"/>\n     <use xlink:href=\"#DejaVuSans-33\" x=\"159.033203\"/>\n     <use xlink:href=\"#DejaVuSans-38\" x=\"222.65625\"/>\n     <use xlink:href=\"#DejaVuSans-35\" x=\"286.279297\"/>\n    </g>\n   </g>\n   <g id=\"text_30\">\n    <!-- 0.1200 -->\n    <g style=\"fill: #ffffff\" transform=\"translate(211.430759 165.197187) scale(0.1 -0.1)\">\n     <use xlink:href=\"#DejaVuSans-30\"/>\n     <use xlink:href=\"#DejaVuSans-2e\" x=\"63.623047\"/>\n     <use xlink:href=\"#DejaVuSans-31\" x=\"95.410156\"/>\n     <use xlink:href=\"#DejaVuSans-32\" x=\"159.033203\"/>\n     <use xlink:href=\"#DejaVuSans-30\" x=\"222.65625\"/>\n     <use xlink:href=\"#DejaVuSans-30\" x=\"286.279297\"/>\n    </g>\n   </g>\n   <g id=\"text_31\">\n    <!-- 1.0000 -->\n    <g style=\"fill: #ffffff\" transform=\"translate(287.956473 165.197187) scale(0.1 -0.1)\">\n     <use xlink:href=\"#DejaVuSans-31\"/>\n     <use xlink:href=\"#DejaVuSans-2e\" x=\"63.623047\"/>\n     <use xlink:href=\"#DejaVuSans-30\" x=\"95.410156\"/>\n     <use xlink:href=\"#DejaVuSans-30\" x=\"159.033203\"/>\n     <use xlink:href=\"#DejaVuSans-30\" x=\"222.65625\"/>\n     <use xlink:href=\"#DejaVuSans-30\" x=\"286.279297\"/>\n    </g>\n   </g>\n   <g id=\"text_32\">\n    <!-- 0.0614 -->\n    <g style=\"fill: #ffffff\" transform=\"translate(364.482188 165.197187) scale(0.1 -0.1)\">\n     <use xlink:href=\"#DejaVuSans-30\"/>\n     <use xlink:href=\"#DejaVuSans-2e\" x=\"63.623047\"/>\n     <use xlink:href=\"#DejaVuSans-30\" x=\"95.410156\"/>\n     <use xlink:href=\"#DejaVuSans-36\" x=\"159.033203\"/>\n     <use xlink:href=\"#DejaVuSans-31\" x=\"222.65625\"/>\n     <use xlink:href=\"#DejaVuSans-34\" x=\"286.279297\"/>\n    </g>\n   </g>\n   <g id=\"text_33\">\n    <!-- 0.0681 -->\n    <g style=\"fill: #ffffff\" transform=\"translate(441.007902 165.197187) scale(0.1 -0.1)\">\n     <use xlink:href=\"#DejaVuSans-30\"/>\n     <use xlink:href=\"#DejaVuSans-2e\" x=\"63.623047\"/>\n     <use xlink:href=\"#DejaVuSans-30\" x=\"95.410156\"/>\n     <use xlink:href=\"#DejaVuSans-36\" x=\"159.033203\"/>\n     <use xlink:href=\"#DejaVuSans-38\" x=\"222.65625\"/>\n     <use xlink:href=\"#DejaVuSans-31\" x=\"286.279297\"/>\n    </g>\n   </g>\n   <g id=\"text_34\">\n    <!-- 0.0708 -->\n    <g style=\"fill: #ffffff\" transform=\"translate(517.533616 165.197187) scale(0.1 -0.1)\">\n     <use xlink:href=\"#DejaVuSans-30\"/>\n     <use xlink:href=\"#DejaVuSans-2e\" x=\"63.623047\"/>\n     <use xlink:href=\"#DejaVuSans-30\" x=\"95.410156\"/>\n     <use xlink:href=\"#DejaVuSans-37\" x=\"159.033203\"/>\n     <use xlink:href=\"#DejaVuSans-30\" x=\"222.65625\"/>\n     <use xlink:href=\"#DejaVuSans-38\" x=\"286.279297\"/>\n    </g>\n   </g>\n   <g id=\"text_35\">\n    <!-- 0.1707 -->\n    <g style=\"fill: #ffffff\" transform=\"translate(594.05933 165.197187) scale(0.1 -0.1)\">\n     <use xlink:href=\"#DejaVuSans-30\"/>\n     <use xlink:href=\"#DejaVuSans-2e\" x=\"63.623047\"/>\n     <use xlink:href=\"#DejaVuSans-31\" x=\"95.410156\"/>\n     <use xlink:href=\"#DejaVuSans-37\" x=\"159.033203\"/>\n     <use xlink:href=\"#DejaVuSans-30\" x=\"222.65625\"/>\n     <use xlink:href=\"#DejaVuSans-37\" x=\"286.279297\"/>\n    </g>\n   </g>\n   <g id=\"text_36\">\n    <!-- 0.3448 -->\n    <g style=\"fill: #262626\" transform=\"translate(134.905045 220.637187) scale(0.1 -0.1)\">\n     <use xlink:href=\"#DejaVuSans-30\"/>\n     <use xlink:href=\"#DejaVuSans-2e\" x=\"63.623047\"/>\n     <use xlink:href=\"#DejaVuSans-33\" x=\"95.410156\"/>\n     <use xlink:href=\"#DejaVuSans-34\" x=\"159.033203\"/>\n     <use xlink:href=\"#DejaVuSans-34\" x=\"222.65625\"/>\n     <use xlink:href=\"#DejaVuSans-38\" x=\"286.279297\"/>\n    </g>\n   </g>\n   <g id=\"text_37\">\n    <!-- 0.1481 -->\n    <g style=\"fill: #ffffff\" transform=\"translate(211.430759 220.637187) scale(0.1 -0.1)\">\n     <use xlink:href=\"#DejaVuSans-30\"/>\n     <use xlink:href=\"#DejaVuSans-2e\" x=\"63.623047\"/>\n     <use xlink:href=\"#DejaVuSans-31\" x=\"95.410156\"/>\n     <use xlink:href=\"#DejaVuSans-34\" x=\"159.033203\"/>\n     <use xlink:href=\"#DejaVuSans-38\" x=\"222.65625\"/>\n     <use xlink:href=\"#DejaVuSans-31\" x=\"286.279297\"/>\n    </g>\n   </g>\n   <g id=\"text_38\">\n    <!-- 0.0614 -->\n    <g style=\"fill: #ffffff\" transform=\"translate(287.956473 220.637187) scale(0.1 -0.1)\">\n     <use xlink:href=\"#DejaVuSans-30\"/>\n     <use xlink:href=\"#DejaVuSans-2e\" x=\"63.623047\"/>\n     <use xlink:href=\"#DejaVuSans-30\" x=\"95.410156\"/>\n     <use xlink:href=\"#DejaVuSans-36\" x=\"159.033203\"/>\n     <use xlink:href=\"#DejaVuSans-31\" x=\"222.65625\"/>\n     <use xlink:href=\"#DejaVuSans-34\" x=\"286.279297\"/>\n    </g>\n   </g>\n   <g id=\"text_39\">\n    <!-- 1.0000 -->\n    <g style=\"fill: #ffffff\" transform=\"translate(364.482188 220.637187) scale(0.1 -0.1)\">\n     <use xlink:href=\"#DejaVuSans-31\"/>\n     <use xlink:href=\"#DejaVuSans-2e\" x=\"63.623047\"/>\n     <use xlink:href=\"#DejaVuSans-30\" x=\"95.410156\"/>\n     <use xlink:href=\"#DejaVuSans-30\" x=\"159.033203\"/>\n     <use xlink:href=\"#DejaVuSans-30\" x=\"222.65625\"/>\n     <use xlink:href=\"#DejaVuSans-30\" x=\"286.279297\"/>\n    </g>\n   </g>\n   <g id=\"text_40\">\n    <!-- 0.0844 -->\n    <g style=\"fill: #ffffff\" transform=\"translate(441.007902 220.637187) scale(0.1 -0.1)\">\n     <use xlink:href=\"#DejaVuSans-30\"/>\n     <use xlink:href=\"#DejaVuSans-2e\" x=\"63.623047\"/>\n     <use xlink:href=\"#DejaVuSans-30\" x=\"95.410156\"/>\n     <use xlink:href=\"#DejaVuSans-38\" x=\"159.033203\"/>\n     <use xlink:href=\"#DejaVuSans-34\" x=\"222.65625\"/>\n     <use xlink:href=\"#DejaVuSans-34\" x=\"286.279297\"/>\n    </g>\n   </g>\n   <g id=\"text_41\">\n    <!-- 0.0925 -->\n    <g style=\"fill: #ffffff\" transform=\"translate(517.533616 220.637187) scale(0.1 -0.1)\">\n     <use xlink:href=\"#DejaVuSans-30\"/>\n     <use xlink:href=\"#DejaVuSans-2e\" x=\"63.623047\"/>\n     <use xlink:href=\"#DejaVuSans-30\" x=\"95.410156\"/>\n     <use xlink:href=\"#DejaVuSans-39\" x=\"159.033203\"/>\n     <use xlink:href=\"#DejaVuSans-32\" x=\"222.65625\"/>\n     <use xlink:href=\"#DejaVuSans-35\" x=\"286.279297\"/>\n    </g>\n   </g>\n   <g id=\"text_42\">\n    <!-- 0.2149 -->\n    <g style=\"fill: #ffffff\" transform=\"translate(594.05933 220.637187) scale(0.1 -0.1)\">\n     <use xlink:href=\"#DejaVuSans-30\"/>\n     <use xlink:href=\"#DejaVuSans-2e\" x=\"63.623047\"/>\n     <use xlink:href=\"#DejaVuSans-32\" x=\"95.410156\"/>\n     <use xlink:href=\"#DejaVuSans-31\" x=\"159.033203\"/>\n     <use xlink:href=\"#DejaVuSans-34\" x=\"222.65625\"/>\n     <use xlink:href=\"#DejaVuSans-39\" x=\"286.279297\"/>\n    </g>\n   </g>\n   <g id=\"text_43\">\n    <!-- 0.1067 -->\n    <g style=\"fill: #ffffff\" transform=\"translate(134.905045 276.077187) scale(0.1 -0.1)\">\n     <use xlink:href=\"#DejaVuSans-30\"/>\n     <use xlink:href=\"#DejaVuSans-2e\" x=\"63.623047\"/>\n     <use xlink:href=\"#DejaVuSans-31\" x=\"95.410156\"/>\n     <use xlink:href=\"#DejaVuSans-30\" x=\"159.033203\"/>\n     <use xlink:href=\"#DejaVuSans-36\" x=\"222.65625\"/>\n     <use xlink:href=\"#DejaVuSans-37\" x=\"286.279297\"/>\n    </g>\n   </g>\n   <g id=\"text_44\">\n    <!-- 0.0814 -->\n    <g style=\"fill: #ffffff\" transform=\"translate(211.430759 276.077187) scale(0.1 -0.1)\">\n     <use xlink:href=\"#DejaVuSans-30\"/>\n     <use xlink:href=\"#DejaVuSans-2e\" x=\"63.623047\"/>\n     <use xlink:href=\"#DejaVuSans-30\" x=\"95.410156\"/>\n     <use xlink:href=\"#DejaVuSans-38\" x=\"159.033203\"/>\n     <use xlink:href=\"#DejaVuSans-31\" x=\"222.65625\"/>\n     <use xlink:href=\"#DejaVuSans-34\" x=\"286.279297\"/>\n    </g>\n   </g>\n   <g id=\"text_45\">\n    <!-- 0.0681 -->\n    <g style=\"fill: #ffffff\" transform=\"translate(287.956473 276.077187) scale(0.1 -0.1)\">\n     <use xlink:href=\"#DejaVuSans-30\"/>\n     <use xlink:href=\"#DejaVuSans-2e\" x=\"63.623047\"/>\n     <use xlink:href=\"#DejaVuSans-30\" x=\"95.410156\"/>\n     <use xlink:href=\"#DejaVuSans-36\" x=\"159.033203\"/>\n     <use xlink:href=\"#DejaVuSans-38\" x=\"222.65625\"/>\n     <use xlink:href=\"#DejaVuSans-31\" x=\"286.279297\"/>\n    </g>\n   </g>\n   <g id=\"text_46\">\n    <!-- 0.0844 -->\n    <g style=\"fill: #ffffff\" transform=\"translate(364.482188 276.077187) scale(0.1 -0.1)\">\n     <use xlink:href=\"#DejaVuSans-30\"/>\n     <use xlink:href=\"#DejaVuSans-2e\" x=\"63.623047\"/>\n     <use xlink:href=\"#DejaVuSans-30\" x=\"95.410156\"/>\n     <use xlink:href=\"#DejaVuSans-38\" x=\"159.033203\"/>\n     <use xlink:href=\"#DejaVuSans-34\" x=\"222.65625\"/>\n     <use xlink:href=\"#DejaVuSans-34\" x=\"286.279297\"/>\n    </g>\n   </g>\n   <g id=\"text_47\">\n    <!-- 1.0000 -->\n    <g style=\"fill: #ffffff\" transform=\"translate(441.007902 276.077187) scale(0.1 -0.1)\">\n     <use xlink:href=\"#DejaVuSans-31\"/>\n     <use xlink:href=\"#DejaVuSans-2e\" x=\"63.623047\"/>\n     <use xlink:href=\"#DejaVuSans-30\" x=\"95.410156\"/>\n     <use xlink:href=\"#DejaVuSans-30\" x=\"159.033203\"/>\n     <use xlink:href=\"#DejaVuSans-30\" x=\"222.65625\"/>\n     <use xlink:href=\"#DejaVuSans-30\" x=\"286.279297\"/>\n    </g>\n   </g>\n   <g id=\"text_48\">\n    <!-- 0.1716 -->\n    <g style=\"fill: #ffffff\" transform=\"translate(517.533616 276.077187) scale(0.1 -0.1)\">\n     <use xlink:href=\"#DejaVuSans-30\"/>\n     <use xlink:href=\"#DejaVuSans-2e\" x=\"63.623047\"/>\n     <use xlink:href=\"#DejaVuSans-31\" x=\"95.410156\"/>\n     <use xlink:href=\"#DejaVuSans-37\" x=\"159.033203\"/>\n     <use xlink:href=\"#DejaVuSans-31\" x=\"222.65625\"/>\n     <use xlink:href=\"#DejaVuSans-36\" x=\"286.279297\"/>\n    </g>\n   </g>\n   <g id=\"text_49\">\n    <!-- 0.4064 -->\n    <g style=\"fill: #262626\" transform=\"translate(594.05933 276.077187) scale(0.1 -0.1)\">\n     <use xlink:href=\"#DejaVuSans-30\"/>\n     <use xlink:href=\"#DejaVuSans-2e\" x=\"63.623047\"/>\n     <use xlink:href=\"#DejaVuSans-34\" x=\"95.410156\"/>\n     <use xlink:href=\"#DejaVuSans-30\" x=\"159.033203\"/>\n     <use xlink:href=\"#DejaVuSans-36\" x=\"222.65625\"/>\n     <use xlink:href=\"#DejaVuSans-34\" x=\"286.279297\"/>\n    </g>\n   </g>\n   <g id=\"text_50\">\n    <!-- 0.1143 -->\n    <g style=\"fill: #ffffff\" transform=\"translate(134.905045 331.517187) scale(0.1 -0.1)\">\n     <use xlink:href=\"#DejaVuSans-30\"/>\n     <use xlink:href=\"#DejaVuSans-2e\" x=\"63.623047\"/>\n     <use xlink:href=\"#DejaVuSans-31\" x=\"95.410156\"/>\n     <use xlink:href=\"#DejaVuSans-31\" x=\"159.033203\"/>\n     <use xlink:href=\"#DejaVuSans-34\" x=\"222.65625\"/>\n     <use xlink:href=\"#DejaVuSans-33\" x=\"286.279297\"/>\n    </g>\n   </g>\n   <g id=\"text_51\">\n    <!-- 0.0848 -->\n    <g style=\"fill: #ffffff\" transform=\"translate(211.430759 331.517187) scale(0.1 -0.1)\">\n     <use xlink:href=\"#DejaVuSans-30\"/>\n     <use xlink:href=\"#DejaVuSans-2e\" x=\"63.623047\"/>\n     <use xlink:href=\"#DejaVuSans-30\" x=\"95.410156\"/>\n     <use xlink:href=\"#DejaVuSans-38\" x=\"159.033203\"/>\n     <use xlink:href=\"#DejaVuSans-34\" x=\"222.65625\"/>\n     <use xlink:href=\"#DejaVuSans-38\" x=\"286.279297\"/>\n    </g>\n   </g>\n   <g id=\"text_52\">\n    <!-- 0.0708 -->\n    <g style=\"fill: #ffffff\" transform=\"translate(287.956473 331.517187) scale(0.1 -0.1)\">\n     <use xlink:href=\"#DejaVuSans-30\"/>\n     <use xlink:href=\"#DejaVuSans-2e\" x=\"63.623047\"/>\n     <use xlink:href=\"#DejaVuSans-30\" x=\"95.410156\"/>\n     <use xlink:href=\"#DejaVuSans-37\" x=\"159.033203\"/>\n     <use xlink:href=\"#DejaVuSans-30\" x=\"222.65625\"/>\n     <use xlink:href=\"#DejaVuSans-38\" x=\"286.279297\"/>\n    </g>\n   </g>\n   <g id=\"text_53\">\n    <!-- 0.0925 -->\n    <g style=\"fill: #ffffff\" transform=\"translate(364.482188 331.517187) scale(0.1 -0.1)\">\n     <use xlink:href=\"#DejaVuSans-30\"/>\n     <use xlink:href=\"#DejaVuSans-2e\" x=\"63.623047\"/>\n     <use xlink:href=\"#DejaVuSans-30\" x=\"95.410156\"/>\n     <use xlink:href=\"#DejaVuSans-39\" x=\"159.033203\"/>\n     <use xlink:href=\"#DejaVuSans-32\" x=\"222.65625\"/>\n     <use xlink:href=\"#DejaVuSans-35\" x=\"286.279297\"/>\n    </g>\n   </g>\n   <g id=\"text_54\">\n    <!-- 0.1716 -->\n    <g style=\"fill: #ffffff\" transform=\"translate(441.007902 331.517187) scale(0.1 -0.1)\">\n     <use xlink:href=\"#DejaVuSans-30\"/>\n     <use xlink:href=\"#DejaVuSans-2e\" x=\"63.623047\"/>\n     <use xlink:href=\"#DejaVuSans-31\" x=\"95.410156\"/>\n     <use xlink:href=\"#DejaVuSans-37\" x=\"159.033203\"/>\n     <use xlink:href=\"#DejaVuSans-31\" x=\"222.65625\"/>\n     <use xlink:href=\"#DejaVuSans-36\" x=\"286.279297\"/>\n    </g>\n   </g>\n   <g id=\"text_55\">\n    <!-- 1.0000 -->\n    <g style=\"fill: #ffffff\" transform=\"translate(517.533616 331.517187) scale(0.1 -0.1)\">\n     <use xlink:href=\"#DejaVuSans-31\"/>\n     <use xlink:href=\"#DejaVuSans-2e\" x=\"63.623047\"/>\n     <use xlink:href=\"#DejaVuSans-30\" x=\"95.410156\"/>\n     <use xlink:href=\"#DejaVuSans-30\" x=\"159.033203\"/>\n     <use xlink:href=\"#DejaVuSans-30\" x=\"222.65625\"/>\n     <use xlink:href=\"#DejaVuSans-30\" x=\"286.279297\"/>\n    </g>\n   </g>\n   <g id=\"text_56\">\n    <!-- 0.4243 -->\n    <g style=\"fill: #262626\" transform=\"translate(594.05933 331.517187) scale(0.1 -0.1)\">\n     <use xlink:href=\"#DejaVuSans-30\"/>\n     <use xlink:href=\"#DejaVuSans-2e\" x=\"63.623047\"/>\n     <use xlink:href=\"#DejaVuSans-34\" x=\"95.410156\"/>\n     <use xlink:href=\"#DejaVuSans-32\" x=\"159.033203\"/>\n     <use xlink:href=\"#DejaVuSans-34\" x=\"222.65625\"/>\n     <use xlink:href=\"#DejaVuSans-33\" x=\"286.279297\"/>\n    </g>\n   </g>\n   <g id=\"text_57\">\n    <!-- 0.2649 -->\n    <g style=\"fill: #ffffff\" transform=\"translate(134.905045 386.957187) scale(0.1 -0.1)\">\n     <use xlink:href=\"#DejaVuSans-30\"/>\n     <use xlink:href=\"#DejaVuSans-2e\" x=\"63.623047\"/>\n     <use xlink:href=\"#DejaVuSans-32\" x=\"95.410156\"/>\n     <use xlink:href=\"#DejaVuSans-36\" x=\"159.033203\"/>\n     <use xlink:href=\"#DejaVuSans-34\" x=\"222.65625\"/>\n     <use xlink:href=\"#DejaVuSans-39\" x=\"286.279297\"/>\n    </g>\n   </g>\n   <g id=\"text_58\">\n    <!-- 0.1957 -->\n    <g style=\"fill: #ffffff\" transform=\"translate(211.430759 386.957187) scale(0.1 -0.1)\">\n     <use xlink:href=\"#DejaVuSans-30\"/>\n     <use xlink:href=\"#DejaVuSans-2e\" x=\"63.623047\"/>\n     <use xlink:href=\"#DejaVuSans-31\" x=\"95.410156\"/>\n     <use xlink:href=\"#DejaVuSans-39\" x=\"159.033203\"/>\n     <use xlink:href=\"#DejaVuSans-35\" x=\"222.65625\"/>\n     <use xlink:href=\"#DejaVuSans-37\" x=\"286.279297\"/>\n    </g>\n   </g>\n   <g id=\"text_59\">\n    <!-- 0.1707 -->\n    <g style=\"fill: #ffffff\" transform=\"translate(287.956473 386.957187) scale(0.1 -0.1)\">\n     <use xlink:href=\"#DejaVuSans-30\"/>\n     <use xlink:href=\"#DejaVuSans-2e\" x=\"63.623047\"/>\n     <use xlink:href=\"#DejaVuSans-31\" x=\"95.410156\"/>\n     <use xlink:href=\"#DejaVuSans-37\" x=\"159.033203\"/>\n     <use xlink:href=\"#DejaVuSans-30\" x=\"222.65625\"/>\n     <use xlink:href=\"#DejaVuSans-37\" x=\"286.279297\"/>\n    </g>\n   </g>\n   <g id=\"text_60\">\n    <!-- 0.2149 -->\n    <g style=\"fill: #ffffff\" transform=\"translate(364.482188 386.957187) scale(0.1 -0.1)\">\n     <use xlink:href=\"#DejaVuSans-30\"/>\n     <use xlink:href=\"#DejaVuSans-2e\" x=\"63.623047\"/>\n     <use xlink:href=\"#DejaVuSans-32\" x=\"95.410156\"/>\n     <use xlink:href=\"#DejaVuSans-31\" x=\"159.033203\"/>\n     <use xlink:href=\"#DejaVuSans-34\" x=\"222.65625\"/>\n     <use xlink:href=\"#DejaVuSans-39\" x=\"286.279297\"/>\n    </g>\n   </g>\n   <g id=\"text_61\">\n    <!-- 0.4064 -->\n    <g style=\"fill: #262626\" transform=\"translate(441.007902 386.957187) scale(0.1 -0.1)\">\n     <use xlink:href=\"#DejaVuSans-30\"/>\n     <use xlink:href=\"#DejaVuSans-2e\" x=\"63.623047\"/>\n     <use xlink:href=\"#DejaVuSans-34\" x=\"95.410156\"/>\n     <use xlink:href=\"#DejaVuSans-30\" x=\"159.033203\"/>\n     <use xlink:href=\"#DejaVuSans-36\" x=\"222.65625\"/>\n     <use xlink:href=\"#DejaVuSans-34\" x=\"286.279297\"/>\n    </g>\n   </g>\n   <g id=\"text_62\">\n    <!-- 0.4243 -->\n    <g style=\"fill: #262626\" transform=\"translate(517.533616 386.957187) scale(0.1 -0.1)\">\n     <use xlink:href=\"#DejaVuSans-30\"/>\n     <use xlink:href=\"#DejaVuSans-2e\" x=\"63.623047\"/>\n     <use xlink:href=\"#DejaVuSans-34\" x=\"95.410156\"/>\n     <use xlink:href=\"#DejaVuSans-32\" x=\"159.033203\"/>\n     <use xlink:href=\"#DejaVuSans-34\" x=\"222.65625\"/>\n     <use xlink:href=\"#DejaVuSans-33\" x=\"286.279297\"/>\n    </g>\n   </g>\n   <g id=\"text_63\">\n    <!-- 1.0000 -->\n    <g style=\"fill: #ffffff\" transform=\"translate(594.05933 386.957187) scale(0.1 -0.1)\">\n     <use xlink:href=\"#DejaVuSans-31\"/>\n     <use xlink:href=\"#DejaVuSans-2e\" x=\"63.623047\"/>\n     <use xlink:href=\"#DejaVuSans-30\" x=\"95.410156\"/>\n     <use xlink:href=\"#DejaVuSans-30\" x=\"159.033203\"/>\n     <use xlink:href=\"#DejaVuSans-30\" x=\"222.65625\"/>\n     <use xlink:href=\"#DejaVuSans-30\" x=\"286.279297\"/>\n    </g>\n   </g>\n   <g id=\"text_64\">\n    <!-- Correlation Heatmap -->\n    <g style=\"fill: #262626\" transform=\"translate(299.576563 17.837812) scale(0.14 -0.14)\">\n     <defs>\n      <path id=\"DejaVuSans-Bold-43\" d=\"M 4288 256 \nQ 3956 84 3597 -3 \nQ 3238 -91 2847 -91 \nQ 1681 -91 1000 561 \nQ 319 1213 319 2328 \nQ 319 3447 1000 4098 \nQ 1681 4750 2847 4750 \nQ 3238 4750 3597 4662 \nQ 3956 4575 4288 4403 \nL 4288 3438 \nQ 3953 3666 3628 3772 \nQ 3303 3878 2944 3878 \nQ 2300 3878 1931 3465 \nQ 1563 3053 1563 2328 \nQ 1563 1606 1931 1193 \nQ 2300 781 2944 781 \nQ 3303 781 3628 887 \nQ 3953 994 4288 1222 \nL 4288 256 \nz\n\" transform=\"scale(0.015625)\"/>\n      <path id=\"DejaVuSans-Bold-6f\" d=\"M 2203 2784 \nQ 1831 2784 1636 2517 \nQ 1441 2250 1441 1747 \nQ 1441 1244 1636 976 \nQ 1831 709 2203 709 \nQ 2569 709 2762 976 \nQ 2956 1244 2956 1747 \nQ 2956 2250 2762 2517 \nQ 2569 2784 2203 2784 \nz\nM 2203 3584 \nQ 3106 3584 3614 3096 \nQ 4122 2609 4122 1747 \nQ 4122 884 3614 396 \nQ 3106 -91 2203 -91 \nQ 1297 -91 786 396 \nQ 275 884 275 1747 \nQ 275 2609 786 3096 \nQ 1297 3584 2203 3584 \nz\n\" transform=\"scale(0.015625)\"/>\n      <path id=\"DejaVuSans-Bold-72\" d=\"M 3138 2547 \nQ 2991 2616 2845 2648 \nQ 2700 2681 2553 2681 \nQ 2122 2681 1889 2404 \nQ 1656 2128 1656 1613 \nL 1656 0 \nL 538 0 \nL 538 3500 \nL 1656 3500 \nL 1656 2925 \nQ 1872 3269 2151 3426 \nQ 2431 3584 2822 3584 \nQ 2878 3584 2943 3579 \nQ 3009 3575 3134 3559 \nL 3138 2547 \nz\n\" transform=\"scale(0.015625)\"/>\n      <path id=\"DejaVuSans-Bold-65\" d=\"M 4031 1759 \nL 4031 1441 \nL 1416 1441 \nQ 1456 1047 1700 850 \nQ 1944 653 2381 653 \nQ 2734 653 3104 758 \nQ 3475 863 3866 1075 \nL 3866 213 \nQ 3469 63 3072 -14 \nQ 2675 -91 2278 -91 \nQ 1328 -91 801 392 \nQ 275 875 275 1747 \nQ 275 2603 792 3093 \nQ 1309 3584 2216 3584 \nQ 3041 3584 3536 3087 \nQ 4031 2591 4031 1759 \nz\nM 2881 2131 \nQ 2881 2450 2695 2645 \nQ 2509 2841 2209 2841 \nQ 1884 2841 1681 2658 \nQ 1478 2475 1428 2131 \nL 2881 2131 \nz\n\" transform=\"scale(0.015625)\"/>\n      <path id=\"DejaVuSans-Bold-6c\" d=\"M 538 4863 \nL 1656 4863 \nL 1656 0 \nL 538 0 \nL 538 4863 \nz\n\" transform=\"scale(0.015625)\"/>\n      <path id=\"DejaVuSans-Bold-61\" d=\"M 2106 1575 \nQ 1756 1575 1579 1456 \nQ 1403 1338 1403 1106 \nQ 1403 894 1545 773 \nQ 1688 653 1941 653 \nQ 2256 653 2472 879 \nQ 2688 1106 2688 1447 \nL 2688 1575 \nL 2106 1575 \nz\nM 3816 1997 \nL 3816 0 \nL 2688 0 \nL 2688 519 \nQ 2463 200 2181 54 \nQ 1900 -91 1497 -91 \nQ 953 -91 614 226 \nQ 275 544 275 1050 \nQ 275 1666 698 1953 \nQ 1122 2241 2028 2241 \nL 2688 2241 \nL 2688 2328 \nQ 2688 2594 2478 2717 \nQ 2269 2841 1825 2841 \nQ 1466 2841 1156 2769 \nQ 847 2697 581 2553 \nL 581 3406 \nQ 941 3494 1303 3539 \nQ 1666 3584 2028 3584 \nQ 2975 3584 3395 3211 \nQ 3816 2838 3816 1997 \nz\n\" transform=\"scale(0.015625)\"/>\n      <path id=\"DejaVuSans-Bold-74\" d=\"M 1759 4494 \nL 1759 3500 \nL 2913 3500 \nL 2913 2700 \nL 1759 2700 \nL 1759 1216 \nQ 1759 972 1856 886 \nQ 1953 800 2241 800 \nL 2816 800 \nL 2816 0 \nL 1856 0 \nQ 1194 0 917 276 \nQ 641 553 641 1216 \nL 641 2700 \nL 84 2700 \nL 84 3500 \nL 641 3500 \nL 641 4494 \nL 1759 4494 \nz\n\" transform=\"scale(0.015625)\"/>\n      <path id=\"DejaVuSans-Bold-69\" d=\"M 538 3500 \nL 1656 3500 \nL 1656 0 \nL 538 0 \nL 538 3500 \nz\nM 538 4863 \nL 1656 4863 \nL 1656 3950 \nL 538 3950 \nL 538 4863 \nz\n\" transform=\"scale(0.015625)\"/>\n      <path id=\"DejaVuSans-Bold-6e\" d=\"M 4056 2131 \nL 4056 0 \nL 2931 0 \nL 2931 347 \nL 2931 1631 \nQ 2931 2084 2911 2256 \nQ 2891 2428 2841 2509 \nQ 2775 2619 2662 2680 \nQ 2550 2741 2406 2741 \nQ 2056 2741 1856 2470 \nQ 1656 2200 1656 1722 \nL 1656 0 \nL 538 0 \nL 538 3500 \nL 1656 3500 \nL 1656 2988 \nQ 1909 3294 2193 3439 \nQ 2478 3584 2822 3584 \nQ 3428 3584 3742 3212 \nQ 4056 2841 4056 2131 \nz\n\" transform=\"scale(0.015625)\"/>\n      <path id=\"DejaVuSans-Bold-20\" transform=\"scale(0.015625)\"/>\n      <path id=\"DejaVuSans-Bold-48\" d=\"M 588 4666 \nL 1791 4666 \nL 1791 2888 \nL 3566 2888 \nL 3566 4666 \nL 4769 4666 \nL 4769 0 \nL 3566 0 \nL 3566 1978 \nL 1791 1978 \nL 1791 0 \nL 588 0 \nL 588 4666 \nz\n\" transform=\"scale(0.015625)\"/>\n      <path id=\"DejaVuSans-Bold-6d\" d=\"M 3781 2919 \nQ 3994 3244 4286 3414 \nQ 4578 3584 4928 3584 \nQ 5531 3584 5847 3212 \nQ 6163 2841 6163 2131 \nL 6163 0 \nL 5038 0 \nL 5038 1825 \nQ 5041 1866 5042 1909 \nQ 5044 1953 5044 2034 \nQ 5044 2406 4934 2573 \nQ 4825 2741 4581 2741 \nQ 4263 2741 4089 2478 \nQ 3916 2216 3909 1719 \nL 3909 0 \nL 2784 0 \nL 2784 1825 \nQ 2784 2406 2684 2573 \nQ 2584 2741 2328 2741 \nQ 2006 2741 1831 2477 \nQ 1656 2213 1656 1722 \nL 1656 0 \nL 531 0 \nL 531 3500 \nL 1656 3500 \nL 1656 2988 \nQ 1863 3284 2130 3434 \nQ 2397 3584 2719 3584 \nQ 3081 3584 3359 3409 \nQ 3638 3234 3781 2919 \nz\n\" transform=\"scale(0.015625)\"/>\n      <path id=\"DejaVuSans-Bold-70\" d=\"M 1656 506 \nL 1656 -1331 \nL 538 -1331 \nL 538 3500 \nL 1656 3500 \nL 1656 2988 \nQ 1888 3294 2169 3439 \nQ 2450 3584 2816 3584 \nQ 3463 3584 3878 3070 \nQ 4294 2556 4294 1747 \nQ 4294 938 3878 423 \nQ 3463 -91 2816 -91 \nQ 2450 -91 2169 54 \nQ 1888 200 1656 506 \nz\nM 2400 2772 \nQ 2041 2772 1848 2508 \nQ 1656 2244 1656 1747 \nQ 1656 1250 1848 986 \nQ 2041 722 2400 722 \nQ 2759 722 2948 984 \nQ 3138 1247 3138 1747 \nQ 3138 2247 2948 2509 \nQ 2759 2772 2400 2772 \nz\n\" transform=\"scale(0.015625)\"/>\n     </defs>\n     <use xlink:href=\"#DejaVuSans-Bold-43\"/>\n     <use xlink:href=\"#DejaVuSans-Bold-6f\" x=\"73.388672\"/>\n     <use xlink:href=\"#DejaVuSans-Bold-72\" x=\"142.089844\"/>\n     <use xlink:href=\"#DejaVuSans-Bold-72\" x=\"191.40625\"/>\n     <use xlink:href=\"#DejaVuSans-Bold-65\" x=\"240.722656\"/>\n     <use xlink:href=\"#DejaVuSans-Bold-6c\" x=\"308.544922\"/>\n     <use xlink:href=\"#DejaVuSans-Bold-61\" x=\"342.822266\"/>\n     <use xlink:href=\"#DejaVuSans-Bold-74\" x=\"410.302734\"/>\n     <use xlink:href=\"#DejaVuSans-Bold-69\" x=\"458.105469\"/>\n     <use xlink:href=\"#DejaVuSans-Bold-6f\" x=\"492.382812\"/>\n     <use xlink:href=\"#DejaVuSans-Bold-6e\" x=\"561.083984\"/>\n     <use xlink:href=\"#DejaVuSans-Bold-20\" x=\"632.275391\"/>\n     <use xlink:href=\"#DejaVuSans-Bold-48\" x=\"667.089844\"/>\n     <use xlink:href=\"#DejaVuSans-Bold-65\" x=\"750.78125\"/>\n     <use xlink:href=\"#DejaVuSans-Bold-61\" x=\"818.603516\"/>\n     <use xlink:href=\"#DejaVuSans-Bold-74\" x=\"886.083984\"/>\n     <use xlink:href=\"#DejaVuSans-Bold-6d\" x=\"933.886719\"/>\n     <use xlink:href=\"#DejaVuSans-Bold-61\" x=\"1038.085938\"/>\n     <use xlink:href=\"#DejaVuSans-Bold-70\" x=\"1105.566406\"/>\n    </g>\n   </g>\n  </g>\n  <g id=\"axes_2\">\n   <g id=\"patch_3\">\n    <path d=\"M 683.2975 411.917812 \nL 702.7015 411.917812 \nL 702.7015 23.837812 \nL 683.2975 23.837812 \nz\n\" style=\"fill: #ffffff\"/>\n   </g>\n   <g id=\"matplotlib.axis_3\"/>\n   <g id=\"matplotlib.axis_4\">\n    <g id=\"ytick_8\">\n     <g id=\"line2d_15\">\n      <defs>\n       <path id=\"m22cdee01bd\" d=\"M 0 0 \nL 3.5 0 \n\" style=\"stroke: #262626; stroke-width: 0.8\"/>\n      </defs>\n      <g>\n       <use xlink:href=\"#m22cdee01bd\" x=\"702.7015\" y=\"354.602871\" style=\"fill: #262626; stroke: #262626; stroke-width: 0.8\"/>\n      </g>\n     </g>\n     <g id=\"text_65\">\n      <!-- 0.2 -->\n      <g style=\"fill: #262626\" transform=\"translate(709.7015 358.402089) scale(0.1 -0.1)\">\n       <use xlink:href=\"#DejaVuSans-30\"/>\n       <use xlink:href=\"#DejaVuSans-2e\" x=\"63.623047\"/>\n       <use xlink:href=\"#DejaVuSans-32\" x=\"95.410156\"/>\n      </g>\n     </g>\n    </g>\n    <g id=\"ytick_9\">\n     <g id=\"line2d_16\">\n      <g>\n       <use xlink:href=\"#m22cdee01bd\" x=\"702.7015\" y=\"271.911606\" style=\"fill: #262626; stroke: #262626; stroke-width: 0.8\"/>\n      </g>\n     </g>\n     <g id=\"text_66\">\n      <!-- 0.4 -->\n      <g style=\"fill: #262626\" transform=\"translate(709.7015 275.710825) scale(0.1 -0.1)\">\n       <use xlink:href=\"#DejaVuSans-30\"/>\n       <use xlink:href=\"#DejaVuSans-2e\" x=\"63.623047\"/>\n       <use xlink:href=\"#DejaVuSans-34\" x=\"95.410156\"/>\n      </g>\n     </g>\n    </g>\n    <g id=\"ytick_10\">\n     <g id=\"line2d_17\">\n      <g>\n       <use xlink:href=\"#m22cdee01bd\" x=\"702.7015\" y=\"189.220342\" style=\"fill: #262626; stroke: #262626; stroke-width: 0.8\"/>\n      </g>\n     </g>\n     <g id=\"text_67\">\n      <!-- 0.6 -->\n      <g style=\"fill: #262626\" transform=\"translate(709.7015 193.01956) scale(0.1 -0.1)\">\n       <use xlink:href=\"#DejaVuSans-30\"/>\n       <use xlink:href=\"#DejaVuSans-2e\" x=\"63.623047\"/>\n       <use xlink:href=\"#DejaVuSans-36\" x=\"95.410156\"/>\n      </g>\n     </g>\n    </g>\n    <g id=\"ytick_11\">\n     <g id=\"line2d_18\">\n      <g>\n       <use xlink:href=\"#m22cdee01bd\" x=\"702.7015\" y=\"106.529077\" style=\"fill: #262626; stroke: #262626; stroke-width: 0.8\"/>\n      </g>\n     </g>\n     <g id=\"text_68\">\n      <!-- 0.8 -->\n      <g style=\"fill: #262626\" transform=\"translate(709.7015 110.328296) scale(0.1 -0.1)\">\n       <use xlink:href=\"#DejaVuSans-30\"/>\n       <use xlink:href=\"#DejaVuSans-2e\" x=\"63.623047\"/>\n       <use xlink:href=\"#DejaVuSans-38\" x=\"95.410156\"/>\n      </g>\n     </g>\n    </g>\n    <g id=\"ytick_12\">\n     <g id=\"line2d_19\">\n      <g>\n       <use xlink:href=\"#m22cdee01bd\" x=\"702.7015\" y=\"23.837812\" style=\"fill: #262626; stroke: #262626; stroke-width: 0.8\"/>\n      </g>\n     </g>\n     <g id=\"text_69\">\n      <!-- 1.0 -->\n      <g style=\"fill: #262626\" transform=\"translate(709.7015 27.637031) scale(0.1 -0.1)\">\n       <use xlink:href=\"#DejaVuSans-31\"/>\n       <use xlink:href=\"#DejaVuSans-2e\" x=\"63.623047\"/>\n       <use xlink:href=\"#DejaVuSans-30\" x=\"95.410156\"/>\n      </g>\n     </g>\n    </g>\n   </g>\n   <image xlink:href=\"data:image/png;base64,\niVBORw0KGgoAAAANSUhEUgAAABsAAAIbCAYAAAAaS+V8AAACk0lEQVR4nO2ci23kQAzFbGO6SgspOn1t4kkRJgSYIBsQ5PcZbQ648+v7Zx9DXFODjuM41nnNzZve7BwbNrzZmWbPKWcI6/JqVs4Aytn7hokNchVqgDZD6IlBmD54tJqdVs20buwzInQWILQZgriIxX8t6CwAqEEQvDnL+ghm66cZQJshiBtE+8SINdPmbPqJmRuWQRDEm3XwEEw/MXPDOgsQxGeBuUHmhokPHrH1xXU1N6yzAMH8w0LcIHPD0gyhswDBfDeKi3huWKccglkz7WbeIzU3EqTZ+4apb/25Yf2KQaiuENoMoW5EqEHeN0xsEO9mWuuLNTvPsf+GJzcyqN04N2zajdacaTXrMyKYi/go1M/JjQjiU07sxhoEQH0WWA0iLuJCDVDOEHpiEHIjgrgbte9ZBkEo1AhphrAmp6UZQjlDSLP3DcsgCP3yRMiNCG2GYN6snAG02fuGeT+jerN7bFhFjLDOrd3Mm7OtzVmaAXQWIGQQBLVm3s1y43PSDMGcM+tPptnPeHgN4g11RQxQzhDEmnkfz0OsmXYza+tnfYTqCqGzAEFcxGlGUIMgeFt/2CC31SDeuirUBGmGIN5M7MZaH6CcvW+Y2SDiUHs3y43PSTMEc87uNHuO+SyorgCyPoK4rnaaAZQzhLVrfYBe6vcNExtEHGrtE9NZQNBZgLC2VzNtN27re5ZBEMyhrogBOlIRxAeP90j15qz3jEB88HiLWHsRF2qENkMwN0iaAaTZ+4b1zyMIWR8hzRDaDCE3Isxudv9ZN9O6MesjtBlCoUYQa2Z+YryblbPniM+CQk1QqBHW1rqxnBGkGcLaf9oGyY0A4oNH/MT8WjfbH+tmaUaQZghrf6xngVkz6Wajw/4By1paIENR20wAAAAASUVORK5CYII=\" id=\"image24e104c191\" transform=\"scale(1 -1) translate(0 -388.08)\" x=\"683.28\" y=\"-23.04\" width=\"19.44\" height=\"388.08\"/>\n   <g id=\"LineCollection_1\"/>\n   <g id=\"patch_4\">\n    <path d=\"M 683.2975 411.917812 \nL 692.9995 411.917812 \nL 702.7015 411.917812 \nL 702.7015 23.837812 \nL 692.9995 23.837812 \nL 683.2975 23.837812 \nL 683.2975 411.917812 \nz\n\" style=\"fill: none\"/>\n   </g>\n  </g>\n </g>\n <defs>\n  <clipPath id=\"p88c8ed0943\">\n   <rect x=\"114.1375\" y=\"23.837812\" width=\"535.68\" height=\"388.08\"/>\n  </clipPath>\n </defs>\n</svg>\n"
          },
          "metadata": {}
        }
      ]
    },
    {
      "cell_type": "markdown",
      "source": [
        "- - -\n",
        "1) One-Hot Encoding for 'gender' & 'smoking_history'"
      ],
      "metadata": {
        "id": "hUj5dGeexlGO"
      }
    },
    {
      "cell_type": "code",
      "source": [
        "le = preprocessing.LabelEncoder()\n",
        "data['gender'] = le.fit_transform(data['gender'])\n",
        "data.gender.value_counts()"
      ],
      "metadata": {
        "colab": {
          "base_uri": "https://localhost:8080/"
        },
        "id": "87XFyrj8OL3c",
        "outputId": "f6cf86e1-7027-4c0c-f7f7-4f40280ee094"
      },
      "execution_count": null,
      "outputs": [
        {
          "output_type": "execute_result",
          "data": {
            "text/plain": [
              "0    56161\n",
              "1    39967\n",
              "2       18\n",
              "Name: gender, dtype: int64"
            ]
          },
          "metadata": {},
          "execution_count": 13
        }
      ]
    },
    {
      "cell_type": "code",
      "source": [
        "# 흡연 습관의 빈도에 따른 OneHot Encoding (유사성을 기준으로 분류)\n",
        "smoking_history_mapping = {'No Info': np.nan, 'never': 0, 'not current': 0, 'former': 1, 'current': 2, 'ever': 2}\n",
        "data.smoking_history = data['smoking_history'].map(smoking_history_mapping)\n",
        "\n",
        "null_idx = data.smoking_history[data['smoking_history'].isnull()].index\n",
        "data['smoking_history']"
      ],
      "metadata": {
        "colab": {
          "base_uri": "https://localhost:8080/"
        },
        "id": "wbXVeaqG2MP_",
        "outputId": "7e8fc9f6-c45a-47c6-d865-951ee656ded8"
      },
      "execution_count": null,
      "outputs": [
        {
          "output_type": "execute_result",
          "data": {
            "text/plain": [
              "0        0.0\n",
              "1        NaN\n",
              "2        0.0\n",
              "3        2.0\n",
              "4        2.0\n",
              "        ... \n",
              "99994    NaN\n",
              "99996    NaN\n",
              "99997    1.0\n",
              "99998    0.0\n",
              "99999    2.0\n",
              "Name: smoking_history, Length: 96146, dtype: float64"
            ]
          },
          "metadata": {},
          "execution_count": 14
        }
      ]
    },
    {
      "cell_type": "code",
      "source": [
        "y = pd.get_dummies(data['diabetes'])\n",
        "y"
      ],
      "metadata": {
        "colab": {
          "base_uri": "https://localhost:8080/",
          "height": 423
        },
        "id": "2u3QgAHs2AdQ",
        "outputId": "f668ccb2-932c-40ec-ec39-3dda91dbe491"
      },
      "execution_count": null,
      "outputs": [
        {
          "output_type": "execute_result",
          "data": {
            "text/plain": [
              "       0  1\n",
              "0      1  0\n",
              "1      1  0\n",
              "2      1  0\n",
              "3      1  0\n",
              "4      1  0\n",
              "...   .. ..\n",
              "99994  1  0\n",
              "99996  1  0\n",
              "99997  1  0\n",
              "99998  1  0\n",
              "99999  1  0\n",
              "\n",
              "[90792 rows x 2 columns]"
            ],
            "text/html": [
              "\n",
              "  <div id=\"df-121810ca-da50-4309-9832-1c73d8fcede0\">\n",
              "    <div class=\"colab-df-container\">\n",
              "      <div>\n",
              "<style scoped>\n",
              "    .dataframe tbody tr th:only-of-type {\n",
              "        vertical-align: middle;\n",
              "    }\n",
              "\n",
              "    .dataframe tbody tr th {\n",
              "        vertical-align: top;\n",
              "    }\n",
              "\n",
              "    .dataframe thead th {\n",
              "        text-align: right;\n",
              "    }\n",
              "</style>\n",
              "<table border=\"1\" class=\"dataframe\">\n",
              "  <thead>\n",
              "    <tr style=\"text-align: right;\">\n",
              "      <th></th>\n",
              "      <th>0</th>\n",
              "      <th>1</th>\n",
              "    </tr>\n",
              "  </thead>\n",
              "  <tbody>\n",
              "    <tr>\n",
              "      <th>0</th>\n",
              "      <td>1</td>\n",
              "      <td>0</td>\n",
              "    </tr>\n",
              "    <tr>\n",
              "      <th>1</th>\n",
              "      <td>1</td>\n",
              "      <td>0</td>\n",
              "    </tr>\n",
              "    <tr>\n",
              "      <th>2</th>\n",
              "      <td>1</td>\n",
              "      <td>0</td>\n",
              "    </tr>\n",
              "    <tr>\n",
              "      <th>3</th>\n",
              "      <td>1</td>\n",
              "      <td>0</td>\n",
              "    </tr>\n",
              "    <tr>\n",
              "      <th>4</th>\n",
              "      <td>1</td>\n",
              "      <td>0</td>\n",
              "    </tr>\n",
              "    <tr>\n",
              "      <th>...</th>\n",
              "      <td>...</td>\n",
              "      <td>...</td>\n",
              "    </tr>\n",
              "    <tr>\n",
              "      <th>99994</th>\n",
              "      <td>1</td>\n",
              "      <td>0</td>\n",
              "    </tr>\n",
              "    <tr>\n",
              "      <th>99996</th>\n",
              "      <td>1</td>\n",
              "      <td>0</td>\n",
              "    </tr>\n",
              "    <tr>\n",
              "      <th>99997</th>\n",
              "      <td>1</td>\n",
              "      <td>0</td>\n",
              "    </tr>\n",
              "    <tr>\n",
              "      <th>99998</th>\n",
              "      <td>1</td>\n",
              "      <td>0</td>\n",
              "    </tr>\n",
              "    <tr>\n",
              "      <th>99999</th>\n",
              "      <td>1</td>\n",
              "      <td>0</td>\n",
              "    </tr>\n",
              "  </tbody>\n",
              "</table>\n",
              "<p>90792 rows × 2 columns</p>\n",
              "</div>\n",
              "      <button class=\"colab-df-convert\" onclick=\"convertToInteractive('df-121810ca-da50-4309-9832-1c73d8fcede0')\"\n",
              "              title=\"Convert this dataframe to an interactive table.\"\n",
              "              style=\"display:none;\">\n",
              "        \n",
              "  <svg xmlns=\"http://www.w3.org/2000/svg\" height=\"24px\"viewBox=\"0 0 24 24\"\n",
              "       width=\"24px\">\n",
              "    <path d=\"M0 0h24v24H0V0z\" fill=\"none\"/>\n",
              "    <path d=\"M18.56 5.44l.94 2.06.94-2.06 2.06-.94-2.06-.94-.94-2.06-.94 2.06-2.06.94zm-11 1L8.5 8.5l.94-2.06 2.06-.94-2.06-.94L8.5 2.5l-.94 2.06-2.06.94zm10 10l.94 2.06.94-2.06 2.06-.94-2.06-.94-.94-2.06-.94 2.06-2.06.94z\"/><path d=\"M17.41 7.96l-1.37-1.37c-.4-.4-.92-.59-1.43-.59-.52 0-1.04.2-1.43.59L10.3 9.45l-7.72 7.72c-.78.78-.78 2.05 0 2.83L4 21.41c.39.39.9.59 1.41.59.51 0 1.02-.2 1.41-.59l7.78-7.78 2.81-2.81c.8-.78.8-2.07 0-2.86zM5.41 20L4 18.59l7.72-7.72 1.47 1.35L5.41 20z\"/>\n",
              "  </svg>\n",
              "      </button>\n",
              "      \n",
              "  <style>\n",
              "    .colab-df-container {\n",
              "      display:flex;\n",
              "      flex-wrap:wrap;\n",
              "      gap: 12px;\n",
              "    }\n",
              "\n",
              "    .colab-df-convert {\n",
              "      background-color: #E8F0FE;\n",
              "      border: none;\n",
              "      border-radius: 50%;\n",
              "      cursor: pointer;\n",
              "      display: none;\n",
              "      fill: #1967D2;\n",
              "      height: 32px;\n",
              "      padding: 0 0 0 0;\n",
              "      width: 32px;\n",
              "    }\n",
              "\n",
              "    .colab-df-convert:hover {\n",
              "      background-color: #E2EBFA;\n",
              "      box-shadow: 0px 1px 2px rgba(60, 64, 67, 0.3), 0px 1px 3px 1px rgba(60, 64, 67, 0.15);\n",
              "      fill: #174EA6;\n",
              "    }\n",
              "\n",
              "    [theme=dark] .colab-df-convert {\n",
              "      background-color: #3B4455;\n",
              "      fill: #D2E3FC;\n",
              "    }\n",
              "\n",
              "    [theme=dark] .colab-df-convert:hover {\n",
              "      background-color: #434B5C;\n",
              "      box-shadow: 0px 1px 3px 1px rgba(0, 0, 0, 0.15);\n",
              "      filter: drop-shadow(0px 1px 2px rgba(0, 0, 0, 0.3));\n",
              "      fill: #FFFFFF;\n",
              "    }\n",
              "  </style>\n",
              "\n",
              "      <script>\n",
              "        const buttonEl =\n",
              "          document.querySelector('#df-121810ca-da50-4309-9832-1c73d8fcede0 button.colab-df-convert');\n",
              "        buttonEl.style.display =\n",
              "          google.colab.kernel.accessAllowed ? 'block' : 'none';\n",
              "\n",
              "        async function convertToInteractive(key) {\n",
              "          const element = document.querySelector('#df-121810ca-da50-4309-9832-1c73d8fcede0');\n",
              "          const dataTable =\n",
              "            await google.colab.kernel.invokeFunction('convertToInteractive',\n",
              "                                                     [key], {});\n",
              "          if (!dataTable) return;\n",
              "\n",
              "          const docLinkHtml = 'Like what you see? Visit the ' +\n",
              "            '<a target=\"_blank\" href=https://colab.research.google.com/notebooks/data_table.ipynb>data table notebook</a>'\n",
              "            + ' to learn more about interactive tables.';\n",
              "          element.innerHTML = '';\n",
              "          dataTable['output_type'] = 'display_data';\n",
              "          await google.colab.output.renderOutput(dataTable, element);\n",
              "          const docLink = document.createElement('div');\n",
              "          docLink.innerHTML = docLinkHtml;\n",
              "          element.appendChild(docLink);\n",
              "        }\n",
              "      </script>\n",
              "    </div>\n",
              "  </div>\n",
              "  "
            ]
          },
          "metadata": {},
          "execution_count": 104
        }
      ]
    },
    {
      "cell_type": "markdown",
      "source": [
        "2) Missing Values in 'smoking_history'"
      ],
      "metadata": {
        "id": "vKAiMs0Ux2_B"
      }
    },
    {
      "cell_type": "code",
      "source": [
        "imputer = KNNImputer(n_neighbors=1)\n",
        "filled_data = imputer.fit_transform(data)    # About 3m.\n",
        "filled_data = pd.DataFrame(filled_data, index=data.index, columns=data.columns)\n",
        "data['smoking_history'] = filled_data['smoking_history'].astype('int')"
      ],
      "metadata": {
        "id": "zhGs9X3r45Rh"
      },
      "execution_count": null,
      "outputs": []
    },
    {
      "cell_type": "code",
      "source": [
        "data['smoking_history'][null_idx].value_counts()\n",
        "# No Info를 아래와 같이 채웠다."
      ],
      "metadata": {
        "colab": {
          "base_uri": "https://localhost:8080/"
        },
        "id": "S4zTrTYF58Ff",
        "outputId": "930b105e-ec5f-4330-f937-5f4d497aeb11"
      },
      "execution_count": null,
      "outputs": [
        {
          "output_type": "execute_result",
          "data": {
            "text/plain": [
              "0    25353\n",
              "2     4553\n",
              "1     2981\n",
              "Name: smoking_history, dtype: int64"
            ]
          },
          "metadata": {},
          "execution_count": 16
        }
      ]
    },
    {
      "cell_type": "code",
      "source": [
        "#'age' 칼럼을 정수화한다.\n",
        "data.age = data['age'].astype('int')"
      ],
      "metadata": {
        "id": "a5gm8LDWE62J"
      },
      "execution_count": null,
      "outputs": []
    },
    {
      "cell_type": "markdown",
      "source": [
        "3) Remove Outliers of 'bmi'"
      ],
      "metadata": {
        "id": "OQaYUvvDJlN5"
      }
    },
    {
      "cell_type": "code",
      "source": [
        "bmi_vec = data['bmi']"
      ],
      "metadata": {
        "id": "XumkgaALJhUZ"
      },
      "execution_count": null,
      "outputs": []
    },
    {
      "cell_type": "code",
      "source": [
        "# Boxplot의 사분위를 사용하여 outlier 범위를 설정한다.\n",
        "Q1 = bmi_vec.quantile(0.25)\n",
        "Q3 = bmi_vec.quantile(0.75)\n",
        "IQR = Q3 - Q1; epsilon = 1.5 * IQR\n",
        "outlier_bool = ((bmi_vec < Q1 - epsilon) | (bmi_vec > Q3 + epsilon))\n",
        "outlier = bmi_vec[outlier_bool]\n",
        "outlier"
      ],
      "metadata": {
        "colab": {
          "base_uri": "https://localhost:8080/"
        },
        "id": "iZnGEB36JzG3",
        "outputId": "74246308-5804-45f7-de89-c9cf1ed15696"
      },
      "execution_count": null,
      "outputs": [
        {
          "output_type": "execute_result",
          "data": {
            "text/plain": [
              "11       54.70\n",
              "39       56.43\n",
              "59       63.48\n",
              "93       55.61\n",
              "98       50.13\n",
              "         ...  \n",
              "99933    13.34\n",
              "99948    39.62\n",
              "99953    60.52\n",
              "99960    45.15\n",
              "99993    40.69\n",
              "Name: bmi, Length: 5354, dtype: float64"
            ]
          },
          "metadata": {},
          "execution_count": 19
        }
      ]
    },
    {
      "cell_type": "code",
      "source": [
        "data.drop(outlier.index, inplace=True)"
      ],
      "metadata": {
        "id": "j--PM6BEi2ip"
      },
      "execution_count": null,
      "outputs": []
    },
    {
      "cell_type": "markdown",
      "source": [
        "4) Visualization by referring Corr. Matrix"
      ],
      "metadata": {
        "id": "7vJGWZVOlegD"
      }
    },
    {
      "cell_type": "markdown",
      "source": [
        "* Notable Relationships\n",
        "  * diabetes & blood_glucose_level  (0.4243)\n",
        "  * diabetes & HbA1c_level  (0.4064)\n",
        "  * diabetes & age  (0.2649)\n",
        "  - - -\n",
        "  * age & bmi  (0.3448)\n",
        "  * age & hypertension  (0.2573)\n",
        "  * age & heart_disease  (0.2385)"
      ],
      "metadata": {
        "id": "S9eN3mB60f7Q"
      }
    },
    {
      "cell_type": "code",
      "source": [
        "%matplotlib inline\n",
        "fig = plt.figure(figsize= (6,2))\n",
        "\n",
        "ax = plt.subplot(1,3,1)\n",
        "sns.lineplot(x= data['age'], y= data['diabetes'], color= \"black\")\n",
        "\n",
        "plt.subplot(1,3,2)\n",
        "sns.lineplot(x= data['blood_glucose_level'], y= data['diabetes'], color= 'black')\n",
        "\n",
        "plt.subplot(1,3,3)\n",
        "sns.lineplot(x= data['HbA1c_level'], y= data['diabetes'])\n",
        "\n",
        "plt.suptitle(\"3 Major Factors Affecting Diabetes\")\n",
        "\n",
        "plt.tight_layout()\n",
        "plt.savefig('major_factors_affecting_diabetes.png', facecolor='#eeeeee')\n",
        "plt.show()"
      ],
      "metadata": {
        "colab": {
          "base_uri": "https://localhost:8080/",
          "height": 212
        },
        "id": "T5SXMdQGljuJ",
        "outputId": "13ca5ebd-4f66-431a-8c0b-143dfd3946f7"
      },
      "execution_count": null,
      "outputs": [
        {
          "output_type": "display_data",
          "data": {
            "text/plain": [
              "<Figure size 600x200 with 3 Axes>"
            ],
            "image/svg+xml": "<?xml version=\"1.0\" encoding=\"utf-8\" standalone=\"no\"?>\n<!DOCTYPE svg PUBLIC \"-//W3C//DTD SVG 1.1//EN\"\n  \"http://www.w3.org/Graphics/SVG/1.1/DTD/svg11.dtd\">\n<svg xmlns:xlink=\"http://www.w3.org/1999/xlink\" width=\"424.46125pt\" height=\"144.093125pt\" viewBox=\"0 0 424.46125 144.093125\" xmlns=\"http://www.w3.org/2000/svg\" version=\"1.1\">\n <metadata>\n  <rdf:RDF xmlns:dc=\"http://purl.org/dc/elements/1.1/\" xmlns:cc=\"http://creativecommons.org/ns#\" xmlns:rdf=\"http://www.w3.org/1999/02/22-rdf-syntax-ns#\">\n   <cc:Work>\n    <dc:type rdf:resource=\"http://purl.org/dc/dcmitype/StillImage\"/>\n    <dc:date>2023-05-21T06:16:14.415581</dc:date>\n    <dc:format>image/svg+xml</dc:format>\n    <dc:creator>\n     <cc:Agent>\n      <dc:title>Matplotlib v3.7.1, https://matplotlib.org/</dc:title>\n     </cc:Agent>\n    </dc:creator>\n   </cc:Work>\n  </rdf:RDF>\n </metadata>\n <defs>\n  <style type=\"text/css\">*{stroke-linejoin: round; stroke-linecap: butt}</style>\n </defs>\n <g id=\"figure_1\">\n  <g id=\"patch_1\">\n   <path d=\"M 0 144.093125 \nL 424.46125 144.093125 \nL 424.46125 0 \nL 0 0 \nz\n\" style=\"fill: #ffffff\"/>\n  </g>\n  <g id=\"axes_1\">\n   <g id=\"patch_2\">\n    <path d=\"M 43.78125 106.25875 \nL 128.945207 106.25875 \nL 128.945207 38.88 \nL 43.78125 38.88 \nz\n\" style=\"fill: #ffffff\"/>\n   </g>\n   <g id=\"matplotlib.axis_1\">\n    <g id=\"xtick_1\">\n     <g id=\"line2d_1\">\n      <path d=\"M 47.652339 106.25875 \nL 47.652339 38.88 \n\" clip-path=\"url(#p6f5feef8ac)\" style=\"fill: none; stroke: #cccccc; stroke-width: 0.8; stroke-linecap: round\"/>\n     </g>\n     <g id=\"text_1\">\n      <!-- 0 -->\n      <g style=\"fill: #262626\" transform=\"translate(44.471089 120.857187) scale(0.1 -0.1)\">\n       <defs>\n        <path id=\"DejaVuSans-30\" d=\"M 2034 4250 \nQ 1547 4250 1301 3770 \nQ 1056 3291 1056 2328 \nQ 1056 1369 1301 889 \nQ 1547 409 2034 409 \nQ 2525 409 2770 889 \nQ 3016 1369 3016 2328 \nQ 3016 3291 2770 3770 \nQ 2525 4250 2034 4250 \nz\nM 2034 4750 \nQ 2819 4750 3233 4129 \nQ 3647 3509 3647 2328 \nQ 3647 1150 3233 529 \nQ 2819 -91 2034 -91 \nQ 1250 -91 836 529 \nQ 422 1150 422 2328 \nQ 422 3509 836 4129 \nQ 1250 4750 2034 4750 \nz\n\" transform=\"scale(0.015625)\"/>\n       </defs>\n       <use xlink:href=\"#DejaVuSans-30\"/>\n      </g>\n     </g>\n    </g>\n    <g id=\"xtick_2\">\n     <g id=\"line2d_2\">\n      <path d=\"M 96.040951 106.25875 \nL 96.040951 38.88 \n\" clip-path=\"url(#p6f5feef8ac)\" style=\"fill: none; stroke: #cccccc; stroke-width: 0.8; stroke-linecap: round\"/>\n     </g>\n     <g id=\"text_2\">\n      <!-- 50 -->\n      <g style=\"fill: #262626\" transform=\"translate(89.678451 120.857187) scale(0.1 -0.1)\">\n       <defs>\n        <path id=\"DejaVuSans-35\" d=\"M 691 4666 \nL 3169 4666 \nL 3169 4134 \nL 1269 4134 \nL 1269 2991 \nQ 1406 3038 1543 3061 \nQ 1681 3084 1819 3084 \nQ 2600 3084 3056 2656 \nQ 3513 2228 3513 1497 \nQ 3513 744 3044 326 \nQ 2575 -91 1722 -91 \nQ 1428 -91 1123 -41 \nQ 819 9 494 109 \nL 494 744 \nQ 775 591 1075 516 \nQ 1375 441 1709 441 \nQ 2250 441 2565 725 \nQ 2881 1009 2881 1497 \nQ 2881 1984 2565 2268 \nQ 2250 2553 1709 2553 \nQ 1456 2553 1204 2497 \nQ 953 2441 691 2322 \nL 691 4666 \nz\n\" transform=\"scale(0.015625)\"/>\n       </defs>\n       <use xlink:href=\"#DejaVuSans-35\"/>\n       <use xlink:href=\"#DejaVuSans-30\" x=\"63.623047\"/>\n      </g>\n     </g>\n    </g>\n    <g id=\"text_3\">\n     <!-- age -->\n     <g style=\"fill: #262626\" transform=\"translate(77.048385 134.535312) scale(0.1 -0.1)\">\n      <defs>\n       <path id=\"DejaVuSans-61\" d=\"M 2194 1759 \nQ 1497 1759 1228 1600 \nQ 959 1441 959 1056 \nQ 959 750 1161 570 \nQ 1363 391 1709 391 \nQ 2188 391 2477 730 \nQ 2766 1069 2766 1631 \nL 2766 1759 \nL 2194 1759 \nz\nM 3341 1997 \nL 3341 0 \nL 2766 0 \nL 2766 531 \nQ 2569 213 2275 61 \nQ 1981 -91 1556 -91 \nQ 1019 -91 701 211 \nQ 384 513 384 1019 \nQ 384 1609 779 1909 \nQ 1175 2209 1959 2209 \nL 2766 2209 \nL 2766 2266 \nQ 2766 2663 2505 2880 \nQ 2244 3097 1772 3097 \nQ 1472 3097 1187 3025 \nQ 903 2953 641 2809 \nL 641 3341 \nQ 956 3463 1253 3523 \nQ 1550 3584 1831 3584 \nQ 2591 3584 2966 3190 \nQ 3341 2797 3341 1997 \nz\n\" transform=\"scale(0.015625)\"/>\n       <path id=\"DejaVuSans-67\" d=\"M 2906 1791 \nQ 2906 2416 2648 2759 \nQ 2391 3103 1925 3103 \nQ 1463 3103 1205 2759 \nQ 947 2416 947 1791 \nQ 947 1169 1205 825 \nQ 1463 481 1925 481 \nQ 2391 481 2648 825 \nQ 2906 1169 2906 1791 \nz\nM 3481 434 \nQ 3481 -459 3084 -895 \nQ 2688 -1331 1869 -1331 \nQ 1566 -1331 1297 -1286 \nQ 1028 -1241 775 -1147 \nL 775 -588 \nQ 1028 -725 1275 -790 \nQ 1522 -856 1778 -856 \nQ 2344 -856 2625 -561 \nQ 2906 -266 2906 331 \nL 2906 616 \nQ 2728 306 2450 153 \nQ 2172 0 1784 0 \nQ 1141 0 747 490 \nQ 353 981 353 1791 \nQ 353 2603 747 3093 \nQ 1141 3584 1784 3584 \nQ 2172 3584 2450 3431 \nQ 2728 3278 2906 2969 \nL 2906 3500 \nL 3481 3500 \nL 3481 434 \nz\n\" transform=\"scale(0.015625)\"/>\n       <path id=\"DejaVuSans-65\" d=\"M 3597 1894 \nL 3597 1613 \nL 953 1613 \nQ 991 1019 1311 708 \nQ 1631 397 2203 397 \nQ 2534 397 2845 478 \nQ 3156 559 3463 722 \nL 3463 178 \nQ 3153 47 2828 -22 \nQ 2503 -91 2169 -91 \nQ 1331 -91 842 396 \nQ 353 884 353 1716 \nQ 353 2575 817 3079 \nQ 1281 3584 2069 3584 \nQ 2775 3584 3186 3129 \nQ 3597 2675 3597 1894 \nz\nM 3022 2063 \nQ 3016 2534 2758 2815 \nQ 2500 3097 2075 3097 \nQ 1594 3097 1305 2825 \nQ 1016 2553 972 2059 \nL 3022 2063 \nz\n\" transform=\"scale(0.015625)\"/>\n      </defs>\n      <use xlink:href=\"#DejaVuSans-61\"/>\n      <use xlink:href=\"#DejaVuSans-67\" x=\"61.279297\"/>\n      <use xlink:href=\"#DejaVuSans-65\" x=\"124.755859\"/>\n     </g>\n    </g>\n   </g>\n   <g id=\"matplotlib.axis_2\">\n    <g id=\"ytick_1\">\n     <g id=\"line2d_3\">\n      <path d=\"M 43.78125 103.19608 \nL 128.945207 103.19608 \n\" clip-path=\"url(#p6f5feef8ac)\" style=\"fill: none; stroke: #cccccc; stroke-width: 0.8; stroke-linecap: round\"/>\n     </g>\n     <g id=\"text_4\">\n      <!-- 0.0 -->\n      <g style=\"fill: #262626\" transform=\"translate(20.878125 106.995298) scale(0.1 -0.1)\">\n       <defs>\n        <path id=\"DejaVuSans-2e\" d=\"M 684 794 \nL 1344 794 \nL 1344 0 \nL 684 0 \nL 684 794 \nz\n\" transform=\"scale(0.015625)\"/>\n       </defs>\n       <use xlink:href=\"#DejaVuSans-30\"/>\n       <use xlink:href=\"#DejaVuSans-2e\" x=\"63.623047\"/>\n       <use xlink:href=\"#DejaVuSans-30\" x=\"95.410156\"/>\n      </g>\n     </g>\n    </g>\n    <g id=\"ytick_2\">\n     <g id=\"line2d_4\">\n      <path d=\"M 43.78125 80.301205 \nL 128.945207 80.301205 \n\" clip-path=\"url(#p6f5feef8ac)\" style=\"fill: none; stroke: #cccccc; stroke-width: 0.8; stroke-linecap: round\"/>\n     </g>\n     <g id=\"text_5\">\n      <!-- 0.1 -->\n      <g style=\"fill: #262626\" transform=\"translate(20.878125 84.100424) scale(0.1 -0.1)\">\n       <defs>\n        <path id=\"DejaVuSans-31\" d=\"M 794 531 \nL 1825 531 \nL 1825 4091 \nL 703 3866 \nL 703 4441 \nL 1819 4666 \nL 2450 4666 \nL 2450 531 \nL 3481 531 \nL 3481 0 \nL 794 0 \nL 794 531 \nz\n\" transform=\"scale(0.015625)\"/>\n       </defs>\n       <use xlink:href=\"#DejaVuSans-30\"/>\n       <use xlink:href=\"#DejaVuSans-2e\" x=\"63.623047\"/>\n       <use xlink:href=\"#DejaVuSans-31\" x=\"95.410156\"/>\n      </g>\n     </g>\n    </g>\n    <g id=\"ytick_3\">\n     <g id=\"line2d_5\">\n      <path d=\"M 43.78125 57.40633 \nL 128.945207 57.40633 \n\" clip-path=\"url(#p6f5feef8ac)\" style=\"fill: none; stroke: #cccccc; stroke-width: 0.8; stroke-linecap: round\"/>\n     </g>\n     <g id=\"text_6\">\n      <!-- 0.2 -->\n      <g style=\"fill: #262626\" transform=\"translate(20.878125 61.205549) scale(0.1 -0.1)\">\n       <defs>\n        <path id=\"DejaVuSans-32\" d=\"M 1228 531 \nL 3431 531 \nL 3431 0 \nL 469 0 \nL 469 531 \nQ 828 903 1448 1529 \nQ 2069 2156 2228 2338 \nQ 2531 2678 2651 2914 \nQ 2772 3150 2772 3378 \nQ 2772 3750 2511 3984 \nQ 2250 4219 1831 4219 \nQ 1534 4219 1204 4116 \nQ 875 4013 500 3803 \nL 500 4441 \nQ 881 4594 1212 4672 \nQ 1544 4750 1819 4750 \nQ 2544 4750 2975 4387 \nQ 3406 4025 3406 3419 \nQ 3406 3131 3298 2873 \nQ 3191 2616 2906 2266 \nQ 2828 2175 2409 1742 \nQ 1991 1309 1228 531 \nz\n\" transform=\"scale(0.015625)\"/>\n       </defs>\n       <use xlink:href=\"#DejaVuSans-30\"/>\n       <use xlink:href=\"#DejaVuSans-2e\" x=\"63.623047\"/>\n       <use xlink:href=\"#DejaVuSans-32\" x=\"95.410156\"/>\n      </g>\n     </g>\n    </g>\n    <g id=\"text_7\">\n     <!-- diabetes -->\n     <g style=\"fill: #262626\" transform=\"translate(14.798438 94.088906) rotate(-90) scale(0.1 -0.1)\">\n      <defs>\n       <path id=\"DejaVuSans-64\" d=\"M 2906 2969 \nL 2906 4863 \nL 3481 4863 \nL 3481 0 \nL 2906 0 \nL 2906 525 \nQ 2725 213 2448 61 \nQ 2172 -91 1784 -91 \nQ 1150 -91 751 415 \nQ 353 922 353 1747 \nQ 353 2572 751 3078 \nQ 1150 3584 1784 3584 \nQ 2172 3584 2448 3432 \nQ 2725 3281 2906 2969 \nz\nM 947 1747 \nQ 947 1113 1208 752 \nQ 1469 391 1925 391 \nQ 2381 391 2643 752 \nQ 2906 1113 2906 1747 \nQ 2906 2381 2643 2742 \nQ 2381 3103 1925 3103 \nQ 1469 3103 1208 2742 \nQ 947 2381 947 1747 \nz\n\" transform=\"scale(0.015625)\"/>\n       <path id=\"DejaVuSans-69\" d=\"M 603 3500 \nL 1178 3500 \nL 1178 0 \nL 603 0 \nL 603 3500 \nz\nM 603 4863 \nL 1178 4863 \nL 1178 4134 \nL 603 4134 \nL 603 4863 \nz\n\" transform=\"scale(0.015625)\"/>\n       <path id=\"DejaVuSans-62\" d=\"M 3116 1747 \nQ 3116 2381 2855 2742 \nQ 2594 3103 2138 3103 \nQ 1681 3103 1420 2742 \nQ 1159 2381 1159 1747 \nQ 1159 1113 1420 752 \nQ 1681 391 2138 391 \nQ 2594 391 2855 752 \nQ 3116 1113 3116 1747 \nz\nM 1159 2969 \nQ 1341 3281 1617 3432 \nQ 1894 3584 2278 3584 \nQ 2916 3584 3314 3078 \nQ 3713 2572 3713 1747 \nQ 3713 922 3314 415 \nQ 2916 -91 2278 -91 \nQ 1894 -91 1617 61 \nQ 1341 213 1159 525 \nL 1159 0 \nL 581 0 \nL 581 4863 \nL 1159 4863 \nL 1159 2969 \nz\n\" transform=\"scale(0.015625)\"/>\n       <path id=\"DejaVuSans-74\" d=\"M 1172 4494 \nL 1172 3500 \nL 2356 3500 \nL 2356 3053 \nL 1172 3053 \nL 1172 1153 \nQ 1172 725 1289 603 \nQ 1406 481 1766 481 \nL 2356 481 \nL 2356 0 \nL 1766 0 \nQ 1100 0 847 248 \nQ 594 497 594 1153 \nL 594 3053 \nL 172 3053 \nL 172 3500 \nL 594 3500 \nL 594 4494 \nL 1172 4494 \nz\n\" transform=\"scale(0.015625)\"/>\n       <path id=\"DejaVuSans-73\" d=\"M 2834 3397 \nL 2834 2853 \nQ 2591 2978 2328 3040 \nQ 2066 3103 1784 3103 \nQ 1356 3103 1142 2972 \nQ 928 2841 928 2578 \nQ 928 2378 1081 2264 \nQ 1234 2150 1697 2047 \nL 1894 2003 \nQ 2506 1872 2764 1633 \nQ 3022 1394 3022 966 \nQ 3022 478 2636 193 \nQ 2250 -91 1575 -91 \nQ 1294 -91 989 -36 \nQ 684 19 347 128 \nL 347 722 \nQ 666 556 975 473 \nQ 1284 391 1588 391 \nQ 1994 391 2212 530 \nQ 2431 669 2431 922 \nQ 2431 1156 2273 1281 \nQ 2116 1406 1581 1522 \nL 1381 1569 \nQ 847 1681 609 1914 \nQ 372 2147 372 2553 \nQ 372 3047 722 3315 \nQ 1072 3584 1716 3584 \nQ 2034 3584 2315 3537 \nQ 2597 3491 2834 3397 \nz\n\" transform=\"scale(0.015625)\"/>\n      </defs>\n      <use xlink:href=\"#DejaVuSans-64\"/>\n      <use xlink:href=\"#DejaVuSans-69\" x=\"63.476562\"/>\n      <use xlink:href=\"#DejaVuSans-61\" x=\"91.259766\"/>\n      <use xlink:href=\"#DejaVuSans-62\" x=\"152.539062\"/>\n      <use xlink:href=\"#DejaVuSans-65\" x=\"216.015625\"/>\n      <use xlink:href=\"#DejaVuSans-74\" x=\"277.539062\"/>\n      <use xlink:href=\"#DejaVuSans-65\" x=\"316.748047\"/>\n      <use xlink:href=\"#DejaVuSans-73\" x=\"378.271484\"/>\n     </g>\n    </g>\n   </g>\n   <g id=\"PolyCollection_1\">\n    <defs>\n     <path id=\"m973303b7d0\" d=\"M 47.652339 -40.897045 \nL 47.652339 -40.897045 \nL 48.620111 -40.897045 \nL 49.587883 -40.897045 \nL 50.555656 -40.897045 \nL 51.523428 -41.408092 \nL 52.4912 -40.897045 \nL 53.458972 -41.158701 \nL 54.426745 -41.163575 \nL 55.394517 -40.897045 \nL 56.362289 -41.207274 \nL 57.330061 -41.462351 \nL 58.297834 -40.897045 \nL 59.265606 -41.166714 \nL 60.233378 -41.659361 \nL 61.20115 -42.483295 \nL 62.168923 -41.887094 \nL 63.136695 -41.607331 \nL 64.104467 -41.619281 \nL 65.072239 -41.725819 \nL 66.040012 -42.264487 \nL 67.007784 -41.294181 \nL 67.975556 -41.095786 \nL 68.943328 -42.498086 \nL 69.911101 -41.497961 \nL 70.878873 -41.710362 \nL 71.846645 -42.304021 \nL 72.814417 -42.496687 \nL 73.782189 -43.068111 \nL 74.749962 -44.247515 \nL 75.717734 -43.756522 \nL 76.685506 -42.869042 \nL 77.653278 -44.347514 \nL 78.621051 -44.798414 \nL 79.588823 -44.002137 \nL 80.556595 -44.91017 \nL 81.524367 -45.618856 \nL 82.49214 -45.43886 \nL 83.459912 -45.231703 \nL 84.427684 -46.136147 \nL 85.395456 -49.067302 \nL 86.363229 -48.798166 \nL 87.331001 -48.384182 \nL 88.298773 -48.910252 \nL 89.266545 -49.976661 \nL 90.234318 -51.254251 \nL 91.20209 -51.169271 \nL 92.169862 -52.786075 \nL 93.137634 -55.832053 \nL 94.105407 -53.334576 \nL 95.073179 -53.61642 \nL 96.040951 -57.851795 \nL 97.008723 -56.543473 \nL 97.976496 -60.155968 \nL 98.944268 -56.709333 \nL 99.91204 -64.370245 \nL 100.879812 -62.612124 \nL 101.847584 -63.809821 \nL 102.815357 -69.098458 \nL 103.783129 -67.277971 \nL 104.750901 -69.357024 \nL 105.718673 -67.281659 \nL 106.686446 -73.965412 \nL 107.654218 -73.477885 \nL 108.62199 -75.227759 \nL 109.589762 -75.856285 \nL 110.557535 -80.72778 \nL 111.525307 -78.058502 \nL 112.493079 -85.742676 \nL 113.460851 -78.414975 \nL 114.428624 -83.533038 \nL 115.396396 -78.517731 \nL 116.364168 -81.41644 \nL 117.33194 -82.52409 \nL 118.299713 -83.38238 \nL 119.267485 -87.712895 \nL 120.235257 -86.485668 \nL 121.203029 -79.546476 \nL 122.170802 -75.486424 \nL 123.138574 -78.879326 \nL 124.106346 -85.532431 \nL 125.074118 -84.558926 \nL 125.074118 -89.783907 \nL 125.074118 -89.783907 \nL 124.106346 -100.154368 \nL 123.138574 -92.595149 \nL 122.170802 -88.004485 \nL 121.203029 -92.975515 \nL 120.235257 -100.572888 \nL 119.267485 -102.150455 \nL 118.299713 -96.076348 \nL 117.33194 -96.297745 \nL 116.364168 -93.600593 \nL 115.396396 -90.616813 \nL 114.428624 -94.961439 \nL 113.460851 -90.084262 \nL 112.493079 -97.308128 \nL 111.525307 -88.52351 \nL 110.557535 -91.896145 \nL 109.589762 -86.82389 \nL 108.62199 -85.671951 \nL 107.654218 -82.52409 \nL 106.686446 -83.361888 \nL 105.718673 -75.47595 \nL 104.750901 -77.695617 \nL 103.783129 -76.32757 \nL 102.815357 -77.279371 \nL 101.847584 -72.044099 \nL 100.879812 -70.306444 \nL 99.91204 -72.534836 \nL 98.944268 -63.462497 \nL 97.976496 -67.295052 \nL 97.008723 -63.089427 \nL 96.040951 -64.922531 \nL 95.073179 -59.552128 \nL 94.105407 -58.902825 \nL 93.137634 -62.232771 \nL 92.169862 -58.734836 \nL 91.20209 -56.914752 \nL 90.234318 -57.250527 \nL 89.266545 -55.13958 \nL 88.298773 -54.252389 \nL 87.331001 -53.506959 \nL 86.363229 -54.310575 \nL 85.395456 -54.51414 \nL 84.427684 -50.676702 \nL 83.459912 -49.763391 \nL 82.49214 -49.980675 \nL 81.524367 -50.145424 \nL 80.556595 -49.324607 \nL 79.588823 -47.940428 \nL 78.621051 -48.905118 \nL 77.653278 -48.406889 \nL 76.685506 -46.024235 \nL 75.717734 -47.383291 \nL 74.749962 -47.970259 \nL 73.782189 -46.226025 \nL 72.814417 -45.296061 \nL 71.846645 -45.133102 \nL 70.878873 -44.353643 \nL 69.911101 -43.701317 \nL 68.943328 -45.299906 \nL 67.975556 -42.884448 \nL 67.007784 -43.27986 \nL 66.040012 -45.194718 \nL 65.072239 -44.419334 \nL 64.104467 -44.267479 \nL 63.136695 -44.211712 \nL 62.168923 -44.85724 \nL 61.20115 -46.44892 \nL 60.233378 -44.200412 \nL 59.265606 -43.593733 \nL 58.297834 -41.763182 \nL 57.330061 -44.295945 \nL 56.362289 -43.378875 \nL 55.394517 -41.735686 \nL 54.426745 -43.562339 \nL 53.458972 -42.990291 \nL 52.4912 -41.634797 \nL 51.523428 -43.7078 \nL 50.555656 -41.602951 \nL 49.587883 -40.897045 \nL 48.620111 -40.897045 \nL 47.652339 -40.897045 \nz\n\" style=\"stroke: #000000; stroke-opacity: 0.2\"/>\n    </defs>\n    <g clip-path=\"url(#p6f5feef8ac)\">\n     <use xlink:href=\"#m973303b7d0\" x=\"0\" y=\"144.093125\" style=\"fill-opacity: 0.2; stroke: #000000; stroke-opacity: 0.2\"/>\n    </g>\n   </g>\n   <g id=\"line2d_6\">\n    <path d=\"M 47.652339 103.19608 \nL 48.620111 103.19608 \nL 49.587883 103.19608 \nL 50.555656 102.960778 \nL 51.523428 101.662941 \nL 52.4912 102.950163 \nL 53.458972 102.149457 \nL 54.426745 101.863433 \nL 55.394517 102.916533 \nL 56.362289 101.955165 \nL 57.330061 101.21751 \nL 58.297834 102.907367 \nL 59.265606 101.847736 \nL 60.233378 101.417343 \nL 61.20115 99.759205 \nL 62.168923 100.720958 \nL 63.136695 101.301984 \nL 64.104467 101.270117 \nL 65.072239 101.124145 \nL 66.040012 100.461197 \nL 67.007784 101.806105 \nL 67.975556 102.202378 \nL 68.943328 100.394259 \nL 69.911101 101.593639 \nL 70.878873 101.162787 \nL 71.846645 100.573759 \nL 72.814417 100.196751 \nL 73.782189 99.643427 \nL 74.749962 98.170375 \nL 75.717734 98.620917 \nL 76.685506 99.843686 \nL 77.653278 97.918892 \nL 78.621051 97.446694 \nL 79.588823 98.227933 \nL 80.556595 97.176393 \nL 81.524367 96.413935 \nL 82.49214 96.383358 \nL 83.459912 96.694093 \nL 84.427684 95.6867 \nL 85.395456 92.483965 \nL 86.363229 92.538754 \nL 87.331001 93.147555 \nL 88.298773 92.511805 \nL 89.266545 91.802052 \nL 90.234318 90.113294 \nL 91.20209 90.138166 \nL 92.169862 88.249871 \nL 93.137634 84.978652 \nL 94.105407 88.303774 \nL 95.073179 87.763238 \nL 96.040951 82.703754 \nL 97.008723 84.196846 \nL 97.976496 80.450628 \nL 98.944268 84.089566 \nL 99.91204 75.640584 \nL 100.879812 77.548349 \nL 101.847584 76.345171 \nL 102.815357 70.989733 \nL 103.783129 72.104275 \nL 104.750901 70.748078 \nL 105.718673 72.803043 \nL 106.686446 65.610177 \nL 107.654218 66.175306 \nL 108.62199 63.762152 \nL 109.589762 62.753038 \nL 110.557535 58.325628 \nL 111.525307 60.695333 \nL 112.493079 52.685738 \nL 113.460851 59.840337 \nL 114.428624 55.223449 \nL 115.396396 59.663572 \nL 116.364168 56.442932 \nL 117.33194 54.835248 \nL 118.299713 54.21993 \nL 119.267485 49.325787 \nL 120.235257 50.568037 \nL 121.203029 58.323436 \nL 122.170802 62.34767 \nL 123.138574 58.531731 \nL 124.106346 51.634513 \nL 125.074118 56.898183 \n\" clip-path=\"url(#p6f5feef8ac)\" style=\"fill: none; stroke: #000000; stroke-width: 1.5; stroke-linecap: round\"/>\n   </g>\n   <g id=\"patch_3\">\n    <path d=\"M 43.78125 106.25875 \nL 43.78125 38.88 \n\" style=\"fill: none; stroke: #000000; stroke-width: 0.8; stroke-linejoin: miter; stroke-linecap: square\"/>\n   </g>\n   <g id=\"patch_4\">\n    <path d=\"M 128.945207 106.25875 \nL 128.945207 38.88 \n\" style=\"fill: none; stroke: #000000; stroke-width: 0.8; stroke-linejoin: miter; stroke-linecap: square\"/>\n   </g>\n   <g id=\"patch_5\">\n    <path d=\"M 43.78125 106.25875 \nL 128.945207 106.25875 \n\" style=\"fill: none; stroke: #000000; stroke-width: 0.8; stroke-linejoin: miter; stroke-linecap: square\"/>\n   </g>\n   <g id=\"patch_6\">\n    <path d=\"M 43.78125 38.88 \nL 128.945207 38.88 \n\" style=\"fill: none; stroke: #000000; stroke-width: 0.8; stroke-linejoin: miter; stroke-linecap: square\"/>\n   </g>\n  </g>\n  <g id=\"axes_2\">\n   <g id=\"patch_7\">\n    <path d=\"M 187.939271 106.25875 \nL 273.103229 106.25875 \nL 273.103229 38.88 \nL 187.939271 38.88 \nz\n\" style=\"fill: #ffffff\"/>\n   </g>\n   <g id=\"matplotlib.axis_3\">\n    <g id=\"xtick_3\">\n     <g id=\"line2d_7\">\n      <path d=\"M 198.848704 106.25875 \nL 198.848704 38.88 \n\" clip-path=\"url(#ped45639c0d)\" style=\"fill: none; stroke: #cccccc; stroke-width: 0.8; stroke-linecap: round\"/>\n     </g>\n     <g id=\"text_8\">\n      <!-- 100 -->\n      <g style=\"fill: #262626\" transform=\"translate(189.304954 120.857187) scale(0.1 -0.1)\">\n       <use xlink:href=\"#DejaVuSans-31\"/>\n       <use xlink:href=\"#DejaVuSans-30\" x=\"63.623047\"/>\n       <use xlink:href=\"#DejaVuSans-30\" x=\"127.246094\"/>\n      </g>\n     </g>\n    </g>\n    <g id=\"xtick_4\">\n     <g id=\"line2d_8\">\n      <path d=\"M 234.040422 106.25875 \nL 234.040422 38.88 \n\" clip-path=\"url(#ped45639c0d)\" style=\"fill: none; stroke: #cccccc; stroke-width: 0.8; stroke-linecap: round\"/>\n     </g>\n     <g id=\"text_9\">\n      <!-- 200 -->\n      <g style=\"fill: #262626\" transform=\"translate(224.496672 120.857187) scale(0.1 -0.1)\">\n       <use xlink:href=\"#DejaVuSans-32\"/>\n       <use xlink:href=\"#DejaVuSans-30\" x=\"63.623047\"/>\n       <use xlink:href=\"#DejaVuSans-30\" x=\"127.246094\"/>\n      </g>\n     </g>\n    </g>\n    <g id=\"xtick_5\">\n     <g id=\"line2d_9\">\n      <path d=\"M 269.23214 106.25875 \nL 269.23214 38.88 \n\" clip-path=\"url(#ped45639c0d)\" style=\"fill: none; stroke: #cccccc; stroke-width: 0.8; stroke-linecap: round\"/>\n     </g>\n     <g id=\"text_10\">\n      <!-- 300 -->\n      <g style=\"fill: #262626\" transform=\"translate(259.68839 120.857187) scale(0.1 -0.1)\">\n       <defs>\n        <path id=\"DejaVuSans-33\" d=\"M 2597 2516 \nQ 3050 2419 3304 2112 \nQ 3559 1806 3559 1356 \nQ 3559 666 3084 287 \nQ 2609 -91 1734 -91 \nQ 1441 -91 1130 -33 \nQ 819 25 488 141 \nL 488 750 \nQ 750 597 1062 519 \nQ 1375 441 1716 441 \nQ 2309 441 2620 675 \nQ 2931 909 2931 1356 \nQ 2931 1769 2642 2001 \nQ 2353 2234 1838 2234 \nL 1294 2234 \nL 1294 2753 \nL 1863 2753 \nQ 2328 2753 2575 2939 \nQ 2822 3125 2822 3475 \nQ 2822 3834 2567 4026 \nQ 2313 4219 1838 4219 \nQ 1578 4219 1281 4162 \nQ 984 4106 628 3988 \nL 628 4550 \nQ 988 4650 1302 4700 \nQ 1616 4750 1894 4750 \nQ 2613 4750 3031 4423 \nQ 3450 4097 3450 3541 \nQ 3450 3153 3228 2886 \nQ 3006 2619 2597 2516 \nz\n\" transform=\"scale(0.015625)\"/>\n       </defs>\n       <use xlink:href=\"#DejaVuSans-33\"/>\n       <use xlink:href=\"#DejaVuSans-30\" x=\"63.623047\"/>\n       <use xlink:href=\"#DejaVuSans-30\" x=\"127.246094\"/>\n      </g>\n     </g>\n    </g>\n    <g id=\"text_11\">\n     <!-- blood_glucose_level -->\n     <g style=\"fill: #262626\" transform=\"translate(180.5525 134.535312) scale(0.1 -0.1)\">\n      <defs>\n       <path id=\"DejaVuSans-6c\" d=\"M 603 4863 \nL 1178 4863 \nL 1178 0 \nL 603 0 \nL 603 4863 \nz\n\" transform=\"scale(0.015625)\"/>\n       <path id=\"DejaVuSans-6f\" d=\"M 1959 3097 \nQ 1497 3097 1228 2736 \nQ 959 2375 959 1747 \nQ 959 1119 1226 758 \nQ 1494 397 1959 397 \nQ 2419 397 2687 759 \nQ 2956 1122 2956 1747 \nQ 2956 2369 2687 2733 \nQ 2419 3097 1959 3097 \nz\nM 1959 3584 \nQ 2709 3584 3137 3096 \nQ 3566 2609 3566 1747 \nQ 3566 888 3137 398 \nQ 2709 -91 1959 -91 \nQ 1206 -91 779 398 \nQ 353 888 353 1747 \nQ 353 2609 779 3096 \nQ 1206 3584 1959 3584 \nz\n\" transform=\"scale(0.015625)\"/>\n       <path id=\"DejaVuSans-5f\" d=\"M 3263 -1063 \nL 3263 -1509 \nL -63 -1509 \nL -63 -1063 \nL 3263 -1063 \nz\n\" transform=\"scale(0.015625)\"/>\n       <path id=\"DejaVuSans-75\" d=\"M 544 1381 \nL 544 3500 \nL 1119 3500 \nL 1119 1403 \nQ 1119 906 1312 657 \nQ 1506 409 1894 409 \nQ 2359 409 2629 706 \nQ 2900 1003 2900 1516 \nL 2900 3500 \nL 3475 3500 \nL 3475 0 \nL 2900 0 \nL 2900 538 \nQ 2691 219 2414 64 \nQ 2138 -91 1772 -91 \nQ 1169 -91 856 284 \nQ 544 659 544 1381 \nz\nM 1991 3584 \nL 1991 3584 \nz\n\" transform=\"scale(0.015625)\"/>\n       <path id=\"DejaVuSans-63\" d=\"M 3122 3366 \nL 3122 2828 \nQ 2878 2963 2633 3030 \nQ 2388 3097 2138 3097 \nQ 1578 3097 1268 2742 \nQ 959 2388 959 1747 \nQ 959 1106 1268 751 \nQ 1578 397 2138 397 \nQ 2388 397 2633 464 \nQ 2878 531 3122 666 \nL 3122 134 \nQ 2881 22 2623 -34 \nQ 2366 -91 2075 -91 \nQ 1284 -91 818 406 \nQ 353 903 353 1747 \nQ 353 2603 823 3093 \nQ 1294 3584 2113 3584 \nQ 2378 3584 2631 3529 \nQ 2884 3475 3122 3366 \nz\n\" transform=\"scale(0.015625)\"/>\n       <path id=\"DejaVuSans-76\" d=\"M 191 3500 \nL 800 3500 \nL 1894 563 \nL 2988 3500 \nL 3597 3500 \nL 2284 0 \nL 1503 0 \nL 191 3500 \nz\n\" transform=\"scale(0.015625)\"/>\n      </defs>\n      <use xlink:href=\"#DejaVuSans-62\"/>\n      <use xlink:href=\"#DejaVuSans-6c\" x=\"63.476562\"/>\n      <use xlink:href=\"#DejaVuSans-6f\" x=\"91.259766\"/>\n      <use xlink:href=\"#DejaVuSans-6f\" x=\"152.441406\"/>\n      <use xlink:href=\"#DejaVuSans-64\" x=\"213.623047\"/>\n      <use xlink:href=\"#DejaVuSans-5f\" x=\"277.099609\"/>\n      <use xlink:href=\"#DejaVuSans-67\" x=\"327.099609\"/>\n      <use xlink:href=\"#DejaVuSans-6c\" x=\"390.576172\"/>\n      <use xlink:href=\"#DejaVuSans-75\" x=\"418.359375\"/>\n      <use xlink:href=\"#DejaVuSans-63\" x=\"481.738281\"/>\n      <use xlink:href=\"#DejaVuSans-6f\" x=\"536.71875\"/>\n      <use xlink:href=\"#DejaVuSans-73\" x=\"597.900391\"/>\n      <use xlink:href=\"#DejaVuSans-65\" x=\"650\"/>\n      <use xlink:href=\"#DejaVuSans-5f\" x=\"711.523438\"/>\n      <use xlink:href=\"#DejaVuSans-6c\" x=\"761.523438\"/>\n      <use xlink:href=\"#DejaVuSans-65\" x=\"789.306641\"/>\n      <use xlink:href=\"#DejaVuSans-76\" x=\"850.830078\"/>\n      <use xlink:href=\"#DejaVuSans-65\" x=\"910.009766\"/>\n      <use xlink:href=\"#DejaVuSans-6c\" x=\"971.533203\"/>\n     </g>\n    </g>\n   </g>\n   <g id=\"matplotlib.axis_4\">\n    <g id=\"ytick_4\">\n     <g id=\"line2d_10\">\n      <path d=\"M 187.939271 103.19608 \nL 273.103229 103.19608 \n\" clip-path=\"url(#ped45639c0d)\" style=\"fill: none; stroke: #cccccc; stroke-width: 0.8; stroke-linecap: round\"/>\n     </g>\n     <g id=\"text_12\">\n      <!-- 0.0 -->\n      <g style=\"fill: #262626\" transform=\"translate(165.036146 106.995298) scale(0.1 -0.1)\">\n       <use xlink:href=\"#DejaVuSans-30\"/>\n       <use xlink:href=\"#DejaVuSans-2e\" x=\"63.623047\"/>\n       <use xlink:href=\"#DejaVuSans-30\" x=\"95.410156\"/>\n      </g>\n     </g>\n    </g>\n    <g id=\"ytick_5\">\n     <g id=\"line2d_11\">\n      <path d=\"M 187.939271 72.569375 \nL 273.103229 72.569375 \n\" clip-path=\"url(#ped45639c0d)\" style=\"fill: none; stroke: #cccccc; stroke-width: 0.8; stroke-linecap: round\"/>\n     </g>\n     <g id=\"text_13\">\n      <!-- 0.5 -->\n      <g style=\"fill: #262626\" transform=\"translate(165.036146 76.368594) scale(0.1 -0.1)\">\n       <use xlink:href=\"#DejaVuSans-30\"/>\n       <use xlink:href=\"#DejaVuSans-2e\" x=\"63.623047\"/>\n       <use xlink:href=\"#DejaVuSans-35\" x=\"95.410156\"/>\n      </g>\n     </g>\n    </g>\n    <g id=\"ytick_6\">\n     <g id=\"line2d_12\">\n      <path d=\"M 187.939271 41.94267 \nL 273.103229 41.94267 \n\" clip-path=\"url(#ped45639c0d)\" style=\"fill: none; stroke: #cccccc; stroke-width: 0.8; stroke-linecap: round\"/>\n     </g>\n     <g id=\"text_14\">\n      <!-- 1.0 -->\n      <g style=\"fill: #262626\" transform=\"translate(165.036146 45.741889) scale(0.1 -0.1)\">\n       <use xlink:href=\"#DejaVuSans-31\"/>\n       <use xlink:href=\"#DejaVuSans-2e\" x=\"63.623047\"/>\n       <use xlink:href=\"#DejaVuSans-30\" x=\"95.410156\"/>\n      </g>\n     </g>\n    </g>\n    <g id=\"text_15\">\n     <!-- diabetes -->\n     <g style=\"fill: #262626\" transform=\"translate(158.956459 94.088906) rotate(-90) scale(0.1 -0.1)\">\n      <use xlink:href=\"#DejaVuSans-64\"/>\n      <use xlink:href=\"#DejaVuSans-69\" x=\"63.476562\"/>\n      <use xlink:href=\"#DejaVuSans-61\" x=\"91.259766\"/>\n      <use xlink:href=\"#DejaVuSans-62\" x=\"152.539062\"/>\n      <use xlink:href=\"#DejaVuSans-65\" x=\"216.015625\"/>\n      <use xlink:href=\"#DejaVuSans-74\" x=\"277.539062\"/>\n      <use xlink:href=\"#DejaVuSans-65\" x=\"316.748047\"/>\n      <use xlink:href=\"#DejaVuSans-73\" x=\"378.271484\"/>\n     </g>\n    </g>\n   </g>\n   <g id=\"PolyCollection_2\">\n    <defs>\n     <path id=\"m2f2b3e536f\" d=\"M 191.81036 -40.897045 \nL 191.81036 -40.897045 \nL 193.569946 -40.897045 \nL 195.329532 -40.897045 \nL 198.848704 -40.897045 \nL 207.998551 -45.202703 \nL 209.406219 -45.498881 \nL 212.925391 -45.183382 \nL 214.684977 -45.41704 \nL 218.204149 -44.920536 \nL 219.2599 -40.897045 \nL 219.611817 -45.385142 \nL 219.963735 -45.752493 \nL 234.040422 -45.441345 \nL 241.078765 -102.150455 \nL 248.117109 -102.150455 \nL 255.155453 -102.150455 \nL 262.193796 -102.150455 \nL 269.23214 -102.150455 \nL 269.23214 -102.150455 \nL 269.23214 -102.150455 \nL 262.193796 -102.150455 \nL 255.155453 -102.150455 \nL 248.117109 -102.150455 \nL 241.078765 -102.150455 \nL 234.040422 -46.267037 \nL 219.963735 -46.516844 \nL 219.611817 -46.183798 \nL 219.2599 -40.897045 \nL 218.204149 -45.687765 \nL 214.684977 -46.210241 \nL 212.925391 -45.963731 \nL 209.406219 -46.308372 \nL 207.998551 -45.985549 \nL 198.848704 -40.897045 \nL 195.329532 -40.897045 \nL 193.569946 -40.897045 \nL 191.81036 -40.897045 \nz\n\" style=\"stroke: #000000; stroke-opacity: 0.2\"/>\n    </defs>\n    <g clip-path=\"url(#ped45639c0d)\">\n     <use xlink:href=\"#m2f2b3e536f\" x=\"0\" y=\"144.093125\" style=\"fill-opacity: 0.2; stroke: #000000; stroke-opacity: 0.2\"/>\n    </g>\n   </g>\n   <g id=\"line2d_13\">\n    <path d=\"M 191.81036 103.19608 \nL 193.569946 103.19608 \nL 195.329532 103.19608 \nL 198.848704 103.19608 \nL 207.998551 98.498999 \nL 209.406219 98.185149 \nL 212.925391 98.524061 \nL 214.684977 98.270784 \nL 218.204149 98.771132 \nL 219.2599 103.19608 \nL 219.611817 98.299974 \nL 219.963735 97.954066 \nL 234.040422 98.243261 \nL 241.078765 41.94267 \nL 248.117109 41.94267 \nL 255.155453 41.94267 \nL 262.193796 41.94267 \nL 269.23214 41.94267 \n\" clip-path=\"url(#ped45639c0d)\" style=\"fill: none; stroke: #000000; stroke-width: 1.5; stroke-linecap: round\"/>\n   </g>\n   <g id=\"patch_8\">\n    <path d=\"M 187.939271 106.25875 \nL 187.939271 38.88 \n\" style=\"fill: none; stroke: #000000; stroke-width: 0.8; stroke-linejoin: miter; stroke-linecap: square\"/>\n   </g>\n   <g id=\"patch_9\">\n    <path d=\"M 273.103229 106.25875 \nL 273.103229 38.88 \n\" style=\"fill: none; stroke: #000000; stroke-width: 0.8; stroke-linejoin: miter; stroke-linecap: square\"/>\n   </g>\n   <g id=\"patch_10\">\n    <path d=\"M 187.939271 106.25875 \nL 273.103229 106.25875 \n\" style=\"fill: none; stroke: #000000; stroke-width: 0.8; stroke-linejoin: miter; stroke-linecap: square\"/>\n   </g>\n   <g id=\"patch_11\">\n    <path d=\"M 187.939271 38.88 \nL 273.103229 38.88 \n\" style=\"fill: none; stroke: #000000; stroke-width: 0.8; stroke-linejoin: miter; stroke-linecap: square\"/>\n   </g>\n  </g>\n  <g id=\"axes_3\">\n   <g id=\"patch_12\">\n    <path d=\"M 332.097293 106.25875 \nL 417.26125 106.25875 \nL 417.26125 38.88 \nL 332.097293 38.88 \nz\n\" style=\"fill: #ffffff\"/>\n   </g>\n   <g id=\"matplotlib.axis_5\">\n    <g id=\"xtick_6\">\n     <g id=\"line2d_14\">\n      <path d=\"M 357.083412 106.25875 \nL 357.083412 38.88 \n\" clip-path=\"url(#pb41e64b82b)\" style=\"fill: none; stroke: #cccccc; stroke-width: 0.8; stroke-linecap: round\"/>\n     </g>\n     <g id=\"text_16\">\n      <!-- 5.0 -->\n      <g style=\"fill: #262626\" transform=\"translate(349.13185 120.857187) scale(0.1 -0.1)\">\n       <use xlink:href=\"#DejaVuSans-35\"/>\n       <use xlink:href=\"#DejaVuSans-2e\" x=\"63.623047\"/>\n       <use xlink:href=\"#DejaVuSans-30\" x=\"95.410156\"/>\n      </g>\n     </g>\n    </g>\n    <g id=\"xtick_7\">\n     <g id=\"line2d_15\">\n      <path d=\"M 392.27513 106.25875 \nL 392.27513 38.88 \n\" clip-path=\"url(#pb41e64b82b)\" style=\"fill: none; stroke: #cccccc; stroke-width: 0.8; stroke-linecap: round\"/>\n     </g>\n     <g id=\"text_17\">\n      <!-- 7.5 -->\n      <g style=\"fill: #262626\" transform=\"translate(384.323568 120.857187) scale(0.1 -0.1)\">\n       <defs>\n        <path id=\"DejaVuSans-37\" d=\"M 525 4666 \nL 3525 4666 \nL 3525 4397 \nL 1831 0 \nL 1172 0 \nL 2766 4134 \nL 525 4134 \nL 525 4666 \nz\n\" transform=\"scale(0.015625)\"/>\n       </defs>\n       <use xlink:href=\"#DejaVuSans-37\"/>\n       <use xlink:href=\"#DejaVuSans-2e\" x=\"63.623047\"/>\n       <use xlink:href=\"#DejaVuSans-35\" x=\"95.410156\"/>\n      </g>\n     </g>\n    </g>\n    <g id=\"text_18\">\n     <!-- HbA1c_level -->\n     <g style=\"fill: #262626\" transform=\"translate(344.00349 134.535312) scale(0.1 -0.1)\">\n      <defs>\n       <path id=\"DejaVuSans-48\" d=\"M 628 4666 \nL 1259 4666 \nL 1259 2753 \nL 3553 2753 \nL 3553 4666 \nL 4184 4666 \nL 4184 0 \nL 3553 0 \nL 3553 2222 \nL 1259 2222 \nL 1259 0 \nL 628 0 \nL 628 4666 \nz\n\" transform=\"scale(0.015625)\"/>\n       <path id=\"DejaVuSans-41\" d=\"M 2188 4044 \nL 1331 1722 \nL 3047 1722 \nL 2188 4044 \nz\nM 1831 4666 \nL 2547 4666 \nL 4325 0 \nL 3669 0 \nL 3244 1197 \nL 1141 1197 \nL 716 0 \nL 50 0 \nL 1831 4666 \nz\n\" transform=\"scale(0.015625)\"/>\n      </defs>\n      <use xlink:href=\"#DejaVuSans-48\"/>\n      <use xlink:href=\"#DejaVuSans-62\" x=\"75.195312\"/>\n      <use xlink:href=\"#DejaVuSans-41\" x=\"138.671875\"/>\n      <use xlink:href=\"#DejaVuSans-31\" x=\"207.080078\"/>\n      <use xlink:href=\"#DejaVuSans-63\" x=\"270.703125\"/>\n      <use xlink:href=\"#DejaVuSans-5f\" x=\"325.683594\"/>\n      <use xlink:href=\"#DejaVuSans-6c\" x=\"375.683594\"/>\n      <use xlink:href=\"#DejaVuSans-65\" x=\"403.466797\"/>\n      <use xlink:href=\"#DejaVuSans-76\" x=\"464.990234\"/>\n      <use xlink:href=\"#DejaVuSans-65\" x=\"524.169922\"/>\n      <use xlink:href=\"#DejaVuSans-6c\" x=\"585.693359\"/>\n     </g>\n    </g>\n   </g>\n   <g id=\"matplotlib.axis_6\">\n    <g id=\"ytick_7\">\n     <g id=\"line2d_16\">\n      <path d=\"M 332.097293 103.19608 \nL 417.26125 103.19608 \n\" clip-path=\"url(#pb41e64b82b)\" style=\"fill: none; stroke: #cccccc; stroke-width: 0.8; stroke-linecap: round\"/>\n     </g>\n     <g id=\"text_19\">\n      <!-- 0.0 -->\n      <g style=\"fill: #262626\" transform=\"translate(309.194168 106.995298) scale(0.1 -0.1)\">\n       <use xlink:href=\"#DejaVuSans-30\"/>\n       <use xlink:href=\"#DejaVuSans-2e\" x=\"63.623047\"/>\n       <use xlink:href=\"#DejaVuSans-30\" x=\"95.410156\"/>\n      </g>\n     </g>\n    </g>\n    <g id=\"ytick_8\">\n     <g id=\"line2d_17\">\n      <path d=\"M 332.097293 72.569375 \nL 417.26125 72.569375 \n\" clip-path=\"url(#pb41e64b82b)\" style=\"fill: none; stroke: #cccccc; stroke-width: 0.8; stroke-linecap: round\"/>\n     </g>\n     <g id=\"text_20\">\n      <!-- 0.5 -->\n      <g style=\"fill: #262626\" transform=\"translate(309.194168 76.368594) scale(0.1 -0.1)\">\n       <use xlink:href=\"#DejaVuSans-30\"/>\n       <use xlink:href=\"#DejaVuSans-2e\" x=\"63.623047\"/>\n       <use xlink:href=\"#DejaVuSans-35\" x=\"95.410156\"/>\n      </g>\n     </g>\n    </g>\n    <g id=\"ytick_9\">\n     <g id=\"line2d_18\">\n      <path d=\"M 332.097293 41.94267 \nL 417.26125 41.94267 \n\" clip-path=\"url(#pb41e64b82b)\" style=\"fill: none; stroke: #cccccc; stroke-width: 0.8; stroke-linecap: round\"/>\n     </g>\n     <g id=\"text_21\">\n      <!-- 1.0 -->\n      <g style=\"fill: #262626\" transform=\"translate(309.194168 45.741889) scale(0.1 -0.1)\">\n       <use xlink:href=\"#DejaVuSans-31\"/>\n       <use xlink:href=\"#DejaVuSans-2e\" x=\"63.623047\"/>\n       <use xlink:href=\"#DejaVuSans-30\" x=\"95.410156\"/>\n      </g>\n     </g>\n    </g>\n    <g id=\"text_22\">\n     <!-- diabetes -->\n     <g style=\"fill: #262626\" transform=\"translate(303.11448 94.088906) rotate(-90) scale(0.1 -0.1)\">\n      <use xlink:href=\"#DejaVuSans-64\"/>\n      <use xlink:href=\"#DejaVuSans-69\" x=\"63.476562\"/>\n      <use xlink:href=\"#DejaVuSans-61\" x=\"91.259766\"/>\n      <use xlink:href=\"#DejaVuSans-62\" x=\"152.539062\"/>\n      <use xlink:href=\"#DejaVuSans-65\" x=\"216.015625\"/>\n      <use xlink:href=\"#DejaVuSans-74\" x=\"277.539062\"/>\n      <use xlink:href=\"#DejaVuSans-65\" x=\"316.748047\"/>\n      <use xlink:href=\"#DejaVuSans-73\" x=\"378.271484\"/>\n     </g>\n    </g>\n   </g>\n   <g id=\"PolyCollection_3\">\n    <defs>\n     <path id=\"m8fd4559cd0\" d=\"M 335.968382 -40.897045 \nL 335.968382 -40.897045 \nL 343.006725 -40.897045 \nL 350.045069 -40.897045 \nL 354.268075 -40.897045 \nL 357.083412 -40.897045 \nL 366.937093 -45.333848 \nL 368.344762 -45.031955 \nL 371.1601 -44.881404 \nL 372.567768 -45.27289 \nL 373.975437 -45.03305 \nL 378.198443 -44.710331 \nL 379.606112 -45.141151 \nL 382.421449 -102.150455 \nL 385.236787 -102.150455 \nL 392.27513 -102.150455 \nL 402.128811 -102.150455 \nL 410.574824 -102.150455 \nL 413.390161 -102.150455 \nL 413.390161 -102.150455 \nL 413.390161 -102.150455 \nL 410.574824 -102.150455 \nL 402.128811 -102.150455 \nL 392.27513 -102.150455 \nL 385.236787 -102.150455 \nL 382.421449 -102.150455 \nL 379.606112 -45.832606 \nL 378.198443 -45.440876 \nL 373.975437 -45.730493 \nL 372.567768 -46.038663 \nL 371.1601 -45.597165 \nL 368.344762 -45.753537 \nL 366.937093 -46.076174 \nL 357.083412 -40.897045 \nL 354.268075 -40.897045 \nL 350.045069 -40.897045 \nL 343.006725 -40.897045 \nL 335.968382 -40.897045 \nz\n\" style=\"stroke: #1f77b4; stroke-opacity: 0.2\"/>\n    </defs>\n    <g clip-path=\"url(#pb41e64b82b)\">\n     <use xlink:href=\"#m8fd4559cd0\" x=\"0\" y=\"144.093125\" style=\"fill: #1f77b4; fill-opacity: 0.2; stroke: #1f77b4; stroke-opacity: 0.2\"/>\n    </g>\n   </g>\n   <g id=\"line2d_19\">\n    <path d=\"M 335.968382 103.19608 \nL 343.006725 103.19608 \nL 350.045069 103.19608 \nL 354.268075 103.19608 \nL 357.083412 103.19608 \nL 366.937093 98.376244 \nL 368.344762 98.712541 \nL 371.1601 98.853942 \nL 372.567768 98.433141 \nL 373.975437 98.719463 \nL 378.198443 99.013507 \nL 379.606112 98.602273 \nL 382.421449 41.94267 \nL 385.236787 41.94267 \nL 392.27513 41.94267 \nL 402.128811 41.94267 \nL 410.574824 41.94267 \nL 413.390161 41.94267 \n\" clip-path=\"url(#pb41e64b82b)\" style=\"fill: none; stroke: #1f77b4; stroke-width: 1.5; stroke-linecap: round\"/>\n   </g>\n   <g id=\"patch_13\">\n    <path d=\"M 332.097293 106.25875 \nL 332.097293 38.88 \n\" style=\"fill: none; stroke: #000000; stroke-width: 0.8; stroke-linejoin: miter; stroke-linecap: square\"/>\n   </g>\n   <g id=\"patch_14\">\n    <path d=\"M 417.26125 106.25875 \nL 417.26125 38.88 \n\" style=\"fill: none; stroke: #000000; stroke-width: 0.8; stroke-linejoin: miter; stroke-linecap: square\"/>\n   </g>\n   <g id=\"patch_15\">\n    <path d=\"M 332.097293 106.25875 \nL 417.26125 106.25875 \n\" style=\"fill: none; stroke: #000000; stroke-width: 0.8; stroke-linejoin: miter; stroke-linecap: square\"/>\n   </g>\n   <g id=\"patch_16\">\n    <path d=\"M 332.097293 38.88 \nL 417.26125 38.88 \n\" style=\"fill: none; stroke: #000000; stroke-width: 0.8; stroke-linejoin: miter; stroke-linecap: square\"/>\n   </g>\n  </g>\n  <g id=\"text_23\">\n   <!-- 3 Major Factors Affecting Diabetes -->\n   <g style=\"fill: #262626\" transform=\"translate(109.095625 16.318125) scale(0.12 -0.12)\">\n    <defs>\n     <path id=\"DejaVuSans-20\" transform=\"scale(0.015625)\"/>\n     <path id=\"DejaVuSans-4d\" d=\"M 628 4666 \nL 1569 4666 \nL 2759 1491 \nL 3956 4666 \nL 4897 4666 \nL 4897 0 \nL 4281 0 \nL 4281 4097 \nL 3078 897 \nL 2444 897 \nL 1241 4097 \nL 1241 0 \nL 628 0 \nL 628 4666 \nz\n\" transform=\"scale(0.015625)\"/>\n     <path id=\"DejaVuSans-6a\" d=\"M 603 3500 \nL 1178 3500 \nL 1178 -63 \nQ 1178 -731 923 -1031 \nQ 669 -1331 103 -1331 \nL -116 -1331 \nL -116 -844 \nL 38 -844 \nQ 366 -844 484 -692 \nQ 603 -541 603 -63 \nL 603 3500 \nz\nM 603 4863 \nL 1178 4863 \nL 1178 4134 \nL 603 4134 \nL 603 4863 \nz\n\" transform=\"scale(0.015625)\"/>\n     <path id=\"DejaVuSans-72\" d=\"M 2631 2963 \nQ 2534 3019 2420 3045 \nQ 2306 3072 2169 3072 \nQ 1681 3072 1420 2755 \nQ 1159 2438 1159 1844 \nL 1159 0 \nL 581 0 \nL 581 3500 \nL 1159 3500 \nL 1159 2956 \nQ 1341 3275 1631 3429 \nQ 1922 3584 2338 3584 \nQ 2397 3584 2469 3576 \nQ 2541 3569 2628 3553 \nL 2631 2963 \nz\n\" transform=\"scale(0.015625)\"/>\n     <path id=\"DejaVuSans-46\" d=\"M 628 4666 \nL 3309 4666 \nL 3309 4134 \nL 1259 4134 \nL 1259 2759 \nL 3109 2759 \nL 3109 2228 \nL 1259 2228 \nL 1259 0 \nL 628 0 \nL 628 4666 \nz\n\" transform=\"scale(0.015625)\"/>\n     <path id=\"DejaVuSans-66\" d=\"M 2375 4863 \nL 2375 4384 \nL 1825 4384 \nQ 1516 4384 1395 4259 \nQ 1275 4134 1275 3809 \nL 1275 3500 \nL 2222 3500 \nL 2222 3053 \nL 1275 3053 \nL 1275 0 \nL 697 0 \nL 697 3053 \nL 147 3053 \nL 147 3500 \nL 697 3500 \nL 697 3744 \nQ 697 4328 969 4595 \nQ 1241 4863 1831 4863 \nL 2375 4863 \nz\n\" transform=\"scale(0.015625)\"/>\n     <path id=\"DejaVuSans-6e\" d=\"M 3513 2113 \nL 3513 0 \nL 2938 0 \nL 2938 2094 \nQ 2938 2591 2744 2837 \nQ 2550 3084 2163 3084 \nQ 1697 3084 1428 2787 \nQ 1159 2491 1159 1978 \nL 1159 0 \nL 581 0 \nL 581 3500 \nL 1159 3500 \nL 1159 2956 \nQ 1366 3272 1645 3428 \nQ 1925 3584 2291 3584 \nQ 2894 3584 3203 3211 \nQ 3513 2838 3513 2113 \nz\n\" transform=\"scale(0.015625)\"/>\n     <path id=\"DejaVuSans-44\" d=\"M 1259 4147 \nL 1259 519 \nL 2022 519 \nQ 2988 519 3436 956 \nQ 3884 1394 3884 2338 \nQ 3884 3275 3436 3711 \nQ 2988 4147 2022 4147 \nL 1259 4147 \nz\nM 628 4666 \nL 1925 4666 \nQ 3281 4666 3915 4102 \nQ 4550 3538 4550 2338 \nQ 4550 1131 3912 565 \nQ 3275 0 1925 0 \nL 628 0 \nL 628 4666 \nz\n\" transform=\"scale(0.015625)\"/>\n    </defs>\n    <use xlink:href=\"#DejaVuSans-33\"/>\n    <use xlink:href=\"#DejaVuSans-20\" x=\"63.623047\"/>\n    <use xlink:href=\"#DejaVuSans-4d\" x=\"95.410156\"/>\n    <use xlink:href=\"#DejaVuSans-61\" x=\"181.689453\"/>\n    <use xlink:href=\"#DejaVuSans-6a\" x=\"242.96875\"/>\n    <use xlink:href=\"#DejaVuSans-6f\" x=\"270.751953\"/>\n    <use xlink:href=\"#DejaVuSans-72\" x=\"331.933594\"/>\n    <use xlink:href=\"#DejaVuSans-20\" x=\"373.046875\"/>\n    <use xlink:href=\"#DejaVuSans-46\" x=\"404.833984\"/>\n    <use xlink:href=\"#DejaVuSans-61\" x=\"453.228516\"/>\n    <use xlink:href=\"#DejaVuSans-63\" x=\"514.507812\"/>\n    <use xlink:href=\"#DejaVuSans-74\" x=\"569.488281\"/>\n    <use xlink:href=\"#DejaVuSans-6f\" x=\"608.697266\"/>\n    <use xlink:href=\"#DejaVuSans-72\" x=\"669.878906\"/>\n    <use xlink:href=\"#DejaVuSans-73\" x=\"710.992188\"/>\n    <use xlink:href=\"#DejaVuSans-20\" x=\"763.091797\"/>\n    <use xlink:href=\"#DejaVuSans-41\" x=\"794.878906\"/>\n    <use xlink:href=\"#DejaVuSans-66\" x=\"859.662109\"/>\n    <use xlink:href=\"#DejaVuSans-66\" x=\"894.867188\"/>\n    <use xlink:href=\"#DejaVuSans-65\" x=\"930.072266\"/>\n    <use xlink:href=\"#DejaVuSans-63\" x=\"991.595703\"/>\n    <use xlink:href=\"#DejaVuSans-74\" x=\"1046.576172\"/>\n    <use xlink:href=\"#DejaVuSans-69\" x=\"1085.785156\"/>\n    <use xlink:href=\"#DejaVuSans-6e\" x=\"1113.568359\"/>\n    <use xlink:href=\"#DejaVuSans-67\" x=\"1176.947266\"/>\n    <use xlink:href=\"#DejaVuSans-20\" x=\"1240.423828\"/>\n    <use xlink:href=\"#DejaVuSans-44\" x=\"1272.210938\"/>\n    <use xlink:href=\"#DejaVuSans-69\" x=\"1349.212891\"/>\n    <use xlink:href=\"#DejaVuSans-61\" x=\"1376.996094\"/>\n    <use xlink:href=\"#DejaVuSans-62\" x=\"1438.275391\"/>\n    <use xlink:href=\"#DejaVuSans-65\" x=\"1501.751953\"/>\n    <use xlink:href=\"#DejaVuSans-74\" x=\"1563.275391\"/>\n    <use xlink:href=\"#DejaVuSans-65\" x=\"1602.484375\"/>\n    <use xlink:href=\"#DejaVuSans-73\" x=\"1664.007812\"/>\n   </g>\n  </g>\n </g>\n <defs>\n  <clipPath id=\"p6f5feef8ac\">\n   <rect x=\"43.78125\" y=\"38.88\" width=\"85.163957\" height=\"67.37875\"/>\n  </clipPath>\n  <clipPath id=\"ped45639c0d\">\n   <rect x=\"187.939271\" y=\"38.88\" width=\"85.163957\" height=\"67.37875\"/>\n  </clipPath>\n  <clipPath id=\"pb41e64b82b\">\n   <rect x=\"332.097293\" y=\"38.88\" width=\"85.163957\" height=\"67.37875\"/>\n  </clipPath>\n </defs>\n</svg>\n"
          },
          "metadata": {}
        }
      ]
    },
    {
      "cell_type": "code",
      "source": [
        "%matplotlib inline\n",
        "fig = plt.figure(figsize= (6,2))\n",
        "\n",
        "ax = plt.subplot(1,3,1)\n",
        "plt.subplot(1,3,1)\n",
        "sns.lineplot(x = data['age'], y =  data['bmi'], hue = data['diabetes'], palette='crest')\n",
        "\n",
        "\n",
        "plt.subplot(1,3,2)\n",
        "sns.lineplot(x = data['age'], y =  data['hypertension'], hue = data['diabetes'], palette='crest')\n",
        "\n",
        "plt.subplot(1,3,3)\n",
        "sns.lineplot(x = data['age'],y = data['heart_disease'], hue = data['diabetes'], palette='crest')\n",
        "\n",
        "plt.suptitle(\"Plots for Age\")\n",
        "\n",
        "plt.tight_layout()\n",
        "plt.savefig('plots_for_age.png', facecolor='#eeeeee')\n",
        "plt.show()"
      ],
      "metadata": {
        "colab": {
          "base_uri": "https://localhost:8080/",
          "height": 212
        },
        "id": "f7N9Z2jfqlq7",
        "outputId": "704c7e91-2163-4a0c-f46e-830e37015cc3"
      },
      "execution_count": null,
      "outputs": [
        {
          "output_type": "display_data",
          "data": {
            "text/plain": [
              "<Figure size 600x200 with 3 Axes>"
            ],
            "image/svg+xml": "<?xml version=\"1.0\" encoding=\"utf-8\" standalone=\"no\"?>\n<!DOCTYPE svg PUBLIC \"-//W3C//DTD SVG 1.1//EN\"\n  \"http://www.w3.org/Graphics/SVG/1.1/DTD/svg11.dtd\">\n<svg xmlns:xlink=\"http://www.w3.org/1999/xlink\" width=\"424.433125pt\" height=\"143.91625pt\" viewBox=\"0 0 424.433125 143.91625\" xmlns=\"http://www.w3.org/2000/svg\" version=\"1.1\">\n <metadata>\n  <rdf:RDF xmlns:dc=\"http://purl.org/dc/elements/1.1/\" xmlns:cc=\"http://creativecommons.org/ns#\" xmlns:rdf=\"http://www.w3.org/1999/02/22-rdf-syntax-ns#\">\n   <cc:Work>\n    <dc:type rdf:resource=\"http://purl.org/dc/dcmitype/StillImage\"/>\n    <dc:date>2023-05-21T06:20:58.678637</dc:date>\n    <dc:format>image/svg+xml</dc:format>\n    <dc:creator>\n     <cc:Agent>\n      <dc:title>Matplotlib v3.7.1, https://matplotlib.org/</dc:title>\n     </cc:Agent>\n    </dc:creator>\n   </cc:Work>\n  </rdf:RDF>\n </metadata>\n <defs>\n  <style type=\"text/css\">*{stroke-linejoin: round; stroke-linecap: butt}</style>\n </defs>\n <g id=\"figure_1\">\n  <g id=\"patch_1\">\n   <path d=\"M -0 143.91625 \nL 424.433125 143.91625 \nL 424.433125 0 \nL -0 0 \nz\n\" style=\"fill: #ffffff\"/>\n  </g>\n  <g id=\"axes_1\">\n   <g id=\"patch_2\">\n    <path d=\"M 40.603125 106.36 \nL 134.265625 106.36 \nL 134.265625 40.480316 \nL 40.603125 40.480316 \nz\n\" style=\"fill: #ffffff\"/>\n   </g>\n   <g id=\"matplotlib.axis_1\">\n    <g id=\"xtick_1\">\n     <g id=\"line2d_1\">\n      <path d=\"M 44.860511 106.36 \nL 44.860511 40.480316 \n\" clip-path=\"url(#pfbd448cc1e)\" style=\"fill: none; stroke: #cccccc; stroke-width: 0.8; stroke-linecap: round\"/>\n     </g>\n     <g id=\"text_1\">\n      <!-- 0 -->\n      <g style=\"fill: #262626\" transform=\"translate(41.679261 120.958437) scale(0.1 -0.1)\">\n       <defs>\n        <path id=\"DejaVuSans-30\" d=\"M 2034 4250 \nQ 1547 4250 1301 3770 \nQ 1056 3291 1056 2328 \nQ 1056 1369 1301 889 \nQ 1547 409 2034 409 \nQ 2525 409 2770 889 \nQ 3016 1369 3016 2328 \nQ 3016 3291 2770 3770 \nQ 2525 4250 2034 4250 \nz\nM 2034 4750 \nQ 2819 4750 3233 4129 \nQ 3647 3509 3647 2328 \nQ 3647 1150 3233 529 \nQ 2819 -91 2034 -91 \nQ 1250 -91 836 529 \nQ 422 1150 422 2328 \nQ 422 3509 836 4129 \nQ 1250 4750 2034 4750 \nz\n\" transform=\"scale(0.015625)\"/>\n       </defs>\n       <use xlink:href=\"#DejaVuSans-30\"/>\n      </g>\n     </g>\n    </g>\n    <g id=\"xtick_2\">\n     <g id=\"line2d_2\">\n      <path d=\"M 98.077841 106.36 \nL 98.077841 40.480316 \n\" clip-path=\"url(#pfbd448cc1e)\" style=\"fill: none; stroke: #cccccc; stroke-width: 0.8; stroke-linecap: round\"/>\n     </g>\n     <g id=\"text_2\">\n      <!-- 50 -->\n      <g style=\"fill: #262626\" transform=\"translate(91.715341 120.958437) scale(0.1 -0.1)\">\n       <defs>\n        <path id=\"DejaVuSans-35\" d=\"M 691 4666 \nL 3169 4666 \nL 3169 4134 \nL 1269 4134 \nL 1269 2991 \nQ 1406 3038 1543 3061 \nQ 1681 3084 1819 3084 \nQ 2600 3084 3056 2656 \nQ 3513 2228 3513 1497 \nQ 3513 744 3044 326 \nQ 2575 -91 1722 -91 \nQ 1428 -91 1123 -41 \nQ 819 9 494 109 \nL 494 744 \nQ 775 591 1075 516 \nQ 1375 441 1709 441 \nQ 2250 441 2565 725 \nQ 2881 1009 2881 1497 \nQ 2881 1984 2565 2268 \nQ 2250 2553 1709 2553 \nQ 1456 2553 1204 2497 \nQ 953 2441 691 2322 \nL 691 4666 \nz\n\" transform=\"scale(0.015625)\"/>\n       </defs>\n       <use xlink:href=\"#DejaVuSans-35\"/>\n       <use xlink:href=\"#DejaVuSans-30\" x=\"63.623047\"/>\n      </g>\n     </g>\n    </g>\n    <g id=\"text_3\">\n     <!-- age -->\n     <g style=\"fill: #262626\" transform=\"translate(78.119531 134.636562) scale(0.1 -0.1)\">\n      <defs>\n       <path id=\"DejaVuSans-61\" d=\"M 2194 1759 \nQ 1497 1759 1228 1600 \nQ 959 1441 959 1056 \nQ 959 750 1161 570 \nQ 1363 391 1709 391 \nQ 2188 391 2477 730 \nQ 2766 1069 2766 1631 \nL 2766 1759 \nL 2194 1759 \nz\nM 3341 1997 \nL 3341 0 \nL 2766 0 \nL 2766 531 \nQ 2569 213 2275 61 \nQ 1981 -91 1556 -91 \nQ 1019 -91 701 211 \nQ 384 513 384 1019 \nQ 384 1609 779 1909 \nQ 1175 2209 1959 2209 \nL 2766 2209 \nL 2766 2266 \nQ 2766 2663 2505 2880 \nQ 2244 3097 1772 3097 \nQ 1472 3097 1187 3025 \nQ 903 2953 641 2809 \nL 641 3341 \nQ 956 3463 1253 3523 \nQ 1550 3584 1831 3584 \nQ 2591 3584 2966 3190 \nQ 3341 2797 3341 1997 \nz\n\" transform=\"scale(0.015625)\"/>\n       <path id=\"DejaVuSans-67\" d=\"M 2906 1791 \nQ 2906 2416 2648 2759 \nQ 2391 3103 1925 3103 \nQ 1463 3103 1205 2759 \nQ 947 2416 947 1791 \nQ 947 1169 1205 825 \nQ 1463 481 1925 481 \nQ 2391 481 2648 825 \nQ 2906 1169 2906 1791 \nz\nM 3481 434 \nQ 3481 -459 3084 -895 \nQ 2688 -1331 1869 -1331 \nQ 1566 -1331 1297 -1286 \nQ 1028 -1241 775 -1147 \nL 775 -588 \nQ 1028 -725 1275 -790 \nQ 1522 -856 1778 -856 \nQ 2344 -856 2625 -561 \nQ 2906 -266 2906 331 \nL 2906 616 \nQ 2728 306 2450 153 \nQ 2172 0 1784 0 \nQ 1141 0 747 490 \nQ 353 981 353 1791 \nQ 353 2603 747 3093 \nQ 1141 3584 1784 3584 \nQ 2172 3584 2450 3431 \nQ 2728 3278 2906 2969 \nL 2906 3500 \nL 3481 3500 \nL 3481 434 \nz\n\" transform=\"scale(0.015625)\"/>\n       <path id=\"DejaVuSans-65\" d=\"M 3597 1894 \nL 3597 1613 \nL 953 1613 \nQ 991 1019 1311 708 \nQ 1631 397 2203 397 \nQ 2534 397 2845 478 \nQ 3156 559 3463 722 \nL 3463 178 \nQ 3153 47 2828 -22 \nQ 2503 -91 2169 -91 \nQ 1331 -91 842 396 \nQ 353 884 353 1716 \nQ 353 2575 817 3079 \nQ 1281 3584 2069 3584 \nQ 2775 3584 3186 3129 \nQ 3597 2675 3597 1894 \nz\nM 3022 2063 \nQ 3016 2534 2758 2815 \nQ 2500 3097 2075 3097 \nQ 1594 3097 1305 2825 \nQ 1016 2553 972 2059 \nL 3022 2063 \nz\n\" transform=\"scale(0.015625)\"/>\n      </defs>\n      <use xlink:href=\"#DejaVuSans-61\"/>\n      <use xlink:href=\"#DejaVuSans-67\" x=\"61.279297\"/>\n      <use xlink:href=\"#DejaVuSans-65\" x=\"124.755859\"/>\n     </g>\n    </g>\n   </g>\n   <g id=\"matplotlib.axis_2\">\n    <g id=\"ytick_1\">\n     <g id=\"line2d_3\">\n      <path d=\"M 40.603125 86.478417 \nL 134.265625 86.478417 \n\" clip-path=\"url(#pfbd448cc1e)\" style=\"fill: none; stroke: #cccccc; stroke-width: 0.8; stroke-linecap: round\"/>\n     </g>\n     <g id=\"text_4\">\n      <!-- 20 -->\n      <g style=\"fill: #262626\" transform=\"translate(20.878125 90.277636) scale(0.1 -0.1)\">\n       <defs>\n        <path id=\"DejaVuSans-32\" d=\"M 1228 531 \nL 3431 531 \nL 3431 0 \nL 469 0 \nL 469 531 \nQ 828 903 1448 1529 \nQ 2069 2156 2228 2338 \nQ 2531 2678 2651 2914 \nQ 2772 3150 2772 3378 \nQ 2772 3750 2511 3984 \nQ 2250 4219 1831 4219 \nQ 1534 4219 1204 4116 \nQ 875 4013 500 3803 \nL 500 4441 \nQ 881 4594 1212 4672 \nQ 1544 4750 1819 4750 \nQ 2544 4750 2975 4387 \nQ 3406 4025 3406 3419 \nQ 3406 3131 3298 2873 \nQ 3191 2616 2906 2266 \nQ 2828 2175 2409 1742 \nQ 1991 1309 1228 531 \nz\n\" transform=\"scale(0.015625)\"/>\n       </defs>\n       <use xlink:href=\"#DejaVuSans-32\"/>\n       <use xlink:href=\"#DejaVuSans-30\" x=\"63.623047\"/>\n      </g>\n     </g>\n    </g>\n    <g id=\"ytick_2\">\n     <g id=\"line2d_4\">\n      <path d=\"M 40.603125 56.747692 \nL 134.265625 56.747692 \n\" clip-path=\"url(#pfbd448cc1e)\" style=\"fill: none; stroke: #cccccc; stroke-width: 0.8; stroke-linecap: round\"/>\n     </g>\n     <g id=\"text_5\">\n      <!-- 30 -->\n      <g style=\"fill: #262626\" transform=\"translate(20.878125 60.546911) scale(0.1 -0.1)\">\n       <defs>\n        <path id=\"DejaVuSans-33\" d=\"M 2597 2516 \nQ 3050 2419 3304 2112 \nQ 3559 1806 3559 1356 \nQ 3559 666 3084 287 \nQ 2609 -91 1734 -91 \nQ 1441 -91 1130 -33 \nQ 819 25 488 141 \nL 488 750 \nQ 750 597 1062 519 \nQ 1375 441 1716 441 \nQ 2309 441 2620 675 \nQ 2931 909 2931 1356 \nQ 2931 1769 2642 2001 \nQ 2353 2234 1838 2234 \nL 1294 2234 \nL 1294 2753 \nL 1863 2753 \nQ 2328 2753 2575 2939 \nQ 2822 3125 2822 3475 \nQ 2822 3834 2567 4026 \nQ 2313 4219 1838 4219 \nQ 1578 4219 1281 4162 \nQ 984 4106 628 3988 \nL 628 4550 \nQ 988 4650 1302 4700 \nQ 1616 4750 1894 4750 \nQ 2613 4750 3031 4423 \nQ 3450 4097 3450 3541 \nQ 3450 3153 3228 2886 \nQ 3006 2619 2597 2516 \nz\n\" transform=\"scale(0.015625)\"/>\n       </defs>\n       <use xlink:href=\"#DejaVuSans-33\"/>\n       <use xlink:href=\"#DejaVuSans-30\" x=\"63.623047\"/>\n      </g>\n     </g>\n    </g>\n    <g id=\"text_6\">\n     <!-- bmi -->\n     <g style=\"fill: #262626\" transform=\"translate(14.798438 82.853752) rotate(-90) scale(0.1 -0.1)\">\n      <defs>\n       <path id=\"DejaVuSans-62\" d=\"M 3116 1747 \nQ 3116 2381 2855 2742 \nQ 2594 3103 2138 3103 \nQ 1681 3103 1420 2742 \nQ 1159 2381 1159 1747 \nQ 1159 1113 1420 752 \nQ 1681 391 2138 391 \nQ 2594 391 2855 752 \nQ 3116 1113 3116 1747 \nz\nM 1159 2969 \nQ 1341 3281 1617 3432 \nQ 1894 3584 2278 3584 \nQ 2916 3584 3314 3078 \nQ 3713 2572 3713 1747 \nQ 3713 922 3314 415 \nQ 2916 -91 2278 -91 \nQ 1894 -91 1617 61 \nQ 1341 213 1159 525 \nL 1159 0 \nL 581 0 \nL 581 4863 \nL 1159 4863 \nL 1159 2969 \nz\n\" transform=\"scale(0.015625)\"/>\n       <path id=\"DejaVuSans-6d\" d=\"M 3328 2828 \nQ 3544 3216 3844 3400 \nQ 4144 3584 4550 3584 \nQ 5097 3584 5394 3201 \nQ 5691 2819 5691 2113 \nL 5691 0 \nL 5113 0 \nL 5113 2094 \nQ 5113 2597 4934 2840 \nQ 4756 3084 4391 3084 \nQ 3944 3084 3684 2787 \nQ 3425 2491 3425 1978 \nL 3425 0 \nL 2847 0 \nL 2847 2094 \nQ 2847 2600 2669 2842 \nQ 2491 3084 2119 3084 \nQ 1678 3084 1418 2786 \nQ 1159 2488 1159 1978 \nL 1159 0 \nL 581 0 \nL 581 3500 \nL 1159 3500 \nL 1159 2956 \nQ 1356 3278 1631 3431 \nQ 1906 3584 2284 3584 \nQ 2666 3584 2933 3390 \nQ 3200 3197 3328 2828 \nz\n\" transform=\"scale(0.015625)\"/>\n       <path id=\"DejaVuSans-69\" d=\"M 603 3500 \nL 1178 3500 \nL 1178 0 \nL 603 0 \nL 603 3500 \nz\nM 603 4863 \nL 1178 4863 \nL 1178 4134 \nL 603 4134 \nL 603 4863 \nz\n\" transform=\"scale(0.015625)\"/>\n      </defs>\n      <use xlink:href=\"#DejaVuSans-62\"/>\n      <use xlink:href=\"#DejaVuSans-6d\" x=\"63.476562\"/>\n      <use xlink:href=\"#DejaVuSans-69\" x=\"160.888672\"/>\n     </g>\n    </g>\n   </g>\n   <g id=\"PolyCollection_1\">\n    <defs>\n     <path id=\"m9d85fe11a4\" d=\"M 44.860511 -52.098179 \nL 44.860511 -50.633022 \nL 45.924858 -53.18683 \nL 46.989205 -53.566019 \nL 48.053551 -54.419193 \nL 49.117898 -52.784504 \nL 50.182244 -52.598002 \nL 51.246591 -52.512357 \nL 52.310938 -54.775262 \nL 53.375284 -55.99041 \nL 54.439631 -58.1885 \nL 55.503977 -60.87178 \nL 56.568324 -62.567677 \nL 57.63267 -63.32807 \nL 58.697017 -64.748152 \nL 59.761364 -67.038727 \nL 60.82571 -68.272317 \nL 61.890057 -70.430009 \nL 62.954403 -71.122768 \nL 64.01875 -71.884193 \nL 65.083097 -71.943653 \nL 66.147443 -72.892204 \nL 67.21179 -74.143059 \nL 68.276136 -74.306218 \nL 69.340483 -74.544247 \nL 70.40483 -75.39541 \nL 71.469176 -76.318355 \nL 72.533523 -76.405363 \nL 73.597869 -76.752022 \nL 74.662216 -77.167447 \nL 75.726562 -78.479082 \nL 76.790909 -78.203163 \nL 77.855256 -78.50734 \nL 78.919602 -77.9144 \nL 79.983949 -79.157155 \nL 81.048295 -79.264674 \nL 82.112642 -78.731077 \nL 83.176989 -79.285869 \nL 84.241335 -79.73229 \nL 85.305682 -79.796014 \nL 86.370028 -79.363049 \nL 87.434375 -79.372525 \nL 88.498722 -80.395969 \nL 89.563068 -79.738945 \nL 90.627415 -79.83293 \nL 91.691761 -80.164676 \nL 92.756108 -80.228113 \nL 93.820455 -80.238007 \nL 94.884801 -79.698734 \nL 95.949148 -80.193775 \nL 97.013494 -80.093343 \nL 98.077841 -80.206927 \nL 99.142188 -81.237415 \nL 100.206534 -80.904349 \nL 101.270881 -80.933649 \nL 102.335227 -80.468594 \nL 103.399574 -80.634706 \nL 104.46392 -81.206396 \nL 105.528267 -80.387516 \nL 106.592614 -81.910619 \nL 107.65696 -80.751791 \nL 108.721307 -80.370896 \nL 109.785653 -81.393632 \nL 110.85 -81.106228 \nL 111.914347 -80.143094 \nL 112.978693 -80.896335 \nL 114.04304 -80.851784 \nL 115.107386 -79.85828 \nL 116.171733 -80.396996 \nL 117.23608 -79.148528 \nL 118.300426 -80.567291 \nL 119.364773 -79.554711 \nL 120.429119 -79.346381 \nL 121.493466 -79.194677 \nL 122.557812 -78.610868 \nL 123.622159 -78.064187 \nL 124.686506 -78.434386 \nL 125.750852 -78.423656 \nL 126.815199 -77.711261 \nL 127.879545 -78.441622 \nL 128.943892 -77.449899 \nL 130.008239 -75.34575 \nL 130.008239 -76.085108 \nL 130.008239 -76.085108 \nL 128.943892 -79.655136 \nL 127.879545 -80.547886 \nL 126.815199 -79.64449 \nL 125.750852 -80.226023 \nL 124.686506 -80.435364 \nL 123.622159 -80.052083 \nL 122.557812 -80.452976 \nL 121.493466 -81.219793 \nL 120.429119 -81.392745 \nL 119.364773 -81.286534 \nL 118.300426 -82.292718 \nL 117.23608 -80.869772 \nL 116.171733 -82.116326 \nL 115.107386 -81.443671 \nL 114.04304 -82.462122 \nL 112.978693 -82.432376 \nL 111.914347 -81.782078 \nL 110.85 -82.519353 \nL 109.785653 -82.944049 \nL 108.721307 -81.826564 \nL 107.65696 -82.201878 \nL 106.592614 -83.551144 \nL 105.528267 -81.858122 \nL 104.46392 -82.748834 \nL 103.399574 -82.170069 \nL 102.335227 -81.862363 \nL 101.270881 -82.315341 \nL 100.206534 -82.324022 \nL 99.142188 -82.558952 \nL 98.077841 -81.712354 \nL 97.013494 -81.515923 \nL 95.949148 -81.527131 \nL 94.884801 -81.05322 \nL 93.820455 -81.666804 \nL 92.756108 -81.716627 \nL 91.691761 -81.686043 \nL 90.627415 -81.310737 \nL 89.563068 -81.222659 \nL 88.498722 -81.930674 \nL 87.434375 -80.81816 \nL 86.370028 -80.703905 \nL 85.305682 -81.258595 \nL 84.241335 -81.182418 \nL 83.176989 -80.886837 \nL 82.112642 -80.289231 \nL 81.048295 -80.905905 \nL 79.983949 -80.754963 \nL 78.919602 -79.437528 \nL 77.855256 -79.985824 \nL 76.790909 -79.849922 \nL 75.726562 -80.118968 \nL 74.662216 -78.571026 \nL 73.597869 -78.174645 \nL 72.533523 -77.900733 \nL 71.469176 -77.924776 \nL 70.40483 -76.978345 \nL 69.340483 -76.022549 \nL 68.276136 -75.826152 \nL 67.21179 -75.672643 \nL 66.147443 -74.368365 \nL 65.083097 -73.473286 \nL 64.01875 -73.509323 \nL 62.954403 -72.830188 \nL 61.890057 -72.216189 \nL 60.82571 -70.048785 \nL 59.761364 -68.955512 \nL 58.697017 -66.542913 \nL 57.63267 -65.365806 \nL 56.568324 -64.692014 \nL 55.503977 -62.955432 \nL 54.439631 -60.347061 \nL 53.375284 -57.904046 \nL 52.310938 -56.5011 \nL 51.246591 -54.227631 \nL 50.182244 -54.237075 \nL 49.117898 -54.488225 \nL 48.053551 -55.999819 \nL 46.989205 -54.956364 \nL 45.924858 -54.503498 \nL 44.860511 -52.098179 \nz\n\" style=\"stroke: #509e90; stroke-opacity: 0.2\"/>\n    </defs>\n    <g clip-path=\"url(#pfbd448cc1e)\">\n     <use xlink:href=\"#m9d85fe11a4\" x=\"0\" y=\"143.91625\" style=\"fill: #509e90; fill-opacity: 0.2; stroke: #509e90; stroke-opacity: 0.2\"/>\n    </g>\n   </g>\n   <g id=\"PolyCollection_2\">\n    <path d=\"M 49.117898 93.113324 \nL 49.117898 99.569846 \nL 49.117898 93.113324 \nL 49.117898 93.113324 \nz\n\" clip-path=\"url(#pfbd448cc1e)\" style=\"fill: #1d6c8a; fill-opacity: 0.2; stroke: #1d6c8a; stroke-opacity: 0.2\"/>\n    <path d=\"M 51.246591 73.359734 \nL 51.246591 99.381552 \nL 52.310938 98.043669 \nL 52.310938 89.933127 \nL 52.310938 89.933127 \nL 51.246591 73.359734 \nz\n\" clip-path=\"url(#pfbd448cc1e)\" style=\"fill: #1d6c8a; fill-opacity: 0.2; stroke: #1d6c8a; stroke-opacity: 0.2\"/>\n    <path d=\"M 54.439631 86.508148 \nL 54.439631 98.303813 \nL 55.503977 88.650459 \nL 55.503977 72.220411 \nL 55.503977 72.220411 \nL 54.439631 86.508148 \nz\n\" clip-path=\"url(#pfbd448cc1e)\" style=\"fill: #1d6c8a; fill-opacity: 0.2; stroke: #1d6c8a; stroke-opacity: 0.2\"/>\n    <path d=\"M 57.63267 63.240882 \nL 57.63267 85.913533 \nL 58.697017 90.769304 \nL 59.761364 80.996586 \nL 60.82571 84.018943 \nL 61.890057 76.542316 \nL 62.954403 72.51501 \nL 64.01875 72.99033 \nL 65.083097 79.840077 \nL 66.147443 76.654748 \nL 67.21179 70.067057 \nL 68.276136 72.022011 \nL 69.340483 76.935597 \nL 70.40483 79.269608 \nL 71.469176 68.395904 \nL 72.533523 72.120558 \nL 73.597869 65.340904 \nL 74.662216 66.328363 \nL 75.726562 68.680118 \nL 76.790909 55.743755 \nL 77.855256 64.561584 \nL 78.919602 65.593538 \nL 79.983949 61.014051 \nL 81.048295 58.261233 \nL 82.112642 59.140632 \nL 83.176989 60.82722 \nL 84.241335 56.186254 \nL 85.305682 61.300849 \nL 86.370028 57.950161 \nL 87.434375 60.774513 \nL 88.498722 57.562736 \nL 89.563068 61.927514 \nL 90.627415 59.570508 \nL 91.691761 61.035853 \nL 92.756108 57.624163 \nL 93.820455 58.526383 \nL 94.884801 57.77614 \nL 95.949148 59.045991 \nL 97.013494 61.244913 \nL 98.077841 58.840825 \nL 99.142188 60.350237 \nL 100.206534 57.009686 \nL 101.270881 58.963246 \nL 102.335227 58.627972 \nL 103.399574 56.09536 \nL 104.46392 55.818651 \nL 105.528267 57.055786 \nL 106.592614 56.001757 \nL 107.65696 56.624949 \nL 108.721307 56.460808 \nL 109.785653 57.854054 \nL 110.85 56.607454 \nL 111.914347 57.972069 \nL 112.978693 55.83482 \nL 114.04304 56.422401 \nL 115.107386 57.753229 \nL 116.171733 59.39167 \nL 117.23608 59.121373 \nL 118.300426 58.963669 \nL 119.364773 60.453402 \nL 120.429119 58.287424 \nL 121.493466 61.479214 \nL 122.557812 62.050798 \nL 123.622159 60.276587 \nL 124.686506 62.447682 \nL 125.750852 59.967768 \nL 126.815199 61.958733 \nL 127.879545 62.796139 \nL 128.943892 62.782746 \nL 130.008239 64.102893 \nL 130.008239 62.49629 \nL 130.008239 62.49629 \nL 128.943892 58.934204 \nL 127.879545 58.232297 \nL 126.815199 57.812723 \nL 125.750852 55.385607 \nL 124.686506 58.673296 \nL 123.622159 56.704029 \nL 122.557812 58.107859 \nL 121.493466 57.552651 \nL 120.429119 54.397536 \nL 119.364773 56.356985 \nL 118.300426 55.208474 \nL 117.23608 55.752304 \nL 116.171733 56.220426 \nL 115.107386 54.323898 \nL 114.04304 52.8774 \nL 112.978693 51.786222 \nL 111.914347 53.460772 \nL 110.85 53.030176 \nL 109.785653 54.004736 \nL 108.721307 52.40665 \nL 107.65696 52.857368 \nL 106.592614 51.570982 \nL 105.528267 53.37813 \nL 104.46392 51.644824 \nL 103.399574 52.108817 \nL 102.335227 54.727466 \nL 101.270881 54.220266 \nL 100.206534 52.516152 \nL 99.142188 55.503336 \nL 98.077841 53.823258 \nL 97.013494 56.182514 \nL 95.949148 53.545921 \nL 94.884801 53.179422 \nL 93.820455 53.300473 \nL 92.756108 51.187749 \nL 91.691761 54.357341 \nL 90.627415 52.561803 \nL 89.563068 55.068251 \nL 88.498722 50.036768 \nL 87.434375 53.194024 \nL 86.370028 50.437912 \nL 85.305682 52.113761 \nL 84.241335 47.222058 \nL 83.176989 52.077198 \nL 82.112642 48.996419 \nL 81.048295 49.621509 \nL 79.983949 48.700173 \nL 78.919602 53.389606 \nL 77.855256 52.023365 \nL 76.790909 43.474847 \nL 75.726562 59.662325 \nL 74.662216 54.684847 \nL 73.597869 50.77227 \nL 72.533523 62.661926 \nL 71.469176 55.428505 \nL 70.40483 60.008632 \nL 69.340483 59.175113 \nL 68.276136 60.811298 \nL 67.21179 50.962093 \nL 66.147443 65.131225 \nL 65.083097 71.00538 \nL 64.01875 54.04502 \nL 62.954403 53.004872 \nL 61.890057 62.163887 \nL 60.82571 74.224527 \nL 59.761364 67.957662 \nL 58.697017 69.972768 \nL 57.63267 63.240882 \nz\n\" clip-path=\"url(#pfbd448cc1e)\" style=\"fill: #1d6c8a; fill-opacity: 0.2; stroke: #1d6c8a; stroke-opacity: 0.2\"/>\n   </g>\n   <g id=\"line2d_5\">\n    <path d=\"M 44.860511 92.540119 \nL 45.924858 90.106095 \nL 46.989205 89.671074 \nL 48.053551 88.730336 \nL 49.117898 90.283215 \nL 50.182244 90.502103 \nL 51.246591 90.536268 \nL 52.310938 88.305603 \nL 53.375284 86.998378 \nL 54.439631 84.643254 \nL 55.503977 82.02277 \nL 56.568324 80.225805 \nL 57.63267 79.584411 \nL 58.697017 78.240878 \nL 59.761364 75.948303 \nL 60.82571 74.720354 \nL 61.890057 72.61373 \nL 62.954403 71.946209 \nL 64.01875 71.2186 \nL 65.083097 71.175052 \nL 66.147443 70.32519 \nL 67.21179 69.02954 \nL 68.276136 68.824812 \nL 69.340483 68.635372 \nL 70.40483 67.727227 \nL 71.469176 66.787191 \nL 72.533523 66.724902 \nL 73.597869 66.444126 \nL 74.662216 66.019847 \nL 75.726562 64.653034 \nL 76.790909 64.877122 \nL 77.855256 64.690894 \nL 78.919602 65.206124 \nL 79.983949 63.952941 \nL 81.048295 63.859249 \nL 82.112642 64.384885 \nL 83.176989 63.843526 \nL 84.241335 63.467968 \nL 85.305682 63.426038 \nL 86.370028 63.875769 \nL 87.434375 63.80979 \nL 88.498722 62.751238 \nL 89.563068 63.424345 \nL 90.627415 63.285653 \nL 91.691761 62.98256 \nL 92.756108 62.961989 \nL 93.820455 62.94013 \nL 94.884801 63.529608 \nL 95.949148 63.034013 \nL 97.013494 63.092592 \nL 98.077841 62.945666 \nL 99.142188 62.008764 \nL 100.206534 62.29769 \nL 101.270881 62.293942 \nL 102.335227 62.775044 \nL 103.399574 62.5009 \nL 104.46392 61.944723 \nL 105.528267 62.792813 \nL 106.592614 61.187707 \nL 107.65696 62.486161 \nL 108.721307 62.813686 \nL 109.785653 61.756378 \nL 110.85 62.153636 \nL 111.914347 62.964579 \nL 112.978693 62.236849 \nL 114.04304 62.234336 \nL 115.107386 63.24033 \nL 116.171733 62.642201 \nL 117.23608 63.886396 \nL 118.300426 62.561529 \nL 119.364773 63.503288 \nL 120.429119 63.548537 \nL 121.493466 63.726047 \nL 122.557812 64.442101 \nL 123.622159 64.873654 \nL 124.686506 64.483559 \nL 125.750852 64.550103 \nL 126.815199 65.224645 \nL 127.879545 64.453623 \nL 128.943892 65.331552 \nL 130.008239 68.192688 \n\" clip-path=\"url(#pfbd448cc1e)\" style=\"fill: none; stroke: #509e90; stroke-width: 1.5; stroke-linecap: round\"/>\n   </g>\n   <g id=\"line2d_6\">\n    <path d=\"M 48.053551 64.715526 \nL 49.117898 96.220185 \nL 50.182244 100.214012 \nL 51.246591 89.59271 \nL 52.310938 94.190567 \nL 53.375284 103.365469 \nL 54.439631 92.877956 \nL 55.503977 80.672431 \nL 56.568324 94.565174 \nL 57.63267 75.216418 \nL 58.697017 81.092908 \nL 59.761364 74.531239 \nL 60.82571 79.357908 \nL 61.890057 70.078206 \nL 62.954403 62.05091 \nL 64.01875 63.79982 \nL 65.083097 75.327271 \nL 66.147443 70.738122 \nL 67.21179 62.01003 \nL 68.276136 66.59918 \nL 69.340483 68.766337 \nL 70.40483 69.826238 \nL 71.469176 62.190701 \nL 72.533523 67.220835 \nL 73.597869 58.087226 \nL 74.662216 60.492662 \nL 75.726562 63.83847 \nL 76.790909 49.736487 \nL 77.855256 58.217076 \nL 78.919602 59.578482 \nL 79.983949 54.989863 \nL 81.048295 54.09472 \nL 82.112642 54.07553 \nL 83.176989 56.499035 \nL 84.241335 51.742119 \nL 85.305682 56.666105 \nL 86.370028 54.110728 \nL 87.434375 57.120351 \nL 88.498722 53.709911 \nL 89.563068 58.489594 \nL 90.627415 56.098726 \nL 91.691761 57.884479 \nL 92.756108 54.315322 \nL 93.820455 55.967936 \nL 94.884801 55.449986 \nL 95.949148 56.359232 \nL 97.013494 58.632162 \nL 98.077841 56.317878 \nL 99.142188 57.865217 \nL 100.206534 54.857729 \nL 101.270881 56.661831 \nL 102.335227 56.608765 \nL 103.399574 54.079656 \nL 104.46392 53.800782 \nL 105.528267 55.255302 \nL 106.592614 53.761105 \nL 107.65696 54.713545 \nL 108.721307 54.435282 \nL 109.785653 55.920234 \nL 110.85 54.87493 \nL 111.914347 55.653776 \nL 112.978693 53.876745 \nL 114.04304 54.626658 \nL 115.107386 56.072252 \nL 116.171733 57.79702 \nL 117.23608 57.486092 \nL 118.300426 57.077247 \nL 119.364773 58.405455 \nL 120.429119 56.302452 \nL 121.493466 59.486494 \nL 122.557812 59.985654 \nL 123.622159 58.462341 \nL 124.686506 60.59356 \nL 125.750852 57.648294 \nL 126.815199 59.794372 \nL 127.879545 60.641246 \nL 128.943892 60.866507 \nL 130.008239 63.31791 \n\" clip-path=\"url(#pfbd448cc1e)\" style=\"fill: none; stroke: #1d6c8a; stroke-width: 1.5; stroke-linecap: round\"/>\n   </g>\n   <g id=\"line2d_7\"/>\n   <g id=\"line2d_8\"/>\n   <g id=\"patch_3\">\n    <path d=\"M 40.603125 106.36 \nL 40.603125 40.480316 \n\" style=\"fill: none; stroke: #000000; stroke-width: 0.8; stroke-linejoin: miter; stroke-linecap: square\"/>\n   </g>\n   <g id=\"patch_4\">\n    <path d=\"M 134.265625 106.36 \nL 134.265625 40.480316 \n\" style=\"fill: none; stroke: #000000; stroke-width: 0.8; stroke-linejoin: miter; stroke-linecap: square\"/>\n   </g>\n   <g id=\"patch_5\">\n    <path d=\"M 40.603125 106.36 \nL 134.265625 106.36 \n\" style=\"fill: none; stroke: #000000; stroke-width: 0.8; stroke-linejoin: miter; stroke-linecap: square\"/>\n   </g>\n   <g id=\"patch_6\">\n    <path d=\"M 40.603125 40.480316 \nL 134.265625 40.480316 \n\" style=\"fill: none; stroke: #000000; stroke-width: 0.8; stroke-linejoin: miter; stroke-linecap: square\"/>\n   </g>\n   <g id=\"legend_1\">\n    <g id=\"patch_7\">\n     <path d=\"M 63.914844 101.36 \nL 110.953906 101.36 \nQ 112.953906 101.36 112.953906 99.36 \nL 112.953906 56.325625 \nQ 112.953906 54.325625 110.953906 54.325625 \nL 63.914844 54.325625 \nQ 61.914844 54.325625 61.914844 56.325625 \nL 61.914844 99.36 \nQ 61.914844 101.36 63.914844 101.36 \nz\n\" style=\"fill: #ffffff; opacity: 0.8; stroke: #cccccc; stroke-linejoin: miter\"/>\n    </g>\n    <g id=\"text_7\">\n     <!-- diabetes -->\n     <g style=\"fill: #262626\" transform=\"translate(65.914844 65.924062) scale(0.1 -0.1)\">\n      <defs>\n       <path id=\"DejaVuSans-64\" d=\"M 2906 2969 \nL 2906 4863 \nL 3481 4863 \nL 3481 0 \nL 2906 0 \nL 2906 525 \nQ 2725 213 2448 61 \nQ 2172 -91 1784 -91 \nQ 1150 -91 751 415 \nQ 353 922 353 1747 \nQ 353 2572 751 3078 \nQ 1150 3584 1784 3584 \nQ 2172 3584 2448 3432 \nQ 2725 3281 2906 2969 \nz\nM 947 1747 \nQ 947 1113 1208 752 \nQ 1469 391 1925 391 \nQ 2381 391 2643 752 \nQ 2906 1113 2906 1747 \nQ 2906 2381 2643 2742 \nQ 2381 3103 1925 3103 \nQ 1469 3103 1208 2742 \nQ 947 2381 947 1747 \nz\n\" transform=\"scale(0.015625)\"/>\n       <path id=\"DejaVuSans-74\" d=\"M 1172 4494 \nL 1172 3500 \nL 2356 3500 \nL 2356 3053 \nL 1172 3053 \nL 1172 1153 \nQ 1172 725 1289 603 \nQ 1406 481 1766 481 \nL 2356 481 \nL 2356 0 \nL 1766 0 \nQ 1100 0 847 248 \nQ 594 497 594 1153 \nL 594 3053 \nL 172 3053 \nL 172 3500 \nL 594 3500 \nL 594 4494 \nL 1172 4494 \nz\n\" transform=\"scale(0.015625)\"/>\n       <path id=\"DejaVuSans-73\" d=\"M 2834 3397 \nL 2834 2853 \nQ 2591 2978 2328 3040 \nQ 2066 3103 1784 3103 \nQ 1356 3103 1142 2972 \nQ 928 2841 928 2578 \nQ 928 2378 1081 2264 \nQ 1234 2150 1697 2047 \nL 1894 2003 \nQ 2506 1872 2764 1633 \nQ 3022 1394 3022 966 \nQ 3022 478 2636 193 \nQ 2250 -91 1575 -91 \nQ 1294 -91 989 -36 \nQ 684 19 347 128 \nL 347 722 \nQ 666 556 975 473 \nQ 1284 391 1588 391 \nQ 1994 391 2212 530 \nQ 2431 669 2431 922 \nQ 2431 1156 2273 1281 \nQ 2116 1406 1581 1522 \nL 1381 1569 \nQ 847 1681 609 1914 \nQ 372 2147 372 2553 \nQ 372 3047 722 3315 \nQ 1072 3584 1716 3584 \nQ 2034 3584 2315 3537 \nQ 2597 3491 2834 3397 \nz\n\" transform=\"scale(0.015625)\"/>\n      </defs>\n      <use xlink:href=\"#DejaVuSans-64\"/>\n      <use xlink:href=\"#DejaVuSans-69\" x=\"63.476562\"/>\n      <use xlink:href=\"#DejaVuSans-61\" x=\"91.259766\"/>\n      <use xlink:href=\"#DejaVuSans-62\" x=\"152.539062\"/>\n      <use xlink:href=\"#DejaVuSans-65\" x=\"216.015625\"/>\n      <use xlink:href=\"#DejaVuSans-74\" x=\"277.539062\"/>\n      <use xlink:href=\"#DejaVuSans-65\" x=\"316.748047\"/>\n      <use xlink:href=\"#DejaVuSans-73\" x=\"378.271484\"/>\n     </g>\n    </g>\n    <g id=\"line2d_9\">\n     <path d=\"M 70.253125 77.102187 \nL 80.253125 77.102187 \nL 90.253125 77.102187 \n\" style=\"fill: none; stroke: #509e90; stroke-width: 1.5; stroke-linecap: round\"/>\n    </g>\n    <g id=\"text_8\">\n     <!-- 0 -->\n     <g style=\"fill: #262626\" transform=\"translate(98.253125 80.602187) scale(0.1 -0.1)\">\n      <use xlink:href=\"#DejaVuSans-30\"/>\n     </g>\n    </g>\n    <g id=\"line2d_10\">\n     <path d=\"M 70.253125 91.780312 \nL 80.253125 91.780312 \nL 90.253125 91.780312 \n\" style=\"fill: none; stroke: #1d6c8a; stroke-width: 1.5; stroke-linecap: round\"/>\n    </g>\n    <g id=\"text_9\">\n     <!-- 1 -->\n     <g style=\"fill: #262626\" transform=\"translate(98.253125 95.280312) scale(0.1 -0.1)\">\n      <defs>\n       <path id=\"DejaVuSans-31\" d=\"M 794 531 \nL 1825 531 \nL 1825 4091 \nL 703 3866 \nL 703 4441 \nL 1819 4666 \nL 2450 4666 \nL 2450 531 \nL 3481 531 \nL 3481 0 \nL 794 0 \nL 794 531 \nz\n\" transform=\"scale(0.015625)\"/>\n      </defs>\n      <use xlink:href=\"#DejaVuSans-31\"/>\n     </g>\n    </g>\n   </g>\n  </g>\n  <g id=\"axes_2\">\n   <g id=\"patch_8\">\n    <path d=\"M 182.086875 106.36 \nL 275.749375 106.36 \nL 275.749375 40.480316 \nL 182.086875 40.480316 \nz\n\" style=\"fill: #ffffff\"/>\n   </g>\n   <g id=\"matplotlib.axis_3\">\n    <g id=\"xtick_3\">\n     <g id=\"line2d_11\">\n      <path d=\"M 186.344261 106.36 \nL 186.344261 40.480316 \n\" clip-path=\"url(#p8e4fe25c4d)\" style=\"fill: none; stroke: #cccccc; stroke-width: 0.8; stroke-linecap: round\"/>\n     </g>\n     <g id=\"text_10\">\n      <!-- 0 -->\n      <g style=\"fill: #262626\" transform=\"translate(183.163011 120.958437) scale(0.1 -0.1)\">\n       <use xlink:href=\"#DejaVuSans-30\"/>\n      </g>\n     </g>\n    </g>\n    <g id=\"xtick_4\">\n     <g id=\"line2d_12\">\n      <path d=\"M 239.561591 106.36 \nL 239.561591 40.480316 \n\" clip-path=\"url(#p8e4fe25c4d)\" style=\"fill: none; stroke: #cccccc; stroke-width: 0.8; stroke-linecap: round\"/>\n     </g>\n     <g id=\"text_11\">\n      <!-- 50 -->\n      <g style=\"fill: #262626\" transform=\"translate(233.199091 120.958437) scale(0.1 -0.1)\">\n       <use xlink:href=\"#DejaVuSans-35\"/>\n       <use xlink:href=\"#DejaVuSans-30\" x=\"63.623047\"/>\n      </g>\n     </g>\n    </g>\n    <g id=\"text_12\">\n     <!-- age -->\n     <g style=\"fill: #262626\" transform=\"translate(219.603281 134.636562) scale(0.1 -0.1)\">\n      <use xlink:href=\"#DejaVuSans-61\"/>\n      <use xlink:href=\"#DejaVuSans-67\" x=\"61.279297\"/>\n      <use xlink:href=\"#DejaVuSans-65\" x=\"124.755859\"/>\n     </g>\n    </g>\n   </g>\n   <g id=\"matplotlib.axis_4\">\n    <g id=\"ytick_3\">\n     <g id=\"line2d_13\">\n      <path d=\"M 182.086875 103.365469 \nL 275.749375 103.365469 \n\" clip-path=\"url(#p8e4fe25c4d)\" style=\"fill: none; stroke: #cccccc; stroke-width: 0.8; stroke-linecap: round\"/>\n     </g>\n     <g id=\"text_13\">\n      <!-- 0.0 -->\n      <g style=\"fill: #262626\" transform=\"translate(159.18375 107.164688) scale(0.1 -0.1)\">\n       <defs>\n        <path id=\"DejaVuSans-2e\" d=\"M 684 794 \nL 1344 794 \nL 1344 0 \nL 684 0 \nL 684 794 \nz\n\" transform=\"scale(0.015625)\"/>\n       </defs>\n       <use xlink:href=\"#DejaVuSans-30\"/>\n       <use xlink:href=\"#DejaVuSans-2e\" x=\"63.623047\"/>\n       <use xlink:href=\"#DejaVuSans-30\" x=\"95.410156\"/>\n      </g>\n     </g>\n    </g>\n    <g id=\"ytick_4\">\n     <g id=\"line2d_14\">\n      <path d=\"M 182.086875 81.252008 \nL 275.749375 81.252008 \n\" clip-path=\"url(#p8e4fe25c4d)\" style=\"fill: none; stroke: #cccccc; stroke-width: 0.8; stroke-linecap: round\"/>\n     </g>\n     <g id=\"text_14\">\n      <!-- 0.2 -->\n      <g style=\"fill: #262626\" transform=\"translate(159.18375 85.051227) scale(0.1 -0.1)\">\n       <use xlink:href=\"#DejaVuSans-30\"/>\n       <use xlink:href=\"#DejaVuSans-2e\" x=\"63.623047\"/>\n       <use xlink:href=\"#DejaVuSans-32\" x=\"95.410156\"/>\n      </g>\n     </g>\n    </g>\n    <g id=\"ytick_5\">\n     <g id=\"line2d_15\">\n      <path d=\"M 182.086875 59.138548 \nL 275.749375 59.138548 \n\" clip-path=\"url(#p8e4fe25c4d)\" style=\"fill: none; stroke: #cccccc; stroke-width: 0.8; stroke-linecap: round\"/>\n     </g>\n     <g id=\"text_15\">\n      <!-- 0.4 -->\n      <g style=\"fill: #262626\" transform=\"translate(159.18375 62.937767) scale(0.1 -0.1)\">\n       <defs>\n        <path id=\"DejaVuSans-34\" d=\"M 2419 4116 \nL 825 1625 \nL 2419 1625 \nL 2419 4116 \nz\nM 2253 4666 \nL 3047 4666 \nL 3047 1625 \nL 3713 1625 \nL 3713 1100 \nL 3047 1100 \nL 3047 0 \nL 2419 0 \nL 2419 1100 \nL 313 1100 \nL 313 1709 \nL 2253 4666 \nz\n\" transform=\"scale(0.015625)\"/>\n       </defs>\n       <use xlink:href=\"#DejaVuSans-30\"/>\n       <use xlink:href=\"#DejaVuSans-2e\" x=\"63.623047\"/>\n       <use xlink:href=\"#DejaVuSans-34\" x=\"95.410156\"/>\n      </g>\n     </g>\n    </g>\n    <g id=\"text_16\">\n     <!-- hypertension -->\n     <g style=\"fill: #262626\" transform=\"translate(153.104062 106.281877) rotate(-90) scale(0.1 -0.1)\">\n      <defs>\n       <path id=\"DejaVuSans-68\" d=\"M 3513 2113 \nL 3513 0 \nL 2938 0 \nL 2938 2094 \nQ 2938 2591 2744 2837 \nQ 2550 3084 2163 3084 \nQ 1697 3084 1428 2787 \nQ 1159 2491 1159 1978 \nL 1159 0 \nL 581 0 \nL 581 4863 \nL 1159 4863 \nL 1159 2956 \nQ 1366 3272 1645 3428 \nQ 1925 3584 2291 3584 \nQ 2894 3584 3203 3211 \nQ 3513 2838 3513 2113 \nz\n\" transform=\"scale(0.015625)\"/>\n       <path id=\"DejaVuSans-79\" d=\"M 2059 -325 \nQ 1816 -950 1584 -1140 \nQ 1353 -1331 966 -1331 \nL 506 -1331 \nL 506 -850 \nL 844 -850 \nQ 1081 -850 1212 -737 \nQ 1344 -625 1503 -206 \nL 1606 56 \nL 191 3500 \nL 800 3500 \nL 1894 763 \nL 2988 3500 \nL 3597 3500 \nL 2059 -325 \nz\n\" transform=\"scale(0.015625)\"/>\n       <path id=\"DejaVuSans-70\" d=\"M 1159 525 \nL 1159 -1331 \nL 581 -1331 \nL 581 3500 \nL 1159 3500 \nL 1159 2969 \nQ 1341 3281 1617 3432 \nQ 1894 3584 2278 3584 \nQ 2916 3584 3314 3078 \nQ 3713 2572 3713 1747 \nQ 3713 922 3314 415 \nQ 2916 -91 2278 -91 \nQ 1894 -91 1617 61 \nQ 1341 213 1159 525 \nz\nM 3116 1747 \nQ 3116 2381 2855 2742 \nQ 2594 3103 2138 3103 \nQ 1681 3103 1420 2742 \nQ 1159 2381 1159 1747 \nQ 1159 1113 1420 752 \nQ 1681 391 2138 391 \nQ 2594 391 2855 752 \nQ 3116 1113 3116 1747 \nz\n\" transform=\"scale(0.015625)\"/>\n       <path id=\"DejaVuSans-72\" d=\"M 2631 2963 \nQ 2534 3019 2420 3045 \nQ 2306 3072 2169 3072 \nQ 1681 3072 1420 2755 \nQ 1159 2438 1159 1844 \nL 1159 0 \nL 581 0 \nL 581 3500 \nL 1159 3500 \nL 1159 2956 \nQ 1341 3275 1631 3429 \nQ 1922 3584 2338 3584 \nQ 2397 3584 2469 3576 \nQ 2541 3569 2628 3553 \nL 2631 2963 \nz\n\" transform=\"scale(0.015625)\"/>\n       <path id=\"DejaVuSans-6e\" d=\"M 3513 2113 \nL 3513 0 \nL 2938 0 \nL 2938 2094 \nQ 2938 2591 2744 2837 \nQ 2550 3084 2163 3084 \nQ 1697 3084 1428 2787 \nQ 1159 2491 1159 1978 \nL 1159 0 \nL 581 0 \nL 581 3500 \nL 1159 3500 \nL 1159 2956 \nQ 1366 3272 1645 3428 \nQ 1925 3584 2291 3584 \nQ 2894 3584 3203 3211 \nQ 3513 2838 3513 2113 \nz\n\" transform=\"scale(0.015625)\"/>\n       <path id=\"DejaVuSans-6f\" d=\"M 1959 3097 \nQ 1497 3097 1228 2736 \nQ 959 2375 959 1747 \nQ 959 1119 1226 758 \nQ 1494 397 1959 397 \nQ 2419 397 2687 759 \nQ 2956 1122 2956 1747 \nQ 2956 2369 2687 2733 \nQ 2419 3097 1959 3097 \nz\nM 1959 3584 \nQ 2709 3584 3137 3096 \nQ 3566 2609 3566 1747 \nQ 3566 888 3137 398 \nQ 2709 -91 1959 -91 \nQ 1206 -91 779 398 \nQ 353 888 353 1747 \nQ 353 2609 779 3096 \nQ 1206 3584 1959 3584 \nz\n\" transform=\"scale(0.015625)\"/>\n      </defs>\n      <use xlink:href=\"#DejaVuSans-68\"/>\n      <use xlink:href=\"#DejaVuSans-79\" x=\"63.378906\"/>\n      <use xlink:href=\"#DejaVuSans-70\" x=\"122.558594\"/>\n      <use xlink:href=\"#DejaVuSans-65\" x=\"186.035156\"/>\n      <use xlink:href=\"#DejaVuSans-72\" x=\"247.558594\"/>\n      <use xlink:href=\"#DejaVuSans-74\" x=\"288.671875\"/>\n      <use xlink:href=\"#DejaVuSans-65\" x=\"327.880859\"/>\n      <use xlink:href=\"#DejaVuSans-6e\" x=\"389.404297\"/>\n      <use xlink:href=\"#DejaVuSans-73\" x=\"452.783203\"/>\n      <use xlink:href=\"#DejaVuSans-69\" x=\"504.882812\"/>\n      <use xlink:href=\"#DejaVuSans-6f\" x=\"532.666016\"/>\n      <use xlink:href=\"#DejaVuSans-6e\" x=\"593.847656\"/>\n     </g>\n    </g>\n   </g>\n   <g id=\"PolyCollection_3\">\n    <defs>\n     <path id=\"m0c983eda5b\" d=\"M 186.344261 -40.550781 \nL 186.344261 -40.550781 \nL 187.408608 -40.550781 \nL 188.472955 -40.550781 \nL 189.537301 -40.550781 \nL 190.601648 -40.550781 \nL 191.665994 -40.550781 \nL 192.730341 -40.550781 \nL 193.794687 -40.550781 \nL 194.859034 -40.550781 \nL 195.923381 -40.550781 \nL 196.987727 -40.550781 \nL 198.052074 -40.550781 \nL 199.11642 -40.550781 \nL 200.180767 -40.550781 \nL 201.245114 -40.550781 \nL 202.30946 -40.550781 \nL 203.373807 -40.550781 \nL 204.438153 -40.550781 \nL 205.5025 -40.550781 \nL 206.566847 -40.550781 \nL 207.631193 -40.550781 \nL 208.69554 -40.743575 \nL 209.759886 -40.648628 \nL 210.824233 -40.648197 \nL 211.88858 -40.649856 \nL 212.952926 -40.94496 \nL 214.017273 -40.550781 \nL 215.081619 -41.228514 \nL 216.145966 -40.7346 \nL 217.210312 -41.208361 \nL 218.274659 -41.420629 \nL 219.339006 -41.654447 \nL 220.403352 -41.466242 \nL 221.467699 -41.777036 \nL 222.532045 -42.342151 \nL 223.596392 -42.1873 \nL 224.660739 -41.886631 \nL 225.725085 -42.803259 \nL 226.789432 -43.079529 \nL 227.853778 -43.218378 \nL 228.918125 -43.992049 \nL 229.982472 -43.337356 \nL 231.046818 -42.677075 \nL 232.111165 -44.80337 \nL 233.175511 -44.645866 \nL 234.239858 -45.276642 \nL 235.304205 -45.550441 \nL 236.368551 -45.717477 \nL 237.432898 -48.243155 \nL 238.497244 -46.25918 \nL 239.561591 -47.484663 \nL 240.625937 -47.359289 \nL 241.690284 -48.028763 \nL 242.754631 -49.316321 \nL 243.818977 -48.021545 \nL 244.883324 -48.641072 \nL 245.94767 -49.756562 \nL 247.012017 -50.02262 \nL 248.076364 -50.025346 \nL 249.14071 -50.750717 \nL 250.205057 -52.712171 \nL 251.269403 -51.824156 \nL 252.33375 -51.853216 \nL 253.398097 -52.324778 \nL 254.462443 -52.478648 \nL 255.52679 -53.434961 \nL 256.591136 -52.582733 \nL 257.655483 -52.251025 \nL 258.71983 -53.691977 \nL 259.784176 -53.728139 \nL 260.848523 -52.729209 \nL 261.912869 -54.479166 \nL 262.977216 -54.980751 \nL 264.041562 -55.413927 \nL 265.105909 -56.543552 \nL 266.170256 -55.47001 \nL 267.234602 -55.896421 \nL 268.298949 -57.779723 \nL 269.363295 -55.321222 \nL 270.427642 -53.022581 \nL 271.491989 -61.171782 \nL 271.491989 -63.878289 \nL 271.491989 -63.878289 \nL 270.427642 -59.744162 \nL 269.363295 -62.073424 \nL 268.298949 -64.373097 \nL 267.234602 -62.782285 \nL 266.170256 -62.411997 \nL 265.105909 -63.433758 \nL 264.041562 -61.943742 \nL 262.977216 -61.165024 \nL 261.912869 -60.673858 \nL 260.848523 -58.181459 \nL 259.784176 -59.314657 \nL 258.71983 -59.43181 \nL 257.655483 -57.954894 \nL 256.591136 -57.648818 \nL 255.52679 -58.299397 \nL 254.462443 -57.571445 \nL 253.398097 -57.467443 \nL 252.33375 -55.88278 \nL 251.269403 -56.211872 \nL 250.205057 -57.072536 \nL 249.14071 -54.93269 \nL 248.076364 -54.032094 \nL 247.012017 -53.867623 \nL 245.94767 -53.478048 \nL 244.883324 -52.174762 \nL 243.818977 -51.570158 \nL 242.754631 -52.787822 \nL 241.690284 -51.411659 \nL 240.625937 -50.556491 \nL 239.561591 -50.857903 \nL 238.497244 -49.247308 \nL 237.432898 -51.539886 \nL 236.368551 -48.386937 \nL 235.304205 -48.18519 \nL 234.239858 -47.951657 \nL 233.175511 -47.161086 \nL 232.111165 -47.608269 \nL 231.046818 -44.80337 \nL 229.982472 -45.725848 \nL 228.918125 -46.509596 \nL 227.853778 -45.610017 \nL 226.789432 -45.172285 \nL 225.725085 -45.055738 \nL 224.660739 -43.941786 \nL 223.596392 -44.232948 \nL 222.532045 -44.332561 \nL 221.467699 -43.51423 \nL 220.403352 -43.093727 \nL 219.339006 -43.25978 \nL 218.274659 -42.870375 \nL 217.210312 -42.61746 \nL 216.145966 -41.561787 \nL 215.081619 -42.680799 \nL 214.017273 -41.235711 \nL 212.952926 -42.226043 \nL 211.88858 -41.343378 \nL 210.824233 -41.524942 \nL 209.759886 -41.333558 \nL 208.69554 -41.611148 \nL 207.631193 -41.033186 \nL 206.566847 -40.550781 \nL 205.5025 -41.055655 \nL 204.438153 -40.550781 \nL 203.373807 -40.896664 \nL 202.30946 -40.913297 \nL 201.245114 -40.550781 \nL 200.180767 -40.550781 \nL 199.11642 -40.550781 \nL 198.052074 -40.969597 \nL 196.987727 -40.550781 \nL 195.923381 -40.550781 \nL 194.859034 -40.956285 \nL 193.794687 -40.939191 \nL 192.730341 -40.550781 \nL 191.665994 -40.550781 \nL 190.601648 -40.92348 \nL 189.537301 -40.550781 \nL 188.472955 -40.550781 \nL 187.408608 -40.550781 \nL 186.344261 -40.550781 \nz\n\" style=\"stroke: #509e90; stroke-opacity: 0.2\"/>\n    </defs>\n    <g clip-path=\"url(#p8e4fe25c4d)\">\n     <use xlink:href=\"#m0c983eda5b\" x=\"0\" y=\"143.91625\" style=\"fill: #509e90; fill-opacity: 0.2; stroke: #509e90; stroke-opacity: 0.2\"/>\n    </g>\n   </g>\n   <g id=\"PolyCollection_4\">\n    <path d=\"M 190.601648 103.365469 \nL 190.601648 103.365469 \nL 190.601648 103.365469 \nL 190.601648 103.365469 \nz\n\" clip-path=\"url(#p8e4fe25c4d)\" style=\"fill: #1d6c8a; fill-opacity: 0.2; stroke: #1d6c8a; stroke-opacity: 0.2\"/>\n    <path d=\"M 192.730341 103.365469 \nL 192.730341 103.365469 \nL 193.794687 103.365469 \nL 193.794687 103.365469 \nL 193.794687 103.365469 \nL 192.730341 103.365469 \nz\n\" clip-path=\"url(#p8e4fe25c4d)\" style=\"fill: #1d6c8a; fill-opacity: 0.2; stroke: #1d6c8a; stroke-opacity: 0.2\"/>\n    <path d=\"M 195.923381 103.365469 \nL 195.923381 103.365469 \nL 196.987727 103.365469 \nL 196.987727 103.365469 \nL 196.987727 103.365469 \nL 195.923381 103.365469 \nz\n\" clip-path=\"url(#p8e4fe25c4d)\" style=\"fill: #1d6c8a; fill-opacity: 0.2; stroke: #1d6c8a; stroke-opacity: 0.2\"/>\n    <path d=\"M 199.11642 103.365469 \nL 199.11642 103.365469 \nL 200.180767 103.365469 \nL 201.245114 103.365469 \nL 202.30946 103.365469 \nL 203.373807 103.365469 \nL 204.438153 103.365469 \nL 205.5025 103.365469 \nL 206.566847 103.365469 \nL 207.631193 103.365469 \nL 208.69554 103.365469 \nL 209.759886 103.365469 \nL 210.824233 103.365469 \nL 211.88858 103.365469 \nL 212.952926 103.365469 \nL 214.017273 103.365469 \nL 215.081619 103.365469 \nL 216.145966 103.365469 \nL 217.210312 103.365469 \nL 218.274659 103.365469 \nL 219.339006 103.365469 \nL 220.403352 103.365469 \nL 221.467699 84.937585 \nL 222.532045 95.994315 \nL 223.596392 96.66442 \nL 224.660739 96.748183 \nL 225.725085 100.014945 \nL 226.789432 100.794136 \nL 227.853778 99.617425 \nL 228.918125 99.552803 \nL 229.982472 96.86151 \nL 231.046818 99.416637 \nL 232.111165 92.999784 \nL 233.175511 88.047291 \nL 234.239858 87.148931 \nL 235.304205 89.544556 \nL 236.368551 89.420043 \nL 237.432898 90.000191 \nL 238.497244 92.430241 \nL 239.561591 84.302141 \nL 240.625937 83.87682 \nL 241.690284 81.595009 \nL 242.754631 83.348974 \nL 243.818977 84.255071 \nL 244.883324 90.097393 \nL 245.94767 87.148931 \nL 247.012017 84.474501 \nL 248.076364 81.922113 \nL 249.14071 79.893081 \nL 250.205057 85.489318 \nL 251.269403 82.102526 \nL 252.33375 81.965346 \nL 253.398097 83.853592 \nL 254.462443 79.003182 \nL 255.52679 81.252008 \nL 256.591136 82.807729 \nL 257.655483 80.115335 \nL 258.71983 80.088142 \nL 259.784176 74.11486 \nL 260.848523 84.937585 \nL 261.912869 81.252008 \nL 262.977216 80.272298 \nL 264.041562 85.381631 \nL 265.105909 74.407366 \nL 266.170256 79.420958 \nL 267.234602 79.153651 \nL 268.298949 83.748689 \nL 269.363295 80.729643 \nL 270.427642 73.66082 \nL 271.491989 75.611278 \nL 271.491989 69.768291 \nL 271.491989 69.768291 \nL 270.427642 56.333109 \nL 269.363295 63.31747 \nL 268.298949 68.590269 \nL 267.234602 62.205378 \nL 266.170256 63.92745 \nL 265.105909 58.612037 \nL 264.041562 71.394201 \nL 262.977216 64.876851 \nL 261.912869 66.492949 \nL 260.848523 69.922272 \nL 259.784176 58.904543 \nL 258.71983 65.863109 \nL 257.655483 67.715264 \nL 256.591136 70.028594 \nL 255.52679 67.768191 \nL 254.462443 64.011005 \nL 253.398097 70.179018 \nL 252.33375 68.717651 \nL 251.269403 69.34476 \nL 250.205057 71.585645 \nL 249.14071 65.068414 \nL 248.076364 67.179806 \nL 247.012017 71.283765 \nL 245.94767 71.669509 \nL 244.883324 76.829316 \nL 243.818977 70.587724 \nL 242.754631 66.191979 \nL 241.690284 66.240681 \nL 240.625937 66.199989 \nL 239.561591 66.191979 \nL 238.497244 75.419887 \nL 237.432898 71.744435 \nL 236.368551 73.482414 \nL 235.304205 70.697857 \nL 234.239858 67.947076 \nL 233.175511 68.045358 \nL 232.111165 72.268415 \nL 231.046818 79.672476 \nL 229.982472 75.181647 \nL 228.918125 82.395808 \nL 227.853778 80.877204 \nL 226.789432 80.223475 \nL 225.725085 76.561274 \nL 224.660739 73.21075 \nL 223.596392 66.509701 \nL 222.532045 62.824125 \nL 221.467699 43.474847 \nL 220.403352 83.621308 \nL 219.339006 77.849938 \nL 218.274659 83.853592 \nL 217.210312 80.330614 \nL 216.145966 91.080213 \nL 215.081619 84.937585 \nL 214.017273 81.252008 \nL 212.952926 77.849938 \nL 211.88858 103.365469 \nL 210.824233 103.365469 \nL 209.759886 103.365469 \nL 208.69554 103.365469 \nL 207.631193 103.365469 \nL 206.566847 103.365469 \nL 205.5025 103.365469 \nL 204.438153 103.365469 \nL 203.373807 103.365469 \nL 202.30946 103.365469 \nL 201.245114 103.365469 \nL 200.180767 103.365469 \nL 199.11642 103.365469 \nz\n\" clip-path=\"url(#p8e4fe25c4d)\" style=\"fill: #1d6c8a; fill-opacity: 0.2; stroke: #1d6c8a; stroke-opacity: 0.2\"/>\n   </g>\n   <g id=\"line2d_16\">\n    <path d=\"M 186.344261 103.365469 \nL 187.408608 103.365469 \nL 188.472955 103.365469 \nL 189.537301 103.365469 \nL 190.601648 103.241236 \nL 191.665994 103.365469 \nL 192.730341 103.365469 \nL 193.794687 103.235999 \nL 194.859034 103.230301 \nL 195.923381 103.365469 \nL 196.987727 103.365469 \nL 198.052074 103.225864 \nL 199.11642 103.365469 \nL 200.180767 103.365469 \nL 201.245114 103.365469 \nL 202.30946 103.24463 \nL 203.373807 103.250175 \nL 204.438153 103.365469 \nL 205.5025 103.163519 \nL 206.566847 103.365469 \nL 207.631193 103.172507 \nL 208.69554 102.787087 \nL 209.759886 102.97408 \nL 210.824233 102.878388 \nL 211.88858 102.96917 \nL 212.952926 102.380021 \nL 214.017273 103.071927 \nL 215.081619 102.010003 \nL 216.145966 102.814011 \nL 217.210312 102.05031 \nL 218.274659 101.819073 \nL 219.339006 101.459136 \nL 220.403352 101.636265 \nL 221.467699 101.321711 \nL 222.532045 100.678415 \nL 223.596392 100.706126 \nL 224.660739 101.104799 \nL 225.725085 100.035718 \nL 226.789432 99.790343 \nL 227.853778 99.502052 \nL 228.918125 98.711963 \nL 229.982472 99.384648 \nL 231.046818 100.176027 \nL 232.111165 97.755671 \nL 233.175511 98.060472 \nL 234.239858 97.391268 \nL 235.304205 97.135089 \nL 236.368551 96.907098 \nL 237.432898 94.066995 \nL 238.497244 96.164104 \nL 239.561591 94.838668 \nL 240.625937 95.041391 \nL 241.690284 94.196039 \nL 242.754631 92.950966 \nL 243.818977 94.120399 \nL 244.883324 93.601325 \nL 245.94767 92.298945 \nL 247.012017 92.018019 \nL 248.076364 91.88753 \nL 249.14071 91.023547 \nL 250.205057 88.974491 \nL 251.269403 89.896931 \nL 252.33375 89.999111 \nL 253.398097 89.02014 \nL 254.462443 88.891204 \nL 255.52679 87.983335 \nL 256.591136 88.800475 \nL 257.655483 88.740164 \nL 258.71983 87.203309 \nL 259.784176 87.547987 \nL 260.848523 88.462919 \nL 261.912869 86.513843 \nL 262.977216 85.937064 \nL 264.041562 85.058424 \nL 265.105909 84.127568 \nL 266.170256 85.077721 \nL 267.234602 84.675267 \nL 268.298949 83.033478 \nL 269.363295 85.429933 \nL 270.427642 87.535877 \nL 271.491989 81.434293 \n\" clip-path=\"url(#p8e4fe25c4d)\" style=\"fill: none; stroke: #509e90; stroke-width: 1.5; stroke-linecap: round\"/>\n   </g>\n   <g id=\"line2d_17\">\n    <path d=\"M 189.537301 103.365469 \nL 190.601648 103.365469 \nL 191.665994 103.365469 \nL 192.730341 103.365469 \nL 193.794687 103.365469 \nL 194.859034 103.365469 \nL 195.923381 103.365469 \nL 196.987727 103.365469 \nL 198.052074 103.365469 \nL 199.11642 103.365469 \nL 200.180767 103.365469 \nL 201.245114 103.365469 \nL 202.30946 103.365469 \nL 203.373807 103.365469 \nL 204.438153 103.365469 \nL 205.5025 103.365469 \nL 206.566847 103.365469 \nL 207.631193 103.365469 \nL 208.69554 103.365469 \nL 209.759886 103.365469 \nL 210.824233 103.365469 \nL 211.88858 103.365469 \nL 212.952926 94.860292 \nL 214.017273 95.994315 \nL 215.081619 97.222841 \nL 216.145966 99.270384 \nL 217.210312 94.151527 \nL 218.274659 96.86151 \nL 219.339006 90.607703 \nL 220.403352 95.467804 \nL 221.467699 66.509701 \nL 222.532045 81.252008 \nL 223.596392 83.262323 \nL 224.660739 86.612847 \nL 225.725085 89.963372 \nL 226.789432 90.508806 \nL 227.853778 90.247314 \nL 228.918125 91.927472 \nL 229.982472 86.021578 \nL 231.046818 89.544556 \nL 232.111165 82.6341 \nL 233.175511 78.794957 \nL 234.239858 78.303547 \nL 235.304205 80.74943 \nL 236.368551 81.451229 \nL 237.432898 80.279988 \nL 238.497244 83.925064 \nL 239.561591 75.723643 \nL 240.625937 75.491359 \nL 241.690284 74.311287 \nL 242.754631 74.770477 \nL 243.818977 77.429929 \nL 244.883324 83.463354 \nL 245.94767 79.777778 \nL 247.012017 78.158415 \nL 248.076364 74.55096 \nL 249.14071 72.480748 \nL 250.205057 78.868522 \nL 251.269403 76.255217 \nL 252.33375 75.851025 \nL 253.398097 76.699237 \nL 254.462443 71.507094 \nL 255.52679 74.779776 \nL 256.591136 76.695969 \nL 257.655483 73.9153 \nL 258.71983 73.622218 \nL 259.784176 66.509701 \nL 260.848523 77.429929 \nL 261.912869 73.880855 \nL 262.977216 72.574575 \nL 264.041562 78.72095 \nL 265.105909 66.509701 \nL 266.170256 71.674204 \nL 267.234602 71.083045 \nL 268.298949 76.615315 \nL 269.363295 72.023556 \nL 270.427642 65.409529 \nL 271.491989 72.80215 \n\" clip-path=\"url(#p8e4fe25c4d)\" style=\"fill: none; stroke: #1d6c8a; stroke-width: 1.5; stroke-linecap: round\"/>\n   </g>\n   <g id=\"line2d_18\"/>\n   <g id=\"line2d_19\"/>\n   <g id=\"patch_9\">\n    <path d=\"M 182.086875 106.36 \nL 182.086875 40.480316 \n\" style=\"fill: none; stroke: #000000; stroke-width: 0.8; stroke-linejoin: miter; stroke-linecap: square\"/>\n   </g>\n   <g id=\"patch_10\">\n    <path d=\"M 275.749375 106.36 \nL 275.749375 40.480316 \n\" style=\"fill: none; stroke: #000000; stroke-width: 0.8; stroke-linejoin: miter; stroke-linecap: square\"/>\n   </g>\n   <g id=\"patch_11\">\n    <path d=\"M 182.086875 106.36 \nL 275.749375 106.36 \n\" style=\"fill: none; stroke: #000000; stroke-width: 0.8; stroke-linejoin: miter; stroke-linecap: square\"/>\n   </g>\n   <g id=\"patch_12\">\n    <path d=\"M 182.086875 40.480316 \nL 275.749375 40.480316 \n\" style=\"fill: none; stroke: #000000; stroke-width: 0.8; stroke-linejoin: miter; stroke-linecap: square\"/>\n   </g>\n   <g id=\"legend_2\">\n    <g id=\"patch_13\">\n     <path d=\"M 189.086875 92.514691 \nL 236.125937 92.514691 \nQ 238.125937 92.514691 238.125937 90.514691 \nL 238.125937 47.480316 \nQ 238.125937 45.480316 236.125937 45.480316 \nL 189.086875 45.480316 \nQ 187.086875 45.480316 187.086875 47.480316 \nL 187.086875 90.514691 \nQ 187.086875 92.514691 189.086875 92.514691 \nz\n\" style=\"fill: #ffffff; opacity: 0.8; stroke: #cccccc; stroke-linejoin: miter\"/>\n    </g>\n    <g id=\"text_17\">\n     <!-- diabetes -->\n     <g style=\"fill: #262626\" transform=\"translate(191.086875 57.078753) scale(0.1 -0.1)\">\n      <use xlink:href=\"#DejaVuSans-64\"/>\n      <use xlink:href=\"#DejaVuSans-69\" x=\"63.476562\"/>\n      <use xlink:href=\"#DejaVuSans-61\" x=\"91.259766\"/>\n      <use xlink:href=\"#DejaVuSans-62\" x=\"152.539062\"/>\n      <use xlink:href=\"#DejaVuSans-65\" x=\"216.015625\"/>\n      <use xlink:href=\"#DejaVuSans-74\" x=\"277.539062\"/>\n      <use xlink:href=\"#DejaVuSans-65\" x=\"316.748047\"/>\n      <use xlink:href=\"#DejaVuSans-73\" x=\"378.271484\"/>\n     </g>\n    </g>\n    <g id=\"line2d_20\">\n     <path d=\"M 195.425156 68.256878 \nL 205.425156 68.256878 \nL 215.425156 68.256878 \n\" style=\"fill: none; stroke: #509e90; stroke-width: 1.5; stroke-linecap: round\"/>\n    </g>\n    <g id=\"text_18\">\n     <!-- 0 -->\n     <g style=\"fill: #262626\" transform=\"translate(223.425156 71.756878) scale(0.1 -0.1)\">\n      <use xlink:href=\"#DejaVuSans-30\"/>\n     </g>\n    </g>\n    <g id=\"line2d_21\">\n     <path d=\"M 195.425156 82.935003 \nL 205.425156 82.935003 \nL 215.425156 82.935003 \n\" style=\"fill: none; stroke: #1d6c8a; stroke-width: 1.5; stroke-linecap: round\"/>\n    </g>\n    <g id=\"text_19\">\n     <!-- 1 -->\n     <g style=\"fill: #262626\" transform=\"translate(223.425156 86.435003) scale(0.1 -0.1)\">\n      <use xlink:href=\"#DejaVuSans-31\"/>\n     </g>\n    </g>\n   </g>\n  </g>\n  <g id=\"axes_3\">\n   <g id=\"patch_14\">\n    <path d=\"M 323.570625 106.36 \nL 417.233125 106.36 \nL 417.233125 40.480316 \nL 323.570625 40.480316 \nz\n\" style=\"fill: #ffffff\"/>\n   </g>\n   <g id=\"matplotlib.axis_5\">\n    <g id=\"xtick_5\">\n     <g id=\"line2d_22\">\n      <path d=\"M 327.828011 106.36 \nL 327.828011 40.480316 \n\" clip-path=\"url(#pcd8981977a)\" style=\"fill: none; stroke: #cccccc; stroke-width: 0.8; stroke-linecap: round\"/>\n     </g>\n     <g id=\"text_20\">\n      <!-- 0 -->\n      <g style=\"fill: #262626\" transform=\"translate(324.646761 120.958437) scale(0.1 -0.1)\">\n       <use xlink:href=\"#DejaVuSans-30\"/>\n      </g>\n     </g>\n    </g>\n    <g id=\"xtick_6\">\n     <g id=\"line2d_23\">\n      <path d=\"M 381.045341 106.36 \nL 381.045341 40.480316 \n\" clip-path=\"url(#pcd8981977a)\" style=\"fill: none; stroke: #cccccc; stroke-width: 0.8; stroke-linecap: round\"/>\n     </g>\n     <g id=\"text_21\">\n      <!-- 50 -->\n      <g style=\"fill: #262626\" transform=\"translate(374.682841 120.958437) scale(0.1 -0.1)\">\n       <use xlink:href=\"#DejaVuSans-35\"/>\n       <use xlink:href=\"#DejaVuSans-30\" x=\"63.623047\"/>\n      </g>\n     </g>\n    </g>\n    <g id=\"text_22\">\n     <!-- age -->\n     <g style=\"fill: #262626\" transform=\"translate(361.087031 134.636562) scale(0.1 -0.1)\">\n      <use xlink:href=\"#DejaVuSans-61\"/>\n      <use xlink:href=\"#DejaVuSans-67\" x=\"61.279297\"/>\n      <use xlink:href=\"#DejaVuSans-65\" x=\"124.755859\"/>\n     </g>\n    </g>\n   </g>\n   <g id=\"matplotlib.axis_6\">\n    <g id=\"ytick_6\">\n     <g id=\"line2d_24\">\n      <path d=\"M 323.570625 103.365469 \nL 417.233125 103.365469 \n\" clip-path=\"url(#pcd8981977a)\" style=\"fill: none; stroke: #cccccc; stroke-width: 0.8; stroke-linecap: round\"/>\n     </g>\n     <g id=\"text_23\">\n      <!-- 0.0 -->\n      <g style=\"fill: #262626\" transform=\"translate(300.6675 107.164688) scale(0.1 -0.1)\">\n       <use xlink:href=\"#DejaVuSans-30\"/>\n       <use xlink:href=\"#DejaVuSans-2e\" x=\"63.623047\"/>\n       <use xlink:href=\"#DejaVuSans-30\" x=\"95.410156\"/>\n      </g>\n     </g>\n    </g>\n    <g id=\"ytick_7\">\n     <g id=\"line2d_25\">\n      <path d=\"M 323.570625 63.438387 \nL 417.233125 63.438387 \n\" clip-path=\"url(#pcd8981977a)\" style=\"fill: none; stroke: #cccccc; stroke-width: 0.8; stroke-linecap: round\"/>\n     </g>\n     <g id=\"text_24\">\n      <!-- 0.5 -->\n      <g style=\"fill: #262626\" transform=\"translate(300.6675 67.237606) scale(0.1 -0.1)\">\n       <use xlink:href=\"#DejaVuSans-30\"/>\n       <use xlink:href=\"#DejaVuSans-2e\" x=\"63.623047\"/>\n       <use xlink:href=\"#DejaVuSans-35\" x=\"95.410156\"/>\n      </g>\n     </g>\n    </g>\n    <g id=\"text_25\">\n     <!-- heart_disease -->\n     <g style=\"fill: #262626\" transform=\"translate(294.309687 108.235002) rotate(-90) scale(0.1 -0.1)\">\n      <defs>\n       <path id=\"DejaVuSans-5f\" d=\"M 3263 -1063 \nL 3263 -1509 \nL -63 -1509 \nL -63 -1063 \nL 3263 -1063 \nz\n\" transform=\"scale(0.015625)\"/>\n      </defs>\n      <use xlink:href=\"#DejaVuSans-68\"/>\n      <use xlink:href=\"#DejaVuSans-65\" x=\"63.378906\"/>\n      <use xlink:href=\"#DejaVuSans-61\" x=\"124.902344\"/>\n      <use xlink:href=\"#DejaVuSans-72\" x=\"186.181641\"/>\n      <use xlink:href=\"#DejaVuSans-74\" x=\"227.294922\"/>\n      <use xlink:href=\"#DejaVuSans-5f\" x=\"266.503906\"/>\n      <use xlink:href=\"#DejaVuSans-64\" x=\"316.503906\"/>\n      <use xlink:href=\"#DejaVuSans-69\" x=\"379.980469\"/>\n      <use xlink:href=\"#DejaVuSans-73\" x=\"407.763672\"/>\n      <use xlink:href=\"#DejaVuSans-65\" x=\"459.863281\"/>\n      <use xlink:href=\"#DejaVuSans-61\" x=\"521.386719\"/>\n      <use xlink:href=\"#DejaVuSans-73\" x=\"582.666016\"/>\n      <use xlink:href=\"#DejaVuSans-65\" x=\"634.765625\"/>\n     </g>\n    </g>\n   </g>\n   <g id=\"PolyCollection_5\">\n    <defs>\n     <path id=\"m042878beaf\" d=\"M 327.828011 -40.550781 \nL 327.828011 -40.550781 \nL 328.892358 -40.550781 \nL 329.956705 -40.550781 \nL 331.021051 -40.550781 \nL 332.085398 -40.550781 \nL 333.149744 -40.550781 \nL 334.214091 -40.550781 \nL 335.278437 -40.550781 \nL 336.342784 -40.550781 \nL 337.407131 -40.550781 \nL 338.471477 -40.550781 \nL 339.535824 -40.550781 \nL 340.60017 -40.550781 \nL 341.664517 -40.550781 \nL 342.728864 -40.550781 \nL 343.79321 -40.550781 \nL 344.857557 -40.550781 \nL 345.921903 -40.550781 \nL 346.98625 -40.550781 \nL 348.050597 -40.550781 \nL 349.114943 -40.550781 \nL 350.17929 -40.550781 \nL 351.243636 -40.550781 \nL 352.307983 -40.550781 \nL 353.37233 -40.550781 \nL 354.436676 -40.550781 \nL 355.501023 -40.550781 \nL 356.565369 -40.550781 \nL 357.629716 -40.550781 \nL 358.694062 -40.550781 \nL 359.758409 -40.550781 \nL 360.822756 -40.550781 \nL 361.887102 -40.550781 \nL 362.951449 -40.624583 \nL 364.015795 -40.550781 \nL 365.080142 -40.550781 \nL 366.144489 -40.624995 \nL 367.208835 -40.975161 \nL 368.273182 -40.613758 \nL 369.337528 -40.617216 \nL 370.401875 -40.685216 \nL 371.466222 -40.694533 \nL 372.530568 -40.690386 \nL 373.594915 -40.746822 \nL 374.659261 -41.222954 \nL 375.723608 -41.130368 \nL 376.787955 -41.057792 \nL 377.852301 -41.172698 \nL 378.916648 -41.344439 \nL 379.980994 -41.375328 \nL 381.045341 -41.295184 \nL 382.109688 -42.736903 \nL 383.174034 -41.772383 \nL 384.238381 -42.180458 \nL 385.302727 -42.709002 \nL 386.367074 -43.102891 \nL 387.43142 -42.884871 \nL 388.495767 -42.650424 \nL 389.560114 -44.579614 \nL 390.62446 -43.495588 \nL 391.688807 -43.332136 \nL 392.753153 -43.944017 \nL 393.8175 -43.744948 \nL 394.881847 -45.142151 \nL 395.946193 -44.906463 \nL 397.01054 -44.633693 \nL 398.074886 -45.581685 \nL 399.139233 -46.149023 \nL 400.20358 -46.223481 \nL 401.267926 -46.483845 \nL 402.332273 -45.874392 \nL 403.396619 -46.015141 \nL 404.460966 -47.724121 \nL 405.525312 -46.965296 \nL 406.589659 -47.424674 \nL 407.654006 -46.623341 \nL 408.718352 -48.649869 \nL 409.782699 -49.920709 \nL 410.847045 -48.47524 \nL 411.911392 -47.999217 \nL 412.975739 -53.38669 \nL 412.975739 -55.279164 \nL 412.975739 -55.279164 \nL 411.911392 -52.507253 \nL 410.847045 -52.89465 \nL 409.782699 -54.395899 \nL 408.718352 -53.054636 \nL 407.654006 -50.570505 \nL 406.589659 -51.812266 \nL 405.525312 -50.761641 \nL 404.460966 -51.65254 \nL 403.396619 -49.49246 \nL 402.332273 -48.99912 \nL 401.267926 -49.846567 \nL 400.20358 -49.387102 \nL 399.139233 -49.317839 \nL 398.074886 -48.325814 \nL 397.01054 -47.387285 \nL 395.946193 -47.713458 \nL 394.881847 -48.076816 \nL 393.8175 -45.805185 \nL 392.753153 -46.13077 \nL 391.688807 -45.381555 \nL 390.62446 -45.560083 \nL 389.560114 -46.864964 \nL 388.495767 -44.343685 \nL 387.43142 -44.723851 \nL 386.367074 -44.983392 \nL 385.302727 -44.327667 \nL 384.238381 -43.622095 \nL 383.174034 -43.058279 \nL 382.109688 -44.376494 \nL 381.045341 -42.445626 \nL 379.980994 -42.517008 \nL 378.916648 -42.382299 \nL 377.852301 -42.229957 \nL 376.787955 -42.071813 \nL 375.723608 -42.096346 \nL 374.659261 -42.298431 \nL 373.594915 -41.465641 \nL 372.530568 -41.388412 \nL 371.466222 -41.341416 \nL 370.401875 -41.359069 \nL 369.337528 -41.215125 \nL 368.273182 -41.054593 \nL 367.208835 -41.965381 \nL 366.144489 -41.146348 \nL 365.080142 -40.550781 \nL 364.015795 -40.766409 \nL 362.951449 -41.288805 \nL 361.887102 -40.550781 \nL 360.822756 -40.550781 \nL 359.758409 -40.899794 \nL 358.694062 -40.754318 \nL 357.629716 -40.550781 \nL 356.565369 -40.760556 \nL 355.501023 -40.550781 \nL 354.436676 -40.764295 \nL 353.37233 -40.550781 \nL 352.307983 -40.550781 \nL 351.243636 -40.762783 \nL 350.17929 -40.550781 \nL 349.114943 -40.759823 \nL 348.050597 -40.550781 \nL 346.98625 -40.550781 \nL 345.921903 -40.550781 \nL 344.857557 -40.550781 \nL 343.79321 -40.550781 \nL 342.728864 -40.550781 \nL 341.664517 -40.550781 \nL 340.60017 -40.834623 \nL 339.535824 -40.550781 \nL 338.471477 -40.851602 \nL 337.407131 -40.550781 \nL 336.342784 -40.843645 \nL 335.278437 -40.550781 \nL 334.214091 -40.550781 \nL 333.149744 -40.550781 \nL 332.085398 -40.550781 \nL 331.021051 -40.550781 \nL 329.956705 -40.831464 \nL 328.892358 -40.550781 \nL 327.828011 -40.550781 \nz\n\" style=\"stroke: #509e90; stroke-opacity: 0.2\"/>\n    </defs>\n    <g clip-path=\"url(#pcd8981977a)\">\n     <use xlink:href=\"#m042878beaf\" x=\"0\" y=\"143.91625\" style=\"fill: #509e90; fill-opacity: 0.2; stroke: #509e90; stroke-opacity: 0.2\"/>\n    </g>\n   </g>\n   <g id=\"PolyCollection_6\">\n    <path d=\"M 332.085398 103.365469 \nL 332.085398 103.365469 \nL 332.085398 103.365469 \nL 332.085398 103.365469 \nz\n\" clip-path=\"url(#pcd8981977a)\" style=\"fill: #1d6c8a; fill-opacity: 0.2; stroke: #1d6c8a; stroke-opacity: 0.2\"/>\n    <path d=\"M 334.214091 43.474847 \nL 334.214091 103.365469 \nL 335.278437 103.365469 \nL 335.278437 103.365469 \nL 335.278437 103.365469 \nL 334.214091 43.474847 \nz\n\" clip-path=\"url(#pcd8981977a)\" style=\"fill: #1d6c8a; fill-opacity: 0.2; stroke: #1d6c8a; stroke-opacity: 0.2\"/>\n    <path d=\"M 337.407131 103.365469 \nL 337.407131 103.365469 \nL 338.471477 103.365469 \nL 338.471477 103.365469 \nL 338.471477 103.365469 \nL 337.407131 103.365469 \nz\n\" clip-path=\"url(#pcd8981977a)\" style=\"fill: #1d6c8a; fill-opacity: 0.2; stroke: #1d6c8a; stroke-opacity: 0.2\"/>\n    <path d=\"M 340.60017 103.365469 \nL 340.60017 103.365469 \nL 341.664517 103.365469 \nL 342.728864 103.365469 \nL 343.79321 103.365469 \nL 344.857557 103.365469 \nL 345.921903 103.365469 \nL 346.98625 103.365469 \nL 348.050597 103.365469 \nL 349.114943 103.365469 \nL 350.17929 103.365469 \nL 351.243636 103.365469 \nL 352.307983 103.365469 \nL 353.37233 103.365469 \nL 354.436676 103.365469 \nL 355.501023 103.365469 \nL 356.565369 103.365469 \nL 357.629716 103.365469 \nL 358.694062 103.365469 \nL 359.758409 103.365469 \nL 360.822756 103.365469 \nL 361.887102 103.365469 \nL 362.951449 103.365469 \nL 364.015795 103.365469 \nL 365.080142 103.365469 \nL 366.144489 103.365469 \nL 367.208835 103.365469 \nL 368.273182 103.365469 \nL 369.337528 103.365469 \nL 370.401875 103.365469 \nL 371.466222 103.365469 \nL 372.530568 103.365469 \nL 373.594915 102.117748 \nL 374.659261 100.038212 \nL 375.723608 103.365469 \nL 376.787955 100.643168 \nL 377.852301 103.365469 \nL 378.916648 102.487951 \nL 379.980994 102.487951 \nL 381.045341 99.235081 \nL 382.109688 97.997122 \nL 383.174034 97.536698 \nL 384.238381 101.988673 \nL 385.302727 99.422053 \nL 386.367074 95.912414 \nL 387.43142 99.10658 \nL 388.495767 99.227947 \nL 389.560114 95.13807 \nL 390.62446 97.566005 \nL 391.688807 94.758433 \nL 392.753153 97.606755 \nL 393.8175 97.109613 \nL 394.881847 94.440592 \nL 395.946193 91.635479 \nL 397.01054 92.458559 \nL 398.074886 94.53737 \nL 399.139233 89.185758 \nL 400.20358 92.62485 \nL 401.267926 89.00017 \nL 402.332273 91.535223 \nL 403.396619 92.234283 \nL 404.460966 93.762753 \nL 405.525312 87.971895 \nL 406.589659 88.630475 \nL 407.654006 91.667088 \nL 408.718352 88.210664 \nL 409.782699 89.84178 \nL 410.847045 90.79001 \nL 411.911392 85.487671 \nL 412.975739 86.485727 \nL 412.975739 82.265792 \nL 412.975739 82.265792 \nL 411.911392 73.569139 \nL 410.847045 78.843324 \nL 409.782699 78.250047 \nL 408.718352 76.553122 \nL 407.654006 81.494584 \nL 406.589659 77.698059 \nL 405.525312 78.338886 \nL 404.460966 85.170849 \nL 403.396619 82.071025 \nL 402.332273 81.171434 \nL 401.267926 79.282467 \nL 400.20358 82.818199 \nL 399.139233 80.603301 \nL 398.074886 86.903072 \nL 397.01054 83.888844 \nL 395.946193 82.61241 \nL 394.881847 85.985445 \nL 393.8175 90.853757 \nL 392.753153 91.080213 \nL 391.688807 85.673229 \nL 390.62446 89.535977 \nL 389.560114 85.942742 \nL 388.495767 92.607913 \nL 387.43142 91.121164 \nL 386.367074 86.862275 \nL 385.302727 92.521076 \nL 384.238381 95.793091 \nL 383.174034 88.793541 \nL 382.109688 89.273558 \nL 381.045341 90.974306 \nL 379.980994 94.590286 \nL 378.916648 94.590286 \nL 377.852301 98.329621 \nL 376.787955 92.476265 \nL 375.723608 96.977136 \nL 374.659261 87.838271 \nL 373.594915 92.135977 \nL 372.530568 93.383699 \nL 371.466222 95.536629 \nL 370.401875 93.727898 \nL 369.337528 93.891246 \nL 368.273182 97.794248 \nL 367.208835 96.106 \nL 366.144489 103.365469 \nL 365.080142 103.365469 \nL 364.015795 95.380053 \nL 362.951449 103.365469 \nL 361.887102 103.365469 \nL 360.822756 94.151527 \nL 359.758409 103.365469 \nL 358.694062 103.365469 \nL 357.629716 103.365469 \nL 356.565369 103.365469 \nL 355.501023 103.365469 \nL 354.436676 103.365469 \nL 353.37233 103.365469 \nL 352.307983 103.365469 \nL 351.243636 103.365469 \nL 350.17929 103.365469 \nL 349.114943 103.365469 \nL 348.050597 103.365469 \nL 346.98625 103.365469 \nL 345.921903 103.365469 \nL 344.857557 103.365469 \nL 343.79321 103.365469 \nL 342.728864 103.365469 \nL 341.664517 103.365469 \nL 340.60017 103.365469 \nz\n\" clip-path=\"url(#pcd8981977a)\" style=\"fill: #1d6c8a; fill-opacity: 0.2; stroke: #1d6c8a; stroke-opacity: 0.2\"/>\n   </g>\n   <g id=\"line2d_26\">\n    <path d=\"M 327.828011 103.365469 \nL 328.892358 103.365469 \nL 329.956705 103.295298 \nL 331.021051 103.365469 \nL 332.085398 103.365469 \nL 333.149744 103.365469 \nL 334.214091 103.365469 \nL 335.278437 103.365469 \nL 336.342784 103.267848 \nL 337.407131 103.365469 \nL 338.471477 103.266024 \nL 339.535824 103.365469 \nL 340.60017 103.270855 \nL 341.664517 103.365469 \nL 342.728864 103.365469 \nL 343.79321 103.365469 \nL 344.857557 103.365469 \nL 345.921903 103.365469 \nL 346.98625 103.365469 \nL 348.050597 103.365469 \nL 349.114943 103.295788 \nL 350.17929 103.365469 \nL 351.243636 103.294801 \nL 352.307983 103.365469 \nL 353.37233 103.365469 \nL 354.436676 103.294298 \nL 355.501023 103.365469 \nL 356.565369 103.295544 \nL 357.629716 103.365469 \nL 358.694062 103.297623 \nL 359.758409 103.225864 \nL 360.822756 103.365469 \nL 361.887102 103.365469 \nL 362.951449 102.996457 \nL 364.015795 103.293593 \nL 365.080142 103.365469 \nL 366.144489 103.068613 \nL 367.208835 102.516709 \nL 368.273182 103.113563 \nL 369.337528 103.033297 \nL 370.401875 102.894948 \nL 371.466222 102.934213 \nL 372.530568 102.876851 \nL 373.594915 102.842692 \nL 374.659261 102.222775 \nL 375.723608 102.335093 \nL 376.787955 102.351448 \nL 377.852301 102.246018 \nL 378.916648 102.083407 \nL 379.980994 101.970082 \nL 381.045341 102.079682 \nL 382.109688 100.389915 \nL 383.174034 101.500919 \nL 384.238381 101.108993 \nL 385.302727 100.397916 \nL 386.367074 99.940269 \nL 387.43142 100.182619 \nL 388.495767 100.453061 \nL 389.560114 98.193961 \nL 390.62446 99.46116 \nL 391.688807 99.632598 \nL 392.753153 98.916559 \nL 393.8175 99.177562 \nL 394.881847 97.403285 \nL 395.946193 97.654686 \nL 397.01054 97.953237 \nL 398.074886 96.962501 \nL 399.139233 96.182819 \nL 400.20358 96.165503 \nL 401.267926 95.749644 \nL 402.332273 96.421629 \nL 403.396619 96.28664 \nL 404.460966 94.297284 \nL 405.525312 95.118236 \nL 406.589659 94.29778 \nL 407.654006 95.319327 \nL 408.718352 93.135042 \nL 409.782699 91.757946 \nL 410.847045 93.307502 \nL 411.911392 93.66518 \nL 412.975739 89.624464 \n\" clip-path=\"url(#pcd8981977a)\" style=\"fill: none; stroke: #509e90; stroke-width: 1.5; stroke-linecap: round\"/>\n   </g>\n   <g id=\"line2d_27\">\n    <path d=\"M 331.021051 103.365469 \nL 332.085398 103.365469 \nL 333.149744 103.365469 \nL 334.214091 83.401928 \nL 335.278437 103.365469 \nL 336.342784 103.365469 \nL 337.407131 103.365469 \nL 338.471477 103.365469 \nL 339.535824 103.365469 \nL 340.60017 103.365469 \nL 341.664517 103.365469 \nL 342.728864 103.365469 \nL 343.79321 103.365469 \nL 344.857557 103.365469 \nL 345.921903 103.365469 \nL 346.98625 103.365469 \nL 348.050597 103.365469 \nL 349.114943 103.365469 \nL 350.17929 103.365469 \nL 351.243636 103.365469 \nL 352.307983 103.365469 \nL 353.37233 103.365469 \nL 354.436676 103.365469 \nL 355.501023 103.365469 \nL 356.565369 103.365469 \nL 357.629716 103.365469 \nL 358.694062 103.365469 \nL 359.758409 103.365469 \nL 360.822756 100.294155 \nL 361.887102 103.365469 \nL 362.951449 103.365469 \nL 364.015795 100.703663 \nL 365.080142 103.365469 \nL 366.144489 103.365469 \nL 367.208835 100.945646 \nL 368.273182 101.508395 \nL 369.337528 99.305088 \nL 370.401875 99.235081 \nL 371.466222 100.233933 \nL 372.530568 99.087567 \nL 373.594915 97.126862 \nL 374.659261 94.492784 \nL 375.723608 100.171302 \nL 376.787955 97.013433 \nL 377.852301 101.207248 \nL 378.916648 98.977878 \nL 379.980994 98.977878 \nL 381.045341 95.793091 \nL 382.109688 93.970861 \nL 383.174034 93.456558 \nL 384.238381 99.235081 \nL 385.302727 95.971565 \nL 386.367074 91.653525 \nL 387.43142 94.847692 \nL 388.495767 95.91793 \nL 389.560114 90.782389 \nL 390.62446 93.997103 \nL 391.688807 90.454916 \nL 392.753153 94.535441 \nL 393.8175 94.165681 \nL 394.881847 90.682749 \nL 395.946193 87.575098 \nL 397.01054 88.563234 \nL 398.074886 90.925876 \nL 399.139233 85.081104 \nL 400.20358 87.488033 \nL 401.267926 84.352573 \nL 402.332273 86.605953 \nL 403.396619 87.394636 \nL 404.460966 89.214098 \nL 405.525312 83.161404 \nL 406.589659 82.926606 \nL 407.654006 87.089461 \nL 408.718352 82.381893 \nL 409.782699 84.045913 \nL 410.847045 85.131054 \nL 411.911392 79.528405 \nL 412.975739 84.456912 \n\" clip-path=\"url(#pcd8981977a)\" style=\"fill: none; stroke: #1d6c8a; stroke-width: 1.5; stroke-linecap: round\"/>\n   </g>\n   <g id=\"line2d_28\"/>\n   <g id=\"line2d_29\"/>\n   <g id=\"patch_15\">\n    <path d=\"M 323.570625 106.36 \nL 323.570625 40.480316 \n\" style=\"fill: none; stroke: #000000; stroke-width: 0.8; stroke-linejoin: miter; stroke-linecap: square\"/>\n   </g>\n   <g id=\"patch_16\">\n    <path d=\"M 417.233125 106.36 \nL 417.233125 40.480316 \n\" style=\"fill: none; stroke: #000000; stroke-width: 0.8; stroke-linejoin: miter; stroke-linecap: square\"/>\n   </g>\n   <g id=\"patch_17\">\n    <path d=\"M 323.570625 106.36 \nL 417.233125 106.36 \n\" style=\"fill: none; stroke: #000000; stroke-width: 0.8; stroke-linejoin: miter; stroke-linecap: square\"/>\n   </g>\n   <g id=\"patch_18\">\n    <path d=\"M 323.570625 40.480316 \nL 417.233125 40.480316 \n\" style=\"fill: none; stroke: #000000; stroke-width: 0.8; stroke-linejoin: miter; stroke-linecap: square\"/>\n   </g>\n   <g id=\"legend_3\">\n    <g id=\"patch_19\">\n     <path d=\"M 330.570625 92.514691 \nL 377.609687 92.514691 \nQ 379.609687 92.514691 379.609687 90.514691 \nL 379.609687 47.480316 \nQ 379.609687 45.480316 377.609687 45.480316 \nL 330.570625 45.480316 \nQ 328.570625 45.480316 328.570625 47.480316 \nL 328.570625 90.514691 \nQ 328.570625 92.514691 330.570625 92.514691 \nz\n\" style=\"fill: #ffffff; opacity: 0.8; stroke: #cccccc; stroke-linejoin: miter\"/>\n    </g>\n    <g id=\"text_26\">\n     <!-- diabetes -->\n     <g style=\"fill: #262626\" transform=\"translate(332.570625 57.078753) scale(0.1 -0.1)\">\n      <use xlink:href=\"#DejaVuSans-64\"/>\n      <use xlink:href=\"#DejaVuSans-69\" x=\"63.476562\"/>\n      <use xlink:href=\"#DejaVuSans-61\" x=\"91.259766\"/>\n      <use xlink:href=\"#DejaVuSans-62\" x=\"152.539062\"/>\n      <use xlink:href=\"#DejaVuSans-65\" x=\"216.015625\"/>\n      <use xlink:href=\"#DejaVuSans-74\" x=\"277.539062\"/>\n      <use xlink:href=\"#DejaVuSans-65\" x=\"316.748047\"/>\n      <use xlink:href=\"#DejaVuSans-73\" x=\"378.271484\"/>\n     </g>\n    </g>\n    <g id=\"line2d_30\">\n     <path d=\"M 336.908906 68.256878 \nL 346.908906 68.256878 \nL 356.908906 68.256878 \n\" style=\"fill: none; stroke: #509e90; stroke-width: 1.5; stroke-linecap: round\"/>\n    </g>\n    <g id=\"text_27\">\n     <!-- 0 -->\n     <g style=\"fill: #262626\" transform=\"translate(364.908906 71.756878) scale(0.1 -0.1)\">\n      <use xlink:href=\"#DejaVuSans-30\"/>\n     </g>\n    </g>\n    <g id=\"line2d_31\">\n     <path d=\"M 336.908906 82.935003 \nL 346.908906 82.935003 \nL 356.908906 82.935003 \n\" style=\"fill: none; stroke: #1d6c8a; stroke-width: 1.5; stroke-linecap: round\"/>\n    </g>\n    <g id=\"text_28\">\n     <!-- 1 -->\n     <g style=\"fill: #262626\" transform=\"translate(364.908906 86.435003) scale(0.1 -0.1)\">\n      <use xlink:href=\"#DejaVuSans-31\"/>\n     </g>\n    </g>\n   </g>\n  </g>\n  <g id=\"text_29\">\n   <!-- Plots for Age -->\n   <g style=\"fill: #262626\" transform=\"translate(173.930312 16.318125) scale(0.12 -0.12)\">\n    <defs>\n     <path id=\"DejaVuSans-50\" d=\"M 1259 4147 \nL 1259 2394 \nL 2053 2394 \nQ 2494 2394 2734 2622 \nQ 2975 2850 2975 3272 \nQ 2975 3691 2734 3919 \nQ 2494 4147 2053 4147 \nL 1259 4147 \nz\nM 628 4666 \nL 2053 4666 \nQ 2838 4666 3239 4311 \nQ 3641 3956 3641 3272 \nQ 3641 2581 3239 2228 \nQ 2838 1875 2053 1875 \nL 1259 1875 \nL 1259 0 \nL 628 0 \nL 628 4666 \nz\n\" transform=\"scale(0.015625)\"/>\n     <path id=\"DejaVuSans-6c\" d=\"M 603 4863 \nL 1178 4863 \nL 1178 0 \nL 603 0 \nL 603 4863 \nz\n\" transform=\"scale(0.015625)\"/>\n     <path id=\"DejaVuSans-20\" transform=\"scale(0.015625)\"/>\n     <path id=\"DejaVuSans-66\" d=\"M 2375 4863 \nL 2375 4384 \nL 1825 4384 \nQ 1516 4384 1395 4259 \nQ 1275 4134 1275 3809 \nL 1275 3500 \nL 2222 3500 \nL 2222 3053 \nL 1275 3053 \nL 1275 0 \nL 697 0 \nL 697 3053 \nL 147 3053 \nL 147 3500 \nL 697 3500 \nL 697 3744 \nQ 697 4328 969 4595 \nQ 1241 4863 1831 4863 \nL 2375 4863 \nz\n\" transform=\"scale(0.015625)\"/>\n     <path id=\"DejaVuSans-41\" d=\"M 2188 4044 \nL 1331 1722 \nL 3047 1722 \nL 2188 4044 \nz\nM 1831 4666 \nL 2547 4666 \nL 4325 0 \nL 3669 0 \nL 3244 1197 \nL 1141 1197 \nL 716 0 \nL 50 0 \nL 1831 4666 \nz\n\" transform=\"scale(0.015625)\"/>\n    </defs>\n    <use xlink:href=\"#DejaVuSans-50\"/>\n    <use xlink:href=\"#DejaVuSans-6c\" x=\"60.302734\"/>\n    <use xlink:href=\"#DejaVuSans-6f\" x=\"88.085938\"/>\n    <use xlink:href=\"#DejaVuSans-74\" x=\"149.267578\"/>\n    <use xlink:href=\"#DejaVuSans-73\" x=\"188.476562\"/>\n    <use xlink:href=\"#DejaVuSans-20\" x=\"240.576172\"/>\n    <use xlink:href=\"#DejaVuSans-66\" x=\"272.363281\"/>\n    <use xlink:href=\"#DejaVuSans-6f\" x=\"307.568359\"/>\n    <use xlink:href=\"#DejaVuSans-72\" x=\"368.75\"/>\n    <use xlink:href=\"#DejaVuSans-20\" x=\"409.863281\"/>\n    <use xlink:href=\"#DejaVuSans-41\" x=\"441.650391\"/>\n    <use xlink:href=\"#DejaVuSans-67\" x=\"510.058594\"/>\n    <use xlink:href=\"#DejaVuSans-65\" x=\"573.535156\"/>\n   </g>\n  </g>\n </g>\n <defs>\n  <clipPath id=\"pfbd448cc1e\">\n   <rect x=\"40.603125\" y=\"40.480316\" width=\"93.6625\" height=\"65.879684\"/>\n  </clipPath>\n  <clipPath id=\"p8e4fe25c4d\">\n   <rect x=\"182.086875\" y=\"40.480316\" width=\"93.6625\" height=\"65.879684\"/>\n  </clipPath>\n  <clipPath id=\"pcd8981977a\">\n   <rect x=\"323.570625\" y=\"40.480316\" width=\"93.6625\" height=\"65.879684\"/>\n  </clipPath>\n </defs>\n</svg>\n"
          },
          "metadata": {}
        }
      ]
    },
    {
      "cell_type": "markdown",
      "source": [
        "## 2. Create Basic ANN Model"
      ],
      "metadata": {
        "id": "nbqbqWyC2iZQ"
      }
    },
    {
      "cell_type": "code",
      "source": [
        "data.head()"
      ],
      "metadata": {
        "colab": {
          "base_uri": "https://localhost:8080/",
          "height": 206
        },
        "id": "Sq3CbGesrMy5",
        "outputId": "6b011145-c15b-476c-b9f5-0b0f1d53919d"
      },
      "execution_count": null,
      "outputs": [
        {
          "output_type": "execute_result",
          "data": {
            "text/plain": [
              "   gender  age  hypertension  heart_disease  smoking_history    bmi  \\\n",
              "0       0   80             0              1                0  25.19   \n",
              "1       0   54             0              0                0  27.32   \n",
              "2       1   28             0              0                0  27.32   \n",
              "3       0   36             0              0                2  23.45   \n",
              "4       1   76             1              1                2  20.14   \n",
              "\n",
              "   HbA1c_level  blood_glucose_level  diabetes  \n",
              "0          6.6                  140         0  \n",
              "1          6.6                   80         0  \n",
              "2          5.7                  158         0  \n",
              "3          5.0                  155         0  \n",
              "4          4.8                  155         0  "
            ],
            "text/html": [
              "\n",
              "  <div id=\"df-f71d94ba-17d5-432d-8c70-175807fd5889\">\n",
              "    <div class=\"colab-df-container\">\n",
              "      <div>\n",
              "<style scoped>\n",
              "    .dataframe tbody tr th:only-of-type {\n",
              "        vertical-align: middle;\n",
              "    }\n",
              "\n",
              "    .dataframe tbody tr th {\n",
              "        vertical-align: top;\n",
              "    }\n",
              "\n",
              "    .dataframe thead th {\n",
              "        text-align: right;\n",
              "    }\n",
              "</style>\n",
              "<table border=\"1\" class=\"dataframe\">\n",
              "  <thead>\n",
              "    <tr style=\"text-align: right;\">\n",
              "      <th></th>\n",
              "      <th>gender</th>\n",
              "      <th>age</th>\n",
              "      <th>hypertension</th>\n",
              "      <th>heart_disease</th>\n",
              "      <th>smoking_history</th>\n",
              "      <th>bmi</th>\n",
              "      <th>HbA1c_level</th>\n",
              "      <th>blood_glucose_level</th>\n",
              "      <th>diabetes</th>\n",
              "    </tr>\n",
              "  </thead>\n",
              "  <tbody>\n",
              "    <tr>\n",
              "      <th>0</th>\n",
              "      <td>0</td>\n",
              "      <td>80</td>\n",
              "      <td>0</td>\n",
              "      <td>1</td>\n",
              "      <td>0</td>\n",
              "      <td>25.19</td>\n",
              "      <td>6.6</td>\n",
              "      <td>140</td>\n",
              "      <td>0</td>\n",
              "    </tr>\n",
              "    <tr>\n",
              "      <th>1</th>\n",
              "      <td>0</td>\n",
              "      <td>54</td>\n",
              "      <td>0</td>\n",
              "      <td>0</td>\n",
              "      <td>0</td>\n",
              "      <td>27.32</td>\n",
              "      <td>6.6</td>\n",
              "      <td>80</td>\n",
              "      <td>0</td>\n",
              "    </tr>\n",
              "    <tr>\n",
              "      <th>2</th>\n",
              "      <td>1</td>\n",
              "      <td>28</td>\n",
              "      <td>0</td>\n",
              "      <td>0</td>\n",
              "      <td>0</td>\n",
              "      <td>27.32</td>\n",
              "      <td>5.7</td>\n",
              "      <td>158</td>\n",
              "      <td>0</td>\n",
              "    </tr>\n",
              "    <tr>\n",
              "      <th>3</th>\n",
              "      <td>0</td>\n",
              "      <td>36</td>\n",
              "      <td>0</td>\n",
              "      <td>0</td>\n",
              "      <td>2</td>\n",
              "      <td>23.45</td>\n",
              "      <td>5.0</td>\n",
              "      <td>155</td>\n",
              "      <td>0</td>\n",
              "    </tr>\n",
              "    <tr>\n",
              "      <th>4</th>\n",
              "      <td>1</td>\n",
              "      <td>76</td>\n",
              "      <td>1</td>\n",
              "      <td>1</td>\n",
              "      <td>2</td>\n",
              "      <td>20.14</td>\n",
              "      <td>4.8</td>\n",
              "      <td>155</td>\n",
              "      <td>0</td>\n",
              "    </tr>\n",
              "  </tbody>\n",
              "</table>\n",
              "</div>\n",
              "      <button class=\"colab-df-convert\" onclick=\"convertToInteractive('df-f71d94ba-17d5-432d-8c70-175807fd5889')\"\n",
              "              title=\"Convert this dataframe to an interactive table.\"\n",
              "              style=\"display:none;\">\n",
              "        \n",
              "  <svg xmlns=\"http://www.w3.org/2000/svg\" height=\"24px\"viewBox=\"0 0 24 24\"\n",
              "       width=\"24px\">\n",
              "    <path d=\"M0 0h24v24H0V0z\" fill=\"none\"/>\n",
              "    <path d=\"M18.56 5.44l.94 2.06.94-2.06 2.06-.94-2.06-.94-.94-2.06-.94 2.06-2.06.94zm-11 1L8.5 8.5l.94-2.06 2.06-.94-2.06-.94L8.5 2.5l-.94 2.06-2.06.94zm10 10l.94 2.06.94-2.06 2.06-.94-2.06-.94-.94-2.06-.94 2.06-2.06.94z\"/><path d=\"M17.41 7.96l-1.37-1.37c-.4-.4-.92-.59-1.43-.59-.52 0-1.04.2-1.43.59L10.3 9.45l-7.72 7.72c-.78.78-.78 2.05 0 2.83L4 21.41c.39.39.9.59 1.41.59.51 0 1.02-.2 1.41-.59l7.78-7.78 2.81-2.81c.8-.78.8-2.07 0-2.86zM5.41 20L4 18.59l7.72-7.72 1.47 1.35L5.41 20z\"/>\n",
              "  </svg>\n",
              "      </button>\n",
              "      \n",
              "  <style>\n",
              "    .colab-df-container {\n",
              "      display:flex;\n",
              "      flex-wrap:wrap;\n",
              "      gap: 12px;\n",
              "    }\n",
              "\n",
              "    .colab-df-convert {\n",
              "      background-color: #E8F0FE;\n",
              "      border: none;\n",
              "      border-radius: 50%;\n",
              "      cursor: pointer;\n",
              "      display: none;\n",
              "      fill: #1967D2;\n",
              "      height: 32px;\n",
              "      padding: 0 0 0 0;\n",
              "      width: 32px;\n",
              "    }\n",
              "\n",
              "    .colab-df-convert:hover {\n",
              "      background-color: #E2EBFA;\n",
              "      box-shadow: 0px 1px 2px rgba(60, 64, 67, 0.3), 0px 1px 3px 1px rgba(60, 64, 67, 0.15);\n",
              "      fill: #174EA6;\n",
              "    }\n",
              "\n",
              "    [theme=dark] .colab-df-convert {\n",
              "      background-color: #3B4455;\n",
              "      fill: #D2E3FC;\n",
              "    }\n",
              "\n",
              "    [theme=dark] .colab-df-convert:hover {\n",
              "      background-color: #434B5C;\n",
              "      box-shadow: 0px 1px 3px 1px rgba(0, 0, 0, 0.15);\n",
              "      filter: drop-shadow(0px 1px 2px rgba(0, 0, 0, 0.3));\n",
              "      fill: #FFFFFF;\n",
              "    }\n",
              "  </style>\n",
              "\n",
              "      <script>\n",
              "        const buttonEl =\n",
              "          document.querySelector('#df-f71d94ba-17d5-432d-8c70-175807fd5889 button.colab-df-convert');\n",
              "        buttonEl.style.display =\n",
              "          google.colab.kernel.accessAllowed ? 'block' : 'none';\n",
              "\n",
              "        async function convertToInteractive(key) {\n",
              "          const element = document.querySelector('#df-f71d94ba-17d5-432d-8c70-175807fd5889');\n",
              "          const dataTable =\n",
              "            await google.colab.kernel.invokeFunction('convertToInteractive',\n",
              "                                                     [key], {});\n",
              "          if (!dataTable) return;\n",
              "\n",
              "          const docLinkHtml = 'Like what you see? Visit the ' +\n",
              "            '<a target=\"_blank\" href=https://colab.research.google.com/notebooks/data_table.ipynb>data table notebook</a>'\n",
              "            + ' to learn more about interactive tables.';\n",
              "          element.innerHTML = '';\n",
              "          dataTable['output_type'] = 'display_data';\n",
              "          await google.colab.output.renderOutput(dataTable, element);\n",
              "          const docLink = document.createElement('div');\n",
              "          docLink.innerHTML = docLinkHtml;\n",
              "          element.appendChild(docLink);\n",
              "        }\n",
              "      </script>\n",
              "    </div>\n",
              "  </div>\n",
              "  "
            ]
          },
          "metadata": {},
          "execution_count": 64
        }
      ]
    },
    {
      "cell_type": "code",
      "source": [
        "X_train, X_test, y_train, y_test = train_test_split(\n",
        "    data.iloc[:,:-1], y[0], stratify=y[0], random_state=31)"
      ],
      "metadata": {
        "id": "I1wFQ8046ss-"
      },
      "execution_count": null,
      "outputs": []
    },
    {
      "cell_type": "code",
      "source": [
        "std = preprocessing.StandardScaler()\n",
        "X_train = pd.DataFrame(data= std.fit_transform(X_train), columns= X_train.columns)\n",
        "X_test = pd.DataFrame(data= std.transform(X_test), columns= X_test.columns)"
      ],
      "metadata": {
        "id": "J2a-gVCK9Q3L"
      },
      "execution_count": null,
      "outputs": []
    },
    {
      "cell_type": "code",
      "source": [
        "basic_ann = Sequential()\n",
        "\n",
        "basic_ann.add(Dense(6, activation='relu'))\n",
        "basic_ann.add(Dense(6, activation='relu'))\n",
        "basic_ann.add(Dense(1, activation='sigmoid'))\n",
        "\n",
        "basic_ann.compile(loss='binary_crossentropy', optimizer='adam', metrics=['accuracy'])\n",
        "\n",
        "early_stop = EarlyStopping(monitor='val_loss', patience=3, verbose=1)\n",
        "history_basic_ann = basic_ann.fit(X_train, y_train, epochs=100, batch_size=100, \n",
        "                  validation_data = (X_test, y_test), \n",
        "                  callbacks=[early_stop])"
      ],
      "metadata": {
        "colab": {
          "base_uri": "https://localhost:8080/"
        },
        "id": "I_lObbPXAABH",
        "outputId": "38137cb0-c042-45af-c245-92d98cabb0f6"
      },
      "execution_count": null,
      "outputs": [
        {
          "output_type": "stream",
          "name": "stdout",
          "text": [
            "Epoch 1/100\n",
            "681/681 [==============================] - 3s 3ms/step - loss: 0.2711 - accuracy: 0.9053 - val_loss: 0.1679 - val_accuracy: 0.9209\n",
            "Epoch 2/100\n",
            "681/681 [==============================] - 2s 2ms/step - loss: 0.1370 - accuracy: 0.9472 - val_loss: 0.1221 - val_accuracy: 0.9574\n",
            "Epoch 3/100\n",
            "681/681 [==============================] - 2s 3ms/step - loss: 0.1159 - accuracy: 0.9602 - val_loss: 0.1164 - val_accuracy: 0.9601\n",
            "Epoch 4/100\n",
            "681/681 [==============================] - 2s 4ms/step - loss: 0.1123 - accuracy: 0.9615 - val_loss: 0.1143 - val_accuracy: 0.9615\n",
            "Epoch 5/100\n",
            "681/681 [==============================] - 2s 3ms/step - loss: 0.1108 - accuracy: 0.9626 - val_loss: 0.1136 - val_accuracy: 0.9613\n",
            "Epoch 6/100\n",
            "681/681 [==============================] - 2s 2ms/step - loss: 0.1101 - accuracy: 0.9625 - val_loss: 0.1132 - val_accuracy: 0.9620\n",
            "Epoch 7/100\n",
            "681/681 [==============================] - 2s 2ms/step - loss: 0.1100 - accuracy: 0.9628 - val_loss: 0.1125 - val_accuracy: 0.9615\n",
            "Epoch 8/100\n",
            "681/681 [==============================] - 2s 2ms/step - loss: 0.1098 - accuracy: 0.9627 - val_loss: 0.1134 - val_accuracy: 0.9614\n",
            "Epoch 9/100\n",
            "681/681 [==============================] - 2s 2ms/step - loss: 0.1097 - accuracy: 0.9625 - val_loss: 0.1122 - val_accuracy: 0.9613\n",
            "Epoch 10/100\n",
            "681/681 [==============================] - 2s 2ms/step - loss: 0.1097 - accuracy: 0.9627 - val_loss: 0.1128 - val_accuracy: 0.9609\n",
            "Epoch 11/100\n",
            "681/681 [==============================] - 2s 3ms/step - loss: 0.1097 - accuracy: 0.9629 - val_loss: 0.1124 - val_accuracy: 0.9617\n",
            "Epoch 12/100\n",
            "681/681 [==============================] - 2s 3ms/step - loss: 0.1094 - accuracy: 0.9629 - val_loss: 0.1124 - val_accuracy: 0.9618\n",
            "Epoch 12: early stopping\n"
          ]
        }
      ]
    },
    {
      "cell_type": "code",
      "source": [
        "train_loss = history_basic_ann.history['loss']\n",
        "val_loss = history_basic_ann.history['val_loss']\n",
        "\n",
        "x_len = np.arange(len(train_loss))\n",
        "\n",
        "plt.plot(x_len,train_loss, alpha=0.4)\n",
        "plt.plot(x_len,val_loss, marker='o', c=\"red\")\n",
        "\n",
        "plt.title('Validation Loss of Basic ANN')\n",
        "\n",
        "plt.savefig('validation_loss_of_basic_ann.png', facecolor='#eeeeee')\n",
        "plt.show()"
      ],
      "metadata": {
        "colab": {
          "base_uri": "https://localhost:8080/",
          "height": 436
        },
        "id": "i8LGvBeZFceC",
        "outputId": "e36218c1-fc7b-48c7-844e-aadca0f23b8a"
      },
      "execution_count": null,
      "outputs": [
        {
          "output_type": "display_data",
          "data": {
            "text/plain": [
              "<Figure size 640x480 with 1 Axes>"
            ],
            "image/svg+xml": "<?xml version=\"1.0\" encoding=\"utf-8\" standalone=\"no\"?>\n<!DOCTYPE svg PUBLIC \"-//W3C//DTD SVG 1.1//EN\"\n  \"http://www.w3.org/Graphics/SVG/1.1/DTD/svg11.dtd\">\n<svg xmlns:xlink=\"http://www.w3.org/1999/xlink\" width=\"400.785625pt\" height=\"312.30825pt\" viewBox=\"0 0 400.785625 312.30825\" xmlns=\"http://www.w3.org/2000/svg\" version=\"1.1\">\n <metadata>\n  <rdf:RDF xmlns:dc=\"http://purl.org/dc/elements/1.1/\" xmlns:cc=\"http://creativecommons.org/ns#\" xmlns:rdf=\"http://www.w3.org/1999/02/22-rdf-syntax-ns#\">\n   <cc:Work>\n    <dc:type rdf:resource=\"http://purl.org/dc/dcmitype/StillImage\"/>\n    <dc:date>2023-05-21T05:50:09.941477</dc:date>\n    <dc:format>image/svg+xml</dc:format>\n    <dc:creator>\n     <cc:Agent>\n      <dc:title>Matplotlib v3.7.1, https://matplotlib.org/</dc:title>\n     </cc:Agent>\n    </dc:creator>\n   </cc:Work>\n  </rdf:RDF>\n </metadata>\n <defs>\n  <style type=\"text/css\">*{stroke-linejoin: round; stroke-linecap: butt}</style>\n </defs>\n <g id=\"figure_1\">\n  <g id=\"patch_1\">\n   <path d=\"M 0 312.30825 \nL 400.785625 312.30825 \nL 400.785625 0 \nL 0 0 \nz\n\" style=\"fill: #ffffff\"/>\n  </g>\n  <g id=\"axes_1\">\n   <g id=\"patch_2\">\n    <path d=\"M 36.465625 288.430125 \nL 393.585625 288.430125 \nL 393.585625 22.318125 \nL 36.465625 22.318125 \nz\n\" style=\"fill: #ffffff\"/>\n   </g>\n   <g id=\"matplotlib.axis_1\">\n    <g id=\"xtick_1\">\n     <g id=\"line2d_1\">\n      <path d=\"M 52.698352 288.430125 \nL 52.698352 22.318125 \n\" clip-path=\"url(#p6e5e81120e)\" style=\"fill: none; stroke: #cccccc; stroke-width: 0.8; stroke-linecap: round\"/>\n     </g>\n     <g id=\"text_1\">\n      <!-- 0 -->\n      <g style=\"fill: #262626\" transform=\"translate(49.517102 303.028562) scale(0.1 -0.1)\">\n       <defs>\n        <path id=\"DejaVuSans-30\" d=\"M 2034 4250 \nQ 1547 4250 1301 3770 \nQ 1056 3291 1056 2328 \nQ 1056 1369 1301 889 \nQ 1547 409 2034 409 \nQ 2525 409 2770 889 \nQ 3016 1369 3016 2328 \nQ 3016 3291 2770 3770 \nQ 2525 4250 2034 4250 \nz\nM 2034 4750 \nQ 2819 4750 3233 4129 \nQ 3647 3509 3647 2328 \nQ 3647 1150 3233 529 \nQ 2819 -91 2034 -91 \nQ 1250 -91 836 529 \nQ 422 1150 422 2328 \nQ 422 3509 836 4129 \nQ 1250 4750 2034 4750 \nz\n\" transform=\"scale(0.015625)\"/>\n       </defs>\n       <use xlink:href=\"#DejaVuSans-30\"/>\n      </g>\n     </g>\n    </g>\n    <g id=\"xtick_2\">\n     <g id=\"line2d_2\">\n      <path d=\"M 111.726451 288.430125 \nL 111.726451 22.318125 \n\" clip-path=\"url(#p6e5e81120e)\" style=\"fill: none; stroke: #cccccc; stroke-width: 0.8; stroke-linecap: round\"/>\n     </g>\n     <g id=\"text_2\">\n      <!-- 2 -->\n      <g style=\"fill: #262626\" transform=\"translate(108.545201 303.028562) scale(0.1 -0.1)\">\n       <defs>\n        <path id=\"DejaVuSans-32\" d=\"M 1228 531 \nL 3431 531 \nL 3431 0 \nL 469 0 \nL 469 531 \nQ 828 903 1448 1529 \nQ 2069 2156 2228 2338 \nQ 2531 2678 2651 2914 \nQ 2772 3150 2772 3378 \nQ 2772 3750 2511 3984 \nQ 2250 4219 1831 4219 \nQ 1534 4219 1204 4116 \nQ 875 4013 500 3803 \nL 500 4441 \nQ 881 4594 1212 4672 \nQ 1544 4750 1819 4750 \nQ 2544 4750 2975 4387 \nQ 3406 4025 3406 3419 \nQ 3406 3131 3298 2873 \nQ 3191 2616 2906 2266 \nQ 2828 2175 2409 1742 \nQ 1991 1309 1228 531 \nz\n\" transform=\"scale(0.015625)\"/>\n       </defs>\n       <use xlink:href=\"#DejaVuSans-32\"/>\n      </g>\n     </g>\n    </g>\n    <g id=\"xtick_3\">\n     <g id=\"line2d_3\">\n      <path d=\"M 170.754551 288.430125 \nL 170.754551 22.318125 \n\" clip-path=\"url(#p6e5e81120e)\" style=\"fill: none; stroke: #cccccc; stroke-width: 0.8; stroke-linecap: round\"/>\n     </g>\n     <g id=\"text_3\">\n      <!-- 4 -->\n      <g style=\"fill: #262626\" transform=\"translate(167.573301 303.028562) scale(0.1 -0.1)\">\n       <defs>\n        <path id=\"DejaVuSans-34\" d=\"M 2419 4116 \nL 825 1625 \nL 2419 1625 \nL 2419 4116 \nz\nM 2253 4666 \nL 3047 4666 \nL 3047 1625 \nL 3713 1625 \nL 3713 1100 \nL 3047 1100 \nL 3047 0 \nL 2419 0 \nL 2419 1100 \nL 313 1100 \nL 313 1709 \nL 2253 4666 \nz\n\" transform=\"scale(0.015625)\"/>\n       </defs>\n       <use xlink:href=\"#DejaVuSans-34\"/>\n      </g>\n     </g>\n    </g>\n    <g id=\"xtick_4\">\n     <g id=\"line2d_4\">\n      <path d=\"M 229.78265 288.430125 \nL 229.78265 22.318125 \n\" clip-path=\"url(#p6e5e81120e)\" style=\"fill: none; stroke: #cccccc; stroke-width: 0.8; stroke-linecap: round\"/>\n     </g>\n     <g id=\"text_4\">\n      <!-- 6 -->\n      <g style=\"fill: #262626\" transform=\"translate(226.6014 303.028562) scale(0.1 -0.1)\">\n       <defs>\n        <path id=\"DejaVuSans-36\" d=\"M 2113 2584 \nQ 1688 2584 1439 2293 \nQ 1191 2003 1191 1497 \nQ 1191 994 1439 701 \nQ 1688 409 2113 409 \nQ 2538 409 2786 701 \nQ 3034 994 3034 1497 \nQ 3034 2003 2786 2293 \nQ 2538 2584 2113 2584 \nz\nM 3366 4563 \nL 3366 3988 \nQ 3128 4100 2886 4159 \nQ 2644 4219 2406 4219 \nQ 1781 4219 1451 3797 \nQ 1122 3375 1075 2522 \nQ 1259 2794 1537 2939 \nQ 1816 3084 2150 3084 \nQ 2853 3084 3261 2657 \nQ 3669 2231 3669 1497 \nQ 3669 778 3244 343 \nQ 2819 -91 2113 -91 \nQ 1303 -91 875 529 \nQ 447 1150 447 2328 \nQ 447 3434 972 4092 \nQ 1497 4750 2381 4750 \nQ 2619 4750 2861 4703 \nQ 3103 4656 3366 4563 \nz\n\" transform=\"scale(0.015625)\"/>\n       </defs>\n       <use xlink:href=\"#DejaVuSans-36\"/>\n      </g>\n     </g>\n    </g>\n    <g id=\"xtick_5\">\n     <g id=\"line2d_5\">\n      <path d=\"M 288.810749 288.430125 \nL 288.810749 22.318125 \n\" clip-path=\"url(#p6e5e81120e)\" style=\"fill: none; stroke: #cccccc; stroke-width: 0.8; stroke-linecap: round\"/>\n     </g>\n     <g id=\"text_5\">\n      <!-- 8 -->\n      <g style=\"fill: #262626\" transform=\"translate(285.629499 303.028562) scale(0.1 -0.1)\">\n       <defs>\n        <path id=\"DejaVuSans-38\" d=\"M 2034 2216 \nQ 1584 2216 1326 1975 \nQ 1069 1734 1069 1313 \nQ 1069 891 1326 650 \nQ 1584 409 2034 409 \nQ 2484 409 2743 651 \nQ 3003 894 3003 1313 \nQ 3003 1734 2745 1975 \nQ 2488 2216 2034 2216 \nz\nM 1403 2484 \nQ 997 2584 770 2862 \nQ 544 3141 544 3541 \nQ 544 4100 942 4425 \nQ 1341 4750 2034 4750 \nQ 2731 4750 3128 4425 \nQ 3525 4100 3525 3541 \nQ 3525 3141 3298 2862 \nQ 3072 2584 2669 2484 \nQ 3125 2378 3379 2068 \nQ 3634 1759 3634 1313 \nQ 3634 634 3220 271 \nQ 2806 -91 2034 -91 \nQ 1263 -91 848 271 \nQ 434 634 434 1313 \nQ 434 1759 690 2068 \nQ 947 2378 1403 2484 \nz\nM 1172 3481 \nQ 1172 3119 1398 2916 \nQ 1625 2713 2034 2713 \nQ 2441 2713 2670 2916 \nQ 2900 3119 2900 3481 \nQ 2900 3844 2670 4047 \nQ 2441 4250 2034 4250 \nQ 1625 4250 1398 4047 \nQ 1172 3844 1172 3481 \nz\n\" transform=\"scale(0.015625)\"/>\n       </defs>\n       <use xlink:href=\"#DejaVuSans-38\"/>\n      </g>\n     </g>\n    </g>\n    <g id=\"xtick_6\">\n     <g id=\"line2d_6\">\n      <path d=\"M 347.838848 288.430125 \nL 347.838848 22.318125 \n\" clip-path=\"url(#p6e5e81120e)\" style=\"fill: none; stroke: #cccccc; stroke-width: 0.8; stroke-linecap: round\"/>\n     </g>\n     <g id=\"text_6\">\n      <!-- 10 -->\n      <g style=\"fill: #262626\" transform=\"translate(341.476348 303.028562) scale(0.1 -0.1)\">\n       <defs>\n        <path id=\"DejaVuSans-31\" d=\"M 794 531 \nL 1825 531 \nL 1825 4091 \nL 703 3866 \nL 703 4441 \nL 1819 4666 \nL 2450 4666 \nL 2450 531 \nL 3481 531 \nL 3481 0 \nL 794 0 \nL 794 531 \nz\n\" transform=\"scale(0.015625)\"/>\n       </defs>\n       <use xlink:href=\"#DejaVuSans-31\"/>\n       <use xlink:href=\"#DejaVuSans-30\" x=\"63.623047\"/>\n      </g>\n     </g>\n    </g>\n   </g>\n   <g id=\"matplotlib.axis_2\">\n    <g id=\"ytick_1\">\n     <g id=\"line2d_7\">\n      <path d=\"M 36.465625 260.474859 \nL 393.585625 260.474859 \n\" clip-path=\"url(#p6e5e81120e)\" style=\"fill: none; stroke: #cccccc; stroke-width: 0.8; stroke-linecap: round\"/>\n     </g>\n     <g id=\"text_7\">\n      <!-- 0.12 -->\n      <g style=\"fill: #262626\" transform=\"translate(7.2 264.274078) scale(0.1 -0.1)\">\n       <defs>\n        <path id=\"DejaVuSans-2e\" d=\"M 684 794 \nL 1344 794 \nL 1344 0 \nL 684 0 \nL 684 794 \nz\n\" transform=\"scale(0.015625)\"/>\n       </defs>\n       <use xlink:href=\"#DejaVuSans-30\"/>\n       <use xlink:href=\"#DejaVuSans-2e\" x=\"63.623047\"/>\n       <use xlink:href=\"#DejaVuSans-31\" x=\"95.410156\"/>\n       <use xlink:href=\"#DejaVuSans-32\" x=\"159.033203\"/>\n      </g>\n     </g>\n    </g>\n    <g id=\"ytick_2\">\n     <g id=\"line2d_8\">\n      <path d=\"M 36.465625 230.544447 \nL 393.585625 230.544447 \n\" clip-path=\"url(#p6e5e81120e)\" style=\"fill: none; stroke: #cccccc; stroke-width: 0.8; stroke-linecap: round\"/>\n     </g>\n     <g id=\"text_8\">\n      <!-- 0.14 -->\n      <g style=\"fill: #262626\" transform=\"translate(7.2 234.343665) scale(0.1 -0.1)\">\n       <use xlink:href=\"#DejaVuSans-30\"/>\n       <use xlink:href=\"#DejaVuSans-2e\" x=\"63.623047\"/>\n       <use xlink:href=\"#DejaVuSans-31\" x=\"95.410156\"/>\n       <use xlink:href=\"#DejaVuSans-34\" x=\"159.033203\"/>\n      </g>\n     </g>\n    </g>\n    <g id=\"ytick_3\">\n     <g id=\"line2d_9\">\n      <path d=\"M 36.465625 200.614034 \nL 393.585625 200.614034 \n\" clip-path=\"url(#p6e5e81120e)\" style=\"fill: none; stroke: #cccccc; stroke-width: 0.8; stroke-linecap: round\"/>\n     </g>\n     <g id=\"text_9\">\n      <!-- 0.16 -->\n      <g style=\"fill: #262626\" transform=\"translate(7.2 204.413253) scale(0.1 -0.1)\">\n       <use xlink:href=\"#DejaVuSans-30\"/>\n       <use xlink:href=\"#DejaVuSans-2e\" x=\"63.623047\"/>\n       <use xlink:href=\"#DejaVuSans-31\" x=\"95.410156\"/>\n       <use xlink:href=\"#DejaVuSans-36\" x=\"159.033203\"/>\n      </g>\n     </g>\n    </g>\n    <g id=\"ytick_4\">\n     <g id=\"line2d_10\">\n      <path d=\"M 36.465625 170.683621 \nL 393.585625 170.683621 \n\" clip-path=\"url(#p6e5e81120e)\" style=\"fill: none; stroke: #cccccc; stroke-width: 0.8; stroke-linecap: round\"/>\n     </g>\n     <g id=\"text_10\">\n      <!-- 0.18 -->\n      <g style=\"fill: #262626\" transform=\"translate(7.2 174.48284) scale(0.1 -0.1)\">\n       <use xlink:href=\"#DejaVuSans-30\"/>\n       <use xlink:href=\"#DejaVuSans-2e\" x=\"63.623047\"/>\n       <use xlink:href=\"#DejaVuSans-31\" x=\"95.410156\"/>\n       <use xlink:href=\"#DejaVuSans-38\" x=\"159.033203\"/>\n      </g>\n     </g>\n    </g>\n    <g id=\"ytick_5\">\n     <g id=\"line2d_11\">\n      <path d=\"M 36.465625 140.753209 \nL 393.585625 140.753209 \n\" clip-path=\"url(#p6e5e81120e)\" style=\"fill: none; stroke: #cccccc; stroke-width: 0.8; stroke-linecap: round\"/>\n     </g>\n     <g id=\"text_11\">\n      <!-- 0.20 -->\n      <g style=\"fill: #262626\" transform=\"translate(7.2 144.552428) scale(0.1 -0.1)\">\n       <use xlink:href=\"#DejaVuSans-30\"/>\n       <use xlink:href=\"#DejaVuSans-2e\" x=\"63.623047\"/>\n       <use xlink:href=\"#DejaVuSans-32\" x=\"95.410156\"/>\n       <use xlink:href=\"#DejaVuSans-30\" x=\"159.033203\"/>\n      </g>\n     </g>\n    </g>\n    <g id=\"ytick_6\">\n     <g id=\"line2d_12\">\n      <path d=\"M 36.465625 110.822796 \nL 393.585625 110.822796 \n\" clip-path=\"url(#p6e5e81120e)\" style=\"fill: none; stroke: #cccccc; stroke-width: 0.8; stroke-linecap: round\"/>\n     </g>\n     <g id=\"text_12\">\n      <!-- 0.22 -->\n      <g style=\"fill: #262626\" transform=\"translate(7.2 114.622015) scale(0.1 -0.1)\">\n       <use xlink:href=\"#DejaVuSans-30\"/>\n       <use xlink:href=\"#DejaVuSans-2e\" x=\"63.623047\"/>\n       <use xlink:href=\"#DejaVuSans-32\" x=\"95.410156\"/>\n       <use xlink:href=\"#DejaVuSans-32\" x=\"159.033203\"/>\n      </g>\n     </g>\n    </g>\n    <g id=\"ytick_7\">\n     <g id=\"line2d_13\">\n      <path d=\"M 36.465625 80.892384 \nL 393.585625 80.892384 \n\" clip-path=\"url(#p6e5e81120e)\" style=\"fill: none; stroke: #cccccc; stroke-width: 0.8; stroke-linecap: round\"/>\n     </g>\n     <g id=\"text_13\">\n      <!-- 0.24 -->\n      <g style=\"fill: #262626\" transform=\"translate(7.2 84.691602) scale(0.1 -0.1)\">\n       <use xlink:href=\"#DejaVuSans-30\"/>\n       <use xlink:href=\"#DejaVuSans-2e\" x=\"63.623047\"/>\n       <use xlink:href=\"#DejaVuSans-32\" x=\"95.410156\"/>\n       <use xlink:href=\"#DejaVuSans-34\" x=\"159.033203\"/>\n      </g>\n     </g>\n    </g>\n    <g id=\"ytick_8\">\n     <g id=\"line2d_14\">\n      <path d=\"M 36.465625 50.961971 \nL 393.585625 50.961971 \n\" clip-path=\"url(#p6e5e81120e)\" style=\"fill: none; stroke: #cccccc; stroke-width: 0.8; stroke-linecap: round\"/>\n     </g>\n     <g id=\"text_14\">\n      <!-- 0.26 -->\n      <g style=\"fill: #262626\" transform=\"translate(7.2 54.76119) scale(0.1 -0.1)\">\n       <use xlink:href=\"#DejaVuSans-30\"/>\n       <use xlink:href=\"#DejaVuSans-2e\" x=\"63.623047\"/>\n       <use xlink:href=\"#DejaVuSans-32\" x=\"95.410156\"/>\n       <use xlink:href=\"#DejaVuSans-36\" x=\"159.033203\"/>\n      </g>\n     </g>\n    </g>\n   </g>\n   <g id=\"line2d_15\">\n    <path d=\"M 52.698352 34.414125 \nL 82.212402 234.9815 \nL 111.726451 266.572379 \nL 141.240501 272.018192 \nL 170.754551 274.243209 \nL 200.2686 275.286532 \nL 229.78265 275.467908 \nL 259.296699 275.807201 \nL 288.810749 275.875661 \nL 318.324799 275.894728 \nL 347.838848 275.954603 \nL 377.352898 276.334125 \n\" clip-path=\"url(#p6e5e81120e)\" style=\"fill: none; stroke: #1f77b4; stroke-opacity: 0.4; stroke-width: 1.5; stroke-linecap: round\"/>\n   </g>\n   <g id=\"line2d_16\">\n    <path d=\"M 52.698352 188.771346 \nL 82.212402 257.385458 \nL 111.726451 265.79777 \nL 141.240501 269.072889 \nL 170.754551 270.108306 \nL 200.2686 270.701339 \nL 229.78265 271.640265 \nL 259.296699 270.372683 \nL 288.810749 272.088214 \nL 318.324799 271.253228 \nL 347.838848 271.916482 \nL 377.352898 271.830003 \n\" clip-path=\"url(#p6e5e81120e)\" style=\"fill: none; stroke: #ff0000; stroke-width: 1.5; stroke-linecap: round\"/>\n    <defs>\n     <path id=\"m4567d8cbcf\" d=\"M 0 3 \nC 0.795609 3 1.55874 2.683901 2.12132 2.12132 \nC 2.683901 1.55874 3 0.795609 3 0 \nC 3 -0.795609 2.683901 -1.55874 2.12132 -2.12132 \nC 1.55874 -2.683901 0.795609 -3 0 -3 \nC -0.795609 -3 -1.55874 -2.683901 -2.12132 -2.12132 \nC -2.683901 -1.55874 -3 -0.795609 -3 0 \nC -3 0.795609 -2.683901 1.55874 -2.12132 2.12132 \nC -1.55874 2.683901 -0.795609 3 0 3 \nz\n\" style=\"stroke: #ff0000\"/>\n    </defs>\n    <g clip-path=\"url(#p6e5e81120e)\">\n     <use xlink:href=\"#m4567d8cbcf\" x=\"52.698352\" y=\"188.771346\" style=\"fill: #ff0000; stroke: #ff0000\"/>\n     <use xlink:href=\"#m4567d8cbcf\" x=\"82.212402\" y=\"257.385458\" style=\"fill: #ff0000; stroke: #ff0000\"/>\n     <use xlink:href=\"#m4567d8cbcf\" x=\"111.726451\" y=\"265.79777\" style=\"fill: #ff0000; stroke: #ff0000\"/>\n     <use xlink:href=\"#m4567d8cbcf\" x=\"141.240501\" y=\"269.072889\" style=\"fill: #ff0000; stroke: #ff0000\"/>\n     <use xlink:href=\"#m4567d8cbcf\" x=\"170.754551\" y=\"270.108306\" style=\"fill: #ff0000; stroke: #ff0000\"/>\n     <use xlink:href=\"#m4567d8cbcf\" x=\"200.2686\" y=\"270.701339\" style=\"fill: #ff0000; stroke: #ff0000\"/>\n     <use xlink:href=\"#m4567d8cbcf\" x=\"229.78265\" y=\"271.640265\" style=\"fill: #ff0000; stroke: #ff0000\"/>\n     <use xlink:href=\"#m4567d8cbcf\" x=\"259.296699\" y=\"270.372683\" style=\"fill: #ff0000; stroke: #ff0000\"/>\n     <use xlink:href=\"#m4567d8cbcf\" x=\"288.810749\" y=\"272.088214\" style=\"fill: #ff0000; stroke: #ff0000\"/>\n     <use xlink:href=\"#m4567d8cbcf\" x=\"318.324799\" y=\"271.253228\" style=\"fill: #ff0000; stroke: #ff0000\"/>\n     <use xlink:href=\"#m4567d8cbcf\" x=\"347.838848\" y=\"271.916482\" style=\"fill: #ff0000; stroke: #ff0000\"/>\n     <use xlink:href=\"#m4567d8cbcf\" x=\"377.352898\" y=\"271.830003\" style=\"fill: #ff0000; stroke: #ff0000\"/>\n    </g>\n   </g>\n   <g id=\"patch_3\">\n    <path d=\"M 36.465625 288.430125 \nL 36.465625 22.318125 \n\" style=\"fill: none; stroke: #000000; stroke-width: 0.8; stroke-linejoin: miter; stroke-linecap: square\"/>\n   </g>\n   <g id=\"patch_4\">\n    <path d=\"M 393.585625 288.430125 \nL 393.585625 22.318125 \n\" style=\"fill: none; stroke: #000000; stroke-width: 0.8; stroke-linejoin: miter; stroke-linecap: square\"/>\n   </g>\n   <g id=\"patch_5\">\n    <path d=\"M 36.465625 288.430125 \nL 393.585625 288.430125 \n\" style=\"fill: none; stroke: #000000; stroke-width: 0.8; stroke-linejoin: miter; stroke-linecap: square\"/>\n   </g>\n   <g id=\"patch_6\">\n    <path d=\"M 36.465625 22.318125 \nL 393.585625 22.318125 \n\" style=\"fill: none; stroke: #000000; stroke-width: 0.8; stroke-linejoin: miter; stroke-linecap: square\"/>\n   </g>\n   <g id=\"text_15\">\n    <!-- Validation Loss of Basic ANN -->\n    <g style=\"fill: #262626\" transform=\"translate(129.858438 16.318125) scale(0.12 -0.12)\">\n     <defs>\n      <path id=\"DejaVuSans-56\" d=\"M 1831 0 \nL 50 4666 \nL 709 4666 \nL 2188 738 \nL 3669 4666 \nL 4325 4666 \nL 2547 0 \nL 1831 0 \nz\n\" transform=\"scale(0.015625)\"/>\n      <path id=\"DejaVuSans-61\" d=\"M 2194 1759 \nQ 1497 1759 1228 1600 \nQ 959 1441 959 1056 \nQ 959 750 1161 570 \nQ 1363 391 1709 391 \nQ 2188 391 2477 730 \nQ 2766 1069 2766 1631 \nL 2766 1759 \nL 2194 1759 \nz\nM 3341 1997 \nL 3341 0 \nL 2766 0 \nL 2766 531 \nQ 2569 213 2275 61 \nQ 1981 -91 1556 -91 \nQ 1019 -91 701 211 \nQ 384 513 384 1019 \nQ 384 1609 779 1909 \nQ 1175 2209 1959 2209 \nL 2766 2209 \nL 2766 2266 \nQ 2766 2663 2505 2880 \nQ 2244 3097 1772 3097 \nQ 1472 3097 1187 3025 \nQ 903 2953 641 2809 \nL 641 3341 \nQ 956 3463 1253 3523 \nQ 1550 3584 1831 3584 \nQ 2591 3584 2966 3190 \nQ 3341 2797 3341 1997 \nz\n\" transform=\"scale(0.015625)\"/>\n      <path id=\"DejaVuSans-6c\" d=\"M 603 4863 \nL 1178 4863 \nL 1178 0 \nL 603 0 \nL 603 4863 \nz\n\" transform=\"scale(0.015625)\"/>\n      <path id=\"DejaVuSans-69\" d=\"M 603 3500 \nL 1178 3500 \nL 1178 0 \nL 603 0 \nL 603 3500 \nz\nM 603 4863 \nL 1178 4863 \nL 1178 4134 \nL 603 4134 \nL 603 4863 \nz\n\" transform=\"scale(0.015625)\"/>\n      <path id=\"DejaVuSans-64\" d=\"M 2906 2969 \nL 2906 4863 \nL 3481 4863 \nL 3481 0 \nL 2906 0 \nL 2906 525 \nQ 2725 213 2448 61 \nQ 2172 -91 1784 -91 \nQ 1150 -91 751 415 \nQ 353 922 353 1747 \nQ 353 2572 751 3078 \nQ 1150 3584 1784 3584 \nQ 2172 3584 2448 3432 \nQ 2725 3281 2906 2969 \nz\nM 947 1747 \nQ 947 1113 1208 752 \nQ 1469 391 1925 391 \nQ 2381 391 2643 752 \nQ 2906 1113 2906 1747 \nQ 2906 2381 2643 2742 \nQ 2381 3103 1925 3103 \nQ 1469 3103 1208 2742 \nQ 947 2381 947 1747 \nz\n\" transform=\"scale(0.015625)\"/>\n      <path id=\"DejaVuSans-74\" d=\"M 1172 4494 \nL 1172 3500 \nL 2356 3500 \nL 2356 3053 \nL 1172 3053 \nL 1172 1153 \nQ 1172 725 1289 603 \nQ 1406 481 1766 481 \nL 2356 481 \nL 2356 0 \nL 1766 0 \nQ 1100 0 847 248 \nQ 594 497 594 1153 \nL 594 3053 \nL 172 3053 \nL 172 3500 \nL 594 3500 \nL 594 4494 \nL 1172 4494 \nz\n\" transform=\"scale(0.015625)\"/>\n      <path id=\"DejaVuSans-6f\" d=\"M 1959 3097 \nQ 1497 3097 1228 2736 \nQ 959 2375 959 1747 \nQ 959 1119 1226 758 \nQ 1494 397 1959 397 \nQ 2419 397 2687 759 \nQ 2956 1122 2956 1747 \nQ 2956 2369 2687 2733 \nQ 2419 3097 1959 3097 \nz\nM 1959 3584 \nQ 2709 3584 3137 3096 \nQ 3566 2609 3566 1747 \nQ 3566 888 3137 398 \nQ 2709 -91 1959 -91 \nQ 1206 -91 779 398 \nQ 353 888 353 1747 \nQ 353 2609 779 3096 \nQ 1206 3584 1959 3584 \nz\n\" transform=\"scale(0.015625)\"/>\n      <path id=\"DejaVuSans-6e\" d=\"M 3513 2113 \nL 3513 0 \nL 2938 0 \nL 2938 2094 \nQ 2938 2591 2744 2837 \nQ 2550 3084 2163 3084 \nQ 1697 3084 1428 2787 \nQ 1159 2491 1159 1978 \nL 1159 0 \nL 581 0 \nL 581 3500 \nL 1159 3500 \nL 1159 2956 \nQ 1366 3272 1645 3428 \nQ 1925 3584 2291 3584 \nQ 2894 3584 3203 3211 \nQ 3513 2838 3513 2113 \nz\n\" transform=\"scale(0.015625)\"/>\n      <path id=\"DejaVuSans-20\" transform=\"scale(0.015625)\"/>\n      <path id=\"DejaVuSans-4c\" d=\"M 628 4666 \nL 1259 4666 \nL 1259 531 \nL 3531 531 \nL 3531 0 \nL 628 0 \nL 628 4666 \nz\n\" transform=\"scale(0.015625)\"/>\n      <path id=\"DejaVuSans-73\" d=\"M 2834 3397 \nL 2834 2853 \nQ 2591 2978 2328 3040 \nQ 2066 3103 1784 3103 \nQ 1356 3103 1142 2972 \nQ 928 2841 928 2578 \nQ 928 2378 1081 2264 \nQ 1234 2150 1697 2047 \nL 1894 2003 \nQ 2506 1872 2764 1633 \nQ 3022 1394 3022 966 \nQ 3022 478 2636 193 \nQ 2250 -91 1575 -91 \nQ 1294 -91 989 -36 \nQ 684 19 347 128 \nL 347 722 \nQ 666 556 975 473 \nQ 1284 391 1588 391 \nQ 1994 391 2212 530 \nQ 2431 669 2431 922 \nQ 2431 1156 2273 1281 \nQ 2116 1406 1581 1522 \nL 1381 1569 \nQ 847 1681 609 1914 \nQ 372 2147 372 2553 \nQ 372 3047 722 3315 \nQ 1072 3584 1716 3584 \nQ 2034 3584 2315 3537 \nQ 2597 3491 2834 3397 \nz\n\" transform=\"scale(0.015625)\"/>\n      <path id=\"DejaVuSans-66\" d=\"M 2375 4863 \nL 2375 4384 \nL 1825 4384 \nQ 1516 4384 1395 4259 \nQ 1275 4134 1275 3809 \nL 1275 3500 \nL 2222 3500 \nL 2222 3053 \nL 1275 3053 \nL 1275 0 \nL 697 0 \nL 697 3053 \nL 147 3053 \nL 147 3500 \nL 697 3500 \nL 697 3744 \nQ 697 4328 969 4595 \nQ 1241 4863 1831 4863 \nL 2375 4863 \nz\n\" transform=\"scale(0.015625)\"/>\n      <path id=\"DejaVuSans-42\" d=\"M 1259 2228 \nL 1259 519 \nL 2272 519 \nQ 2781 519 3026 730 \nQ 3272 941 3272 1375 \nQ 3272 1813 3026 2020 \nQ 2781 2228 2272 2228 \nL 1259 2228 \nz\nM 1259 4147 \nL 1259 2741 \nL 2194 2741 \nQ 2656 2741 2882 2914 \nQ 3109 3088 3109 3444 \nQ 3109 3797 2882 3972 \nQ 2656 4147 2194 4147 \nL 1259 4147 \nz\nM 628 4666 \nL 2241 4666 \nQ 2963 4666 3353 4366 \nQ 3744 4066 3744 3513 \nQ 3744 3084 3544 2831 \nQ 3344 2578 2956 2516 \nQ 3422 2416 3680 2098 \nQ 3938 1781 3938 1306 \nQ 3938 681 3513 340 \nQ 3088 0 2303 0 \nL 628 0 \nL 628 4666 \nz\n\" transform=\"scale(0.015625)\"/>\n      <path id=\"DejaVuSans-63\" d=\"M 3122 3366 \nL 3122 2828 \nQ 2878 2963 2633 3030 \nQ 2388 3097 2138 3097 \nQ 1578 3097 1268 2742 \nQ 959 2388 959 1747 \nQ 959 1106 1268 751 \nQ 1578 397 2138 397 \nQ 2388 397 2633 464 \nQ 2878 531 3122 666 \nL 3122 134 \nQ 2881 22 2623 -34 \nQ 2366 -91 2075 -91 \nQ 1284 -91 818 406 \nQ 353 903 353 1747 \nQ 353 2603 823 3093 \nQ 1294 3584 2113 3584 \nQ 2378 3584 2631 3529 \nQ 2884 3475 3122 3366 \nz\n\" transform=\"scale(0.015625)\"/>\n      <path id=\"DejaVuSans-41\" d=\"M 2188 4044 \nL 1331 1722 \nL 3047 1722 \nL 2188 4044 \nz\nM 1831 4666 \nL 2547 4666 \nL 4325 0 \nL 3669 0 \nL 3244 1197 \nL 1141 1197 \nL 716 0 \nL 50 0 \nL 1831 4666 \nz\n\" transform=\"scale(0.015625)\"/>\n      <path id=\"DejaVuSans-4e\" d=\"M 628 4666 \nL 1478 4666 \nL 3547 763 \nL 3547 4666 \nL 4159 4666 \nL 4159 0 \nL 3309 0 \nL 1241 3903 \nL 1241 0 \nL 628 0 \nL 628 4666 \nz\n\" transform=\"scale(0.015625)\"/>\n     </defs>\n     <use xlink:href=\"#DejaVuSans-56\"/>\n     <use xlink:href=\"#DejaVuSans-61\" x=\"60.658203\"/>\n     <use xlink:href=\"#DejaVuSans-6c\" x=\"121.9375\"/>\n     <use xlink:href=\"#DejaVuSans-69\" x=\"149.720703\"/>\n     <use xlink:href=\"#DejaVuSans-64\" x=\"177.503906\"/>\n     <use xlink:href=\"#DejaVuSans-61\" x=\"240.980469\"/>\n     <use xlink:href=\"#DejaVuSans-74\" x=\"302.259766\"/>\n     <use xlink:href=\"#DejaVuSans-69\" x=\"341.46875\"/>\n     <use xlink:href=\"#DejaVuSans-6f\" x=\"369.251953\"/>\n     <use xlink:href=\"#DejaVuSans-6e\" x=\"430.433594\"/>\n     <use xlink:href=\"#DejaVuSans-20\" x=\"493.8125\"/>\n     <use xlink:href=\"#DejaVuSans-4c\" x=\"525.599609\"/>\n     <use xlink:href=\"#DejaVuSans-6f\" x=\"579.5625\"/>\n     <use xlink:href=\"#DejaVuSans-73\" x=\"640.744141\"/>\n     <use xlink:href=\"#DejaVuSans-73\" x=\"692.84375\"/>\n     <use xlink:href=\"#DejaVuSans-20\" x=\"744.943359\"/>\n     <use xlink:href=\"#DejaVuSans-6f\" x=\"776.730469\"/>\n     <use xlink:href=\"#DejaVuSans-66\" x=\"837.912109\"/>\n     <use xlink:href=\"#DejaVuSans-20\" x=\"873.117188\"/>\n     <use xlink:href=\"#DejaVuSans-42\" x=\"904.904297\"/>\n     <use xlink:href=\"#DejaVuSans-61\" x=\"973.507812\"/>\n     <use xlink:href=\"#DejaVuSans-73\" x=\"1034.787109\"/>\n     <use xlink:href=\"#DejaVuSans-69\" x=\"1086.886719\"/>\n     <use xlink:href=\"#DejaVuSans-63\" x=\"1114.669922\"/>\n     <use xlink:href=\"#DejaVuSans-20\" x=\"1169.650391\"/>\n     <use xlink:href=\"#DejaVuSans-41\" x=\"1201.4375\"/>\n     <use xlink:href=\"#DejaVuSans-4e\" x=\"1269.845703\"/>\n     <use xlink:href=\"#DejaVuSans-4e\" x=\"1344.650391\"/>\n    </g>\n   </g>\n  </g>\n </g>\n <defs>\n  <clipPath id=\"p6e5e81120e\">\n   <rect x=\"36.465625\" y=\"22.318125\" width=\"357.12\" height=\"266.112\"/>\n  </clipPath>\n </defs>\n</svg>\n"
          },
          "metadata": {}
        }
      ]
    },
    {
      "cell_type": "code",
      "source": [
        "confusion_matrix(y_test, basic_ann.predict(X_test).round())"
      ],
      "metadata": {
        "colab": {
          "base_uri": "https://localhost:8080/"
        },
        "id": "lBgaDH7az8LD",
        "outputId": "f15f7493-5cc3-468f-d36c-108c0a169113"
      },
      "execution_count": null,
      "outputs": [
        {
          "output_type": "stream",
          "name": "stdout",
          "text": [
            "710/710 [==============================] - 2s 2ms/step\n"
          ]
        },
        {
          "output_type": "execute_result",
          "data": {
            "text/plain": [
              "array([[ 1089,   715],\n",
              "       [  153, 20741]])"
            ]
          },
          "metadata": {},
          "execution_count": 119
        }
      ]
    },
    {
      "cell_type": "code",
      "source": [
        "def basic_build_fn():\n",
        "  ''' Creates model. '''\n",
        "  model = Sequential()\n",
        "  \n",
        "  model.add(Dense(6, activation='relu'))\n",
        "  model.add(Dense(6, activation='relu'))\n",
        "  model.add(Dense(1, activation='sigmoid'))\n",
        "\t# Compile model\n",
        "  model.compile(loss='binary_crossentropy', optimizer='adam', metrics='accuracy')\n",
        "  \n",
        "  return model"
      ],
      "metadata": {
        "id": "wZJIwVNEH1cj"
      },
      "execution_count": null,
      "outputs": []
    },
    {
      "cell_type": "code",
      "source": [
        "kcross_val_model = KerasClassifier(build_fn=basic_build_fn, epochs=20, batch_size=200, verbose=1)\n",
        "kfold = KFold(n_splits=5, shuffle=True, random_state=31)\n",
        "\n",
        "results = cross_val_score(kcross_val_model, X_train, y_train, cv=kfold)\n",
        "print(\"결과\",results)"
      ],
      "metadata": {
        "colab": {
          "base_uri": "https://localhost:8080/"
        },
        "id": "qdCWWRszlkCD",
        "outputId": "318a672f-0c62-4b67-c7aa-b015baba0ca5"
      },
      "execution_count": null,
      "outputs": [
        {
          "output_type": "stream",
          "name": "stdout",
          "text": [
            "Epoch 1/20\n",
            "273/273 [==============================] - 1s 2ms/step - loss: 0.5644 - accuracy: 0.7694\n",
            "Epoch 2/20\n",
            "273/273 [==============================] - 1s 2ms/step - loss: 0.2353 - accuracy: 0.9445\n",
            "Epoch 3/20\n",
            "273/273 [==============================] - 1s 2ms/step - loss: 0.1342 - accuracy: 0.9593\n",
            "Epoch 4/20\n",
            "273/273 [==============================] - 1s 2ms/step - loss: 0.1159 - accuracy: 0.9617\n",
            "Epoch 5/20\n",
            "273/273 [==============================] - 1s 2ms/step - loss: 0.1121 - accuracy: 0.9622\n",
            "Epoch 6/20\n",
            "273/273 [==============================] - 1s 2ms/step - loss: 0.1110 - accuracy: 0.9622\n",
            "Epoch 7/20\n",
            "273/273 [==============================] - 1s 2ms/step - loss: 0.1105 - accuracy: 0.9626\n",
            "Epoch 8/20\n",
            "273/273 [==============================] - 1s 2ms/step - loss: 0.1101 - accuracy: 0.9625\n",
            "Epoch 9/20\n",
            "273/273 [==============================] - 1s 3ms/step - loss: 0.1099 - accuracy: 0.9628\n",
            "Epoch 10/20\n",
            "273/273 [==============================] - 1s 3ms/step - loss: 0.1096 - accuracy: 0.9627\n",
            "Epoch 11/20\n",
            "273/273 [==============================] - 1s 3ms/step - loss: 0.1094 - accuracy: 0.9629\n",
            "Epoch 12/20\n",
            "273/273 [==============================] - 1s 3ms/step - loss: 0.1092 - accuracy: 0.9630\n",
            "Epoch 13/20\n",
            "273/273 [==============================] - 1s 3ms/step - loss: 0.1089 - accuracy: 0.9628\n",
            "Epoch 14/20\n",
            "273/273 [==============================] - 1s 2ms/step - loss: 0.1087 - accuracy: 0.9629\n",
            "Epoch 15/20\n",
            "273/273 [==============================] - 0s 2ms/step - loss: 0.1085 - accuracy: 0.9628\n",
            "Epoch 16/20\n",
            "273/273 [==============================] - 1s 2ms/step - loss: 0.1083 - accuracy: 0.9630\n",
            "Epoch 17/20\n",
            "273/273 [==============================] - 1s 2ms/step - loss: 0.1081 - accuracy: 0.9631\n",
            "Epoch 18/20\n",
            "273/273 [==============================] - 0s 2ms/step - loss: 0.1078 - accuracy: 0.9631\n",
            "Epoch 19/20\n",
            "273/273 [==============================] - 0s 2ms/step - loss: 0.1075 - accuracy: 0.9633\n",
            "Epoch 20/20\n",
            "273/273 [==============================] - 1s 2ms/step - loss: 0.1075 - accuracy: 0.9633\n",
            "69/69 [==============================] - 0s 1ms/step - loss: 0.1066 - accuracy: 0.9620\n",
            "Epoch 1/20\n",
            "273/273 [==============================] - 1s 2ms/step - loss: 0.4124 - accuracy: 0.9050\n",
            "Epoch 2/20\n",
            "273/273 [==============================] - 1s 2ms/step - loss: 0.1704 - accuracy: 0.9379\n",
            "Epoch 3/20\n",
            "273/273 [==============================] - 1s 2ms/step - loss: 0.1272 - accuracy: 0.9559\n",
            "Epoch 4/20\n",
            "273/273 [==============================] - 1s 2ms/step - loss: 0.1192 - accuracy: 0.9596\n",
            "Epoch 5/20\n",
            "273/273 [==============================] - 1s 2ms/step - loss: 0.1168 - accuracy: 0.9603\n",
            "Epoch 6/20\n",
            "273/273 [==============================] - 1s 2ms/step - loss: 0.1153 - accuracy: 0.9609\n",
            "Epoch 7/20\n",
            "273/273 [==============================] - 1s 2ms/step - loss: 0.1143 - accuracy: 0.9613\n",
            "Epoch 8/20\n",
            "273/273 [==============================] - 1s 2ms/step - loss: 0.1134 - accuracy: 0.9614\n",
            "Epoch 9/20\n",
            "273/273 [==============================] - 1s 2ms/step - loss: 0.1129 - accuracy: 0.9615\n",
            "Epoch 10/20\n",
            "273/273 [==============================] - 1s 2ms/step - loss: 0.1124 - accuracy: 0.9618\n",
            "Epoch 11/20\n",
            "273/273 [==============================] - 1s 3ms/step - loss: 0.1121 - accuracy: 0.9615\n",
            "Epoch 12/20\n",
            "273/273 [==============================] - 1s 3ms/step - loss: 0.1118 - accuracy: 0.9617\n",
            "Epoch 13/20\n",
            "273/273 [==============================] - 1s 3ms/step - loss: 0.1114 - accuracy: 0.9619\n",
            "Epoch 14/20\n",
            "273/273 [==============================] - 1s 3ms/step - loss: 0.1112 - accuracy: 0.9619\n",
            "Epoch 15/20\n",
            "273/273 [==============================] - 1s 3ms/step - loss: 0.1111 - accuracy: 0.9618\n",
            "Epoch 16/20\n",
            "273/273 [==============================] - 1s 2ms/step - loss: 0.1109 - accuracy: 0.9619\n",
            "Epoch 17/20\n",
            "273/273 [==============================] - 1s 2ms/step - loss: 0.1108 - accuracy: 0.9621\n",
            "Epoch 18/20\n",
            "273/273 [==============================] - 1s 2ms/step - loss: 0.1106 - accuracy: 0.9619\n",
            "Epoch 19/20\n",
            "273/273 [==============================] - 1s 2ms/step - loss: 0.1105 - accuracy: 0.9618\n",
            "Epoch 20/20\n",
            "273/273 [==============================] - 1s 2ms/step - loss: 0.1103 - accuracy: 0.9622\n",
            "69/69 [==============================] - 0s 2ms/step - loss: 0.1081 - accuracy: 0.9641\n",
            "Epoch 1/20\n",
            "273/273 [==============================] - 1s 2ms/step - loss: 0.3650 - accuracy: 0.9195\n",
            "Epoch 2/20\n",
            "273/273 [==============================] - 1s 2ms/step - loss: 0.1699 - accuracy: 0.9411\n",
            "Epoch 3/20\n",
            "273/273 [==============================] - 1s 2ms/step - loss: 0.1283 - accuracy: 0.9566\n",
            "Epoch 4/20\n",
            "273/273 [==============================] - 1s 2ms/step - loss: 0.1208 - accuracy: 0.9589\n",
            "Epoch 5/20\n",
            "273/273 [==============================] - 1s 2ms/step - loss: 0.1174 - accuracy: 0.9599\n",
            "Epoch 6/20\n",
            "273/273 [==============================] - 1s 2ms/step - loss: 0.1153 - accuracy: 0.9606\n",
            "Epoch 7/20\n",
            "273/273 [==============================] - 1s 2ms/step - loss: 0.1139 - accuracy: 0.9615\n",
            "Epoch 8/20\n",
            "273/273 [==============================] - 1s 2ms/step - loss: 0.1130 - accuracy: 0.9618\n",
            "Epoch 9/20\n",
            "273/273 [==============================] - 1s 2ms/step - loss: 0.1123 - accuracy: 0.9623\n",
            "Epoch 10/20\n",
            "273/273 [==============================] - 1s 2ms/step - loss: 0.1118 - accuracy: 0.9627\n",
            "Epoch 11/20\n",
            "273/273 [==============================] - 1s 2ms/step - loss: 0.1115 - accuracy: 0.9626\n",
            "Epoch 12/20\n",
            "273/273 [==============================] - 1s 2ms/step - loss: 0.1111 - accuracy: 0.9624\n",
            "Epoch 13/20\n",
            "273/273 [==============================] - 1s 2ms/step - loss: 0.1109 - accuracy: 0.9627\n",
            "Epoch 14/20\n",
            "273/273 [==============================] - 1s 2ms/step - loss: 0.1108 - accuracy: 0.9622\n",
            "Epoch 15/20\n",
            "273/273 [==============================] - 1s 2ms/step - loss: 0.1106 - accuracy: 0.9624\n",
            "Epoch 16/20\n",
            "273/273 [==============================] - 1s 2ms/step - loss: 0.1104 - accuracy: 0.9624\n",
            "Epoch 17/20\n",
            "273/273 [==============================] - 1s 2ms/step - loss: 0.1102 - accuracy: 0.9623\n",
            "Epoch 18/20\n",
            "273/273 [==============================] - 1s 2ms/step - loss: 0.1102 - accuracy: 0.9628\n",
            "Epoch 19/20\n",
            "273/273 [==============================] - 1s 3ms/step - loss: 0.1101 - accuracy: 0.9626\n",
            "Epoch 20/20\n",
            "273/273 [==============================] - 1s 3ms/step - loss: 0.1100 - accuracy: 0.9627\n",
            "69/69 [==============================] - 0s 1ms/step - loss: 0.1132 - accuracy: 0.9624\n",
            "Epoch 1/20\n",
            "273/273 [==============================] - 1s 2ms/step - loss: 0.7446 - accuracy: 0.5379\n",
            "Epoch 2/20\n",
            "273/273 [==============================] - 1s 2ms/step - loss: 0.5582 - accuracy: 0.9280\n",
            "Epoch 3/20\n",
            "273/273 [==============================] - 1s 3ms/step - loss: 0.4787 - accuracy: 0.9451\n",
            "Epoch 4/20\n",
            "273/273 [==============================] - 1s 3ms/step - loss: 0.4057 - accuracy: 0.9600\n",
            "Epoch 5/20\n",
            "273/273 [==============================] - 1s 3ms/step - loss: 0.3485 - accuracy: 0.9610\n",
            "Epoch 6/20\n",
            "273/273 [==============================] - 1s 3ms/step - loss: 0.3042 - accuracy: 0.9617\n",
            "Epoch 7/20\n",
            "273/273 [==============================] - 1s 3ms/step - loss: 0.2692 - accuracy: 0.9623\n",
            "Epoch 8/20\n",
            "273/273 [==============================] - 1s 2ms/step - loss: 0.2413 - accuracy: 0.9632\n",
            "Epoch 9/20\n",
            "273/273 [==============================] - 1s 2ms/step - loss: 0.2190 - accuracy: 0.9639\n",
            "Epoch 10/20\n",
            "273/273 [==============================] - 0s 2ms/step - loss: 0.2009 - accuracy: 0.9645\n",
            "Epoch 11/20\n",
            "273/273 [==============================] - 1s 2ms/step - loss: 0.1859 - accuracy: 0.9649\n",
            "Epoch 12/20\n",
            "273/273 [==============================] - 1s 2ms/step - loss: 0.1732 - accuracy: 0.9660\n",
            "Epoch 13/20\n",
            "273/273 [==============================] - 1s 2ms/step - loss: 0.1627 - accuracy: 0.9663\n",
            "Epoch 14/20\n",
            "273/273 [==============================] - 0s 2ms/step - loss: 0.1540 - accuracy: 0.9670\n",
            "Epoch 15/20\n",
            "273/273 [==============================] - 1s 2ms/step - loss: 0.1466 - accuracy: 0.9675\n",
            "Epoch 16/20\n",
            "273/273 [==============================] - 0s 2ms/step - loss: 0.1403 - accuracy: 0.9679\n",
            "Epoch 17/20\n",
            "273/273 [==============================] - 1s 2ms/step - loss: 0.1348 - accuracy: 0.9683\n",
            "Epoch 18/20\n",
            "273/273 [==============================] - 1s 2ms/step - loss: 0.1298 - accuracy: 0.9687\n",
            "Epoch 19/20\n",
            "273/273 [==============================] - 1s 2ms/step - loss: 0.1252 - accuracy: 0.9690\n",
            "Epoch 20/20\n",
            "273/273 [==============================] - 1s 2ms/step - loss: 0.1210 - accuracy: 0.9695\n",
            "69/69 [==============================] - 0s 2ms/step - loss: 0.1226 - accuracy: 0.9685\n",
            "Epoch 1/20\n",
            "273/273 [==============================] - 2s 6ms/step - loss: 0.4227 - accuracy: 0.8834\n",
            "Epoch 2/20\n",
            "273/273 [==============================] - 1s 2ms/step - loss: 0.1998 - accuracy: 0.9201\n",
            "Epoch 3/20\n",
            "273/273 [==============================] - 1s 2ms/step - loss: 0.1679 - accuracy: 0.9201\n",
            "Epoch 4/20\n",
            "273/273 [==============================] - 1s 2ms/step - loss: 0.1544 - accuracy: 0.9201\n",
            "Epoch 5/20\n",
            "273/273 [==============================] - 1s 2ms/step - loss: 0.1463 - accuracy: 0.9236\n",
            "Epoch 6/20\n",
            "273/273 [==============================] - 1s 2ms/step - loss: 0.1392 - accuracy: 0.9510\n",
            "Epoch 7/20\n",
            "273/273 [==============================] - 1s 2ms/step - loss: 0.1317 - accuracy: 0.9545\n",
            "Epoch 8/20\n",
            "273/273 [==============================] - 1s 2ms/step - loss: 0.1260 - accuracy: 0.9558\n",
            "Epoch 9/20\n",
            "273/273 [==============================] - 1s 3ms/step - loss: 0.1216 - accuracy: 0.9570\n",
            "Epoch 10/20\n",
            "273/273 [==============================] - 1s 3ms/step - loss: 0.1189 - accuracy: 0.9581\n",
            "Epoch 11/20\n",
            "273/273 [==============================] - 1s 3ms/step - loss: 0.1169 - accuracy: 0.9596\n",
            "Epoch 12/20\n",
            "273/273 [==============================] - 1s 3ms/step - loss: 0.1153 - accuracy: 0.9603\n",
            "Epoch 13/20\n",
            "273/273 [==============================] - 1s 3ms/step - loss: 0.1138 - accuracy: 0.9617\n",
            "Epoch 14/20\n",
            "273/273 [==============================] - 1s 2ms/step - loss: 0.1121 - accuracy: 0.9626\n",
            "Epoch 15/20\n",
            "273/273 [==============================] - 1s 2ms/step - loss: 0.1108 - accuracy: 0.9631\n",
            "Epoch 16/20\n",
            "273/273 [==============================] - 1s 2ms/step - loss: 0.1101 - accuracy: 0.9631\n",
            "Epoch 17/20\n",
            "273/273 [==============================] - 1s 2ms/step - loss: 0.1096 - accuracy: 0.9631\n",
            "Epoch 18/20\n",
            "273/273 [==============================] - 1s 2ms/step - loss: 0.1092 - accuracy: 0.9627\n",
            "Epoch 19/20\n",
            "273/273 [==============================] - 1s 2ms/step - loss: 0.1089 - accuracy: 0.9630\n",
            "Epoch 20/20\n",
            "273/273 [==============================] - 1s 2ms/step - loss: 0.1085 - accuracy: 0.9634\n",
            "69/69 [==============================] - 0s 2ms/step - loss: 0.1061 - accuracy: 0.9625\n",
            "결과 [0.96203834 0.96409428 0.96240544 0.9684999  0.96254957]\n"
          ]
        }
      ]
    },
    {
      "cell_type": "code",
      "source": [
        "my_ann = Sequential()\n",
        "\n",
        "my_ann.add(BatchNormalization())\n",
        "my_ann.add(Dense(6, activation='relu', \n",
        "                 kernel_initializer='he_normal', \n",
        "                 kernel_regularizer=l1(0.01)))\n",
        "my_ann.add(BatchNormalization())\n",
        "my_ann.add(Dense(6, activation='relu', \n",
        "                 kernel_initializer='he_normal', \n",
        "                 kernel_regularizer=l1(0.01)))\n",
        "my_ann.add(BatchNormalization())\n",
        "my_ann.add(Dense(1, activation='sigmoid'))\n",
        "\n",
        "my_ann.compile(loss='binary_crossentropy', optimizer='adam', metrics=['accuracy'])\n",
        "\n",
        "early_stop = EarlyStopping(monitor='val_loss', patience=3, verbose=1)\n",
        "history_my_ann = my_ann.fit(X_train, y_train, epochs=100, batch_size=100, \n",
        "                  validation_data = (X_test, y_test), \n",
        "                  callbacks=[early_stop])"
      ],
      "metadata": {
        "colab": {
          "base_uri": "https://localhost:8080/"
        },
        "id": "adfkXzH-lpb_",
        "outputId": "754fc8ba-bf0c-4105-f00a-76bcd38c838e"
      },
      "execution_count": null,
      "outputs": [
        {
          "output_type": "stream",
          "name": "stdout",
          "text": [
            "Epoch 1/100\n",
            "681/681 [==============================] - 6s 5ms/step - loss: 0.5121 - accuracy: 0.8906 - val_loss: 0.2434 - val_accuracy: 0.9616\n",
            "Epoch 2/100\n",
            "681/681 [==============================] - 2s 3ms/step - loss: 0.1924 - accuracy: 0.9556 - val_loss: 0.1511 - val_accuracy: 0.9608\n",
            "Epoch 3/100\n",
            "681/681 [==============================] - 2s 3ms/step - loss: 0.1434 - accuracy: 0.9575 - val_loss: 0.1264 - val_accuracy: 0.9618\n",
            "Epoch 4/100\n",
            "681/681 [==============================] - 2s 3ms/step - loss: 0.1303 - accuracy: 0.9572 - val_loss: 0.1201 - val_accuracy: 0.9618\n",
            "Epoch 5/100\n",
            "681/681 [==============================] - 2s 3ms/step - loss: 0.1245 - accuracy: 0.9577 - val_loss: 0.1176 - val_accuracy: 0.9609\n",
            "Epoch 6/100\n",
            "681/681 [==============================] - 2s 3ms/step - loss: 0.1225 - accuracy: 0.9580 - val_loss: 0.1173 - val_accuracy: 0.9618\n",
            "Epoch 7/100\n",
            "681/681 [==============================] - 3s 5ms/step - loss: 0.1213 - accuracy: 0.9589 - val_loss: 0.1155 - val_accuracy: 0.9618\n",
            "Epoch 8/100\n",
            "681/681 [==============================] - 2s 4ms/step - loss: 0.1215 - accuracy: 0.9590 - val_loss: 0.1135 - val_accuracy: 0.9630\n",
            "Epoch 9/100\n",
            "681/681 [==============================] - 2s 3ms/step - loss: 0.1212 - accuracy: 0.9587 - val_loss: 0.1320 - val_accuracy: 0.9492\n",
            "Epoch 10/100\n",
            "681/681 [==============================] - 2s 3ms/step - loss: 0.1203 - accuracy: 0.9588 - val_loss: 0.1136 - val_accuracy: 0.9627\n",
            "Epoch 11/100\n",
            "681/681 [==============================] - 2s 3ms/step - loss: 0.1205 - accuracy: 0.9598 - val_loss: 0.1134 - val_accuracy: 0.9650\n",
            "Epoch 12/100\n",
            "681/681 [==============================] - 3s 4ms/step - loss: 0.1168 - accuracy: 0.9625 - val_loss: 0.1090 - val_accuracy: 0.9665\n",
            "Epoch 13/100\n",
            "681/681 [==============================] - 3s 4ms/step - loss: 0.1153 - accuracy: 0.9630 - val_loss: 0.1274 - val_accuracy: 0.9570\n",
            "Epoch 14/100\n",
            "681/681 [==============================] - 2s 3ms/step - loss: 0.1123 - accuracy: 0.9634 - val_loss: 0.1051 - val_accuracy: 0.9649\n",
            "Epoch 15/100\n",
            "681/681 [==============================] - 2s 3ms/step - loss: 0.1122 - accuracy: 0.9633 - val_loss: 0.1062 - val_accuracy: 0.9661\n",
            "Epoch 16/100\n",
            "681/681 [==============================] - 2s 3ms/step - loss: 0.1131 - accuracy: 0.9631 - val_loss: 0.1095 - val_accuracy: 0.9625\n",
            "Epoch 17/100\n",
            "681/681 [==============================] - 2s 3ms/step - loss: 0.1131 - accuracy: 0.9631 - val_loss: 0.1045 - val_accuracy: 0.9660\n",
            "Epoch 18/100\n",
            "681/681 [==============================] - 3s 4ms/step - loss: 0.1116 - accuracy: 0.9633 - val_loss: 0.1048 - val_accuracy: 0.9665\n",
            "Epoch 19/100\n",
            "681/681 [==============================] - 3s 4ms/step - loss: 0.1123 - accuracy: 0.9637 - val_loss: 0.1042 - val_accuracy: 0.9670\n",
            "Epoch 20/100\n",
            "681/681 [==============================] - 2s 3ms/step - loss: 0.1120 - accuracy: 0.9630 - val_loss: 0.1045 - val_accuracy: 0.9661\n",
            "Epoch 21/100\n",
            "681/681 [==============================] - 2s 3ms/step - loss: 0.1107 - accuracy: 0.9632 - val_loss: 0.1021 - val_accuracy: 0.9671\n",
            "Epoch 22/100\n",
            "681/681 [==============================] - 2s 3ms/step - loss: 0.1120 - accuracy: 0.9632 - val_loss: 0.1065 - val_accuracy: 0.9654\n",
            "Epoch 23/100\n",
            "681/681 [==============================] - 2s 3ms/step - loss: 0.1116 - accuracy: 0.9631 - val_loss: 0.1045 - val_accuracy: 0.9657\n",
            "Epoch 24/100\n",
            "681/681 [==============================] - 3s 5ms/step - loss: 0.1129 - accuracy: 0.9631 - val_loss: 0.1040 - val_accuracy: 0.9667\n",
            "Epoch 24: early stopping\n"
          ]
        }
      ]
    },
    {
      "cell_type": "code",
      "source": [
        "basic_loss, basic_accuracy = basic_ann.evaluate(X_test, y_test)\n",
        "print(f'Test loss of basic_ann: {basic_loss:.4f}')\n",
        "print(f'Test accuracy basic_ann: {basic_accuracy:.4f}')\n",
        "\n",
        "my_loss, my_accuracy = my_ann.evaluate(X_test, y_test)\n",
        "print(f'Test loss of my_ann: {my_loss:.4f}')\n",
        "print(f'Test accuracy my_ann: {my_accuracy:.4f}')"
      ],
      "metadata": {
        "colab": {
          "base_uri": "https://localhost:8080/"
        },
        "id": "tfYLuBm4NDVB",
        "outputId": "9105a144-0a6b-4c24-e8f4-c1e2d06d34bb"
      },
      "execution_count": null,
      "outputs": [
        {
          "output_type": "stream",
          "name": "stdout",
          "text": [
            "710/710 [==============================] - 2s 3ms/step - loss: 0.0858 - accuracy: 0.9734\n",
            "Test loss of basic_ann: 0.0858\n",
            "Test accuracy basic_ann: 0.9734\n",
            "710/710 [==============================] - 1s 2ms/step - loss: 0.1040 - accuracy: 0.9667\n",
            "Test loss of my_ann: 0.1040\n",
            "Test accuracy my_ann: 0.9667\n"
          ]
        }
      ]
    },
    {
      "cell_type": "code",
      "source": [
        "dropout_ann = Sequential()\n",
        "\n",
        "dropout_ann.add(Dropout(rate=0.2))\n",
        "dropout_ann.add(Dense(6, activation='relu'))\n",
        "dropout_ann.add(Dropout(rate=0.2))\n",
        "dropout_ann.add(Dense(6, activation='relu'))\n",
        "dropout_ann.add(Dropout(rate=0.2))\n",
        "dropout_ann.add(Dense(1, activation='sigmoid'))\n",
        "\n",
        "dropout_ann.compile(loss='binary_crossentropy', optimizer='adam', metrics=['accuracy'])\n",
        "\n",
        "early_stop = EarlyStopping(monitor='val_loss', patience=3, verbose=1)\n",
        "history_dropout_ann = dropout_ann.fit(X_train, y_train, epochs=100, batch_size=100, \n",
        "                  validation_data = (X_test, y_test), \n",
        "                  callbacks=[early_stop])"
      ],
      "metadata": {
        "colab": {
          "base_uri": "https://localhost:8080/"
        },
        "id": "H8n3Cb_DQwTj",
        "outputId": "5fa6efcc-2f20-4fd6-9e5b-77a32b42f3f0"
      },
      "execution_count": null,
      "outputs": [
        {
          "output_type": "stream",
          "name": "stdout",
          "text": [
            "Epoch 1/100\n",
            "681/681 [==============================] - 3s 3ms/step - loss: 0.3357 - accuracy: 0.8878 - val_loss: 0.1687 - val_accuracy: 0.9205\n",
            "Epoch 2/100\n",
            "681/681 [==============================] - 2s 2ms/step - loss: 0.1896 - accuracy: 0.9359 - val_loss: 0.1367 - val_accuracy: 0.9487\n",
            "Epoch 3/100\n",
            "681/681 [==============================] - 2s 3ms/step - loss: 0.1766 - accuracy: 0.9415 - val_loss: 0.1307 - val_accuracy: 0.9511\n",
            "Epoch 4/100\n",
            "681/681 [==============================] - 3s 4ms/step - loss: 0.1699 - accuracy: 0.9412 - val_loss: 0.1266 - val_accuracy: 0.9555\n",
            "Epoch 5/100\n",
            "681/681 [==============================] - 2s 2ms/step - loss: 0.1660 - accuracy: 0.9411 - val_loss: 0.1225 - val_accuracy: 0.9575\n",
            "Epoch 6/100\n",
            "681/681 [==============================] - 2s 2ms/step - loss: 0.1626 - accuracy: 0.9419 - val_loss: 0.1223 - val_accuracy: 0.9566\n",
            "Epoch 7/100\n",
            "681/681 [==============================] - 2s 2ms/step - loss: 0.1602 - accuracy: 0.9418 - val_loss: 0.1182 - val_accuracy: 0.9581\n",
            "Epoch 8/100\n",
            "681/681 [==============================] - 2s 2ms/step - loss: 0.1600 - accuracy: 0.9416 - val_loss: 0.1167 - val_accuracy: 0.9580\n",
            "Epoch 9/100\n",
            "681/681 [==============================] - 2s 2ms/step - loss: 0.1573 - accuracy: 0.9419 - val_loss: 0.1147 - val_accuracy: 0.9592\n",
            "Epoch 10/100\n",
            "681/681 [==============================] - 2s 3ms/step - loss: 0.1539 - accuracy: 0.9419 - val_loss: 0.1145 - val_accuracy: 0.9597\n",
            "Epoch 11/100\n",
            "681/681 [==============================] - 3s 4ms/step - loss: 0.1565 - accuracy: 0.9413 - val_loss: 0.1169 - val_accuracy: 0.9570\n",
            "Epoch 12/100\n",
            "681/681 [==============================] - 2s 3ms/step - loss: 0.1528 - accuracy: 0.9429 - val_loss: 0.1147 - val_accuracy: 0.9584\n",
            "Epoch 13/100\n",
            "681/681 [==============================] - 2s 2ms/step - loss: 0.1535 - accuracy: 0.9416 - val_loss: 0.1138 - val_accuracy: 0.9590\n",
            "Epoch 14/100\n",
            "681/681 [==============================] - 2s 2ms/step - loss: 0.1545 - accuracy: 0.9420 - val_loss: 0.1148 - val_accuracy: 0.9584\n",
            "Epoch 15/100\n",
            "681/681 [==============================] - 2s 2ms/step - loss: 0.1538 - accuracy: 0.9419 - val_loss: 0.1146 - val_accuracy: 0.9584\n",
            "Epoch 16/100\n",
            "681/681 [==============================] - 2s 2ms/step - loss: 0.1515 - accuracy: 0.9427 - val_loss: 0.1133 - val_accuracy: 0.9587\n",
            "Epoch 17/100\n",
            "681/681 [==============================] - 2s 2ms/step - loss: 0.1545 - accuracy: 0.9411 - val_loss: 0.1150 - val_accuracy: 0.9577\n",
            "Epoch 18/100\n",
            "681/681 [==============================] - 3s 4ms/step - loss: 0.1516 - accuracy: 0.9423 - val_loss: 0.1127 - val_accuracy: 0.9588\n",
            "Epoch 19/100\n",
            "681/681 [==============================] - 2s 3ms/step - loss: 0.1516 - accuracy: 0.9423 - val_loss: 0.1149 - val_accuracy: 0.9571\n",
            "Epoch 20/100\n",
            "681/681 [==============================] - 2s 2ms/step - loss: 0.1532 - accuracy: 0.9417 - val_loss: 0.1125 - val_accuracy: 0.9590\n",
            "Epoch 21/100\n",
            "681/681 [==============================] - 2s 2ms/step - loss: 0.1530 - accuracy: 0.9419 - val_loss: 0.1151 - val_accuracy: 0.9566\n",
            "Epoch 22/100\n",
            "681/681 [==============================] - 2s 2ms/step - loss: 0.1528 - accuracy: 0.9421 - val_loss: 0.1122 - val_accuracy: 0.9590\n",
            "Epoch 23/100\n",
            "681/681 [==============================] - 2s 2ms/step - loss: 0.1527 - accuracy: 0.9415 - val_loss: 0.1140 - val_accuracy: 0.9575\n",
            "Epoch 24/100\n",
            "681/681 [==============================] - 2s 2ms/step - loss: 0.1527 - accuracy: 0.9424 - val_loss: 0.1140 - val_accuracy: 0.9572\n",
            "Epoch 25/100\n",
            "681/681 [==============================] - 2s 3ms/step - loss: 0.1521 - accuracy: 0.9417 - val_loss: 0.1135 - val_accuracy: 0.9576\n",
            "Epoch 25: early stopping\n"
          ]
        }
      ]
    },
    {
      "cell_type": "code",
      "source": [
        "dropout_loss, dropout_accuracy = dropout_ann.evaluate(X_test, y_test)\n",
        "print(f'Test loss of dropout_ann: {dropout_loss:.4f}')\n",
        "print(f'Test accuracy dropout_ann: {dropout_accuracy:.4f}')"
      ],
      "metadata": {
        "colab": {
          "base_uri": "https://localhost:8080/"
        },
        "id": "T13kttoSR5vA",
        "outputId": "39b7c7db-a1db-44a6-f66b-5f515a1e41f8"
      },
      "execution_count": null,
      "outputs": [
        {
          "output_type": "stream",
          "name": "stdout",
          "text": [
            "710/710 [==============================] - 1s 2ms/step - loss: 0.1135 - accuracy: 0.9576\n",
            "Test loss of dropout_ann: 0.1135\n",
            "Test accuracy dropout_ann: 0.9576\n"
          ]
        }
      ]
    },
    {
      "cell_type": "code",
      "source": [
        "weak_ann = basic_build_fn()\n",
        "\n",
        "history_weak_ann = weak_ann.fit(X_train, y_train, epochs=1, batch_size=16, \n",
        "                  validation_data = (X_test, y_test))"
      ],
      "metadata": {
        "colab": {
          "base_uri": "https://localhost:8080/"
        },
        "id": "Ayf-uZyAXZP1",
        "outputId": "e925925a-009b-4535-bcf3-24ec680a967d"
      },
      "execution_count": null,
      "outputs": [
        {
          "output_type": "stream",
          "name": "stdout",
          "text": [
            "4256/4256 [==============================] - 12s 2ms/step - loss: 0.1597 - accuracy: 0.9422 - val_loss: 0.1284 - val_accuracy: 0.9584\n"
          ]
        }
      ]
    },
    {
      "cell_type": "code",
      "source": [
        "def print_test_metrics(model, X_test):\n",
        "  \"\"\"Test 정확도와 Confusion Matrix를 출력하는 함수\"\"\"\n",
        "  print('*** Test Accuracy *** \\n   {}'.format(model.score(X_test, y_test)))\n",
        "  print('\\n*** Confusion Matrix *** \\n', confusion_matrix(y_test, model.predict(X_test)))"
      ],
      "metadata": {
        "id": "2zYgK1-4U8am"
      },
      "execution_count": null,
      "outputs": []
    },
    {
      "cell_type": "code",
      "source": [
        "weak_ann_pred = weak_ann.predict(X_test).round()\n",
        "confusion_matrix(y_test, weak_ann_pred)"
      ],
      "metadata": {
        "colab": {
          "base_uri": "https://localhost:8080/"
        },
        "id": "56DdMGpDi1VO",
        "outputId": "d4b20bb4-b940-4051-f359-313f83f4d233"
      },
      "execution_count": null,
      "outputs": [
        {
          "output_type": "stream",
          "name": "stdout",
          "text": [
            "710/710 [==============================] - 2s 3ms/step\n"
          ]
        },
        {
          "output_type": "execute_result",
          "data": {
            "text/plain": [
              "array([[  968,   836],\n",
              "       [  109, 20785]])"
            ]
          },
          "metadata": {},
          "execution_count": 131
        }
      ]
    },
    {
      "cell_type": "code",
      "source": [
        "fpr, tpr, thresholds = roc_curve(y_test, weak_ann_pred)\n",
        "\n",
        "precisions, recalls, thresholds = precision_recall_curve(y_test, weak_ann_pred)"
      ],
      "metadata": {
        "id": "O7sBK8VmboIv"
      },
      "execution_count": null,
      "outputs": []
    },
    {
      "cell_type": "code",
      "source": [
        "def plot_roc_curve(fpr, tpr, label=None):\n",
        "  '''ROC Curve를 그리는 함수'''\n",
        "  plt.plot(fpr, tpr, linewidth=2, label=label)\n",
        "  plt.plot([0, 1], [0, 1], 'k--')\n",
        "  plt.axis([0, 1, 0, 1])\n",
        "  plt.xlabel('False Positive Rate (Fall-Out)', fontsize=16)\n",
        "  plt.ylabel('True Positive Rate (Recall)', fontsize=16)\n",
        "  plt.grid(True)"
      ],
      "metadata": {
        "id": "mfM612IwcKJ_"
      },
      "execution_count": null,
      "outputs": []
    },
    {
      "cell_type": "code",
      "source": [
        "plt.figure(figsize=(6, 5))\n",
        "plot_roc_curve(fpr, tpr)\n",
        "plt.show()"
      ],
      "metadata": {
        "colab": {
          "base_uri": "https://localhost:8080/",
          "height": 462
        },
        "id": "TmgnRlrZdF_4",
        "outputId": "b86e91b0-1ca7-46bf-a074-6f36939704eb"
      },
      "execution_count": null,
      "outputs": [
        {
          "output_type": "display_data",
          "data": {
            "text/plain": [
              "<Figure size 600x500 with 1 Axes>"
            ],
            "image/svg+xml": "<?xml version=\"1.0\" encoding=\"utf-8\" standalone=\"no\"?>\n<!DOCTYPE svg PUBLIC \"-//W3C//DTD SVG 1.1//EN\"\n  \"http://www.w3.org/Graphics/SVG/1.1/DTD/svg11.dtd\">\n<svg xmlns:xlink=\"http://www.w3.org/1999/xlink\" width=\"399.539687pt\" height=\"331.562344pt\" viewBox=\"0 0 399.539687 331.562344\" xmlns=\"http://www.w3.org/2000/svg\" version=\"1.1\">\n <metadata>\n  <rdf:RDF xmlns:dc=\"http://purl.org/dc/elements/1.1/\" xmlns:cc=\"http://creativecommons.org/ns#\" xmlns:rdf=\"http://www.w3.org/1999/02/22-rdf-syntax-ns#\">\n   <cc:Work>\n    <dc:type rdf:resource=\"http://purl.org/dc/dcmitype/StillImage\"/>\n    <dc:date>2023-05-21T06:13:56.059049</dc:date>\n    <dc:format>image/svg+xml</dc:format>\n    <dc:creator>\n     <cc:Agent>\n      <dc:title>Matplotlib v3.7.1, https://matplotlib.org/</dc:title>\n     </cc:Agent>\n    </dc:creator>\n   </cc:Work>\n  </rdf:RDF>\n </metadata>\n <defs>\n  <style type=\"text/css\">*{stroke-linejoin: round; stroke-linecap: butt}</style>\n </defs>\n <g id=\"figure_1\">\n  <g id=\"patch_1\">\n   <path d=\"M 0 331.562344 \nL 399.539687 331.562344 \nL 399.539687 0 \nL 0 0 \nz\n\" style=\"fill: #ffffff\"/>\n  </g>\n  <g id=\"axes_1\">\n   <g id=\"patch_2\">\n    <path d=\"M 49.588125 288.199219 \nL 384.388125 288.199219 \nL 384.388125 10.999219 \nL 49.588125 10.999219 \nz\n\" style=\"fill: #ffffff\"/>\n   </g>\n   <g id=\"matplotlib.axis_1\">\n    <g id=\"xtick_1\">\n     <g id=\"line2d_1\">\n      <path d=\"M 49.588125 288.199219 \nL 49.588125 10.999219 \n\" clip-path=\"url(#p8cdc9d6365)\" style=\"fill: none; stroke: #cccccc; stroke-width: 0.8; stroke-linecap: round\"/>\n     </g>\n     <g id=\"text_1\">\n      <!-- 0.0 -->\n      <g style=\"fill: #262626\" transform=\"translate(41.636563 302.797656) scale(0.1 -0.1)\">\n       <defs>\n        <path id=\"DejaVuSans-30\" d=\"M 2034 4250 \nQ 1547 4250 1301 3770 \nQ 1056 3291 1056 2328 \nQ 1056 1369 1301 889 \nQ 1547 409 2034 409 \nQ 2525 409 2770 889 \nQ 3016 1369 3016 2328 \nQ 3016 3291 2770 3770 \nQ 2525 4250 2034 4250 \nz\nM 2034 4750 \nQ 2819 4750 3233 4129 \nQ 3647 3509 3647 2328 \nQ 3647 1150 3233 529 \nQ 2819 -91 2034 -91 \nQ 1250 -91 836 529 \nQ 422 1150 422 2328 \nQ 422 3509 836 4129 \nQ 1250 4750 2034 4750 \nz\n\" transform=\"scale(0.015625)\"/>\n        <path id=\"DejaVuSans-2e\" d=\"M 684 794 \nL 1344 794 \nL 1344 0 \nL 684 0 \nL 684 794 \nz\n\" transform=\"scale(0.015625)\"/>\n       </defs>\n       <use xlink:href=\"#DejaVuSans-30\"/>\n       <use xlink:href=\"#DejaVuSans-2e\" x=\"63.623047\"/>\n       <use xlink:href=\"#DejaVuSans-30\" x=\"95.410156\"/>\n      </g>\n     </g>\n    </g>\n    <g id=\"xtick_2\">\n     <g id=\"line2d_2\">\n      <path d=\"M 116.548125 288.199219 \nL 116.548125 10.999219 \n\" clip-path=\"url(#p8cdc9d6365)\" style=\"fill: none; stroke: #cccccc; stroke-width: 0.8; stroke-linecap: round\"/>\n     </g>\n     <g id=\"text_2\">\n      <!-- 0.2 -->\n      <g style=\"fill: #262626\" transform=\"translate(108.596563 302.797656) scale(0.1 -0.1)\">\n       <defs>\n        <path id=\"DejaVuSans-32\" d=\"M 1228 531 \nL 3431 531 \nL 3431 0 \nL 469 0 \nL 469 531 \nQ 828 903 1448 1529 \nQ 2069 2156 2228 2338 \nQ 2531 2678 2651 2914 \nQ 2772 3150 2772 3378 \nQ 2772 3750 2511 3984 \nQ 2250 4219 1831 4219 \nQ 1534 4219 1204 4116 \nQ 875 4013 500 3803 \nL 500 4441 \nQ 881 4594 1212 4672 \nQ 1544 4750 1819 4750 \nQ 2544 4750 2975 4387 \nQ 3406 4025 3406 3419 \nQ 3406 3131 3298 2873 \nQ 3191 2616 2906 2266 \nQ 2828 2175 2409 1742 \nQ 1991 1309 1228 531 \nz\n\" transform=\"scale(0.015625)\"/>\n       </defs>\n       <use xlink:href=\"#DejaVuSans-30\"/>\n       <use xlink:href=\"#DejaVuSans-2e\" x=\"63.623047\"/>\n       <use xlink:href=\"#DejaVuSans-32\" x=\"95.410156\"/>\n      </g>\n     </g>\n    </g>\n    <g id=\"xtick_3\">\n     <g id=\"line2d_3\">\n      <path d=\"M 183.508125 288.199219 \nL 183.508125 10.999219 \n\" clip-path=\"url(#p8cdc9d6365)\" style=\"fill: none; stroke: #cccccc; stroke-width: 0.8; stroke-linecap: round\"/>\n     </g>\n     <g id=\"text_3\">\n      <!-- 0.4 -->\n      <g style=\"fill: #262626\" transform=\"translate(175.556563 302.797656) scale(0.1 -0.1)\">\n       <defs>\n        <path id=\"DejaVuSans-34\" d=\"M 2419 4116 \nL 825 1625 \nL 2419 1625 \nL 2419 4116 \nz\nM 2253 4666 \nL 3047 4666 \nL 3047 1625 \nL 3713 1625 \nL 3713 1100 \nL 3047 1100 \nL 3047 0 \nL 2419 0 \nL 2419 1100 \nL 313 1100 \nL 313 1709 \nL 2253 4666 \nz\n\" transform=\"scale(0.015625)\"/>\n       </defs>\n       <use xlink:href=\"#DejaVuSans-30\"/>\n       <use xlink:href=\"#DejaVuSans-2e\" x=\"63.623047\"/>\n       <use xlink:href=\"#DejaVuSans-34\" x=\"95.410156\"/>\n      </g>\n     </g>\n    </g>\n    <g id=\"xtick_4\">\n     <g id=\"line2d_4\">\n      <path d=\"M 250.468125 288.199219 \nL 250.468125 10.999219 \n\" clip-path=\"url(#p8cdc9d6365)\" style=\"fill: none; stroke: #cccccc; stroke-width: 0.8; stroke-linecap: round\"/>\n     </g>\n     <g id=\"text_4\">\n      <!-- 0.6 -->\n      <g style=\"fill: #262626\" transform=\"translate(242.516563 302.797656) scale(0.1 -0.1)\">\n       <defs>\n        <path id=\"DejaVuSans-36\" d=\"M 2113 2584 \nQ 1688 2584 1439 2293 \nQ 1191 2003 1191 1497 \nQ 1191 994 1439 701 \nQ 1688 409 2113 409 \nQ 2538 409 2786 701 \nQ 3034 994 3034 1497 \nQ 3034 2003 2786 2293 \nQ 2538 2584 2113 2584 \nz\nM 3366 4563 \nL 3366 3988 \nQ 3128 4100 2886 4159 \nQ 2644 4219 2406 4219 \nQ 1781 4219 1451 3797 \nQ 1122 3375 1075 2522 \nQ 1259 2794 1537 2939 \nQ 1816 3084 2150 3084 \nQ 2853 3084 3261 2657 \nQ 3669 2231 3669 1497 \nQ 3669 778 3244 343 \nQ 2819 -91 2113 -91 \nQ 1303 -91 875 529 \nQ 447 1150 447 2328 \nQ 447 3434 972 4092 \nQ 1497 4750 2381 4750 \nQ 2619 4750 2861 4703 \nQ 3103 4656 3366 4563 \nz\n\" transform=\"scale(0.015625)\"/>\n       </defs>\n       <use xlink:href=\"#DejaVuSans-30\"/>\n       <use xlink:href=\"#DejaVuSans-2e\" x=\"63.623047\"/>\n       <use xlink:href=\"#DejaVuSans-36\" x=\"95.410156\"/>\n      </g>\n     </g>\n    </g>\n    <g id=\"xtick_5\">\n     <g id=\"line2d_5\">\n      <path d=\"M 317.428125 288.199219 \nL 317.428125 10.999219 \n\" clip-path=\"url(#p8cdc9d6365)\" style=\"fill: none; stroke: #cccccc; stroke-width: 0.8; stroke-linecap: round\"/>\n     </g>\n     <g id=\"text_5\">\n      <!-- 0.8 -->\n      <g style=\"fill: #262626\" transform=\"translate(309.476562 302.797656) scale(0.1 -0.1)\">\n       <defs>\n        <path id=\"DejaVuSans-38\" d=\"M 2034 2216 \nQ 1584 2216 1326 1975 \nQ 1069 1734 1069 1313 \nQ 1069 891 1326 650 \nQ 1584 409 2034 409 \nQ 2484 409 2743 651 \nQ 3003 894 3003 1313 \nQ 3003 1734 2745 1975 \nQ 2488 2216 2034 2216 \nz\nM 1403 2484 \nQ 997 2584 770 2862 \nQ 544 3141 544 3541 \nQ 544 4100 942 4425 \nQ 1341 4750 2034 4750 \nQ 2731 4750 3128 4425 \nQ 3525 4100 3525 3541 \nQ 3525 3141 3298 2862 \nQ 3072 2584 2669 2484 \nQ 3125 2378 3379 2068 \nQ 3634 1759 3634 1313 \nQ 3634 634 3220 271 \nQ 2806 -91 2034 -91 \nQ 1263 -91 848 271 \nQ 434 634 434 1313 \nQ 434 1759 690 2068 \nQ 947 2378 1403 2484 \nz\nM 1172 3481 \nQ 1172 3119 1398 2916 \nQ 1625 2713 2034 2713 \nQ 2441 2713 2670 2916 \nQ 2900 3119 2900 3481 \nQ 2900 3844 2670 4047 \nQ 2441 4250 2034 4250 \nQ 1625 4250 1398 4047 \nQ 1172 3844 1172 3481 \nz\n\" transform=\"scale(0.015625)\"/>\n       </defs>\n       <use xlink:href=\"#DejaVuSans-30\"/>\n       <use xlink:href=\"#DejaVuSans-2e\" x=\"63.623047\"/>\n       <use xlink:href=\"#DejaVuSans-38\" x=\"95.410156\"/>\n      </g>\n     </g>\n    </g>\n    <g id=\"xtick_6\">\n     <g id=\"line2d_6\">\n      <path d=\"M 384.388125 288.199219 \nL 384.388125 10.999219 \n\" clip-path=\"url(#p8cdc9d6365)\" style=\"fill: none; stroke: #cccccc; stroke-width: 0.8; stroke-linecap: round\"/>\n     </g>\n     <g id=\"text_6\">\n      <!-- 1.0 -->\n      <g style=\"fill: #262626\" transform=\"translate(376.436562 302.797656) scale(0.1 -0.1)\">\n       <defs>\n        <path id=\"DejaVuSans-31\" d=\"M 794 531 \nL 1825 531 \nL 1825 4091 \nL 703 3866 \nL 703 4441 \nL 1819 4666 \nL 2450 4666 \nL 2450 531 \nL 3481 531 \nL 3481 0 \nL 794 0 \nL 794 531 \nz\n\" transform=\"scale(0.015625)\"/>\n       </defs>\n       <use xlink:href=\"#DejaVuSans-31\"/>\n       <use xlink:href=\"#DejaVuSans-2e\" x=\"63.623047\"/>\n       <use xlink:href=\"#DejaVuSans-30\" x=\"95.410156\"/>\n      </g>\n     </g>\n    </g>\n    <g id=\"text_7\">\n     <!-- False Positive Rate (Fall-Out) -->\n     <g style=\"fill: #262626\" transform=\"translate(103.028125 321.034844) scale(0.16 -0.16)\">\n      <defs>\n       <path id=\"DejaVuSans-46\" d=\"M 628 4666 \nL 3309 4666 \nL 3309 4134 \nL 1259 4134 \nL 1259 2759 \nL 3109 2759 \nL 3109 2228 \nL 1259 2228 \nL 1259 0 \nL 628 0 \nL 628 4666 \nz\n\" transform=\"scale(0.015625)\"/>\n       <path id=\"DejaVuSans-61\" d=\"M 2194 1759 \nQ 1497 1759 1228 1600 \nQ 959 1441 959 1056 \nQ 959 750 1161 570 \nQ 1363 391 1709 391 \nQ 2188 391 2477 730 \nQ 2766 1069 2766 1631 \nL 2766 1759 \nL 2194 1759 \nz\nM 3341 1997 \nL 3341 0 \nL 2766 0 \nL 2766 531 \nQ 2569 213 2275 61 \nQ 1981 -91 1556 -91 \nQ 1019 -91 701 211 \nQ 384 513 384 1019 \nQ 384 1609 779 1909 \nQ 1175 2209 1959 2209 \nL 2766 2209 \nL 2766 2266 \nQ 2766 2663 2505 2880 \nQ 2244 3097 1772 3097 \nQ 1472 3097 1187 3025 \nQ 903 2953 641 2809 \nL 641 3341 \nQ 956 3463 1253 3523 \nQ 1550 3584 1831 3584 \nQ 2591 3584 2966 3190 \nQ 3341 2797 3341 1997 \nz\n\" transform=\"scale(0.015625)\"/>\n       <path id=\"DejaVuSans-6c\" d=\"M 603 4863 \nL 1178 4863 \nL 1178 0 \nL 603 0 \nL 603 4863 \nz\n\" transform=\"scale(0.015625)\"/>\n       <path id=\"DejaVuSans-73\" d=\"M 2834 3397 \nL 2834 2853 \nQ 2591 2978 2328 3040 \nQ 2066 3103 1784 3103 \nQ 1356 3103 1142 2972 \nQ 928 2841 928 2578 \nQ 928 2378 1081 2264 \nQ 1234 2150 1697 2047 \nL 1894 2003 \nQ 2506 1872 2764 1633 \nQ 3022 1394 3022 966 \nQ 3022 478 2636 193 \nQ 2250 -91 1575 -91 \nQ 1294 -91 989 -36 \nQ 684 19 347 128 \nL 347 722 \nQ 666 556 975 473 \nQ 1284 391 1588 391 \nQ 1994 391 2212 530 \nQ 2431 669 2431 922 \nQ 2431 1156 2273 1281 \nQ 2116 1406 1581 1522 \nL 1381 1569 \nQ 847 1681 609 1914 \nQ 372 2147 372 2553 \nQ 372 3047 722 3315 \nQ 1072 3584 1716 3584 \nQ 2034 3584 2315 3537 \nQ 2597 3491 2834 3397 \nz\n\" transform=\"scale(0.015625)\"/>\n       <path id=\"DejaVuSans-65\" d=\"M 3597 1894 \nL 3597 1613 \nL 953 1613 \nQ 991 1019 1311 708 \nQ 1631 397 2203 397 \nQ 2534 397 2845 478 \nQ 3156 559 3463 722 \nL 3463 178 \nQ 3153 47 2828 -22 \nQ 2503 -91 2169 -91 \nQ 1331 -91 842 396 \nQ 353 884 353 1716 \nQ 353 2575 817 3079 \nQ 1281 3584 2069 3584 \nQ 2775 3584 3186 3129 \nQ 3597 2675 3597 1894 \nz\nM 3022 2063 \nQ 3016 2534 2758 2815 \nQ 2500 3097 2075 3097 \nQ 1594 3097 1305 2825 \nQ 1016 2553 972 2059 \nL 3022 2063 \nz\n\" transform=\"scale(0.015625)\"/>\n       <path id=\"DejaVuSans-20\" transform=\"scale(0.015625)\"/>\n       <path id=\"DejaVuSans-50\" d=\"M 1259 4147 \nL 1259 2394 \nL 2053 2394 \nQ 2494 2394 2734 2622 \nQ 2975 2850 2975 3272 \nQ 2975 3691 2734 3919 \nQ 2494 4147 2053 4147 \nL 1259 4147 \nz\nM 628 4666 \nL 2053 4666 \nQ 2838 4666 3239 4311 \nQ 3641 3956 3641 3272 \nQ 3641 2581 3239 2228 \nQ 2838 1875 2053 1875 \nL 1259 1875 \nL 1259 0 \nL 628 0 \nL 628 4666 \nz\n\" transform=\"scale(0.015625)\"/>\n       <path id=\"DejaVuSans-6f\" d=\"M 1959 3097 \nQ 1497 3097 1228 2736 \nQ 959 2375 959 1747 \nQ 959 1119 1226 758 \nQ 1494 397 1959 397 \nQ 2419 397 2687 759 \nQ 2956 1122 2956 1747 \nQ 2956 2369 2687 2733 \nQ 2419 3097 1959 3097 \nz\nM 1959 3584 \nQ 2709 3584 3137 3096 \nQ 3566 2609 3566 1747 \nQ 3566 888 3137 398 \nQ 2709 -91 1959 -91 \nQ 1206 -91 779 398 \nQ 353 888 353 1747 \nQ 353 2609 779 3096 \nQ 1206 3584 1959 3584 \nz\n\" transform=\"scale(0.015625)\"/>\n       <path id=\"DejaVuSans-69\" d=\"M 603 3500 \nL 1178 3500 \nL 1178 0 \nL 603 0 \nL 603 3500 \nz\nM 603 4863 \nL 1178 4863 \nL 1178 4134 \nL 603 4134 \nL 603 4863 \nz\n\" transform=\"scale(0.015625)\"/>\n       <path id=\"DejaVuSans-74\" d=\"M 1172 4494 \nL 1172 3500 \nL 2356 3500 \nL 2356 3053 \nL 1172 3053 \nL 1172 1153 \nQ 1172 725 1289 603 \nQ 1406 481 1766 481 \nL 2356 481 \nL 2356 0 \nL 1766 0 \nQ 1100 0 847 248 \nQ 594 497 594 1153 \nL 594 3053 \nL 172 3053 \nL 172 3500 \nL 594 3500 \nL 594 4494 \nL 1172 4494 \nz\n\" transform=\"scale(0.015625)\"/>\n       <path id=\"DejaVuSans-76\" d=\"M 191 3500 \nL 800 3500 \nL 1894 563 \nL 2988 3500 \nL 3597 3500 \nL 2284 0 \nL 1503 0 \nL 191 3500 \nz\n\" transform=\"scale(0.015625)\"/>\n       <path id=\"DejaVuSans-52\" d=\"M 2841 2188 \nQ 3044 2119 3236 1894 \nQ 3428 1669 3622 1275 \nL 4263 0 \nL 3584 0 \nL 2988 1197 \nQ 2756 1666 2539 1819 \nQ 2322 1972 1947 1972 \nL 1259 1972 \nL 1259 0 \nL 628 0 \nL 628 4666 \nL 2053 4666 \nQ 2853 4666 3247 4331 \nQ 3641 3997 3641 3322 \nQ 3641 2881 3436 2590 \nQ 3231 2300 2841 2188 \nz\nM 1259 4147 \nL 1259 2491 \nL 2053 2491 \nQ 2509 2491 2742 2702 \nQ 2975 2913 2975 3322 \nQ 2975 3731 2742 3939 \nQ 2509 4147 2053 4147 \nL 1259 4147 \nz\n\" transform=\"scale(0.015625)\"/>\n       <path id=\"DejaVuSans-28\" d=\"M 1984 4856 \nQ 1566 4138 1362 3434 \nQ 1159 2731 1159 2009 \nQ 1159 1288 1364 580 \nQ 1569 -128 1984 -844 \nL 1484 -844 \nQ 1016 -109 783 600 \nQ 550 1309 550 2009 \nQ 550 2706 781 3412 \nQ 1013 4119 1484 4856 \nL 1984 4856 \nz\n\" transform=\"scale(0.015625)\"/>\n       <path id=\"DejaVuSans-2d\" d=\"M 313 2009 \nL 1997 2009 \nL 1997 1497 \nL 313 1497 \nL 313 2009 \nz\n\" transform=\"scale(0.015625)\"/>\n       <path id=\"DejaVuSans-4f\" d=\"M 2522 4238 \nQ 1834 4238 1429 3725 \nQ 1025 3213 1025 2328 \nQ 1025 1447 1429 934 \nQ 1834 422 2522 422 \nQ 3209 422 3611 934 \nQ 4013 1447 4013 2328 \nQ 4013 3213 3611 3725 \nQ 3209 4238 2522 4238 \nz\nM 2522 4750 \nQ 3503 4750 4090 4092 \nQ 4678 3434 4678 2328 \nQ 4678 1225 4090 567 \nQ 3503 -91 2522 -91 \nQ 1538 -91 948 565 \nQ 359 1222 359 2328 \nQ 359 3434 948 4092 \nQ 1538 4750 2522 4750 \nz\n\" transform=\"scale(0.015625)\"/>\n       <path id=\"DejaVuSans-75\" d=\"M 544 1381 \nL 544 3500 \nL 1119 3500 \nL 1119 1403 \nQ 1119 906 1312 657 \nQ 1506 409 1894 409 \nQ 2359 409 2629 706 \nQ 2900 1003 2900 1516 \nL 2900 3500 \nL 3475 3500 \nL 3475 0 \nL 2900 0 \nL 2900 538 \nQ 2691 219 2414 64 \nQ 2138 -91 1772 -91 \nQ 1169 -91 856 284 \nQ 544 659 544 1381 \nz\nM 1991 3584 \nL 1991 3584 \nz\n\" transform=\"scale(0.015625)\"/>\n       <path id=\"DejaVuSans-29\" d=\"M 513 4856 \nL 1013 4856 \nQ 1481 4119 1714 3412 \nQ 1947 2706 1947 2009 \nQ 1947 1309 1714 600 \nQ 1481 -109 1013 -844 \nL 513 -844 \nQ 928 -128 1133 580 \nQ 1338 1288 1338 2009 \nQ 1338 2731 1133 3434 \nQ 928 4138 513 4856 \nz\n\" transform=\"scale(0.015625)\"/>\n      </defs>\n      <use xlink:href=\"#DejaVuSans-46\"/>\n      <use xlink:href=\"#DejaVuSans-61\" x=\"48.394531\"/>\n      <use xlink:href=\"#DejaVuSans-6c\" x=\"109.673828\"/>\n      <use xlink:href=\"#DejaVuSans-73\" x=\"137.457031\"/>\n      <use xlink:href=\"#DejaVuSans-65\" x=\"189.556641\"/>\n      <use xlink:href=\"#DejaVuSans-20\" x=\"251.080078\"/>\n      <use xlink:href=\"#DejaVuSans-50\" x=\"282.867188\"/>\n      <use xlink:href=\"#DejaVuSans-6f\" x=\"339.544922\"/>\n      <use xlink:href=\"#DejaVuSans-73\" x=\"400.726562\"/>\n      <use xlink:href=\"#DejaVuSans-69\" x=\"452.826172\"/>\n      <use xlink:href=\"#DejaVuSans-74\" x=\"480.609375\"/>\n      <use xlink:href=\"#DejaVuSans-69\" x=\"519.818359\"/>\n      <use xlink:href=\"#DejaVuSans-76\" x=\"547.601562\"/>\n      <use xlink:href=\"#DejaVuSans-65\" x=\"606.78125\"/>\n      <use xlink:href=\"#DejaVuSans-20\" x=\"668.304688\"/>\n      <use xlink:href=\"#DejaVuSans-52\" x=\"700.091797\"/>\n      <use xlink:href=\"#DejaVuSans-61\" x=\"767.324219\"/>\n      <use xlink:href=\"#DejaVuSans-74\" x=\"828.603516\"/>\n      <use xlink:href=\"#DejaVuSans-65\" x=\"867.8125\"/>\n      <use xlink:href=\"#DejaVuSans-20\" x=\"929.335938\"/>\n      <use xlink:href=\"#DejaVuSans-28\" x=\"961.123047\"/>\n      <use xlink:href=\"#DejaVuSans-46\" x=\"1000.136719\"/>\n      <use xlink:href=\"#DejaVuSans-61\" x=\"1048.53125\"/>\n      <use xlink:href=\"#DejaVuSans-6c\" x=\"1109.810547\"/>\n      <use xlink:href=\"#DejaVuSans-6c\" x=\"1137.59375\"/>\n      <use xlink:href=\"#DejaVuSans-2d\" x=\"1165.376953\"/>\n      <use xlink:href=\"#DejaVuSans-4f\" x=\"1204.210938\"/>\n      <use xlink:href=\"#DejaVuSans-75\" x=\"1282.921875\"/>\n      <use xlink:href=\"#DejaVuSans-74\" x=\"1346.300781\"/>\n      <use xlink:href=\"#DejaVuSans-29\" x=\"1385.509766\"/>\n     </g>\n    </g>\n   </g>\n   <g id=\"matplotlib.axis_2\">\n    <g id=\"ytick_1\">\n     <g id=\"line2d_7\">\n      <path d=\"M 49.588125 288.199219 \nL 384.388125 288.199219 \n\" clip-path=\"url(#p8cdc9d6365)\" style=\"fill: none; stroke: #cccccc; stroke-width: 0.8; stroke-linecap: round\"/>\n     </g>\n     <g id=\"text_8\">\n      <!-- 0.0 -->\n      <g style=\"fill: #262626\" transform=\"translate(26.685 291.998438) scale(0.1 -0.1)\">\n       <use xlink:href=\"#DejaVuSans-30\"/>\n       <use xlink:href=\"#DejaVuSans-2e\" x=\"63.623047\"/>\n       <use xlink:href=\"#DejaVuSans-30\" x=\"95.410156\"/>\n      </g>\n     </g>\n    </g>\n    <g id=\"ytick_2\">\n     <g id=\"line2d_8\">\n      <path d=\"M 49.588125 232.759219 \nL 384.388125 232.759219 \n\" clip-path=\"url(#p8cdc9d6365)\" style=\"fill: none; stroke: #cccccc; stroke-width: 0.8; stroke-linecap: round\"/>\n     </g>\n     <g id=\"text_9\">\n      <!-- 0.2 -->\n      <g style=\"fill: #262626\" transform=\"translate(26.685 236.558438) scale(0.1 -0.1)\">\n       <use xlink:href=\"#DejaVuSans-30\"/>\n       <use xlink:href=\"#DejaVuSans-2e\" x=\"63.623047\"/>\n       <use xlink:href=\"#DejaVuSans-32\" x=\"95.410156\"/>\n      </g>\n     </g>\n    </g>\n    <g id=\"ytick_3\">\n     <g id=\"line2d_9\">\n      <path d=\"M 49.588125 177.319219 \nL 384.388125 177.319219 \n\" clip-path=\"url(#p8cdc9d6365)\" style=\"fill: none; stroke: #cccccc; stroke-width: 0.8; stroke-linecap: round\"/>\n     </g>\n     <g id=\"text_10\">\n      <!-- 0.4 -->\n      <g style=\"fill: #262626\" transform=\"translate(26.685 181.118438) scale(0.1 -0.1)\">\n       <use xlink:href=\"#DejaVuSans-30\"/>\n       <use xlink:href=\"#DejaVuSans-2e\" x=\"63.623047\"/>\n       <use xlink:href=\"#DejaVuSans-34\" x=\"95.410156\"/>\n      </g>\n     </g>\n    </g>\n    <g id=\"ytick_4\">\n     <g id=\"line2d_10\">\n      <path d=\"M 49.588125 121.879219 \nL 384.388125 121.879219 \n\" clip-path=\"url(#p8cdc9d6365)\" style=\"fill: none; stroke: #cccccc; stroke-width: 0.8; stroke-linecap: round\"/>\n     </g>\n     <g id=\"text_11\">\n      <!-- 0.6 -->\n      <g style=\"fill: #262626\" transform=\"translate(26.685 125.678438) scale(0.1 -0.1)\">\n       <use xlink:href=\"#DejaVuSans-30\"/>\n       <use xlink:href=\"#DejaVuSans-2e\" x=\"63.623047\"/>\n       <use xlink:href=\"#DejaVuSans-36\" x=\"95.410156\"/>\n      </g>\n     </g>\n    </g>\n    <g id=\"ytick_5\">\n     <g id=\"line2d_11\">\n      <path d=\"M 49.588125 66.439219 \nL 384.388125 66.439219 \n\" clip-path=\"url(#p8cdc9d6365)\" style=\"fill: none; stroke: #cccccc; stroke-width: 0.8; stroke-linecap: round\"/>\n     </g>\n     <g id=\"text_12\">\n      <!-- 0.8 -->\n      <g style=\"fill: #262626\" transform=\"translate(26.685 70.238438) scale(0.1 -0.1)\">\n       <use xlink:href=\"#DejaVuSans-30\"/>\n       <use xlink:href=\"#DejaVuSans-2e\" x=\"63.623047\"/>\n       <use xlink:href=\"#DejaVuSans-38\" x=\"95.410156\"/>\n      </g>\n     </g>\n    </g>\n    <g id=\"ytick_6\">\n     <g id=\"line2d_12\">\n      <path d=\"M 49.588125 10.999219 \nL 384.388125 10.999219 \n\" clip-path=\"url(#p8cdc9d6365)\" style=\"fill: none; stroke: #cccccc; stroke-width: 0.8; stroke-linecap: round\"/>\n     </g>\n     <g id=\"text_13\">\n      <!-- 1.0 -->\n      <g style=\"fill: #262626\" transform=\"translate(26.685 14.798438) scale(0.1 -0.1)\">\n       <use xlink:href=\"#DejaVuSans-31\"/>\n       <use xlink:href=\"#DejaVuSans-2e\" x=\"63.623047\"/>\n       <use xlink:href=\"#DejaVuSans-30\" x=\"95.410156\"/>\n      </g>\n     </g>\n    </g>\n    <g id=\"text_14\">\n     <!-- True Positive Rate (Recall) -->\n     <g style=\"fill: #262626\" transform=\"translate(19.3575 253.499219) rotate(-90) scale(0.16 -0.16)\">\n      <defs>\n       <path id=\"DejaVuSans-54\" d=\"M -19 4666 \nL 3928 4666 \nL 3928 4134 \nL 2272 4134 \nL 2272 0 \nL 1638 0 \nL 1638 4134 \nL -19 4134 \nL -19 4666 \nz\n\" transform=\"scale(0.015625)\"/>\n       <path id=\"DejaVuSans-72\" d=\"M 2631 2963 \nQ 2534 3019 2420 3045 \nQ 2306 3072 2169 3072 \nQ 1681 3072 1420 2755 \nQ 1159 2438 1159 1844 \nL 1159 0 \nL 581 0 \nL 581 3500 \nL 1159 3500 \nL 1159 2956 \nQ 1341 3275 1631 3429 \nQ 1922 3584 2338 3584 \nQ 2397 3584 2469 3576 \nQ 2541 3569 2628 3553 \nL 2631 2963 \nz\n\" transform=\"scale(0.015625)\"/>\n       <path id=\"DejaVuSans-63\" d=\"M 3122 3366 \nL 3122 2828 \nQ 2878 2963 2633 3030 \nQ 2388 3097 2138 3097 \nQ 1578 3097 1268 2742 \nQ 959 2388 959 1747 \nQ 959 1106 1268 751 \nQ 1578 397 2138 397 \nQ 2388 397 2633 464 \nQ 2878 531 3122 666 \nL 3122 134 \nQ 2881 22 2623 -34 \nQ 2366 -91 2075 -91 \nQ 1284 -91 818 406 \nQ 353 903 353 1747 \nQ 353 2603 823 3093 \nQ 1294 3584 2113 3584 \nQ 2378 3584 2631 3529 \nQ 2884 3475 3122 3366 \nz\n\" transform=\"scale(0.015625)\"/>\n      </defs>\n      <use xlink:href=\"#DejaVuSans-54\"/>\n      <use xlink:href=\"#DejaVuSans-72\" x=\"46.333984\"/>\n      <use xlink:href=\"#DejaVuSans-75\" x=\"87.447266\"/>\n      <use xlink:href=\"#DejaVuSans-65\" x=\"150.826172\"/>\n      <use xlink:href=\"#DejaVuSans-20\" x=\"212.349609\"/>\n      <use xlink:href=\"#DejaVuSans-50\" x=\"244.136719\"/>\n      <use xlink:href=\"#DejaVuSans-6f\" x=\"300.814453\"/>\n      <use xlink:href=\"#DejaVuSans-73\" x=\"361.996094\"/>\n      <use xlink:href=\"#DejaVuSans-69\" x=\"414.095703\"/>\n      <use xlink:href=\"#DejaVuSans-74\" x=\"441.878906\"/>\n      <use xlink:href=\"#DejaVuSans-69\" x=\"481.087891\"/>\n      <use xlink:href=\"#DejaVuSans-76\" x=\"508.871094\"/>\n      <use xlink:href=\"#DejaVuSans-65\" x=\"568.050781\"/>\n      <use xlink:href=\"#DejaVuSans-20\" x=\"629.574219\"/>\n      <use xlink:href=\"#DejaVuSans-52\" x=\"661.361328\"/>\n      <use xlink:href=\"#DejaVuSans-61\" x=\"728.59375\"/>\n      <use xlink:href=\"#DejaVuSans-74\" x=\"789.873047\"/>\n      <use xlink:href=\"#DejaVuSans-65\" x=\"829.082031\"/>\n      <use xlink:href=\"#DejaVuSans-20\" x=\"890.605469\"/>\n      <use xlink:href=\"#DejaVuSans-28\" x=\"922.392578\"/>\n      <use xlink:href=\"#DejaVuSans-52\" x=\"961.40625\"/>\n      <use xlink:href=\"#DejaVuSans-65\" x=\"1026.388672\"/>\n      <use xlink:href=\"#DejaVuSans-63\" x=\"1087.912109\"/>\n      <use xlink:href=\"#DejaVuSans-61\" x=\"1142.892578\"/>\n      <use xlink:href=\"#DejaVuSans-6c\" x=\"1204.171875\"/>\n      <use xlink:href=\"#DejaVuSans-6c\" x=\"1231.955078\"/>\n      <use xlink:href=\"#DejaVuSans-29\" x=\"1259.738281\"/>\n     </g>\n    </g>\n   </g>\n   <g id=\"line2d_13\">\n    <path d=\"M 49.588125 288.199219 \nL 204.739345 12.445318 \nL 384.388125 10.999219 \n\" clip-path=\"url(#p8cdc9d6365)\" style=\"fill: none; stroke: #1f77b4; stroke-width: 2; stroke-linecap: round\"/>\n   </g>\n   <g id=\"line2d_14\">\n    <path d=\"M 49.588125 288.199219 \nL 384.388125 10.999219 \n\" clip-path=\"url(#p8cdc9d6365)\" style=\"fill: none; stroke-dasharray: 5.55,2.4; stroke-dashoffset: 0; stroke: #000000; stroke-width: 1.5\"/>\n   </g>\n   <g id=\"patch_3\">\n    <path d=\"M 49.588125 288.199219 \nL 49.588125 10.999219 \n\" style=\"fill: none; stroke: #000000; stroke-width: 0.8; stroke-linejoin: miter; stroke-linecap: square\"/>\n   </g>\n   <g id=\"patch_4\">\n    <path d=\"M 384.388125 288.199219 \nL 384.388125 10.999219 \n\" style=\"fill: none; stroke: #000000; stroke-width: 0.8; stroke-linejoin: miter; stroke-linecap: square\"/>\n   </g>\n   <g id=\"patch_5\">\n    <path d=\"M 49.588125 288.199219 \nL 384.388125 288.199219 \n\" style=\"fill: none; stroke: #000000; stroke-width: 0.8; stroke-linejoin: miter; stroke-linecap: square\"/>\n   </g>\n   <g id=\"patch_6\">\n    <path d=\"M 49.588125 10.999219 \nL 384.388125 10.999219 \n\" style=\"fill: none; stroke: #000000; stroke-width: 0.8; stroke-linejoin: miter; stroke-linecap: square\"/>\n   </g>\n  </g>\n </g>\n <defs>\n  <clipPath id=\"p8cdc9d6365\">\n   <rect x=\"49.588125\" y=\"10.999219\" width=\"334.8\" height=\"277.2\"/>\n  </clipPath>\n </defs>\n</svg>\n"
          },
          "metadata": {}
        }
      ]
    },
    {
      "cell_type": "code",
      "source": [
        "lr_model = LogisticRegression()\n",
        "lr_model.fit(X_train, y_train)\n",
        "lr_pred = lr_model.predict(X_test)\n",
        "print(f\"roc auc value: {roc_auc_score(y_test, lr_pred):.5f}\")"
      ],
      "metadata": {
        "colab": {
          "base_uri": "https://localhost:8080/"
        },
        "id": "oCD9w4SEeAz4",
        "outputId": "865911fa-a652-4e09-8332-0b083b43cc8e"
      },
      "execution_count": null,
      "outputs": [
        {
          "output_type": "stream",
          "name": "stdout",
          "text": [
            "roc auc value: 0.80056\n"
          ]
        }
      ]
    },
    {
      "cell_type": "code",
      "source": [
        "def plot_precision_vs_recall(precisions, recalls):\n",
        "  '''PR Curve를 그리는 함수'''\n",
        "  plt.plot(recalls, precisions, \"b-\", linewidth=2)\n",
        "  plt.xlabel(\"Recall\", fontsize=16)\n",
        "  plt.ylabel(\"Precision\", fontsize=16)\n",
        "  plt.axis([0, 1, 0, 1])\n",
        "  plt.grid(True)"
      ],
      "metadata": {
        "id": "gPEBLSPBWnRt"
      },
      "execution_count": null,
      "outputs": []
    },
    {
      "cell_type": "code",
      "source": [
        "plt.figure(figsize=(6, 5))\n",
        "plot_precision_vs_recall(precisions, recalls)\n",
        "plt.show()"
      ],
      "metadata": {
        "colab": {
          "base_uri": "https://localhost:8080/",
          "height": 462
        },
        "id": "hXKKeV8cbSho",
        "outputId": "0e9e3abf-eb5c-4e7f-cf1a-9abc3c645738"
      },
      "execution_count": null,
      "outputs": [
        {
          "output_type": "display_data",
          "data": {
            "text/plain": [
              "<Figure size 600x500 with 1 Axes>"
            ],
            "image/svg+xml": "<?xml version=\"1.0\" encoding=\"utf-8\" standalone=\"no\"?>\n<!DOCTYPE svg PUBLIC \"-//W3C//DTD SVG 1.1//EN\"\n  \"http://www.w3.org/Graphics/SVG/1.1/DTD/svg11.dtd\">\n<svg xmlns:xlink=\"http://www.w3.org/1999/xlink\" width=\"399.539687pt\" height=\"331.562344pt\" viewBox=\"0 0 399.539687 331.562344\" xmlns=\"http://www.w3.org/2000/svg\" version=\"1.1\">\n <metadata>\n  <rdf:RDF xmlns:dc=\"http://purl.org/dc/elements/1.1/\" xmlns:cc=\"http://creativecommons.org/ns#\" xmlns:rdf=\"http://www.w3.org/1999/02/22-rdf-syntax-ns#\">\n   <cc:Work>\n    <dc:type rdf:resource=\"http://purl.org/dc/dcmitype/StillImage\"/>\n    <dc:date>2023-05-21T06:14:00.127645</dc:date>\n    <dc:format>image/svg+xml</dc:format>\n    <dc:creator>\n     <cc:Agent>\n      <dc:title>Matplotlib v3.7.1, https://matplotlib.org/</dc:title>\n     </cc:Agent>\n    </dc:creator>\n   </cc:Work>\n  </rdf:RDF>\n </metadata>\n <defs>\n  <style type=\"text/css\">*{stroke-linejoin: round; stroke-linecap: butt}</style>\n </defs>\n <g id=\"figure_1\">\n  <g id=\"patch_1\">\n   <path d=\"M 0 331.562344 \nL 399.539687 331.562344 \nL 399.539687 0 \nL 0 0 \nz\n\" style=\"fill: #ffffff\"/>\n  </g>\n  <g id=\"axes_1\">\n   <g id=\"patch_2\">\n    <path d=\"M 49.588125 288.199219 \nL 384.388125 288.199219 \nL 384.388125 10.999219 \nL 49.588125 10.999219 \nz\n\" style=\"fill: #ffffff\"/>\n   </g>\n   <g id=\"matplotlib.axis_1\">\n    <g id=\"xtick_1\">\n     <g id=\"line2d_1\">\n      <path d=\"M 49.588125 288.199219 \nL 49.588125 10.999219 \n\" clip-path=\"url(#p5e24249379)\" style=\"fill: none; stroke: #cccccc; stroke-width: 0.8; stroke-linecap: round\"/>\n     </g>\n     <g id=\"text_1\">\n      <!-- 0.0 -->\n      <g style=\"fill: #262626\" transform=\"translate(41.636563 302.797656) scale(0.1 -0.1)\">\n       <defs>\n        <path id=\"DejaVuSans-30\" d=\"M 2034 4250 \nQ 1547 4250 1301 3770 \nQ 1056 3291 1056 2328 \nQ 1056 1369 1301 889 \nQ 1547 409 2034 409 \nQ 2525 409 2770 889 \nQ 3016 1369 3016 2328 \nQ 3016 3291 2770 3770 \nQ 2525 4250 2034 4250 \nz\nM 2034 4750 \nQ 2819 4750 3233 4129 \nQ 3647 3509 3647 2328 \nQ 3647 1150 3233 529 \nQ 2819 -91 2034 -91 \nQ 1250 -91 836 529 \nQ 422 1150 422 2328 \nQ 422 3509 836 4129 \nQ 1250 4750 2034 4750 \nz\n\" transform=\"scale(0.015625)\"/>\n        <path id=\"DejaVuSans-2e\" d=\"M 684 794 \nL 1344 794 \nL 1344 0 \nL 684 0 \nL 684 794 \nz\n\" transform=\"scale(0.015625)\"/>\n       </defs>\n       <use xlink:href=\"#DejaVuSans-30\"/>\n       <use xlink:href=\"#DejaVuSans-2e\" x=\"63.623047\"/>\n       <use xlink:href=\"#DejaVuSans-30\" x=\"95.410156\"/>\n      </g>\n     </g>\n    </g>\n    <g id=\"xtick_2\">\n     <g id=\"line2d_2\">\n      <path d=\"M 116.548125 288.199219 \nL 116.548125 10.999219 \n\" clip-path=\"url(#p5e24249379)\" style=\"fill: none; stroke: #cccccc; stroke-width: 0.8; stroke-linecap: round\"/>\n     </g>\n     <g id=\"text_2\">\n      <!-- 0.2 -->\n      <g style=\"fill: #262626\" transform=\"translate(108.596563 302.797656) scale(0.1 -0.1)\">\n       <defs>\n        <path id=\"DejaVuSans-32\" d=\"M 1228 531 \nL 3431 531 \nL 3431 0 \nL 469 0 \nL 469 531 \nQ 828 903 1448 1529 \nQ 2069 2156 2228 2338 \nQ 2531 2678 2651 2914 \nQ 2772 3150 2772 3378 \nQ 2772 3750 2511 3984 \nQ 2250 4219 1831 4219 \nQ 1534 4219 1204 4116 \nQ 875 4013 500 3803 \nL 500 4441 \nQ 881 4594 1212 4672 \nQ 1544 4750 1819 4750 \nQ 2544 4750 2975 4387 \nQ 3406 4025 3406 3419 \nQ 3406 3131 3298 2873 \nQ 3191 2616 2906 2266 \nQ 2828 2175 2409 1742 \nQ 1991 1309 1228 531 \nz\n\" transform=\"scale(0.015625)\"/>\n       </defs>\n       <use xlink:href=\"#DejaVuSans-30\"/>\n       <use xlink:href=\"#DejaVuSans-2e\" x=\"63.623047\"/>\n       <use xlink:href=\"#DejaVuSans-32\" x=\"95.410156\"/>\n      </g>\n     </g>\n    </g>\n    <g id=\"xtick_3\">\n     <g id=\"line2d_3\">\n      <path d=\"M 183.508125 288.199219 \nL 183.508125 10.999219 \n\" clip-path=\"url(#p5e24249379)\" style=\"fill: none; stroke: #cccccc; stroke-width: 0.8; stroke-linecap: round\"/>\n     </g>\n     <g id=\"text_3\">\n      <!-- 0.4 -->\n      <g style=\"fill: #262626\" transform=\"translate(175.556563 302.797656) scale(0.1 -0.1)\">\n       <defs>\n        <path id=\"DejaVuSans-34\" d=\"M 2419 4116 \nL 825 1625 \nL 2419 1625 \nL 2419 4116 \nz\nM 2253 4666 \nL 3047 4666 \nL 3047 1625 \nL 3713 1625 \nL 3713 1100 \nL 3047 1100 \nL 3047 0 \nL 2419 0 \nL 2419 1100 \nL 313 1100 \nL 313 1709 \nL 2253 4666 \nz\n\" transform=\"scale(0.015625)\"/>\n       </defs>\n       <use xlink:href=\"#DejaVuSans-30\"/>\n       <use xlink:href=\"#DejaVuSans-2e\" x=\"63.623047\"/>\n       <use xlink:href=\"#DejaVuSans-34\" x=\"95.410156\"/>\n      </g>\n     </g>\n    </g>\n    <g id=\"xtick_4\">\n     <g id=\"line2d_4\">\n      <path d=\"M 250.468125 288.199219 \nL 250.468125 10.999219 \n\" clip-path=\"url(#p5e24249379)\" style=\"fill: none; stroke: #cccccc; stroke-width: 0.8; stroke-linecap: round\"/>\n     </g>\n     <g id=\"text_4\">\n      <!-- 0.6 -->\n      <g style=\"fill: #262626\" transform=\"translate(242.516563 302.797656) scale(0.1 -0.1)\">\n       <defs>\n        <path id=\"DejaVuSans-36\" d=\"M 2113 2584 \nQ 1688 2584 1439 2293 \nQ 1191 2003 1191 1497 \nQ 1191 994 1439 701 \nQ 1688 409 2113 409 \nQ 2538 409 2786 701 \nQ 3034 994 3034 1497 \nQ 3034 2003 2786 2293 \nQ 2538 2584 2113 2584 \nz\nM 3366 4563 \nL 3366 3988 \nQ 3128 4100 2886 4159 \nQ 2644 4219 2406 4219 \nQ 1781 4219 1451 3797 \nQ 1122 3375 1075 2522 \nQ 1259 2794 1537 2939 \nQ 1816 3084 2150 3084 \nQ 2853 3084 3261 2657 \nQ 3669 2231 3669 1497 \nQ 3669 778 3244 343 \nQ 2819 -91 2113 -91 \nQ 1303 -91 875 529 \nQ 447 1150 447 2328 \nQ 447 3434 972 4092 \nQ 1497 4750 2381 4750 \nQ 2619 4750 2861 4703 \nQ 3103 4656 3366 4563 \nz\n\" transform=\"scale(0.015625)\"/>\n       </defs>\n       <use xlink:href=\"#DejaVuSans-30\"/>\n       <use xlink:href=\"#DejaVuSans-2e\" x=\"63.623047\"/>\n       <use xlink:href=\"#DejaVuSans-36\" x=\"95.410156\"/>\n      </g>\n     </g>\n    </g>\n    <g id=\"xtick_5\">\n     <g id=\"line2d_5\">\n      <path d=\"M 317.428125 288.199219 \nL 317.428125 10.999219 \n\" clip-path=\"url(#p5e24249379)\" style=\"fill: none; stroke: #cccccc; stroke-width: 0.8; stroke-linecap: round\"/>\n     </g>\n     <g id=\"text_5\">\n      <!-- 0.8 -->\n      <g style=\"fill: #262626\" transform=\"translate(309.476562 302.797656) scale(0.1 -0.1)\">\n       <defs>\n        <path id=\"DejaVuSans-38\" d=\"M 2034 2216 \nQ 1584 2216 1326 1975 \nQ 1069 1734 1069 1313 \nQ 1069 891 1326 650 \nQ 1584 409 2034 409 \nQ 2484 409 2743 651 \nQ 3003 894 3003 1313 \nQ 3003 1734 2745 1975 \nQ 2488 2216 2034 2216 \nz\nM 1403 2484 \nQ 997 2584 770 2862 \nQ 544 3141 544 3541 \nQ 544 4100 942 4425 \nQ 1341 4750 2034 4750 \nQ 2731 4750 3128 4425 \nQ 3525 4100 3525 3541 \nQ 3525 3141 3298 2862 \nQ 3072 2584 2669 2484 \nQ 3125 2378 3379 2068 \nQ 3634 1759 3634 1313 \nQ 3634 634 3220 271 \nQ 2806 -91 2034 -91 \nQ 1263 -91 848 271 \nQ 434 634 434 1313 \nQ 434 1759 690 2068 \nQ 947 2378 1403 2484 \nz\nM 1172 3481 \nQ 1172 3119 1398 2916 \nQ 1625 2713 2034 2713 \nQ 2441 2713 2670 2916 \nQ 2900 3119 2900 3481 \nQ 2900 3844 2670 4047 \nQ 2441 4250 2034 4250 \nQ 1625 4250 1398 4047 \nQ 1172 3844 1172 3481 \nz\n\" transform=\"scale(0.015625)\"/>\n       </defs>\n       <use xlink:href=\"#DejaVuSans-30\"/>\n       <use xlink:href=\"#DejaVuSans-2e\" x=\"63.623047\"/>\n       <use xlink:href=\"#DejaVuSans-38\" x=\"95.410156\"/>\n      </g>\n     </g>\n    </g>\n    <g id=\"xtick_6\">\n     <g id=\"line2d_6\">\n      <path d=\"M 384.388125 288.199219 \nL 384.388125 10.999219 \n\" clip-path=\"url(#p5e24249379)\" style=\"fill: none; stroke: #cccccc; stroke-width: 0.8; stroke-linecap: round\"/>\n     </g>\n     <g id=\"text_6\">\n      <!-- 1.0 -->\n      <g style=\"fill: #262626\" transform=\"translate(376.436562 302.797656) scale(0.1 -0.1)\">\n       <defs>\n        <path id=\"DejaVuSans-31\" d=\"M 794 531 \nL 1825 531 \nL 1825 4091 \nL 703 3866 \nL 703 4441 \nL 1819 4666 \nL 2450 4666 \nL 2450 531 \nL 3481 531 \nL 3481 0 \nL 794 0 \nL 794 531 \nz\n\" transform=\"scale(0.015625)\"/>\n       </defs>\n       <use xlink:href=\"#DejaVuSans-31\"/>\n       <use xlink:href=\"#DejaVuSans-2e\" x=\"63.623047\"/>\n       <use xlink:href=\"#DejaVuSans-30\" x=\"95.410156\"/>\n      </g>\n     </g>\n    </g>\n    <g id=\"text_7\">\n     <!-- Recall -->\n     <g style=\"fill: #262626\" transform=\"translate(193.120625 321.034844) scale(0.16 -0.16)\">\n      <defs>\n       <path id=\"DejaVuSans-52\" d=\"M 2841 2188 \nQ 3044 2119 3236 1894 \nQ 3428 1669 3622 1275 \nL 4263 0 \nL 3584 0 \nL 2988 1197 \nQ 2756 1666 2539 1819 \nQ 2322 1972 1947 1972 \nL 1259 1972 \nL 1259 0 \nL 628 0 \nL 628 4666 \nL 2053 4666 \nQ 2853 4666 3247 4331 \nQ 3641 3997 3641 3322 \nQ 3641 2881 3436 2590 \nQ 3231 2300 2841 2188 \nz\nM 1259 4147 \nL 1259 2491 \nL 2053 2491 \nQ 2509 2491 2742 2702 \nQ 2975 2913 2975 3322 \nQ 2975 3731 2742 3939 \nQ 2509 4147 2053 4147 \nL 1259 4147 \nz\n\" transform=\"scale(0.015625)\"/>\n       <path id=\"DejaVuSans-65\" d=\"M 3597 1894 \nL 3597 1613 \nL 953 1613 \nQ 991 1019 1311 708 \nQ 1631 397 2203 397 \nQ 2534 397 2845 478 \nQ 3156 559 3463 722 \nL 3463 178 \nQ 3153 47 2828 -22 \nQ 2503 -91 2169 -91 \nQ 1331 -91 842 396 \nQ 353 884 353 1716 \nQ 353 2575 817 3079 \nQ 1281 3584 2069 3584 \nQ 2775 3584 3186 3129 \nQ 3597 2675 3597 1894 \nz\nM 3022 2063 \nQ 3016 2534 2758 2815 \nQ 2500 3097 2075 3097 \nQ 1594 3097 1305 2825 \nQ 1016 2553 972 2059 \nL 3022 2063 \nz\n\" transform=\"scale(0.015625)\"/>\n       <path id=\"DejaVuSans-63\" d=\"M 3122 3366 \nL 3122 2828 \nQ 2878 2963 2633 3030 \nQ 2388 3097 2138 3097 \nQ 1578 3097 1268 2742 \nQ 959 2388 959 1747 \nQ 959 1106 1268 751 \nQ 1578 397 2138 397 \nQ 2388 397 2633 464 \nQ 2878 531 3122 666 \nL 3122 134 \nQ 2881 22 2623 -34 \nQ 2366 -91 2075 -91 \nQ 1284 -91 818 406 \nQ 353 903 353 1747 \nQ 353 2603 823 3093 \nQ 1294 3584 2113 3584 \nQ 2378 3584 2631 3529 \nQ 2884 3475 3122 3366 \nz\n\" transform=\"scale(0.015625)\"/>\n       <path id=\"DejaVuSans-61\" d=\"M 2194 1759 \nQ 1497 1759 1228 1600 \nQ 959 1441 959 1056 \nQ 959 750 1161 570 \nQ 1363 391 1709 391 \nQ 2188 391 2477 730 \nQ 2766 1069 2766 1631 \nL 2766 1759 \nL 2194 1759 \nz\nM 3341 1997 \nL 3341 0 \nL 2766 0 \nL 2766 531 \nQ 2569 213 2275 61 \nQ 1981 -91 1556 -91 \nQ 1019 -91 701 211 \nQ 384 513 384 1019 \nQ 384 1609 779 1909 \nQ 1175 2209 1959 2209 \nL 2766 2209 \nL 2766 2266 \nQ 2766 2663 2505 2880 \nQ 2244 3097 1772 3097 \nQ 1472 3097 1187 3025 \nQ 903 2953 641 2809 \nL 641 3341 \nQ 956 3463 1253 3523 \nQ 1550 3584 1831 3584 \nQ 2591 3584 2966 3190 \nQ 3341 2797 3341 1997 \nz\n\" transform=\"scale(0.015625)\"/>\n       <path id=\"DejaVuSans-6c\" d=\"M 603 4863 \nL 1178 4863 \nL 1178 0 \nL 603 0 \nL 603 4863 \nz\n\" transform=\"scale(0.015625)\"/>\n      </defs>\n      <use xlink:href=\"#DejaVuSans-52\"/>\n      <use xlink:href=\"#DejaVuSans-65\" x=\"64.982422\"/>\n      <use xlink:href=\"#DejaVuSans-63\" x=\"126.505859\"/>\n      <use xlink:href=\"#DejaVuSans-61\" x=\"181.486328\"/>\n      <use xlink:href=\"#DejaVuSans-6c\" x=\"242.765625\"/>\n      <use xlink:href=\"#DejaVuSans-6c\" x=\"270.548828\"/>\n     </g>\n    </g>\n   </g>\n   <g id=\"matplotlib.axis_2\">\n    <g id=\"ytick_1\">\n     <g id=\"line2d_7\">\n      <path d=\"M 49.588125 288.199219 \nL 384.388125 288.199219 \n\" clip-path=\"url(#p5e24249379)\" style=\"fill: none; stroke: #cccccc; stroke-width: 0.8; stroke-linecap: round\"/>\n     </g>\n     <g id=\"text_8\">\n      <!-- 0.0 -->\n      <g style=\"fill: #262626\" transform=\"translate(26.685 291.998438) scale(0.1 -0.1)\">\n       <use xlink:href=\"#DejaVuSans-30\"/>\n       <use xlink:href=\"#DejaVuSans-2e\" x=\"63.623047\"/>\n       <use xlink:href=\"#DejaVuSans-30\" x=\"95.410156\"/>\n      </g>\n     </g>\n    </g>\n    <g id=\"ytick_2\">\n     <g id=\"line2d_8\">\n      <path d=\"M 49.588125 232.759219 \nL 384.388125 232.759219 \n\" clip-path=\"url(#p5e24249379)\" style=\"fill: none; stroke: #cccccc; stroke-width: 0.8; stroke-linecap: round\"/>\n     </g>\n     <g id=\"text_9\">\n      <!-- 0.2 -->\n      <g style=\"fill: #262626\" transform=\"translate(26.685 236.558438) scale(0.1 -0.1)\">\n       <use xlink:href=\"#DejaVuSans-30\"/>\n       <use xlink:href=\"#DejaVuSans-2e\" x=\"63.623047\"/>\n       <use xlink:href=\"#DejaVuSans-32\" x=\"95.410156\"/>\n      </g>\n     </g>\n    </g>\n    <g id=\"ytick_3\">\n     <g id=\"line2d_9\">\n      <path d=\"M 49.588125 177.319219 \nL 384.388125 177.319219 \n\" clip-path=\"url(#p5e24249379)\" style=\"fill: none; stroke: #cccccc; stroke-width: 0.8; stroke-linecap: round\"/>\n     </g>\n     <g id=\"text_10\">\n      <!-- 0.4 -->\n      <g style=\"fill: #262626\" transform=\"translate(26.685 181.118438) scale(0.1 -0.1)\">\n       <use xlink:href=\"#DejaVuSans-30\"/>\n       <use xlink:href=\"#DejaVuSans-2e\" x=\"63.623047\"/>\n       <use xlink:href=\"#DejaVuSans-34\" x=\"95.410156\"/>\n      </g>\n     </g>\n    </g>\n    <g id=\"ytick_4\">\n     <g id=\"line2d_10\">\n      <path d=\"M 49.588125 121.879219 \nL 384.388125 121.879219 \n\" clip-path=\"url(#p5e24249379)\" style=\"fill: none; stroke: #cccccc; stroke-width: 0.8; stroke-linecap: round\"/>\n     </g>\n     <g id=\"text_11\">\n      <!-- 0.6 -->\n      <g style=\"fill: #262626\" transform=\"translate(26.685 125.678438) scale(0.1 -0.1)\">\n       <use xlink:href=\"#DejaVuSans-30\"/>\n       <use xlink:href=\"#DejaVuSans-2e\" x=\"63.623047\"/>\n       <use xlink:href=\"#DejaVuSans-36\" x=\"95.410156\"/>\n      </g>\n     </g>\n    </g>\n    <g id=\"ytick_5\">\n     <g id=\"line2d_11\">\n      <path d=\"M 49.588125 66.439219 \nL 384.388125 66.439219 \n\" clip-path=\"url(#p5e24249379)\" style=\"fill: none; stroke: #cccccc; stroke-width: 0.8; stroke-linecap: round\"/>\n     </g>\n     <g id=\"text_12\">\n      <!-- 0.8 -->\n      <g style=\"fill: #262626\" transform=\"translate(26.685 70.238438) scale(0.1 -0.1)\">\n       <use xlink:href=\"#DejaVuSans-30\"/>\n       <use xlink:href=\"#DejaVuSans-2e\" x=\"63.623047\"/>\n       <use xlink:href=\"#DejaVuSans-38\" x=\"95.410156\"/>\n      </g>\n     </g>\n    </g>\n    <g id=\"ytick_6\">\n     <g id=\"line2d_12\">\n      <path d=\"M 49.588125 10.999219 \nL 384.388125 10.999219 \n\" clip-path=\"url(#p5e24249379)\" style=\"fill: none; stroke: #cccccc; stroke-width: 0.8; stroke-linecap: round\"/>\n     </g>\n     <g id=\"text_13\">\n      <!-- 1.0 -->\n      <g style=\"fill: #262626\" transform=\"translate(26.685 14.798438) scale(0.1 -0.1)\">\n       <use xlink:href=\"#DejaVuSans-31\"/>\n       <use xlink:href=\"#DejaVuSans-2e\" x=\"63.623047\"/>\n       <use xlink:href=\"#DejaVuSans-30\" x=\"95.410156\"/>\n      </g>\n     </g>\n    </g>\n    <g id=\"text_14\">\n     <!-- Precision -->\n     <g style=\"fill: #262626\" transform=\"translate(19.3575 185.290469) rotate(-90) scale(0.16 -0.16)\">\n      <defs>\n       <path id=\"DejaVuSans-50\" d=\"M 1259 4147 \nL 1259 2394 \nL 2053 2394 \nQ 2494 2394 2734 2622 \nQ 2975 2850 2975 3272 \nQ 2975 3691 2734 3919 \nQ 2494 4147 2053 4147 \nL 1259 4147 \nz\nM 628 4666 \nL 2053 4666 \nQ 2838 4666 3239 4311 \nQ 3641 3956 3641 3272 \nQ 3641 2581 3239 2228 \nQ 2838 1875 2053 1875 \nL 1259 1875 \nL 1259 0 \nL 628 0 \nL 628 4666 \nz\n\" transform=\"scale(0.015625)\"/>\n       <path id=\"DejaVuSans-72\" d=\"M 2631 2963 \nQ 2534 3019 2420 3045 \nQ 2306 3072 2169 3072 \nQ 1681 3072 1420 2755 \nQ 1159 2438 1159 1844 \nL 1159 0 \nL 581 0 \nL 581 3500 \nL 1159 3500 \nL 1159 2956 \nQ 1341 3275 1631 3429 \nQ 1922 3584 2338 3584 \nQ 2397 3584 2469 3576 \nQ 2541 3569 2628 3553 \nL 2631 2963 \nz\n\" transform=\"scale(0.015625)\"/>\n       <path id=\"DejaVuSans-69\" d=\"M 603 3500 \nL 1178 3500 \nL 1178 0 \nL 603 0 \nL 603 3500 \nz\nM 603 4863 \nL 1178 4863 \nL 1178 4134 \nL 603 4134 \nL 603 4863 \nz\n\" transform=\"scale(0.015625)\"/>\n       <path id=\"DejaVuSans-73\" d=\"M 2834 3397 \nL 2834 2853 \nQ 2591 2978 2328 3040 \nQ 2066 3103 1784 3103 \nQ 1356 3103 1142 2972 \nQ 928 2841 928 2578 \nQ 928 2378 1081 2264 \nQ 1234 2150 1697 2047 \nL 1894 2003 \nQ 2506 1872 2764 1633 \nQ 3022 1394 3022 966 \nQ 3022 478 2636 193 \nQ 2250 -91 1575 -91 \nQ 1294 -91 989 -36 \nQ 684 19 347 128 \nL 347 722 \nQ 666 556 975 473 \nQ 1284 391 1588 391 \nQ 1994 391 2212 530 \nQ 2431 669 2431 922 \nQ 2431 1156 2273 1281 \nQ 2116 1406 1581 1522 \nL 1381 1569 \nQ 847 1681 609 1914 \nQ 372 2147 372 2553 \nQ 372 3047 722 3315 \nQ 1072 3584 1716 3584 \nQ 2034 3584 2315 3537 \nQ 2597 3491 2834 3397 \nz\n\" transform=\"scale(0.015625)\"/>\n       <path id=\"DejaVuSans-6f\" d=\"M 1959 3097 \nQ 1497 3097 1228 2736 \nQ 959 2375 959 1747 \nQ 959 1119 1226 758 \nQ 1494 397 1959 397 \nQ 2419 397 2687 759 \nQ 2956 1122 2956 1747 \nQ 2956 2369 2687 2733 \nQ 2419 3097 1959 3097 \nz\nM 1959 3584 \nQ 2709 3584 3137 3096 \nQ 3566 2609 3566 1747 \nQ 3566 888 3137 398 \nQ 2709 -91 1959 -91 \nQ 1206 -91 779 398 \nQ 353 888 353 1747 \nQ 353 2609 779 3096 \nQ 1206 3584 1959 3584 \nz\n\" transform=\"scale(0.015625)\"/>\n       <path id=\"DejaVuSans-6e\" d=\"M 3513 2113 \nL 3513 0 \nL 2938 0 \nL 2938 2094 \nQ 2938 2591 2744 2837 \nQ 2550 3084 2163 3084 \nQ 1697 3084 1428 2787 \nQ 1159 2491 1159 1978 \nL 1159 0 \nL 581 0 \nL 581 3500 \nL 1159 3500 \nL 1159 2956 \nQ 1366 3272 1645 3428 \nQ 1925 3584 2291 3584 \nQ 2894 3584 3203 3211 \nQ 3513 2838 3513 2113 \nz\n\" transform=\"scale(0.015625)\"/>\n      </defs>\n      <use xlink:href=\"#DejaVuSans-50\"/>\n      <use xlink:href=\"#DejaVuSans-72\" x=\"58.552734\"/>\n      <use xlink:href=\"#DejaVuSans-65\" x=\"97.416016\"/>\n      <use xlink:href=\"#DejaVuSans-63\" x=\"158.939453\"/>\n      <use xlink:href=\"#DejaVuSans-69\" x=\"213.919922\"/>\n      <use xlink:href=\"#DejaVuSans-73\" x=\"241.703125\"/>\n      <use xlink:href=\"#DejaVuSans-69\" x=\"293.802734\"/>\n      <use xlink:href=\"#DejaVuSans-6f\" x=\"321.585938\"/>\n      <use xlink:href=\"#DejaVuSans-6e\" x=\"382.767578\"/>\n     </g>\n    </g>\n   </g>\n   <g id=\"line2d_13\">\n    <path d=\"M 384.388125 33.030622 \nL 382.641537 21.717465 \nL 49.588125 10.999219 \n\" clip-path=\"url(#p5e24249379)\" style=\"fill: none; stroke: #0000ff; stroke-width: 2; stroke-linecap: round\"/>\n   </g>\n   <g id=\"patch_3\">\n    <path d=\"M 49.588125 288.199219 \nL 49.588125 10.999219 \n\" style=\"fill: none; stroke: #000000; stroke-width: 0.8; stroke-linejoin: miter; stroke-linecap: square\"/>\n   </g>\n   <g id=\"patch_4\">\n    <path d=\"M 384.388125 288.199219 \nL 384.388125 10.999219 \n\" style=\"fill: none; stroke: #000000; stroke-width: 0.8; stroke-linejoin: miter; stroke-linecap: square\"/>\n   </g>\n   <g id=\"patch_5\">\n    <path d=\"M 49.588125 288.199219 \nL 384.388125 288.199219 \n\" style=\"fill: none; stroke: #000000; stroke-width: 0.8; stroke-linejoin: miter; stroke-linecap: square\"/>\n   </g>\n   <g id=\"patch_6\">\n    <path d=\"M 49.588125 10.999219 \nL 384.388125 10.999219 \n\" style=\"fill: none; stroke: #000000; stroke-width: 0.8; stroke-linejoin: miter; stroke-linecap: square\"/>\n   </g>\n  </g>\n </g>\n <defs>\n  <clipPath id=\"p5e24249379\">\n   <rect x=\"49.588125\" y=\"10.999219\" width=\"334.8\" height=\"277.2\"/>\n  </clipPath>\n </defs>\n</svg>\n"
          },
          "metadata": {}
        }
      ]
    }
  ]
}
